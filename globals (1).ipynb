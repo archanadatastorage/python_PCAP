{
  "metadata": {
    "kernelspec": {
      "name": "python",
      "display_name": "Python (Pyodide)",
      "language": "python"
    },
    "language_info": {
      "codemirror_mode": {
        "name": "python",
        "version": 3
      },
      "file_extension": ".py",
      "mimetype": "text/x-python",
      "name": "python",
      "nbconvert_exporter": "python",
      "pygments_lexer": "ipython3",
      "version": "3.8"
    }
  },
  "nbformat_minor": 4,
  "nbformat": 4,
  "cells": [
    {
      "cell_type": "code",
      "source": "a=10",
      "metadata": {
        "trusted": true
      },
      "outputs": [],
      "execution_count": 1
    },
    {
      "cell_type": "code",
      "source": "globals()",
      "metadata": {
        "trusted": true
      },
      "outputs": [
        {
          "execution_count": 2,
          "output_type": "execute_result",
          "data": {
            "text/plain": "{'__name__': '__main__',\n '__builtin__': <module 'builtins' (built-in)>,\n '__builtins__': <module 'builtins' (built-in)>,\n '_ih': ['', 'a=10', 'globals()'],\n '_oh': {},\n '_dh': [PosixPath('/drive')],\n 'In': ['', 'a=10', 'globals()'],\n 'Out': {},\n 'get_ipython': <bound method InteractiveShell.get_ipython of <pyodide_kernel.interpreter.Interpreter object at 0xecc910>>,\n 'exit': <IPython.core.autocall.ExitAutocall at 0x22a9b20>,\n 'quit': <IPython.core.autocall.ExitAutocall at 0x22a9b20>,\n 'open': <function _io.open(file, mode='r', buffering=-1, encoding=None, errors=None, newline=None, closefd=True, opener=None)>,\n '_': '',\n '__': '',\n '___': '',\n '_i': 'a=10',\n '_ii': '',\n '_iii': '',\n '_i1': 'a=10',\n 'a': 10,\n '_i2': 'globals()'}"
          },
          "metadata": {}
        }
      ],
      "execution_count": 2
    },
    {
      "cell_type": "code",
      "source": "def func():\n    print(\"hello\")",
      "metadata": {
        "trusted": true
      },
      "outputs": [],
      "execution_count": 3
    },
    {
      "cell_type": "code",
      "source": "globals()",
      "metadata": {
        "trusted": true
      },
      "outputs": [
        {
          "execution_count": 4,
          "output_type": "execute_result",
          "data": {
            "text/plain": "{'__name__': '__main__',\n '__builtin__': <module 'builtins' (built-in)>,\n '__builtins__': <module 'builtins' (built-in)>,\n '_ih': ['',\n  'a=10',\n  'globals()',\n  'def func():\\n    print(\"hello\")',\n  'globals()'],\n '_oh': {2: {...}},\n '_dh': [PosixPath('/drive')],\n 'In': ['',\n  'a=10',\n  'globals()',\n  'def func():\\n    print(\"hello\")',\n  'globals()'],\n 'Out': {2: {...}},\n 'get_ipython': <bound method InteractiveShell.get_ipython of <pyodide_kernel.interpreter.Interpreter object at 0xecc910>>,\n 'exit': <IPython.core.autocall.ExitAutocall at 0x22a9b20>,\n 'quit': <IPython.core.autocall.ExitAutocall at 0x22a9b20>,\n 'open': <function _io.open(file, mode='r', buffering=-1, encoding=None, errors=None, newline=None, closefd=True, opener=None)>,\n '_': {...},\n '__': '',\n '___': '',\n '_i': 'def func():\\n    print(\"hello\")',\n '_ii': 'globals()',\n '_iii': 'a=10',\n '_i1': 'a=10',\n 'a': 10,\n '_i2': 'globals()',\n '_2': {...},\n '_i3': 'def func():\\n    print(\"hello\")',\n 'func': <function __main__.func()>,\n '_i4': 'globals()'}"
          },
          "metadata": {}
        }
      ],
      "execution_count": 4
    },
    {
      "cell_type": "code",
      "source": "import sys",
      "metadata": {
        "trusted": true
      },
      "outputs": [],
      "execution_count": 5
    },
    {
      "cell_type": "code",
      "source": "globals()",
      "metadata": {
        "trusted": true
      },
      "outputs": [
        {
          "execution_count": 6,
          "output_type": "execute_result",
          "data": {
            "text/plain": "{'__name__': '__main__',\n '__builtin__': <module 'builtins' (built-in)>,\n '__builtins__': <module 'builtins' (built-in)>,\n '_ih': ['',\n  'a=10',\n  'globals()',\n  'def func():\\n    print(\"hello\")',\n  'globals()',\n  'import sys',\n  'globals()'],\n '_oh': {2: {...}, 4: {...}},\n '_dh': [PosixPath('/drive')],\n 'In': ['',\n  'a=10',\n  'globals()',\n  'def func():\\n    print(\"hello\")',\n  'globals()',\n  'import sys',\n  'globals()'],\n 'Out': {2: {...}, 4: {...}},\n 'get_ipython': <bound method InteractiveShell.get_ipython of <pyodide_kernel.interpreter.Interpreter object at 0xecc910>>,\n 'exit': <IPython.core.autocall.ExitAutocall at 0x22a9b20>,\n 'quit': <IPython.core.autocall.ExitAutocall at 0x22a9b20>,\n 'open': <function _io.open(file, mode='r', buffering=-1, encoding=None, errors=None, newline=None, closefd=True, opener=None)>,\n '_': {...},\n '__': {...},\n '___': '',\n '_i': 'import sys',\n '_ii': 'globals()',\n '_iii': 'def func():\\n    print(\"hello\")',\n '_i1': 'a=10',\n 'a': 10,\n '_i2': 'globals()',\n '_2': {...},\n '_i3': 'def func():\\n    print(\"hello\")',\n 'func': <function __main__.func()>,\n '_i4': 'globals()',\n '_4': {...},\n '_i5': 'import sys',\n 'sys': <module 'sys' (built-in)>,\n '_i6': 'globals()'}"
          },
          "metadata": {}
        }
      ],
      "execution_count": 6
    },
    {
      "cell_type": "code",
      "source": "def func():\n    print(\"hello\")\n    print(globals())",
      "metadata": {
        "trusted": true
      },
      "outputs": [],
      "execution_count": 7
    },
    {
      "cell_type": "code",
      "source": "func()",
      "metadata": {
        "trusted": true
      },
      "outputs": [
        {
          "name": "stdout",
          "text": "hello\n{'__name__': '__main__', '__builtin__': <module 'builtins' (built-in)>, '__builtins__': <module 'builtins' (built-in)>, '_ih': ['', 'a=10', 'globals()', 'def func():\\n    print(\"hello\")', 'globals()', 'import sys', 'globals()', 'def func():\\n    print(\"hello\")\\n    print(globals())', 'func()'], '_oh': {2: {...}, 4: {...}, 6: {...}}, '_dh': [PosixPath('/drive')], 'In': ['', 'a=10', 'globals()', 'def func():\\n    print(\"hello\")', 'globals()', 'import sys', 'globals()', 'def func():\\n    print(\"hello\")\\n    print(globals())', 'func()'], 'Out': {2: {...}, 4: {...}, 6: {...}}, 'get_ipython': <bound method InteractiveShell.get_ipython of <pyodide_kernel.interpreter.Interpreter object at 0xecc910>>, 'exit': <IPython.core.autocall.ExitAutocall object at 0x22a9b20>, 'quit': <IPython.core.autocall.ExitAutocall object at 0x22a9b20>, 'open': <function open at 0x1bd0c78>, '_': {...}, '__': {...}, '___': {...}, '_i': 'def func():\\n    print(\"hello\")\\n    print(globals())', '_ii': 'globals()', '_iii': 'import sys', '_i1': 'a=10', 'a': 10, '_i2': 'globals()', '_2': {...}, '_i3': 'def func():\\n    print(\"hello\")', 'func': <function func at 0x1ce06b8>, '_i4': 'globals()', '_4': {...}, '_i5': 'import sys', 'sys': <module 'sys' (built-in)>, '_i6': 'globals()', '_6': {...}, '_i7': 'def func():\\n    print(\"hello\")\\n    print(globals())', '_i8': 'func()'}\n",
          "output_type": "stream"
        }
      ],
      "execution_count": 8
    },
    {
      "cell_type": "code",
      "source": "globals()['a']",
      "metadata": {
        "trusted": true
      },
      "outputs": [
        {
          "execution_count": 9,
          "output_type": "execute_result",
          "data": {
            "text/plain": "10"
          },
          "metadata": {}
        }
      ],
      "execution_count": 9
    },
    {
      "cell_type": "code",
      "source": "globals()['__name__']",
      "metadata": {
        "trusted": true
      },
      "outputs": [
        {
          "execution_count": 10,
          "output_type": "execute_result",
          "data": {
            "text/plain": "'__main__'"
          },
          "metadata": {}
        }
      ],
      "execution_count": 10
    },
    {
      "cell_type": "code",
      "source": "globals()['a']=1000",
      "metadata": {
        "trusted": true
      },
      "outputs": [],
      "execution_count": 11
    },
    {
      "cell_type": "code",
      "source": "globals()['a']",
      "metadata": {
        "trusted": true
      },
      "outputs": [
        {
          "execution_count": 12,
          "output_type": "execute_result",
          "data": {
            "text/plain": "1000"
          },
          "metadata": {}
        }
      ],
      "execution_count": 12
    },
    {
      "cell_type": "code",
      "source": "a",
      "metadata": {
        "trusted": true
      },
      "outputs": [
        {
          "execution_count": 13,
          "output_type": "execute_result",
          "data": {
            "text/plain": "1000"
          },
          "metadata": {}
        }
      ],
      "execution_count": 13
    },
    {
      "cell_type": "code",
      "source": "globals()",
      "metadata": {
        "trusted": true
      },
      "outputs": [
        {
          "execution_count": 14,
          "output_type": "execute_result",
          "data": {
            "text/plain": "{'__name__': '__main__',\n '__builtin__': <module 'builtins' (built-in)>,\n '__builtins__': <module 'builtins' (built-in)>,\n '_ih': ['',\n  'a=10',\n  'globals()',\n  'def func():\\n    print(\"hello\")',\n  'globals()',\n  'import sys',\n  'globals()',\n  'def func():\\n    print(\"hello\")\\n    print(globals())',\n  'func()',\n  \"globals()['a']\",\n  \"globals()['__name__']\",\n  \"globals()['a']=1000\",\n  \"globals()['a']\",\n  'a',\n  'globals()'],\n '_oh': {2: {...},\n  4: {...},\n  6: {...},\n  9: 10,\n  10: '__main__',\n  12: 1000,\n  13: 1000},\n '_dh': [PosixPath('/drive')],\n 'In': ['',\n  'a=10',\n  'globals()',\n  'def func():\\n    print(\"hello\")',\n  'globals()',\n  'import sys',\n  'globals()',\n  'def func():\\n    print(\"hello\")\\n    print(globals())',\n  'func()',\n  \"globals()['a']\",\n  \"globals()['__name__']\",\n  \"globals()['a']=1000\",\n  \"globals()['a']\",\n  'a',\n  'globals()'],\n 'Out': {2: {...},\n  4: {...},\n  6: {...},\n  9: 10,\n  10: '__main__',\n  12: 1000,\n  13: 1000},\n 'get_ipython': <bound method InteractiveShell.get_ipython of <pyodide_kernel.interpreter.Interpreter object at 0xecc910>>,\n 'exit': <IPython.core.autocall.ExitAutocall at 0x22a9b20>,\n 'quit': <IPython.core.autocall.ExitAutocall at 0x22a9b20>,\n 'open': <function _io.open(file, mode='r', buffering=-1, encoding=None, errors=None, newline=None, closefd=True, opener=None)>,\n '_': 1000,\n '__': 1000,\n '___': '__main__',\n '_i': 'a',\n '_ii': \"globals()['a']\",\n '_iii': \"globals()['a']=1000\",\n '_i1': 'a=10',\n 'a': 1000,\n '_i2': 'globals()',\n '_2': {...},\n '_i3': 'def func():\\n    print(\"hello\")',\n 'func': <function __main__.func()>,\n '_i4': 'globals()',\n '_4': {...},\n '_i5': 'import sys',\n 'sys': <module 'sys' (built-in)>,\n '_i6': 'globals()',\n '_6': {...},\n '_i7': 'def func():\\n    print(\"hello\")\\n    print(globals())',\n '_i8': 'func()',\n '_i9': \"globals()['a']\",\n '_9': 10,\n '_i10': \"globals()['__name__']\",\n '_10': '__main__',\n '_i11': \"globals()['a']=1000\",\n '_i12': \"globals()['a']\",\n '_12': 1000,\n '_i13': 'a',\n '_13': 1000,\n '_i14': 'globals()'}"
          },
          "metadata": {}
        }
      ],
      "execution_count": 14
    },
    {
      "cell_type": "code",
      "source": "def func():\n    x=100\n    print(\"bye\")\n    print(locals())",
      "metadata": {
        "trusted": true
      },
      "outputs": [],
      "execution_count": 17
    },
    {
      "cell_type": "code",
      "source": "func()",
      "metadata": {
        "trusted": true
      },
      "outputs": [
        {
          "name": "stdout",
          "text": "bye\n{'x': 100}\n",
          "output_type": "stream"
        }
      ],
      "execution_count": 18
    },
    {
      "cell_type": "code",
      "source": "file1 = open(\"mydata.txt\",'w')",
      "metadata": {
        "trusted": true
      },
      "outputs": [],
      "execution_count": 29
    },
    {
      "cell_type": "code",
      "source": "file1.write('How are you doing')",
      "metadata": {
        "trusted": true
      },
      "outputs": [
        {
          "execution_count": 27,
          "output_type": "execute_result",
          "data": {
            "text/plain": "17"
          },
          "metadata": {}
        }
      ],
      "execution_count": 27
    },
    {
      "cell_type": "code",
      "source": "file1.close()",
      "metadata": {
        "trusted": true
      },
      "outputs": [],
      "execution_count": 28
    },
    {
      "cell_type": "code",
      "source": "l= ['This is python session\\n','The session foe PCEP and PCAP\\n','This is sept 2024']",
      "metadata": {
        "trusted": true
      },
      "outputs": [],
      "execution_count": 30
    },
    {
      "cell_type": "code",
      "source": "file1.writelines(l)",
      "metadata": {
        "trusted": true
      },
      "outputs": [],
      "execution_count": 31
    },
    {
      "cell_type": "code",
      "source": "file1.close()",
      "metadata": {
        "trusted": true
      },
      "outputs": [],
      "execution_count": 32
    },
    {
      "cell_type": "code",
      "source": "file2 = open('mydata.txt','r')",
      "metadata": {
        "trusted": true
      },
      "outputs": [],
      "execution_count": 33
    },
    {
      "cell_type": "code",
      "source": "file2.read()",
      "metadata": {
        "trusted": true
      },
      "outputs": [
        {
          "execution_count": 34,
          "output_type": "execute_result",
          "data": {
            "text/plain": "'This is python session\\nThe session foe PCEP and PCAP\\nThis is sept 2024'"
          },
          "metadata": {}
        }
      ],
      "execution_count": 34
    },
    {
      "cell_type": "code",
      "source": "file2.read()",
      "metadata": {
        "trusted": true
      },
      "outputs": [
        {
          "execution_count": 35,
          "output_type": "execute_result",
          "data": {
            "text/plain": "''"
          },
          "metadata": {}
        }
      ],
      "execution_count": 35
    },
    {
      "cell_type": "code",
      "source": "file2.seek(0)",
      "metadata": {
        "trusted": true
      },
      "outputs": [
        {
          "execution_count": 36,
          "output_type": "execute_result",
          "data": {
            "text/plain": "0"
          },
          "metadata": {}
        }
      ],
      "execution_count": 36
    },
    {
      "cell_type": "code",
      "source": "file2.read()",
      "metadata": {
        "trusted": true
      },
      "outputs": [
        {
          "execution_count": 37,
          "output_type": "execute_result",
          "data": {
            "text/plain": "'This is python session\\nThe session foe PCEP and PCAP\\nThis is sept 2024'"
          },
          "metadata": {}
        }
      ],
      "execution_count": 37
    },
    {
      "cell_type": "code",
      "source": "file2.seek(5)",
      "metadata": {
        "trusted": true
      },
      "outputs": [
        {
          "execution_count": 39,
          "output_type": "execute_result",
          "data": {
            "text/plain": "5"
          },
          "metadata": {}
        }
      ],
      "execution_count": 39
    },
    {
      "cell_type": "code",
      "source": "file2.read()",
      "metadata": {
        "trusted": true
      },
      "outputs": [
        {
          "execution_count": 40,
          "output_type": "execute_result",
          "data": {
            "text/plain": "'is python session\\nThe session foe PCEP and PCAP\\nThis is sept 2024'"
          },
          "metadata": {}
        }
      ],
      "execution_count": 40
    },
    {
      "cell_type": "code",
      "source": "file2.seek(0)",
      "metadata": {
        "trusted": true
      },
      "outputs": [
        {
          "execution_count": 41,
          "output_type": "execute_result",
          "data": {
            "text/plain": "0"
          },
          "metadata": {}
        }
      ],
      "execution_count": 41
    },
    {
      "cell_type": "code",
      "source": "file2.readlines()",
      "metadata": {
        "trusted": true
      },
      "outputs": [
        {
          "execution_count": 42,
          "output_type": "execute_result",
          "data": {
            "text/plain": "['This is python session\\n',\n 'The session foe PCEP and PCAP\\n',\n 'This is sept 2024']"
          },
          "metadata": {}
        }
      ],
      "execution_count": 42
    },
    {
      "cell_type": "code",
      "source": "file2.seek(0)",
      "metadata": {
        "trusted": true
      },
      "outputs": [
        {
          "execution_count": 43,
          "output_type": "execute_result",
          "data": {
            "text/plain": "0"
          },
          "metadata": {}
        }
      ],
      "execution_count": 43
    },
    {
      "cell_type": "code",
      "source": "file2.readline()",
      "metadata": {
        "trusted": true
      },
      "outputs": [
        {
          "execution_count": 44,
          "output_type": "execute_result",
          "data": {
            "text/plain": "'This is python session\\n'"
          },
          "metadata": {}
        }
      ],
      "execution_count": 44
    },
    {
      "cell_type": "code",
      "source": "file2.readline()",
      "metadata": {
        "trusted": true
      },
      "outputs": [
        {
          "execution_count": 45,
          "output_type": "execute_result",
          "data": {
            "text/plain": "'The session foe PCEP and PCAP\\n'"
          },
          "metadata": {}
        }
      ],
      "execution_count": 45
    },
    {
      "cell_type": "code",
      "source": "file3 = open('mydata.txt',\"r+\")",
      "metadata": {
        "trusted": true
      },
      "outputs": [],
      "execution_count": 55
    },
    {
      "cell_type": "code",
      "source": "file3",
      "metadata": {
        "trusted": true
      },
      "outputs": [
        {
          "execution_count": 48,
          "output_type": "execute_result",
          "data": {
            "text/plain": "<_io.TextIOWrapper name='mydata.txt' mode='r+' encoding='UTF-8'>"
          },
          "metadata": {}
        }
      ],
      "execution_count": 48
    },
    {
      "cell_type": "code",
      "source": "file3.readlines()",
      "metadata": {
        "trusted": true
      },
      "outputs": [
        {
          "execution_count": 49,
          "output_type": "execute_result",
          "data": {
            "text/plain": "['This is python session\\n',\n 'The session foe PCEP and PCAP\\n',\n 'This is sept 2024']"
          },
          "metadata": {}
        }
      ],
      "execution_count": 49
    },
    {
      "cell_type": "code",
      "source": "file3.write(\"this is next sentence\")",
      "metadata": {
        "trusted": true
      },
      "outputs": [
        {
          "execution_count": 50,
          "output_type": "execute_result",
          "data": {
            "text/plain": "21"
          },
          "metadata": {}
        }
      ],
      "execution_count": 50
    },
    {
      "cell_type": "code",
      "source": "file3.flush()",
      "metadata": {
        "trusted": true
      },
      "outputs": [],
      "execution_count": 51
    },
    {
      "cell_type": "code",
      "source": "file3.seek(0)",
      "metadata": {
        "trusted": true
      },
      "outputs": [
        {
          "execution_count": 67,
          "output_type": "execute_result",
          "data": {
            "text/plain": "0"
          },
          "metadata": {}
        }
      ],
      "execution_count": 67
    },
    {
      "cell_type": "code",
      "source": "file3.readlines()",
      "metadata": {
        "trusted": true
      },
      "outputs": [
        {
          "execution_count": 53,
          "output_type": "execute_result",
          "data": {
            "text/plain": "['This is python session\\n',\n 'The session foe PCEP and PCAP\\n',\n 'This is sept 2024this is next sentence']"
          },
          "metadata": {}
        }
      ],
      "execution_count": 53
    },
    {
      "cell_type": "code",
      "source": "file3.close()",
      "metadata": {
        "trusted": true
      },
      "outputs": [],
      "execution_count": 54
    },
    {
      "cell_type": "code",
      "source": "c=0\nfor i in file3.readline():\n    print(i)\n    c =c+1\n    break",
      "metadata": {
        "trusted": true
      },
      "outputs": [
        {
          "name": "stdout",
          "text": "T\n",
          "output_type": "stream"
        }
      ],
      "execution_count": 70
    },
    {
      "cell_type": "code",
      "source": "c",
      "metadata": {
        "trusted": true
      },
      "outputs": [
        {
          "execution_count": 69,
          "output_type": "execute_result",
          "data": {
            "text/plain": "23"
          },
          "metadata": {}
        }
      ],
      "execution_count": 69
    },
    {
      "cell_type": "code",
      "source": "c=0",
      "metadata": {
        "trusted": true
      },
      "outputs": [],
      "execution_count": 64
    },
    {
      "cell_type": "code",
      "source": "import pkg123.code",
      "metadata": {
        "trusted": true
      },
      "outputs": [
        {
          "ename": "<class 'ModuleNotFoundError'>",
          "evalue": "No module named 'pkg123'",
          "traceback": [
            "\u001b[0;31m---------------------------------------------------------------------------\u001b[0m",
            "\u001b[0;31mModuleNotFoundError\u001b[0m                       Traceback (most recent call last)",
            "Cell \u001b[0;32mIn[73], line 1\u001b[0m\n\u001b[0;32m----> 1\u001b[0m \u001b[38;5;28;01mimport\u001b[39;00m \u001b[38;5;21;01mpkg123\u001b[39;00m\u001b[38;5;21;01m.\u001b[39;00m\u001b[38;5;21;01mcode\u001b[39;00m\n",
            "\u001b[0;31mModuleNotFoundError\u001b[0m: No module named 'pkg123'"
          ],
          "output_type": "error"
        }
      ],
      "execution_count": 73
    },
    {
      "cell_type": "code",
      "source": "",
      "metadata": {
        "trusted": true
      },
      "outputs": [],
      "execution_count": null
    }
  ]
}