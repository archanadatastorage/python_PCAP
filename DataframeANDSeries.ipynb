{
  "metadata": {
    "kernelspec": {
      "name": "python",
      "display_name": "Python (Pyodide)",
      "language": "python"
    },
    "language_info": {
      "codemirror_mode": {
        "name": "python",
        "version": 3
      },
      "file_extension": ".py",
      "mimetype": "text/x-python",
      "name": "python",
      "nbconvert_exporter": "python",
      "pygments_lexer": "ipython3",
      "version": "3.8"
    }
  },
  "nbformat_minor": 4,
  "nbformat": 4,
  "cells": [
    {
      "cell_type": "code",
      "source": "import numpy as np\nimport pandas as pd\nfrom pandas import Series,DataFrame\nfrom numpy.random import *",
      "metadata": {
        "trusted": true
      },
      "outputs": [
        {
          "name": "stderr",
          "text": "<ipython-input-1-bd5f1df2dfe0>:2: DeprecationWarning: \nPyarrow will become a required dependency of pandas in the next major release of pandas (pandas 3.0),\n(to allow more performant data types, such as the Arrow string type, and better interoperability with other libraries)\nbut was not found to be installed on your system.\nIf this would cause problems for you,\nplease provide us feedback at https://github.com/pandas-dev/pandas/issues/54466\n        \n  import pandas as pd\n",
          "output_type": "stream"
        }
      ],
      "execution_count": 1
    },
    {
      "cell_type": "code",
      "source": "country = ['china','india','usa']\npop = [2300,3450,345]",
      "metadata": {
        "trusted": true
      },
      "outputs": [],
      "execution_count": 2
    },
    {
      "cell_type": "code",
      "source": "ser1 = Series(pop)",
      "metadata": {
        "trusted": true
      },
      "outputs": [],
      "execution_count": 3
    },
    {
      "cell_type": "code",
      "source": "ser1",
      "metadata": {
        "trusted": true
      },
      "outputs": [
        {
          "execution_count": 4,
          "output_type": "execute_result",
          "data": {
            "text/plain": "0    2300\n1    3450\n2     345\ndtype: int64"
          },
          "metadata": {}
        }
      ],
      "execution_count": 4
    },
    {
      "cell_type": "code",
      "source": "ser2 = Series(pop,index=country)",
      "metadata": {
        "trusted": true
      },
      "outputs": [],
      "execution_count": 5
    },
    {
      "cell_type": "code",
      "source": "ser2",
      "metadata": {
        "trusted": true
      },
      "outputs": [
        {
          "execution_count": 6,
          "output_type": "execute_result",
          "data": {
            "text/plain": "china    2300\nindia    3450\nusa       345\ndtype: int64"
          },
          "metadata": {}
        }
      ],
      "execution_count": 6
    },
    {
      "cell_type": "code",
      "source": "'india' in ser2",
      "metadata": {
        "trusted": true
      },
      "outputs": [
        {
          "execution_count": 7,
          "output_type": "execute_result",
          "data": {
            "text/plain": "True"
          },
          "metadata": {}
        }
      ],
      "execution_count": 7
    },
    {
      "cell_type": "code",
      "source": "'India' in ser2",
      "metadata": {
        "trusted": true
      },
      "outputs": [
        {
          "execution_count": 8,
          "output_type": "execute_result",
          "data": {
            "text/plain": "False"
          },
          "metadata": {}
        }
      ],
      "execution_count": 8
    },
    {
      "cell_type": "code",
      "source": "pd.isnull(ser2)",
      "metadata": {
        "trusted": true
      },
      "outputs": [
        {
          "execution_count": 9,
          "output_type": "execute_result",
          "data": {
            "text/plain": "china    False\nindia    False\nusa      False\ndtype: bool"
          },
          "metadata": {}
        }
      ],
      "execution_count": 9
    },
    {
      "cell_type": "code",
      "source": "pd.notnull(ser2)",
      "metadata": {
        "trusted": true
      },
      "outputs": [
        {
          "execution_count": 10,
          "output_type": "execute_result",
          "data": {
            "text/plain": "china    True\nindia    True\nusa      True\ndtype: bool"
          },
          "metadata": {}
        }
      ],
      "execution_count": 10
    },
    {
      "cell_type": "code",
      "source": "nfl = pd.read_csv('nfl.csv')",
      "metadata": {
        "trusted": true
      },
      "outputs": [],
      "execution_count": 11
    },
    {
      "cell_type": "code",
      "source": "nfl",
      "metadata": {
        "trusted": true
      },
      "outputs": [
        {
          "execution_count": 12,
          "output_type": "execute_result",
          "data": {
            "text/plain": "    Rank                    Team     GP  Won  Lost Tied[c]   Pct.  \\\n0      1          Dallas Cowboys    981  562   413   6 (0)  0.576   \n1      2       Green Bay Packers  1,435  800   598  38 (8)  0.572   \n2      3        Baltimore Ravens    451  256   194       1  0.569   \n3      4           Chicago Bears  1,469  793   634  42 (1)  0.556   \n4      5    New England Patriots    983  541   433   9 (0)  0.555   \n5      6          Miami Dolphins    899  496   399   4 (1)  0.554   \n6      7      Kansas City Chiefs    983  532   439  12 (4)  0.548   \n7      8       Minnesota Vikings    969  523   435  11 (4)  0.546   \n8      9  San Francisco 49ers[b]  1,101  586   501  14 (3)  0.539   \n9     10     Pittsburgh Steelers  1,271  671   578  22 (4)  0.537   \n10    11         New York Giants  1,404  721   649  34 (4)  0.526   \n11    12   Indianapolis Colts[d]  1,065  556   501   8 (2)  0.526   \n12    13          Denver Broncos    983  508   465  10 (4)  0.522   \n13    14       Las Vegas Raiders    983  505   467  11 (2)  0.520   \n14    15        Seattle Seahawks    759  392   366       1  0.517   \n15    16        Los Angeles Rams  1,234  614   599  21 (3)  0.506   \n16    17    Los Angeles Chargers    983  483   489  11 (2)  0.497   \n17    18     Philadelphia Eagles  1,287  624   636  27 (7)  0.495   \n18    19   Washington Commanders  1,301  629   643  29 (3)  0.495   \n19    20  Cleveland Browns[b][e]  1,053  512   530  11 (4)  0.491   \n20    21        Tennessee Titans    983  476   501   6 (0)  0.487   \n21    22           Buffalo Bills    982  473   501   8 (1)  0.486   \n22    23      New Orleans Saints    870  412   468   5 (1)  0.468   \n23    24       Carolina Panthers    467  214   252       1  0.459   \n24    25      Cincinnati Bengals    869  394   471   5 (4)  0.456   \n25    26           Detroit Lions  1,332  591   707  34 (5)  0.455   \n26    27           New York Jets    983  428   547   8 (2)  0.439   \n27    28         Atlanta Falcons    899  390   503   6 (2)  0.437   \n28    29          Houston Texans    355  152   202       1  0.430   \n29    30    Jacksonville Jaguars    467  198   269       0  0.424   \n30    31       Arizona Cardinals  1,429  585   803  41 (6)  0.422   \n31    32    Tampa Bay Buccaneers    759  308   450       1  0.406   \n\n    First NFL season   Division  \n0               1960   NFC East  \n1               1921  NFC North  \n2               1996  AFC North  \n3               1920  NFC North  \n4               1960   AFC East  \n5               1966   AFC East  \n6               1960   AFC West  \n7               1961  NFC North  \n8               1950   NFC West  \n9               1933  AFC North  \n10              1925   NFC East  \n11              1953  AFC South  \n12              1960   AFC West  \n13              1960   AFC West  \n14              1976   NFC West  \n15              1937   NFC West  \n16              1960   AFC West  \n17              1933   NFC East  \n18              1932   NFC East  \n19              1950  AFC North  \n20              1960  AFC South  \n21              1960   AFC East  \n22              1967  NFC South  \n23              1995  NFC South  \n24              1968  AFC North  \n25              1930  NFC North  \n26              1960   AFC East  \n27              1966  NFC South  \n28              2002  AFC South  \n29              1995  AFC South  \n30              1920   NFC West  \n31              1976  NFC South  ",
            "text/html": "<div>\n<style scoped>\n    .dataframe tbody tr th:only-of-type {\n        vertical-align: middle;\n    }\n\n    .dataframe tbody tr th {\n        vertical-align: top;\n    }\n\n    .dataframe thead th {\n        text-align: right;\n    }\n</style>\n<table border=\"1\" class=\"dataframe\">\n  <thead>\n    <tr style=\"text-align: right;\">\n      <th></th>\n      <th>Rank</th>\n      <th>Team</th>\n      <th>GP</th>\n      <th>Won</th>\n      <th>Lost</th>\n      <th>Tied[c]</th>\n      <th>Pct.</th>\n      <th>First NFL season</th>\n      <th>Division</th>\n    </tr>\n  </thead>\n  <tbody>\n    <tr>\n      <th>0</th>\n      <td>1</td>\n      <td>Dallas Cowboys</td>\n      <td>981</td>\n      <td>562</td>\n      <td>413</td>\n      <td>6 (0)</td>\n      <td>0.576</td>\n      <td>1960</td>\n      <td>NFC East</td>\n    </tr>\n    <tr>\n      <th>1</th>\n      <td>2</td>\n      <td>Green Bay Packers</td>\n      <td>1,435</td>\n      <td>800</td>\n      <td>598</td>\n      <td>38 (8)</td>\n      <td>0.572</td>\n      <td>1921</td>\n      <td>NFC North</td>\n    </tr>\n    <tr>\n      <th>2</th>\n      <td>3</td>\n      <td>Baltimore Ravens</td>\n      <td>451</td>\n      <td>256</td>\n      <td>194</td>\n      <td>1</td>\n      <td>0.569</td>\n      <td>1996</td>\n      <td>AFC North</td>\n    </tr>\n    <tr>\n      <th>3</th>\n      <td>4</td>\n      <td>Chicago Bears</td>\n      <td>1,469</td>\n      <td>793</td>\n      <td>634</td>\n      <td>42 (1)</td>\n      <td>0.556</td>\n      <td>1920</td>\n      <td>NFC North</td>\n    </tr>\n    <tr>\n      <th>4</th>\n      <td>5</td>\n      <td>New England Patriots</td>\n      <td>983</td>\n      <td>541</td>\n      <td>433</td>\n      <td>9 (0)</td>\n      <td>0.555</td>\n      <td>1960</td>\n      <td>AFC East</td>\n    </tr>\n    <tr>\n      <th>5</th>\n      <td>6</td>\n      <td>Miami Dolphins</td>\n      <td>899</td>\n      <td>496</td>\n      <td>399</td>\n      <td>4 (1)</td>\n      <td>0.554</td>\n      <td>1966</td>\n      <td>AFC East</td>\n    </tr>\n    <tr>\n      <th>6</th>\n      <td>7</td>\n      <td>Kansas City Chiefs</td>\n      <td>983</td>\n      <td>532</td>\n      <td>439</td>\n      <td>12 (4)</td>\n      <td>0.548</td>\n      <td>1960</td>\n      <td>AFC West</td>\n    </tr>\n    <tr>\n      <th>7</th>\n      <td>8</td>\n      <td>Minnesota Vikings</td>\n      <td>969</td>\n      <td>523</td>\n      <td>435</td>\n      <td>11 (4)</td>\n      <td>0.546</td>\n      <td>1961</td>\n      <td>NFC North</td>\n    </tr>\n    <tr>\n      <th>8</th>\n      <td>9</td>\n      <td>San Francisco 49ers[b]</td>\n      <td>1,101</td>\n      <td>586</td>\n      <td>501</td>\n      <td>14 (3)</td>\n      <td>0.539</td>\n      <td>1950</td>\n      <td>NFC West</td>\n    </tr>\n    <tr>\n      <th>9</th>\n      <td>10</td>\n      <td>Pittsburgh Steelers</td>\n      <td>1,271</td>\n      <td>671</td>\n      <td>578</td>\n      <td>22 (4)</td>\n      <td>0.537</td>\n      <td>1933</td>\n      <td>AFC North</td>\n    </tr>\n    <tr>\n      <th>10</th>\n      <td>11</td>\n      <td>New York Giants</td>\n      <td>1,404</td>\n      <td>721</td>\n      <td>649</td>\n      <td>34 (4)</td>\n      <td>0.526</td>\n      <td>1925</td>\n      <td>NFC East</td>\n    </tr>\n    <tr>\n      <th>11</th>\n      <td>12</td>\n      <td>Indianapolis Colts[d]</td>\n      <td>1,065</td>\n      <td>556</td>\n      <td>501</td>\n      <td>8 (2)</td>\n      <td>0.526</td>\n      <td>1953</td>\n      <td>AFC South</td>\n    </tr>\n    <tr>\n      <th>12</th>\n      <td>13</td>\n      <td>Denver Broncos</td>\n      <td>983</td>\n      <td>508</td>\n      <td>465</td>\n      <td>10 (4)</td>\n      <td>0.522</td>\n      <td>1960</td>\n      <td>AFC West</td>\n    </tr>\n    <tr>\n      <th>13</th>\n      <td>14</td>\n      <td>Las Vegas Raiders</td>\n      <td>983</td>\n      <td>505</td>\n      <td>467</td>\n      <td>11 (2)</td>\n      <td>0.520</td>\n      <td>1960</td>\n      <td>AFC West</td>\n    </tr>\n    <tr>\n      <th>14</th>\n      <td>15</td>\n      <td>Seattle Seahawks</td>\n      <td>759</td>\n      <td>392</td>\n      <td>366</td>\n      <td>1</td>\n      <td>0.517</td>\n      <td>1976</td>\n      <td>NFC West</td>\n    </tr>\n    <tr>\n      <th>15</th>\n      <td>16</td>\n      <td>Los Angeles Rams</td>\n      <td>1,234</td>\n      <td>614</td>\n      <td>599</td>\n      <td>21 (3)</td>\n      <td>0.506</td>\n      <td>1937</td>\n      <td>NFC West</td>\n    </tr>\n    <tr>\n      <th>16</th>\n      <td>17</td>\n      <td>Los Angeles Chargers</td>\n      <td>983</td>\n      <td>483</td>\n      <td>489</td>\n      <td>11 (2)</td>\n      <td>0.497</td>\n      <td>1960</td>\n      <td>AFC West</td>\n    </tr>\n    <tr>\n      <th>17</th>\n      <td>18</td>\n      <td>Philadelphia Eagles</td>\n      <td>1,287</td>\n      <td>624</td>\n      <td>636</td>\n      <td>27 (7)</td>\n      <td>0.495</td>\n      <td>1933</td>\n      <td>NFC East</td>\n    </tr>\n    <tr>\n      <th>18</th>\n      <td>19</td>\n      <td>Washington Commanders</td>\n      <td>1,301</td>\n      <td>629</td>\n      <td>643</td>\n      <td>29 (3)</td>\n      <td>0.495</td>\n      <td>1932</td>\n      <td>NFC East</td>\n    </tr>\n    <tr>\n      <th>19</th>\n      <td>20</td>\n      <td>Cleveland Browns[b][e]</td>\n      <td>1,053</td>\n      <td>512</td>\n      <td>530</td>\n      <td>11 (4)</td>\n      <td>0.491</td>\n      <td>1950</td>\n      <td>AFC North</td>\n    </tr>\n    <tr>\n      <th>20</th>\n      <td>21</td>\n      <td>Tennessee Titans</td>\n      <td>983</td>\n      <td>476</td>\n      <td>501</td>\n      <td>6 (0)</td>\n      <td>0.487</td>\n      <td>1960</td>\n      <td>AFC South</td>\n    </tr>\n    <tr>\n      <th>21</th>\n      <td>22</td>\n      <td>Buffalo Bills</td>\n      <td>982</td>\n      <td>473</td>\n      <td>501</td>\n      <td>8 (1)</td>\n      <td>0.486</td>\n      <td>1960</td>\n      <td>AFC East</td>\n    </tr>\n    <tr>\n      <th>22</th>\n      <td>23</td>\n      <td>New Orleans Saints</td>\n      <td>870</td>\n      <td>412</td>\n      <td>468</td>\n      <td>5 (1)</td>\n      <td>0.468</td>\n      <td>1967</td>\n      <td>NFC South</td>\n    </tr>\n    <tr>\n      <th>23</th>\n      <td>24</td>\n      <td>Carolina Panthers</td>\n      <td>467</td>\n      <td>214</td>\n      <td>252</td>\n      <td>1</td>\n      <td>0.459</td>\n      <td>1995</td>\n      <td>NFC South</td>\n    </tr>\n    <tr>\n      <th>24</th>\n      <td>25</td>\n      <td>Cincinnati Bengals</td>\n      <td>869</td>\n      <td>394</td>\n      <td>471</td>\n      <td>5 (4)</td>\n      <td>0.456</td>\n      <td>1968</td>\n      <td>AFC North</td>\n    </tr>\n    <tr>\n      <th>25</th>\n      <td>26</td>\n      <td>Detroit Lions</td>\n      <td>1,332</td>\n      <td>591</td>\n      <td>707</td>\n      <td>34 (5)</td>\n      <td>0.455</td>\n      <td>1930</td>\n      <td>NFC North</td>\n    </tr>\n    <tr>\n      <th>26</th>\n      <td>27</td>\n      <td>New York Jets</td>\n      <td>983</td>\n      <td>428</td>\n      <td>547</td>\n      <td>8 (2)</td>\n      <td>0.439</td>\n      <td>1960</td>\n      <td>AFC East</td>\n    </tr>\n    <tr>\n      <th>27</th>\n      <td>28</td>\n      <td>Atlanta Falcons</td>\n      <td>899</td>\n      <td>390</td>\n      <td>503</td>\n      <td>6 (2)</td>\n      <td>0.437</td>\n      <td>1966</td>\n      <td>NFC South</td>\n    </tr>\n    <tr>\n      <th>28</th>\n      <td>29</td>\n      <td>Houston Texans</td>\n      <td>355</td>\n      <td>152</td>\n      <td>202</td>\n      <td>1</td>\n      <td>0.430</td>\n      <td>2002</td>\n      <td>AFC South</td>\n    </tr>\n    <tr>\n      <th>29</th>\n      <td>30</td>\n      <td>Jacksonville Jaguars</td>\n      <td>467</td>\n      <td>198</td>\n      <td>269</td>\n      <td>0</td>\n      <td>0.424</td>\n      <td>1995</td>\n      <td>AFC South</td>\n    </tr>\n    <tr>\n      <th>30</th>\n      <td>31</td>\n      <td>Arizona Cardinals</td>\n      <td>1,429</td>\n      <td>585</td>\n      <td>803</td>\n      <td>41 (6)</td>\n      <td>0.422</td>\n      <td>1920</td>\n      <td>NFC West</td>\n    </tr>\n    <tr>\n      <th>31</th>\n      <td>32</td>\n      <td>Tampa Bay Buccaneers</td>\n      <td>759</td>\n      <td>308</td>\n      <td>450</td>\n      <td>1</td>\n      <td>0.406</td>\n      <td>1976</td>\n      <td>NFC South</td>\n    </tr>\n  </tbody>\n</table>\n</div>"
          },
          "metadata": {}
        }
      ],
      "execution_count": 12
    },
    {
      "cell_type": "code",
      "source": "per= pd.read_json('Persons1.json')",
      "metadata": {
        "trusted": true
      },
      "outputs": [],
      "execution_count": 13
    },
    {
      "cell_type": "code",
      "source": "per.columns",
      "metadata": {
        "trusted": true
      },
      "outputs": [
        {
          "execution_count": 14,
          "output_type": "execute_result",
          "data": {
            "text/plain": "Index(['index', 'name', 'isActive', 'registered', 'age', 'gender', 'eyeColor',\n       'favoriteFruit', 'company', 'tags'],\n      dtype='object')"
          },
          "metadata": {}
        }
      ],
      "execution_count": 14
    },
    {
      "cell_type": "code",
      "source": "per",
      "metadata": {
        "trusted": true
      },
      "outputs": [
        {
          "execution_count": 15,
          "output_type": "execute_result",
          "data": {
            "text/plain": "     index                name  isActive                registered  age  \\\n0        0    Aurelia Gonzales     False  2015-02-11T04:22:39+0000   20   \n1        1          Kitty Snow     False  2018-01-23T04:46:15+0000   38   \n2        2           Hays Wise     False  2015-02-23T10:22:15+0000   24   \n3        3        Karyn Rhodes      True  2014-03-11T03:02:33+0000   39   \n4        4       Alison Farmer     False  2018-01-22T10:05:45+0000   33   \n..     ...                 ...       ...                       ...  ...   \n995    995  Contreras Mcintyre     False  2016-10-19T04:26:38+0000   38   \n996    996       Brown Wiggins      True  2015-12-30T03:40:53+0000   27   \n997    997       Chrystal Clay     False  2015-02-22T01:22:49+0000   25   \n998    998        Britney Bell     False  2014-07-10T06:29:34+0000   39   \n999    999        Iva Gonzales      True  2014-12-20T12:23:19+0000   28   \n\n     gender eyeColor favoriteFruit  \\\n0    female    green        banana   \n1    female     blue         apple   \n2      male    green    strawberry   \n3    female    green    strawberry   \n4    female    brown        banana   \n..      ...      ...           ...   \n995    male    brown        banana   \n996    male     blue        banana   \n997  female    brown        banana   \n998  female    green        banana   \n999  female    brown        banana   \n\n                                               company  \\\n0    {'title': 'YURTURE', 'email': 'aureliagonzales...   \n1    {'title': 'DIGITALUS', 'email': 'kittysnow@dig...   \n2    {'title': 'EXIAND', 'email': 'hayswise@exiand....   \n3    {'title': 'RODEMCO', 'email': 'karynrhodes@rod...   \n4    {'title': 'OTHERSIDE', 'email': 'alisonfarmer@...   \n..                                                 ...   \n995  {'title': 'SURETECH', 'email': 'contrerasmcint...   \n996  {'title': 'BUZZNESS', 'email': 'brownwiggins@b...   \n997  {'title': 'YURTURE', 'email': 'chrystalclay@yu...   \n998  {'title': 'DIGITALUS', 'email': 'britneybell@d...   \n999  {'title': 'EXIAND', 'email': 'ivagonzales@exia...   \n\n                                      tags  \n0         [enim, id, velit, ad, consequat]  \n1    [ut, voluptate, consequat, consequat]  \n2                  [amet, ad, elit, ipsum]  \n3        [cillum, exercitation, excepteur]  \n4              [deserunt, et, duis, dolor]  \n..                                     ...  \n995                 [officia, consectetur]  \n996        [velit, laboris, quis, ullamco]  \n997                    [dolor, nisi, anim]  \n998                         [nulla, velit]  \n999                  [reprehenderit, sunt]  \n\n[1000 rows x 10 columns]",
            "text/html": "<div>\n<style scoped>\n    .dataframe tbody tr th:only-of-type {\n        vertical-align: middle;\n    }\n\n    .dataframe tbody tr th {\n        vertical-align: top;\n    }\n\n    .dataframe thead th {\n        text-align: right;\n    }\n</style>\n<table border=\"1\" class=\"dataframe\">\n  <thead>\n    <tr style=\"text-align: right;\">\n      <th></th>\n      <th>index</th>\n      <th>name</th>\n      <th>isActive</th>\n      <th>registered</th>\n      <th>age</th>\n      <th>gender</th>\n      <th>eyeColor</th>\n      <th>favoriteFruit</th>\n      <th>company</th>\n      <th>tags</th>\n    </tr>\n  </thead>\n  <tbody>\n    <tr>\n      <th>0</th>\n      <td>0</td>\n      <td>Aurelia Gonzales</td>\n      <td>False</td>\n      <td>2015-02-11T04:22:39+0000</td>\n      <td>20</td>\n      <td>female</td>\n      <td>green</td>\n      <td>banana</td>\n      <td>{'title': 'YURTURE', 'email': 'aureliagonzales...</td>\n      <td>[enim, id, velit, ad, consequat]</td>\n    </tr>\n    <tr>\n      <th>1</th>\n      <td>1</td>\n      <td>Kitty Snow</td>\n      <td>False</td>\n      <td>2018-01-23T04:46:15+0000</td>\n      <td>38</td>\n      <td>female</td>\n      <td>blue</td>\n      <td>apple</td>\n      <td>{'title': 'DIGITALUS', 'email': 'kittysnow@dig...</td>\n      <td>[ut, voluptate, consequat, consequat]</td>\n    </tr>\n    <tr>\n      <th>2</th>\n      <td>2</td>\n      <td>Hays Wise</td>\n      <td>False</td>\n      <td>2015-02-23T10:22:15+0000</td>\n      <td>24</td>\n      <td>male</td>\n      <td>green</td>\n      <td>strawberry</td>\n      <td>{'title': 'EXIAND', 'email': 'hayswise@exiand....</td>\n      <td>[amet, ad, elit, ipsum]</td>\n    </tr>\n    <tr>\n      <th>3</th>\n      <td>3</td>\n      <td>Karyn Rhodes</td>\n      <td>True</td>\n      <td>2014-03-11T03:02:33+0000</td>\n      <td>39</td>\n      <td>female</td>\n      <td>green</td>\n      <td>strawberry</td>\n      <td>{'title': 'RODEMCO', 'email': 'karynrhodes@rod...</td>\n      <td>[cillum, exercitation, excepteur]</td>\n    </tr>\n    <tr>\n      <th>4</th>\n      <td>4</td>\n      <td>Alison Farmer</td>\n      <td>False</td>\n      <td>2018-01-22T10:05:45+0000</td>\n      <td>33</td>\n      <td>female</td>\n      <td>brown</td>\n      <td>banana</td>\n      <td>{'title': 'OTHERSIDE', 'email': 'alisonfarmer@...</td>\n      <td>[deserunt, et, duis, dolor]</td>\n    </tr>\n    <tr>\n      <th>...</th>\n      <td>...</td>\n      <td>...</td>\n      <td>...</td>\n      <td>...</td>\n      <td>...</td>\n      <td>...</td>\n      <td>...</td>\n      <td>...</td>\n      <td>...</td>\n      <td>...</td>\n    </tr>\n    <tr>\n      <th>995</th>\n      <td>995</td>\n      <td>Contreras Mcintyre</td>\n      <td>False</td>\n      <td>2016-10-19T04:26:38+0000</td>\n      <td>38</td>\n      <td>male</td>\n      <td>brown</td>\n      <td>banana</td>\n      <td>{'title': 'SURETECH', 'email': 'contrerasmcint...</td>\n      <td>[officia, consectetur]</td>\n    </tr>\n    <tr>\n      <th>996</th>\n      <td>996</td>\n      <td>Brown Wiggins</td>\n      <td>True</td>\n      <td>2015-12-30T03:40:53+0000</td>\n      <td>27</td>\n      <td>male</td>\n      <td>blue</td>\n      <td>banana</td>\n      <td>{'title': 'BUZZNESS', 'email': 'brownwiggins@b...</td>\n      <td>[velit, laboris, quis, ullamco]</td>\n    </tr>\n    <tr>\n      <th>997</th>\n      <td>997</td>\n      <td>Chrystal Clay</td>\n      <td>False</td>\n      <td>2015-02-22T01:22:49+0000</td>\n      <td>25</td>\n      <td>female</td>\n      <td>brown</td>\n      <td>banana</td>\n      <td>{'title': 'YURTURE', 'email': 'chrystalclay@yu...</td>\n      <td>[dolor, nisi, anim]</td>\n    </tr>\n    <tr>\n      <th>998</th>\n      <td>998</td>\n      <td>Britney Bell</td>\n      <td>False</td>\n      <td>2014-07-10T06:29:34+0000</td>\n      <td>39</td>\n      <td>female</td>\n      <td>green</td>\n      <td>banana</td>\n      <td>{'title': 'DIGITALUS', 'email': 'britneybell@d...</td>\n      <td>[nulla, velit]</td>\n    </tr>\n    <tr>\n      <th>999</th>\n      <td>999</td>\n      <td>Iva Gonzales</td>\n      <td>True</td>\n      <td>2014-12-20T12:23:19+0000</td>\n      <td>28</td>\n      <td>female</td>\n      <td>brown</td>\n      <td>banana</td>\n      <td>{'title': 'EXIAND', 'email': 'ivagonzales@exia...</td>\n      <td>[reprehenderit, sunt]</td>\n    </tr>\n  </tbody>\n</table>\n<p>1000 rows × 10 columns</p>\n</div>"
          },
          "metadata": {}
        }
      ],
      "execution_count": 15
    },
    {
      "cell_type": "code",
      "source": "nfl.columns",
      "metadata": {
        "trusted": true
      },
      "outputs": [
        {
          "execution_count": 16,
          "output_type": "execute_result",
          "data": {
            "text/plain": "Index(['Rank', 'Team', 'GP', 'Won', 'Lost', 'Tied[c]', 'Pct.',\n       'First NFL season', 'Division'],\n      dtype='object')"
          },
          "metadata": {}
        }
      ],
      "execution_count": 16
    },
    {
      "cell_type": "code",
      "source": "nfl.head()                          # first five",
      "metadata": {
        "trusted": true
      },
      "outputs": [
        {
          "execution_count": 17,
          "output_type": "execute_result",
          "data": {
            "text/plain": "   Rank                  Team     GP  Won  Lost Tied[c]   Pct.  \\\n0     1        Dallas Cowboys    981  562   413   6 (0)  0.576   \n1     2     Green Bay Packers  1,435  800   598  38 (8)  0.572   \n2     3      Baltimore Ravens    451  256   194       1  0.569   \n3     4         Chicago Bears  1,469  793   634  42 (1)  0.556   \n4     5  New England Patriots    983  541   433   9 (0)  0.555   \n\n   First NFL season   Division  \n0              1960   NFC East  \n1              1921  NFC North  \n2              1996  AFC North  \n3              1920  NFC North  \n4              1960   AFC East  ",
            "text/html": "<div>\n<style scoped>\n    .dataframe tbody tr th:only-of-type {\n        vertical-align: middle;\n    }\n\n    .dataframe tbody tr th {\n        vertical-align: top;\n    }\n\n    .dataframe thead th {\n        text-align: right;\n    }\n</style>\n<table border=\"1\" class=\"dataframe\">\n  <thead>\n    <tr style=\"text-align: right;\">\n      <th></th>\n      <th>Rank</th>\n      <th>Team</th>\n      <th>GP</th>\n      <th>Won</th>\n      <th>Lost</th>\n      <th>Tied[c]</th>\n      <th>Pct.</th>\n      <th>First NFL season</th>\n      <th>Division</th>\n    </tr>\n  </thead>\n  <tbody>\n    <tr>\n      <th>0</th>\n      <td>1</td>\n      <td>Dallas Cowboys</td>\n      <td>981</td>\n      <td>562</td>\n      <td>413</td>\n      <td>6 (0)</td>\n      <td>0.576</td>\n      <td>1960</td>\n      <td>NFC East</td>\n    </tr>\n    <tr>\n      <th>1</th>\n      <td>2</td>\n      <td>Green Bay Packers</td>\n      <td>1,435</td>\n      <td>800</td>\n      <td>598</td>\n      <td>38 (8)</td>\n      <td>0.572</td>\n      <td>1921</td>\n      <td>NFC North</td>\n    </tr>\n    <tr>\n      <th>2</th>\n      <td>3</td>\n      <td>Baltimore Ravens</td>\n      <td>451</td>\n      <td>256</td>\n      <td>194</td>\n      <td>1</td>\n      <td>0.569</td>\n      <td>1996</td>\n      <td>AFC North</td>\n    </tr>\n    <tr>\n      <th>3</th>\n      <td>4</td>\n      <td>Chicago Bears</td>\n      <td>1,469</td>\n      <td>793</td>\n      <td>634</td>\n      <td>42 (1)</td>\n      <td>0.556</td>\n      <td>1920</td>\n      <td>NFC North</td>\n    </tr>\n    <tr>\n      <th>4</th>\n      <td>5</td>\n      <td>New England Patriots</td>\n      <td>983</td>\n      <td>541</td>\n      <td>433</td>\n      <td>9 (0)</td>\n      <td>0.555</td>\n      <td>1960</td>\n      <td>AFC East</td>\n    </tr>\n  </tbody>\n</table>\n</div>"
          },
          "metadata": {}
        }
      ],
      "execution_count": 17
    },
    {
      "cell_type": "code",
      "source": "nfl.head(2)",
      "metadata": {
        "trusted": true
      },
      "outputs": [
        {
          "execution_count": 18,
          "output_type": "execute_result",
          "data": {
            "text/plain": "   Rank               Team     GP  Won  Lost Tied[c]   Pct.  First NFL season  \\\n0     1     Dallas Cowboys    981  562   413   6 (0)  0.576              1960   \n1     2  Green Bay Packers  1,435  800   598  38 (8)  0.572              1921   \n\n    Division  \n0   NFC East  \n1  NFC North  ",
            "text/html": "<div>\n<style scoped>\n    .dataframe tbody tr th:only-of-type {\n        vertical-align: middle;\n    }\n\n    .dataframe tbody tr th {\n        vertical-align: top;\n    }\n\n    .dataframe thead th {\n        text-align: right;\n    }\n</style>\n<table border=\"1\" class=\"dataframe\">\n  <thead>\n    <tr style=\"text-align: right;\">\n      <th></th>\n      <th>Rank</th>\n      <th>Team</th>\n      <th>GP</th>\n      <th>Won</th>\n      <th>Lost</th>\n      <th>Tied[c]</th>\n      <th>Pct.</th>\n      <th>First NFL season</th>\n      <th>Division</th>\n    </tr>\n  </thead>\n  <tbody>\n    <tr>\n      <th>0</th>\n      <td>1</td>\n      <td>Dallas Cowboys</td>\n      <td>981</td>\n      <td>562</td>\n      <td>413</td>\n      <td>6 (0)</td>\n      <td>0.576</td>\n      <td>1960</td>\n      <td>NFC East</td>\n    </tr>\n    <tr>\n      <th>1</th>\n      <td>2</td>\n      <td>Green Bay Packers</td>\n      <td>1,435</td>\n      <td>800</td>\n      <td>598</td>\n      <td>38 (8)</td>\n      <td>0.572</td>\n      <td>1921</td>\n      <td>NFC North</td>\n    </tr>\n  </tbody>\n</table>\n</div>"
          },
          "metadata": {}
        }
      ],
      "execution_count": 18
    },
    {
      "cell_type": "code",
      "source": "nfl.tail()",
      "metadata": {
        "trusted": true
      },
      "outputs": [
        {
          "execution_count": 19,
          "output_type": "execute_result",
          "data": {
            "text/plain": "    Rank                  Team     GP  Won  Lost Tied[c]   Pct.  \\\n27    28       Atlanta Falcons    899  390   503   6 (2)  0.437   \n28    29        Houston Texans    355  152   202       1  0.430   \n29    30  Jacksonville Jaguars    467  198   269       0  0.424   \n30    31     Arizona Cardinals  1,429  585   803  41 (6)  0.422   \n31    32  Tampa Bay Buccaneers    759  308   450       1  0.406   \n\n    First NFL season   Division  \n27              1966  NFC South  \n28              2002  AFC South  \n29              1995  AFC South  \n30              1920   NFC West  \n31              1976  NFC South  ",
            "text/html": "<div>\n<style scoped>\n    .dataframe tbody tr th:only-of-type {\n        vertical-align: middle;\n    }\n\n    .dataframe tbody tr th {\n        vertical-align: top;\n    }\n\n    .dataframe thead th {\n        text-align: right;\n    }\n</style>\n<table border=\"1\" class=\"dataframe\">\n  <thead>\n    <tr style=\"text-align: right;\">\n      <th></th>\n      <th>Rank</th>\n      <th>Team</th>\n      <th>GP</th>\n      <th>Won</th>\n      <th>Lost</th>\n      <th>Tied[c]</th>\n      <th>Pct.</th>\n      <th>First NFL season</th>\n      <th>Division</th>\n    </tr>\n  </thead>\n  <tbody>\n    <tr>\n      <th>27</th>\n      <td>28</td>\n      <td>Atlanta Falcons</td>\n      <td>899</td>\n      <td>390</td>\n      <td>503</td>\n      <td>6 (2)</td>\n      <td>0.437</td>\n      <td>1966</td>\n      <td>NFC South</td>\n    </tr>\n    <tr>\n      <th>28</th>\n      <td>29</td>\n      <td>Houston Texans</td>\n      <td>355</td>\n      <td>152</td>\n      <td>202</td>\n      <td>1</td>\n      <td>0.430</td>\n      <td>2002</td>\n      <td>AFC South</td>\n    </tr>\n    <tr>\n      <th>29</th>\n      <td>30</td>\n      <td>Jacksonville Jaguars</td>\n      <td>467</td>\n      <td>198</td>\n      <td>269</td>\n      <td>0</td>\n      <td>0.424</td>\n      <td>1995</td>\n      <td>AFC South</td>\n    </tr>\n    <tr>\n      <th>30</th>\n      <td>31</td>\n      <td>Arizona Cardinals</td>\n      <td>1,429</td>\n      <td>585</td>\n      <td>803</td>\n      <td>41 (6)</td>\n      <td>0.422</td>\n      <td>1920</td>\n      <td>NFC West</td>\n    </tr>\n    <tr>\n      <th>31</th>\n      <td>32</td>\n      <td>Tampa Bay Buccaneers</td>\n      <td>759</td>\n      <td>308</td>\n      <td>450</td>\n      <td>1</td>\n      <td>0.406</td>\n      <td>1976</td>\n      <td>NFC South</td>\n    </tr>\n  </tbody>\n</table>\n</div>"
          },
          "metadata": {}
        }
      ],
      "execution_count": 19
    },
    {
      "cell_type": "code",
      "source": "nfl.tail(2)",
      "metadata": {
        "trusted": true
      },
      "outputs": [
        {
          "execution_count": 20,
          "output_type": "execute_result",
          "data": {
            "text/plain": "    Rank                  Team     GP  Won  Lost Tied[c]   Pct.  \\\n30    31     Arizona Cardinals  1,429  585   803  41 (6)  0.422   \n31    32  Tampa Bay Buccaneers    759  308   450       1  0.406   \n\n    First NFL season   Division  \n30              1920   NFC West  \n31              1976  NFC South  ",
            "text/html": "<div>\n<style scoped>\n    .dataframe tbody tr th:only-of-type {\n        vertical-align: middle;\n    }\n\n    .dataframe tbody tr th {\n        vertical-align: top;\n    }\n\n    .dataframe thead th {\n        text-align: right;\n    }\n</style>\n<table border=\"1\" class=\"dataframe\">\n  <thead>\n    <tr style=\"text-align: right;\">\n      <th></th>\n      <th>Rank</th>\n      <th>Team</th>\n      <th>GP</th>\n      <th>Won</th>\n      <th>Lost</th>\n      <th>Tied[c]</th>\n      <th>Pct.</th>\n      <th>First NFL season</th>\n      <th>Division</th>\n    </tr>\n  </thead>\n  <tbody>\n    <tr>\n      <th>30</th>\n      <td>31</td>\n      <td>Arizona Cardinals</td>\n      <td>1,429</td>\n      <td>585</td>\n      <td>803</td>\n      <td>41 (6)</td>\n      <td>0.422</td>\n      <td>1920</td>\n      <td>NFC West</td>\n    </tr>\n    <tr>\n      <th>31</th>\n      <td>32</td>\n      <td>Tampa Bay Buccaneers</td>\n      <td>759</td>\n      <td>308</td>\n      <td>450</td>\n      <td>1</td>\n      <td>0.406</td>\n      <td>1976</td>\n      <td>NFC South</td>\n    </tr>\n  </tbody>\n</table>\n</div>"
          },
          "metadata": {}
        }
      ],
      "execution_count": 20
    },
    {
      "cell_type": "code",
      "source": "nfl.loc[31]",
      "metadata": {
        "trusted": true
      },
      "outputs": [
        {
          "execution_count": 22,
          "output_type": "execute_result",
          "data": {
            "text/plain": "Rank                                  32\nTeam                Tampa Bay Buccaneers\nGP                                   759\nWon                                  308\nLost                                 450\nTied[c]                                1\nPct.                               0.406\nFirst NFL season                    1976\nDivision                       NFC South\nName: 31, dtype: object"
          },
          "metadata": {}
        }
      ],
      "execution_count": 22
    },
    {
      "cell_type": "code",
      "source": "nfl.loc[1:2]",
      "metadata": {
        "trusted": true
      },
      "outputs": [
        {
          "execution_count": 23,
          "output_type": "execute_result",
          "data": {
            "text/plain": "   Rank               Team     GP  Won  Lost Tied[c]   Pct.  First NFL season  \\\n1     2  Green Bay Packers  1,435  800   598  38 (8)  0.572              1921   \n2     3   Baltimore Ravens    451  256   194       1  0.569              1996   \n\n    Division  \n1  NFC North  \n2  AFC North  ",
            "text/html": "<div>\n<style scoped>\n    .dataframe tbody tr th:only-of-type {\n        vertical-align: middle;\n    }\n\n    .dataframe tbody tr th {\n        vertical-align: top;\n    }\n\n    .dataframe thead th {\n        text-align: right;\n    }\n</style>\n<table border=\"1\" class=\"dataframe\">\n  <thead>\n    <tr style=\"text-align: right;\">\n      <th></th>\n      <th>Rank</th>\n      <th>Team</th>\n      <th>GP</th>\n      <th>Won</th>\n      <th>Lost</th>\n      <th>Tied[c]</th>\n      <th>Pct.</th>\n      <th>First NFL season</th>\n      <th>Division</th>\n    </tr>\n  </thead>\n  <tbody>\n    <tr>\n      <th>1</th>\n      <td>2</td>\n      <td>Green Bay Packers</td>\n      <td>1,435</td>\n      <td>800</td>\n      <td>598</td>\n      <td>38 (8)</td>\n      <td>0.572</td>\n      <td>1921</td>\n      <td>NFC North</td>\n    </tr>\n    <tr>\n      <th>2</th>\n      <td>3</td>\n      <td>Baltimore Ravens</td>\n      <td>451</td>\n      <td>256</td>\n      <td>194</td>\n      <td>1</td>\n      <td>0.569</td>\n      <td>1996</td>\n      <td>AFC North</td>\n    </tr>\n  </tbody>\n</table>\n</div>"
          },
          "metadata": {}
        }
      ],
      "execution_count": 23
    },
    {
      "cell_type": "code",
      "source": "nfl.Team",
      "metadata": {
        "trusted": true
      },
      "outputs": [
        {
          "execution_count": 25,
          "output_type": "execute_result",
          "data": {
            "text/plain": "0             Dallas Cowboys\n1          Green Bay Packers\n2           Baltimore Ravens\n3              Chicago Bears\n4       New England Patriots\n5             Miami Dolphins\n6         Kansas City Chiefs\n7          Minnesota Vikings\n8     San Francisco 49ers[b]\n9        Pittsburgh Steelers\n10           New York Giants\n11     Indianapolis Colts[d]\n12            Denver Broncos\n13         Las Vegas Raiders\n14          Seattle Seahawks\n15          Los Angeles Rams\n16      Los Angeles Chargers\n17       Philadelphia Eagles\n18     Washington Commanders\n19    Cleveland Browns[b][e]\n20          Tennessee Titans\n21             Buffalo Bills\n22        New Orleans Saints\n23         Carolina Panthers\n24        Cincinnati Bengals\n25             Detroit Lions\n26             New York Jets\n27           Atlanta Falcons\n28            Houston Texans\n29      Jacksonville Jaguars\n30         Arizona Cardinals\n31      Tampa Bay Buccaneers\nName: Team, dtype: object"
          },
          "metadata": {}
        }
      ],
      "execution_count": 25
    },
    {
      "cell_type": "code",
      "source": "nfl['Team']",
      "metadata": {
        "trusted": true
      },
      "outputs": [
        {
          "execution_count": 26,
          "output_type": "execute_result",
          "data": {
            "text/plain": "0             Dallas Cowboys\n1          Green Bay Packers\n2           Baltimore Ravens\n3              Chicago Bears\n4       New England Patriots\n5             Miami Dolphins\n6         Kansas City Chiefs\n7          Minnesota Vikings\n8     San Francisco 49ers[b]\n9        Pittsburgh Steelers\n10           New York Giants\n11     Indianapolis Colts[d]\n12            Denver Broncos\n13         Las Vegas Raiders\n14          Seattle Seahawks\n15          Los Angeles Rams\n16      Los Angeles Chargers\n17       Philadelphia Eagles\n18     Washington Commanders\n19    Cleveland Browns[b][e]\n20          Tennessee Titans\n21             Buffalo Bills\n22        New Orleans Saints\n23         Carolina Panthers\n24        Cincinnati Bengals\n25             Detroit Lions\n26             New York Jets\n27           Atlanta Falcons\n28            Houston Texans\n29      Jacksonville Jaguars\n30         Arizona Cardinals\n31      Tampa Bay Buccaneers\nName: Team, dtype: object"
          },
          "metadata": {}
        }
      ],
      "execution_count": 26
    },
    {
      "cell_type": "code",
      "source": "type(nfl)",
      "metadata": {
        "trusted": true
      },
      "outputs": [
        {
          "execution_count": 27,
          "output_type": "execute_result",
          "data": {
            "text/plain": "pandas.core.frame.DataFrame"
          },
          "metadata": {}
        }
      ],
      "execution_count": 27
    },
    {
      "cell_type": "code",
      "source": "nfl[['Team','GP']]",
      "metadata": {
        "trusted": true
      },
      "outputs": [
        {
          "execution_count": 29,
          "output_type": "execute_result",
          "data": {
            "text/plain": "                      Team     GP\n0           Dallas Cowboys    981\n1        Green Bay Packers  1,435\n2         Baltimore Ravens    451\n3            Chicago Bears  1,469\n4     New England Patriots    983\n5           Miami Dolphins    899\n6       Kansas City Chiefs    983\n7        Minnesota Vikings    969\n8   San Francisco 49ers[b]  1,101\n9      Pittsburgh Steelers  1,271\n10         New York Giants  1,404\n11   Indianapolis Colts[d]  1,065\n12          Denver Broncos    983\n13       Las Vegas Raiders    983\n14        Seattle Seahawks    759\n15        Los Angeles Rams  1,234\n16    Los Angeles Chargers    983\n17     Philadelphia Eagles  1,287\n18   Washington Commanders  1,301\n19  Cleveland Browns[b][e]  1,053\n20        Tennessee Titans    983\n21           Buffalo Bills    982\n22      New Orleans Saints    870\n23       Carolina Panthers    467\n24      Cincinnati Bengals    869\n25           Detroit Lions  1,332\n26           New York Jets    983\n27         Atlanta Falcons    899\n28          Houston Texans    355\n29    Jacksonville Jaguars    467\n30       Arizona Cardinals  1,429\n31    Tampa Bay Buccaneers    759",
            "text/html": "<div>\n<style scoped>\n    .dataframe tbody tr th:only-of-type {\n        vertical-align: middle;\n    }\n\n    .dataframe tbody tr th {\n        vertical-align: top;\n    }\n\n    .dataframe thead th {\n        text-align: right;\n    }\n</style>\n<table border=\"1\" class=\"dataframe\">\n  <thead>\n    <tr style=\"text-align: right;\">\n      <th></th>\n      <th>Team</th>\n      <th>GP</th>\n    </tr>\n  </thead>\n  <tbody>\n    <tr>\n      <th>0</th>\n      <td>Dallas Cowboys</td>\n      <td>981</td>\n    </tr>\n    <tr>\n      <th>1</th>\n      <td>Green Bay Packers</td>\n      <td>1,435</td>\n    </tr>\n    <tr>\n      <th>2</th>\n      <td>Baltimore Ravens</td>\n      <td>451</td>\n    </tr>\n    <tr>\n      <th>3</th>\n      <td>Chicago Bears</td>\n      <td>1,469</td>\n    </tr>\n    <tr>\n      <th>4</th>\n      <td>New England Patriots</td>\n      <td>983</td>\n    </tr>\n    <tr>\n      <th>5</th>\n      <td>Miami Dolphins</td>\n      <td>899</td>\n    </tr>\n    <tr>\n      <th>6</th>\n      <td>Kansas City Chiefs</td>\n      <td>983</td>\n    </tr>\n    <tr>\n      <th>7</th>\n      <td>Minnesota Vikings</td>\n      <td>969</td>\n    </tr>\n    <tr>\n      <th>8</th>\n      <td>San Francisco 49ers[b]</td>\n      <td>1,101</td>\n    </tr>\n    <tr>\n      <th>9</th>\n      <td>Pittsburgh Steelers</td>\n      <td>1,271</td>\n    </tr>\n    <tr>\n      <th>10</th>\n      <td>New York Giants</td>\n      <td>1,404</td>\n    </tr>\n    <tr>\n      <th>11</th>\n      <td>Indianapolis Colts[d]</td>\n      <td>1,065</td>\n    </tr>\n    <tr>\n      <th>12</th>\n      <td>Denver Broncos</td>\n      <td>983</td>\n    </tr>\n    <tr>\n      <th>13</th>\n      <td>Las Vegas Raiders</td>\n      <td>983</td>\n    </tr>\n    <tr>\n      <th>14</th>\n      <td>Seattle Seahawks</td>\n      <td>759</td>\n    </tr>\n    <tr>\n      <th>15</th>\n      <td>Los Angeles Rams</td>\n      <td>1,234</td>\n    </tr>\n    <tr>\n      <th>16</th>\n      <td>Los Angeles Chargers</td>\n      <td>983</td>\n    </tr>\n    <tr>\n      <th>17</th>\n      <td>Philadelphia Eagles</td>\n      <td>1,287</td>\n    </tr>\n    <tr>\n      <th>18</th>\n      <td>Washington Commanders</td>\n      <td>1,301</td>\n    </tr>\n    <tr>\n      <th>19</th>\n      <td>Cleveland Browns[b][e]</td>\n      <td>1,053</td>\n    </tr>\n    <tr>\n      <th>20</th>\n      <td>Tennessee Titans</td>\n      <td>983</td>\n    </tr>\n    <tr>\n      <th>21</th>\n      <td>Buffalo Bills</td>\n      <td>982</td>\n    </tr>\n    <tr>\n      <th>22</th>\n      <td>New Orleans Saints</td>\n      <td>870</td>\n    </tr>\n    <tr>\n      <th>23</th>\n      <td>Carolina Panthers</td>\n      <td>467</td>\n    </tr>\n    <tr>\n      <th>24</th>\n      <td>Cincinnati Bengals</td>\n      <td>869</td>\n    </tr>\n    <tr>\n      <th>25</th>\n      <td>Detroit Lions</td>\n      <td>1,332</td>\n    </tr>\n    <tr>\n      <th>26</th>\n      <td>New York Jets</td>\n      <td>983</td>\n    </tr>\n    <tr>\n      <th>27</th>\n      <td>Atlanta Falcons</td>\n      <td>899</td>\n    </tr>\n    <tr>\n      <th>28</th>\n      <td>Houston Texans</td>\n      <td>355</td>\n    </tr>\n    <tr>\n      <th>29</th>\n      <td>Jacksonville Jaguars</td>\n      <td>467</td>\n    </tr>\n    <tr>\n      <th>30</th>\n      <td>Arizona Cardinals</td>\n      <td>1,429</td>\n    </tr>\n    <tr>\n      <th>31</th>\n      <td>Tampa Bay Buccaneers</td>\n      <td>759</td>\n    </tr>\n  </tbody>\n</table>\n</div>"
          },
          "metadata": {}
        }
      ],
      "execution_count": 29
    },
    {
      "cell_type": "code",
      "source": "nfl",
      "metadata": {
        "trusted": true
      },
      "outputs": [
        {
          "execution_count": 30,
          "output_type": "execute_result",
          "data": {
            "text/plain": "    Rank                    Team     GP  Won  Lost Tied[c]   Pct.  \\\n0      1          Dallas Cowboys    981  562   413   6 (0)  0.576   \n1      2       Green Bay Packers  1,435  800   598  38 (8)  0.572   \n2      3        Baltimore Ravens    451  256   194       1  0.569   \n3      4           Chicago Bears  1,469  793   634  42 (1)  0.556   \n4      5    New England Patriots    983  541   433   9 (0)  0.555   \n5      6          Miami Dolphins    899  496   399   4 (1)  0.554   \n6      7      Kansas City Chiefs    983  532   439  12 (4)  0.548   \n7      8       Minnesota Vikings    969  523   435  11 (4)  0.546   \n8      9  San Francisco 49ers[b]  1,101  586   501  14 (3)  0.539   \n9     10     Pittsburgh Steelers  1,271  671   578  22 (4)  0.537   \n10    11         New York Giants  1,404  721   649  34 (4)  0.526   \n11    12   Indianapolis Colts[d]  1,065  556   501   8 (2)  0.526   \n12    13          Denver Broncos    983  508   465  10 (4)  0.522   \n13    14       Las Vegas Raiders    983  505   467  11 (2)  0.520   \n14    15        Seattle Seahawks    759  392   366       1  0.517   \n15    16        Los Angeles Rams  1,234  614   599  21 (3)  0.506   \n16    17    Los Angeles Chargers    983  483   489  11 (2)  0.497   \n17    18     Philadelphia Eagles  1,287  624   636  27 (7)  0.495   \n18    19   Washington Commanders  1,301  629   643  29 (3)  0.495   \n19    20  Cleveland Browns[b][e]  1,053  512   530  11 (4)  0.491   \n20    21        Tennessee Titans    983  476   501   6 (0)  0.487   \n21    22           Buffalo Bills    982  473   501   8 (1)  0.486   \n22    23      New Orleans Saints    870  412   468   5 (1)  0.468   \n23    24       Carolina Panthers    467  214   252       1  0.459   \n24    25      Cincinnati Bengals    869  394   471   5 (4)  0.456   \n25    26           Detroit Lions  1,332  591   707  34 (5)  0.455   \n26    27           New York Jets    983  428   547   8 (2)  0.439   \n27    28         Atlanta Falcons    899  390   503   6 (2)  0.437   \n28    29          Houston Texans    355  152   202       1  0.430   \n29    30    Jacksonville Jaguars    467  198   269       0  0.424   \n30    31       Arizona Cardinals  1,429  585   803  41 (6)  0.422   \n31    32    Tampa Bay Buccaneers    759  308   450       1  0.406   \n\n    First NFL season   Division  \n0               1960   NFC East  \n1               1921  NFC North  \n2               1996  AFC North  \n3               1920  NFC North  \n4               1960   AFC East  \n5               1966   AFC East  \n6               1960   AFC West  \n7               1961  NFC North  \n8               1950   NFC West  \n9               1933  AFC North  \n10              1925   NFC East  \n11              1953  AFC South  \n12              1960   AFC West  \n13              1960   AFC West  \n14              1976   NFC West  \n15              1937   NFC West  \n16              1960   AFC West  \n17              1933   NFC East  \n18              1932   NFC East  \n19              1950  AFC North  \n20              1960  AFC South  \n21              1960   AFC East  \n22              1967  NFC South  \n23              1995  NFC South  \n24              1968  AFC North  \n25              1930  NFC North  \n26              1960   AFC East  \n27              1966  NFC South  \n28              2002  AFC South  \n29              1995  AFC South  \n30              1920   NFC West  \n31              1976  NFC South  ",
            "text/html": "<div>\n<style scoped>\n    .dataframe tbody tr th:only-of-type {\n        vertical-align: middle;\n    }\n\n    .dataframe tbody tr th {\n        vertical-align: top;\n    }\n\n    .dataframe thead th {\n        text-align: right;\n    }\n</style>\n<table border=\"1\" class=\"dataframe\">\n  <thead>\n    <tr style=\"text-align: right;\">\n      <th></th>\n      <th>Rank</th>\n      <th>Team</th>\n      <th>GP</th>\n      <th>Won</th>\n      <th>Lost</th>\n      <th>Tied[c]</th>\n      <th>Pct.</th>\n      <th>First NFL season</th>\n      <th>Division</th>\n    </tr>\n  </thead>\n  <tbody>\n    <tr>\n      <th>0</th>\n      <td>1</td>\n      <td>Dallas Cowboys</td>\n      <td>981</td>\n      <td>562</td>\n      <td>413</td>\n      <td>6 (0)</td>\n      <td>0.576</td>\n      <td>1960</td>\n      <td>NFC East</td>\n    </tr>\n    <tr>\n      <th>1</th>\n      <td>2</td>\n      <td>Green Bay Packers</td>\n      <td>1,435</td>\n      <td>800</td>\n      <td>598</td>\n      <td>38 (8)</td>\n      <td>0.572</td>\n      <td>1921</td>\n      <td>NFC North</td>\n    </tr>\n    <tr>\n      <th>2</th>\n      <td>3</td>\n      <td>Baltimore Ravens</td>\n      <td>451</td>\n      <td>256</td>\n      <td>194</td>\n      <td>1</td>\n      <td>0.569</td>\n      <td>1996</td>\n      <td>AFC North</td>\n    </tr>\n    <tr>\n      <th>3</th>\n      <td>4</td>\n      <td>Chicago Bears</td>\n      <td>1,469</td>\n      <td>793</td>\n      <td>634</td>\n      <td>42 (1)</td>\n      <td>0.556</td>\n      <td>1920</td>\n      <td>NFC North</td>\n    </tr>\n    <tr>\n      <th>4</th>\n      <td>5</td>\n      <td>New England Patriots</td>\n      <td>983</td>\n      <td>541</td>\n      <td>433</td>\n      <td>9 (0)</td>\n      <td>0.555</td>\n      <td>1960</td>\n      <td>AFC East</td>\n    </tr>\n    <tr>\n      <th>5</th>\n      <td>6</td>\n      <td>Miami Dolphins</td>\n      <td>899</td>\n      <td>496</td>\n      <td>399</td>\n      <td>4 (1)</td>\n      <td>0.554</td>\n      <td>1966</td>\n      <td>AFC East</td>\n    </tr>\n    <tr>\n      <th>6</th>\n      <td>7</td>\n      <td>Kansas City Chiefs</td>\n      <td>983</td>\n      <td>532</td>\n      <td>439</td>\n      <td>12 (4)</td>\n      <td>0.548</td>\n      <td>1960</td>\n      <td>AFC West</td>\n    </tr>\n    <tr>\n      <th>7</th>\n      <td>8</td>\n      <td>Minnesota Vikings</td>\n      <td>969</td>\n      <td>523</td>\n      <td>435</td>\n      <td>11 (4)</td>\n      <td>0.546</td>\n      <td>1961</td>\n      <td>NFC North</td>\n    </tr>\n    <tr>\n      <th>8</th>\n      <td>9</td>\n      <td>San Francisco 49ers[b]</td>\n      <td>1,101</td>\n      <td>586</td>\n      <td>501</td>\n      <td>14 (3)</td>\n      <td>0.539</td>\n      <td>1950</td>\n      <td>NFC West</td>\n    </tr>\n    <tr>\n      <th>9</th>\n      <td>10</td>\n      <td>Pittsburgh Steelers</td>\n      <td>1,271</td>\n      <td>671</td>\n      <td>578</td>\n      <td>22 (4)</td>\n      <td>0.537</td>\n      <td>1933</td>\n      <td>AFC North</td>\n    </tr>\n    <tr>\n      <th>10</th>\n      <td>11</td>\n      <td>New York Giants</td>\n      <td>1,404</td>\n      <td>721</td>\n      <td>649</td>\n      <td>34 (4)</td>\n      <td>0.526</td>\n      <td>1925</td>\n      <td>NFC East</td>\n    </tr>\n    <tr>\n      <th>11</th>\n      <td>12</td>\n      <td>Indianapolis Colts[d]</td>\n      <td>1,065</td>\n      <td>556</td>\n      <td>501</td>\n      <td>8 (2)</td>\n      <td>0.526</td>\n      <td>1953</td>\n      <td>AFC South</td>\n    </tr>\n    <tr>\n      <th>12</th>\n      <td>13</td>\n      <td>Denver Broncos</td>\n      <td>983</td>\n      <td>508</td>\n      <td>465</td>\n      <td>10 (4)</td>\n      <td>0.522</td>\n      <td>1960</td>\n      <td>AFC West</td>\n    </tr>\n    <tr>\n      <th>13</th>\n      <td>14</td>\n      <td>Las Vegas Raiders</td>\n      <td>983</td>\n      <td>505</td>\n      <td>467</td>\n      <td>11 (2)</td>\n      <td>0.520</td>\n      <td>1960</td>\n      <td>AFC West</td>\n    </tr>\n    <tr>\n      <th>14</th>\n      <td>15</td>\n      <td>Seattle Seahawks</td>\n      <td>759</td>\n      <td>392</td>\n      <td>366</td>\n      <td>1</td>\n      <td>0.517</td>\n      <td>1976</td>\n      <td>NFC West</td>\n    </tr>\n    <tr>\n      <th>15</th>\n      <td>16</td>\n      <td>Los Angeles Rams</td>\n      <td>1,234</td>\n      <td>614</td>\n      <td>599</td>\n      <td>21 (3)</td>\n      <td>0.506</td>\n      <td>1937</td>\n      <td>NFC West</td>\n    </tr>\n    <tr>\n      <th>16</th>\n      <td>17</td>\n      <td>Los Angeles Chargers</td>\n      <td>983</td>\n      <td>483</td>\n      <td>489</td>\n      <td>11 (2)</td>\n      <td>0.497</td>\n      <td>1960</td>\n      <td>AFC West</td>\n    </tr>\n    <tr>\n      <th>17</th>\n      <td>18</td>\n      <td>Philadelphia Eagles</td>\n      <td>1,287</td>\n      <td>624</td>\n      <td>636</td>\n      <td>27 (7)</td>\n      <td>0.495</td>\n      <td>1933</td>\n      <td>NFC East</td>\n    </tr>\n    <tr>\n      <th>18</th>\n      <td>19</td>\n      <td>Washington Commanders</td>\n      <td>1,301</td>\n      <td>629</td>\n      <td>643</td>\n      <td>29 (3)</td>\n      <td>0.495</td>\n      <td>1932</td>\n      <td>NFC East</td>\n    </tr>\n    <tr>\n      <th>19</th>\n      <td>20</td>\n      <td>Cleveland Browns[b][e]</td>\n      <td>1,053</td>\n      <td>512</td>\n      <td>530</td>\n      <td>11 (4)</td>\n      <td>0.491</td>\n      <td>1950</td>\n      <td>AFC North</td>\n    </tr>\n    <tr>\n      <th>20</th>\n      <td>21</td>\n      <td>Tennessee Titans</td>\n      <td>983</td>\n      <td>476</td>\n      <td>501</td>\n      <td>6 (0)</td>\n      <td>0.487</td>\n      <td>1960</td>\n      <td>AFC South</td>\n    </tr>\n    <tr>\n      <th>21</th>\n      <td>22</td>\n      <td>Buffalo Bills</td>\n      <td>982</td>\n      <td>473</td>\n      <td>501</td>\n      <td>8 (1)</td>\n      <td>0.486</td>\n      <td>1960</td>\n      <td>AFC East</td>\n    </tr>\n    <tr>\n      <th>22</th>\n      <td>23</td>\n      <td>New Orleans Saints</td>\n      <td>870</td>\n      <td>412</td>\n      <td>468</td>\n      <td>5 (1)</td>\n      <td>0.468</td>\n      <td>1967</td>\n      <td>NFC South</td>\n    </tr>\n    <tr>\n      <th>23</th>\n      <td>24</td>\n      <td>Carolina Panthers</td>\n      <td>467</td>\n      <td>214</td>\n      <td>252</td>\n      <td>1</td>\n      <td>0.459</td>\n      <td>1995</td>\n      <td>NFC South</td>\n    </tr>\n    <tr>\n      <th>24</th>\n      <td>25</td>\n      <td>Cincinnati Bengals</td>\n      <td>869</td>\n      <td>394</td>\n      <td>471</td>\n      <td>5 (4)</td>\n      <td>0.456</td>\n      <td>1968</td>\n      <td>AFC North</td>\n    </tr>\n    <tr>\n      <th>25</th>\n      <td>26</td>\n      <td>Detroit Lions</td>\n      <td>1,332</td>\n      <td>591</td>\n      <td>707</td>\n      <td>34 (5)</td>\n      <td>0.455</td>\n      <td>1930</td>\n      <td>NFC North</td>\n    </tr>\n    <tr>\n      <th>26</th>\n      <td>27</td>\n      <td>New York Jets</td>\n      <td>983</td>\n      <td>428</td>\n      <td>547</td>\n      <td>8 (2)</td>\n      <td>0.439</td>\n      <td>1960</td>\n      <td>AFC East</td>\n    </tr>\n    <tr>\n      <th>27</th>\n      <td>28</td>\n      <td>Atlanta Falcons</td>\n      <td>899</td>\n      <td>390</td>\n      <td>503</td>\n      <td>6 (2)</td>\n      <td>0.437</td>\n      <td>1966</td>\n      <td>NFC South</td>\n    </tr>\n    <tr>\n      <th>28</th>\n      <td>29</td>\n      <td>Houston Texans</td>\n      <td>355</td>\n      <td>152</td>\n      <td>202</td>\n      <td>1</td>\n      <td>0.430</td>\n      <td>2002</td>\n      <td>AFC South</td>\n    </tr>\n    <tr>\n      <th>29</th>\n      <td>30</td>\n      <td>Jacksonville Jaguars</td>\n      <td>467</td>\n      <td>198</td>\n      <td>269</td>\n      <td>0</td>\n      <td>0.424</td>\n      <td>1995</td>\n      <td>AFC South</td>\n    </tr>\n    <tr>\n      <th>30</th>\n      <td>31</td>\n      <td>Arizona Cardinals</td>\n      <td>1,429</td>\n      <td>585</td>\n      <td>803</td>\n      <td>41 (6)</td>\n      <td>0.422</td>\n      <td>1920</td>\n      <td>NFC West</td>\n    </tr>\n    <tr>\n      <th>31</th>\n      <td>32</td>\n      <td>Tampa Bay Buccaneers</td>\n      <td>759</td>\n      <td>308</td>\n      <td>450</td>\n      <td>1</td>\n      <td>0.406</td>\n      <td>1976</td>\n      <td>NFC South</td>\n    </tr>\n  </tbody>\n</table>\n</div>"
          },
          "metadata": {}
        }
      ],
      "execution_count": 30
    },
    {
      "cell_type": "code",
      "source": "new_nfl = DataFrame(nfl,columns=['Stadium'])",
      "metadata": {
        "trusted": true
      },
      "outputs": [],
      "execution_count": 31
    },
    {
      "cell_type": "code",
      "source": "nfl.columns",
      "metadata": {
        "trusted": true
      },
      "outputs": [
        {
          "execution_count": 32,
          "output_type": "execute_result",
          "data": {
            "text/plain": "Index(['Rank', 'Team', 'GP', 'Won', 'Lost', 'Tied[c]', 'Pct.',\n       'First NFL season', 'Division'],\n      dtype='object')"
          },
          "metadata": {}
        }
      ],
      "execution_count": 32
    },
    {
      "cell_type": "code",
      "source": "new_nfl.columns",
      "metadata": {
        "trusted": true
      },
      "outputs": [
        {
          "execution_count": 33,
          "output_type": "execute_result",
          "data": {
            "text/plain": "Index(['Stadium'], dtype='object')"
          },
          "metadata": {}
        }
      ],
      "execution_count": 33
    },
    {
      "cell_type": "code",
      "source": "new_nfl = DataFrame(nfl,columns=['Rank', 'Team', 'GP', 'Won', 'Lost', 'Tied[c]', 'Pct.',\n       'First NFL season', 'Division','Stadium'])",
      "metadata": {
        "trusted": true
      },
      "outputs": [],
      "execution_count": 34
    },
    {
      "cell_type": "code",
      "source": "new_nfl.columns",
      "metadata": {
        "trusted": true
      },
      "outputs": [
        {
          "execution_count": 35,
          "output_type": "execute_result",
          "data": {
            "text/plain": "Index(['Rank', 'Team', 'GP', 'Won', 'Lost', 'Tied[c]', 'Pct.',\n       'First NFL season', 'Division', 'Stadium'],\n      dtype='object')"
          },
          "metadata": {}
        }
      ],
      "execution_count": 35
    },
    {
      "cell_type": "code",
      "source": "new_nfl",
      "metadata": {
        "trusted": true
      },
      "outputs": [
        {
          "execution_count": 36,
          "output_type": "execute_result",
          "data": {
            "text/plain": "    Rank                    Team     GP  Won  Lost Tied[c]   Pct.  \\\n0      1          Dallas Cowboys    981  562   413   6 (0)  0.576   \n1      2       Green Bay Packers  1,435  800   598  38 (8)  0.572   \n2      3        Baltimore Ravens    451  256   194       1  0.569   \n3      4           Chicago Bears  1,469  793   634  42 (1)  0.556   \n4      5    New England Patriots    983  541   433   9 (0)  0.555   \n5      6          Miami Dolphins    899  496   399   4 (1)  0.554   \n6      7      Kansas City Chiefs    983  532   439  12 (4)  0.548   \n7      8       Minnesota Vikings    969  523   435  11 (4)  0.546   \n8      9  San Francisco 49ers[b]  1,101  586   501  14 (3)  0.539   \n9     10     Pittsburgh Steelers  1,271  671   578  22 (4)  0.537   \n10    11         New York Giants  1,404  721   649  34 (4)  0.526   \n11    12   Indianapolis Colts[d]  1,065  556   501   8 (2)  0.526   \n12    13          Denver Broncos    983  508   465  10 (4)  0.522   \n13    14       Las Vegas Raiders    983  505   467  11 (2)  0.520   \n14    15        Seattle Seahawks    759  392   366       1  0.517   \n15    16        Los Angeles Rams  1,234  614   599  21 (3)  0.506   \n16    17    Los Angeles Chargers    983  483   489  11 (2)  0.497   \n17    18     Philadelphia Eagles  1,287  624   636  27 (7)  0.495   \n18    19   Washington Commanders  1,301  629   643  29 (3)  0.495   \n19    20  Cleveland Browns[b][e]  1,053  512   530  11 (4)  0.491   \n20    21        Tennessee Titans    983  476   501   6 (0)  0.487   \n21    22           Buffalo Bills    982  473   501   8 (1)  0.486   \n22    23      New Orleans Saints    870  412   468   5 (1)  0.468   \n23    24       Carolina Panthers    467  214   252       1  0.459   \n24    25      Cincinnati Bengals    869  394   471   5 (4)  0.456   \n25    26           Detroit Lions  1,332  591   707  34 (5)  0.455   \n26    27           New York Jets    983  428   547   8 (2)  0.439   \n27    28         Atlanta Falcons    899  390   503   6 (2)  0.437   \n28    29          Houston Texans    355  152   202       1  0.430   \n29    30    Jacksonville Jaguars    467  198   269       0  0.424   \n30    31       Arizona Cardinals  1,429  585   803  41 (6)  0.422   \n31    32    Tampa Bay Buccaneers    759  308   450       1  0.406   \n\n    First NFL season   Division  Stadium  \n0               1960   NFC East      NaN  \n1               1921  NFC North      NaN  \n2               1996  AFC North      NaN  \n3               1920  NFC North      NaN  \n4               1960   AFC East      NaN  \n5               1966   AFC East      NaN  \n6               1960   AFC West      NaN  \n7               1961  NFC North      NaN  \n8               1950   NFC West      NaN  \n9               1933  AFC North      NaN  \n10              1925   NFC East      NaN  \n11              1953  AFC South      NaN  \n12              1960   AFC West      NaN  \n13              1960   AFC West      NaN  \n14              1976   NFC West      NaN  \n15              1937   NFC West      NaN  \n16              1960   AFC West      NaN  \n17              1933   NFC East      NaN  \n18              1932   NFC East      NaN  \n19              1950  AFC North      NaN  \n20              1960  AFC South      NaN  \n21              1960   AFC East      NaN  \n22              1967  NFC South      NaN  \n23              1995  NFC South      NaN  \n24              1968  AFC North      NaN  \n25              1930  NFC North      NaN  \n26              1960   AFC East      NaN  \n27              1966  NFC South      NaN  \n28              2002  AFC South      NaN  \n29              1995  AFC South      NaN  \n30              1920   NFC West      NaN  \n31              1976  NFC South      NaN  ",
            "text/html": "<div>\n<style scoped>\n    .dataframe tbody tr th:only-of-type {\n        vertical-align: middle;\n    }\n\n    .dataframe tbody tr th {\n        vertical-align: top;\n    }\n\n    .dataframe thead th {\n        text-align: right;\n    }\n</style>\n<table border=\"1\" class=\"dataframe\">\n  <thead>\n    <tr style=\"text-align: right;\">\n      <th></th>\n      <th>Rank</th>\n      <th>Team</th>\n      <th>GP</th>\n      <th>Won</th>\n      <th>Lost</th>\n      <th>Tied[c]</th>\n      <th>Pct.</th>\n      <th>First NFL season</th>\n      <th>Division</th>\n      <th>Stadium</th>\n    </tr>\n  </thead>\n  <tbody>\n    <tr>\n      <th>0</th>\n      <td>1</td>\n      <td>Dallas Cowboys</td>\n      <td>981</td>\n      <td>562</td>\n      <td>413</td>\n      <td>6 (0)</td>\n      <td>0.576</td>\n      <td>1960</td>\n      <td>NFC East</td>\n      <td>NaN</td>\n    </tr>\n    <tr>\n      <th>1</th>\n      <td>2</td>\n      <td>Green Bay Packers</td>\n      <td>1,435</td>\n      <td>800</td>\n      <td>598</td>\n      <td>38 (8)</td>\n      <td>0.572</td>\n      <td>1921</td>\n      <td>NFC North</td>\n      <td>NaN</td>\n    </tr>\n    <tr>\n      <th>2</th>\n      <td>3</td>\n      <td>Baltimore Ravens</td>\n      <td>451</td>\n      <td>256</td>\n      <td>194</td>\n      <td>1</td>\n      <td>0.569</td>\n      <td>1996</td>\n      <td>AFC North</td>\n      <td>NaN</td>\n    </tr>\n    <tr>\n      <th>3</th>\n      <td>4</td>\n      <td>Chicago Bears</td>\n      <td>1,469</td>\n      <td>793</td>\n      <td>634</td>\n      <td>42 (1)</td>\n      <td>0.556</td>\n      <td>1920</td>\n      <td>NFC North</td>\n      <td>NaN</td>\n    </tr>\n    <tr>\n      <th>4</th>\n      <td>5</td>\n      <td>New England Patriots</td>\n      <td>983</td>\n      <td>541</td>\n      <td>433</td>\n      <td>9 (0)</td>\n      <td>0.555</td>\n      <td>1960</td>\n      <td>AFC East</td>\n      <td>NaN</td>\n    </tr>\n    <tr>\n      <th>5</th>\n      <td>6</td>\n      <td>Miami Dolphins</td>\n      <td>899</td>\n      <td>496</td>\n      <td>399</td>\n      <td>4 (1)</td>\n      <td>0.554</td>\n      <td>1966</td>\n      <td>AFC East</td>\n      <td>NaN</td>\n    </tr>\n    <tr>\n      <th>6</th>\n      <td>7</td>\n      <td>Kansas City Chiefs</td>\n      <td>983</td>\n      <td>532</td>\n      <td>439</td>\n      <td>12 (4)</td>\n      <td>0.548</td>\n      <td>1960</td>\n      <td>AFC West</td>\n      <td>NaN</td>\n    </tr>\n    <tr>\n      <th>7</th>\n      <td>8</td>\n      <td>Minnesota Vikings</td>\n      <td>969</td>\n      <td>523</td>\n      <td>435</td>\n      <td>11 (4)</td>\n      <td>0.546</td>\n      <td>1961</td>\n      <td>NFC North</td>\n      <td>NaN</td>\n    </tr>\n    <tr>\n      <th>8</th>\n      <td>9</td>\n      <td>San Francisco 49ers[b]</td>\n      <td>1,101</td>\n      <td>586</td>\n      <td>501</td>\n      <td>14 (3)</td>\n      <td>0.539</td>\n      <td>1950</td>\n      <td>NFC West</td>\n      <td>NaN</td>\n    </tr>\n    <tr>\n      <th>9</th>\n      <td>10</td>\n      <td>Pittsburgh Steelers</td>\n      <td>1,271</td>\n      <td>671</td>\n      <td>578</td>\n      <td>22 (4)</td>\n      <td>0.537</td>\n      <td>1933</td>\n      <td>AFC North</td>\n      <td>NaN</td>\n    </tr>\n    <tr>\n      <th>10</th>\n      <td>11</td>\n      <td>New York Giants</td>\n      <td>1,404</td>\n      <td>721</td>\n      <td>649</td>\n      <td>34 (4)</td>\n      <td>0.526</td>\n      <td>1925</td>\n      <td>NFC East</td>\n      <td>NaN</td>\n    </tr>\n    <tr>\n      <th>11</th>\n      <td>12</td>\n      <td>Indianapolis Colts[d]</td>\n      <td>1,065</td>\n      <td>556</td>\n      <td>501</td>\n      <td>8 (2)</td>\n      <td>0.526</td>\n      <td>1953</td>\n      <td>AFC South</td>\n      <td>NaN</td>\n    </tr>\n    <tr>\n      <th>12</th>\n      <td>13</td>\n      <td>Denver Broncos</td>\n      <td>983</td>\n      <td>508</td>\n      <td>465</td>\n      <td>10 (4)</td>\n      <td>0.522</td>\n      <td>1960</td>\n      <td>AFC West</td>\n      <td>NaN</td>\n    </tr>\n    <tr>\n      <th>13</th>\n      <td>14</td>\n      <td>Las Vegas Raiders</td>\n      <td>983</td>\n      <td>505</td>\n      <td>467</td>\n      <td>11 (2)</td>\n      <td>0.520</td>\n      <td>1960</td>\n      <td>AFC West</td>\n      <td>NaN</td>\n    </tr>\n    <tr>\n      <th>14</th>\n      <td>15</td>\n      <td>Seattle Seahawks</td>\n      <td>759</td>\n      <td>392</td>\n      <td>366</td>\n      <td>1</td>\n      <td>0.517</td>\n      <td>1976</td>\n      <td>NFC West</td>\n      <td>NaN</td>\n    </tr>\n    <tr>\n      <th>15</th>\n      <td>16</td>\n      <td>Los Angeles Rams</td>\n      <td>1,234</td>\n      <td>614</td>\n      <td>599</td>\n      <td>21 (3)</td>\n      <td>0.506</td>\n      <td>1937</td>\n      <td>NFC West</td>\n      <td>NaN</td>\n    </tr>\n    <tr>\n      <th>16</th>\n      <td>17</td>\n      <td>Los Angeles Chargers</td>\n      <td>983</td>\n      <td>483</td>\n      <td>489</td>\n      <td>11 (2)</td>\n      <td>0.497</td>\n      <td>1960</td>\n      <td>AFC West</td>\n      <td>NaN</td>\n    </tr>\n    <tr>\n      <th>17</th>\n      <td>18</td>\n      <td>Philadelphia Eagles</td>\n      <td>1,287</td>\n      <td>624</td>\n      <td>636</td>\n      <td>27 (7)</td>\n      <td>0.495</td>\n      <td>1933</td>\n      <td>NFC East</td>\n      <td>NaN</td>\n    </tr>\n    <tr>\n      <th>18</th>\n      <td>19</td>\n      <td>Washington Commanders</td>\n      <td>1,301</td>\n      <td>629</td>\n      <td>643</td>\n      <td>29 (3)</td>\n      <td>0.495</td>\n      <td>1932</td>\n      <td>NFC East</td>\n      <td>NaN</td>\n    </tr>\n    <tr>\n      <th>19</th>\n      <td>20</td>\n      <td>Cleveland Browns[b][e]</td>\n      <td>1,053</td>\n      <td>512</td>\n      <td>530</td>\n      <td>11 (4)</td>\n      <td>0.491</td>\n      <td>1950</td>\n      <td>AFC North</td>\n      <td>NaN</td>\n    </tr>\n    <tr>\n      <th>20</th>\n      <td>21</td>\n      <td>Tennessee Titans</td>\n      <td>983</td>\n      <td>476</td>\n      <td>501</td>\n      <td>6 (0)</td>\n      <td>0.487</td>\n      <td>1960</td>\n      <td>AFC South</td>\n      <td>NaN</td>\n    </tr>\n    <tr>\n      <th>21</th>\n      <td>22</td>\n      <td>Buffalo Bills</td>\n      <td>982</td>\n      <td>473</td>\n      <td>501</td>\n      <td>8 (1)</td>\n      <td>0.486</td>\n      <td>1960</td>\n      <td>AFC East</td>\n      <td>NaN</td>\n    </tr>\n    <tr>\n      <th>22</th>\n      <td>23</td>\n      <td>New Orleans Saints</td>\n      <td>870</td>\n      <td>412</td>\n      <td>468</td>\n      <td>5 (1)</td>\n      <td>0.468</td>\n      <td>1967</td>\n      <td>NFC South</td>\n      <td>NaN</td>\n    </tr>\n    <tr>\n      <th>23</th>\n      <td>24</td>\n      <td>Carolina Panthers</td>\n      <td>467</td>\n      <td>214</td>\n      <td>252</td>\n      <td>1</td>\n      <td>0.459</td>\n      <td>1995</td>\n      <td>NFC South</td>\n      <td>NaN</td>\n    </tr>\n    <tr>\n      <th>24</th>\n      <td>25</td>\n      <td>Cincinnati Bengals</td>\n      <td>869</td>\n      <td>394</td>\n      <td>471</td>\n      <td>5 (4)</td>\n      <td>0.456</td>\n      <td>1968</td>\n      <td>AFC North</td>\n      <td>NaN</td>\n    </tr>\n    <tr>\n      <th>25</th>\n      <td>26</td>\n      <td>Detroit Lions</td>\n      <td>1,332</td>\n      <td>591</td>\n      <td>707</td>\n      <td>34 (5)</td>\n      <td>0.455</td>\n      <td>1930</td>\n      <td>NFC North</td>\n      <td>NaN</td>\n    </tr>\n    <tr>\n      <th>26</th>\n      <td>27</td>\n      <td>New York Jets</td>\n      <td>983</td>\n      <td>428</td>\n      <td>547</td>\n      <td>8 (2)</td>\n      <td>0.439</td>\n      <td>1960</td>\n      <td>AFC East</td>\n      <td>NaN</td>\n    </tr>\n    <tr>\n      <th>27</th>\n      <td>28</td>\n      <td>Atlanta Falcons</td>\n      <td>899</td>\n      <td>390</td>\n      <td>503</td>\n      <td>6 (2)</td>\n      <td>0.437</td>\n      <td>1966</td>\n      <td>NFC South</td>\n      <td>NaN</td>\n    </tr>\n    <tr>\n      <th>28</th>\n      <td>29</td>\n      <td>Houston Texans</td>\n      <td>355</td>\n      <td>152</td>\n      <td>202</td>\n      <td>1</td>\n      <td>0.430</td>\n      <td>2002</td>\n      <td>AFC South</td>\n      <td>NaN</td>\n    </tr>\n    <tr>\n      <th>29</th>\n      <td>30</td>\n      <td>Jacksonville Jaguars</td>\n      <td>467</td>\n      <td>198</td>\n      <td>269</td>\n      <td>0</td>\n      <td>0.424</td>\n      <td>1995</td>\n      <td>AFC South</td>\n      <td>NaN</td>\n    </tr>\n    <tr>\n      <th>30</th>\n      <td>31</td>\n      <td>Arizona Cardinals</td>\n      <td>1,429</td>\n      <td>585</td>\n      <td>803</td>\n      <td>41 (6)</td>\n      <td>0.422</td>\n      <td>1920</td>\n      <td>NFC West</td>\n      <td>NaN</td>\n    </tr>\n    <tr>\n      <th>31</th>\n      <td>32</td>\n      <td>Tampa Bay Buccaneers</td>\n      <td>759</td>\n      <td>308</td>\n      <td>450</td>\n      <td>1</td>\n      <td>0.406</td>\n      <td>1976</td>\n      <td>NFC South</td>\n      <td>NaN</td>\n    </tr>\n  </tbody>\n</table>\n</div>"
          },
          "metadata": {}
        }
      ],
      "execution_count": 36
    },
    {
      "cell_type": "code",
      "source": "new_nfl['Stadium']='Wankhede'",
      "metadata": {
        "trusted": true
      },
      "outputs": [],
      "execution_count": 37
    },
    {
      "cell_type": "code",
      "source": "new_nfl",
      "metadata": {
        "trusted": true
      },
      "outputs": [
        {
          "execution_count": 38,
          "output_type": "execute_result",
          "data": {
            "text/plain": "    Rank                    Team     GP  Won  Lost Tied[c]   Pct.  \\\n0      1          Dallas Cowboys    981  562   413   6 (0)  0.576   \n1      2       Green Bay Packers  1,435  800   598  38 (8)  0.572   \n2      3        Baltimore Ravens    451  256   194       1  0.569   \n3      4           Chicago Bears  1,469  793   634  42 (1)  0.556   \n4      5    New England Patriots    983  541   433   9 (0)  0.555   \n5      6          Miami Dolphins    899  496   399   4 (1)  0.554   \n6      7      Kansas City Chiefs    983  532   439  12 (4)  0.548   \n7      8       Minnesota Vikings    969  523   435  11 (4)  0.546   \n8      9  San Francisco 49ers[b]  1,101  586   501  14 (3)  0.539   \n9     10     Pittsburgh Steelers  1,271  671   578  22 (4)  0.537   \n10    11         New York Giants  1,404  721   649  34 (4)  0.526   \n11    12   Indianapolis Colts[d]  1,065  556   501   8 (2)  0.526   \n12    13          Denver Broncos    983  508   465  10 (4)  0.522   \n13    14       Las Vegas Raiders    983  505   467  11 (2)  0.520   \n14    15        Seattle Seahawks    759  392   366       1  0.517   \n15    16        Los Angeles Rams  1,234  614   599  21 (3)  0.506   \n16    17    Los Angeles Chargers    983  483   489  11 (2)  0.497   \n17    18     Philadelphia Eagles  1,287  624   636  27 (7)  0.495   \n18    19   Washington Commanders  1,301  629   643  29 (3)  0.495   \n19    20  Cleveland Browns[b][e]  1,053  512   530  11 (4)  0.491   \n20    21        Tennessee Titans    983  476   501   6 (0)  0.487   \n21    22           Buffalo Bills    982  473   501   8 (1)  0.486   \n22    23      New Orleans Saints    870  412   468   5 (1)  0.468   \n23    24       Carolina Panthers    467  214   252       1  0.459   \n24    25      Cincinnati Bengals    869  394   471   5 (4)  0.456   \n25    26           Detroit Lions  1,332  591   707  34 (5)  0.455   \n26    27           New York Jets    983  428   547   8 (2)  0.439   \n27    28         Atlanta Falcons    899  390   503   6 (2)  0.437   \n28    29          Houston Texans    355  152   202       1  0.430   \n29    30    Jacksonville Jaguars    467  198   269       0  0.424   \n30    31       Arizona Cardinals  1,429  585   803  41 (6)  0.422   \n31    32    Tampa Bay Buccaneers    759  308   450       1  0.406   \n\n    First NFL season   Division   Stadium  \n0               1960   NFC East  Wankhede  \n1               1921  NFC North  Wankhede  \n2               1996  AFC North  Wankhede  \n3               1920  NFC North  Wankhede  \n4               1960   AFC East  Wankhede  \n5               1966   AFC East  Wankhede  \n6               1960   AFC West  Wankhede  \n7               1961  NFC North  Wankhede  \n8               1950   NFC West  Wankhede  \n9               1933  AFC North  Wankhede  \n10              1925   NFC East  Wankhede  \n11              1953  AFC South  Wankhede  \n12              1960   AFC West  Wankhede  \n13              1960   AFC West  Wankhede  \n14              1976   NFC West  Wankhede  \n15              1937   NFC West  Wankhede  \n16              1960   AFC West  Wankhede  \n17              1933   NFC East  Wankhede  \n18              1932   NFC East  Wankhede  \n19              1950  AFC North  Wankhede  \n20              1960  AFC South  Wankhede  \n21              1960   AFC East  Wankhede  \n22              1967  NFC South  Wankhede  \n23              1995  NFC South  Wankhede  \n24              1968  AFC North  Wankhede  \n25              1930  NFC North  Wankhede  \n26              1960   AFC East  Wankhede  \n27              1966  NFC South  Wankhede  \n28              2002  AFC South  Wankhede  \n29              1995  AFC South  Wankhede  \n30              1920   NFC West  Wankhede  \n31              1976  NFC South  Wankhede  ",
            "text/html": "<div>\n<style scoped>\n    .dataframe tbody tr th:only-of-type {\n        vertical-align: middle;\n    }\n\n    .dataframe tbody tr th {\n        vertical-align: top;\n    }\n\n    .dataframe thead th {\n        text-align: right;\n    }\n</style>\n<table border=\"1\" class=\"dataframe\">\n  <thead>\n    <tr style=\"text-align: right;\">\n      <th></th>\n      <th>Rank</th>\n      <th>Team</th>\n      <th>GP</th>\n      <th>Won</th>\n      <th>Lost</th>\n      <th>Tied[c]</th>\n      <th>Pct.</th>\n      <th>First NFL season</th>\n      <th>Division</th>\n      <th>Stadium</th>\n    </tr>\n  </thead>\n  <tbody>\n    <tr>\n      <th>0</th>\n      <td>1</td>\n      <td>Dallas Cowboys</td>\n      <td>981</td>\n      <td>562</td>\n      <td>413</td>\n      <td>6 (0)</td>\n      <td>0.576</td>\n      <td>1960</td>\n      <td>NFC East</td>\n      <td>Wankhede</td>\n    </tr>\n    <tr>\n      <th>1</th>\n      <td>2</td>\n      <td>Green Bay Packers</td>\n      <td>1,435</td>\n      <td>800</td>\n      <td>598</td>\n      <td>38 (8)</td>\n      <td>0.572</td>\n      <td>1921</td>\n      <td>NFC North</td>\n      <td>Wankhede</td>\n    </tr>\n    <tr>\n      <th>2</th>\n      <td>3</td>\n      <td>Baltimore Ravens</td>\n      <td>451</td>\n      <td>256</td>\n      <td>194</td>\n      <td>1</td>\n      <td>0.569</td>\n      <td>1996</td>\n      <td>AFC North</td>\n      <td>Wankhede</td>\n    </tr>\n    <tr>\n      <th>3</th>\n      <td>4</td>\n      <td>Chicago Bears</td>\n      <td>1,469</td>\n      <td>793</td>\n      <td>634</td>\n      <td>42 (1)</td>\n      <td>0.556</td>\n      <td>1920</td>\n      <td>NFC North</td>\n      <td>Wankhede</td>\n    </tr>\n    <tr>\n      <th>4</th>\n      <td>5</td>\n      <td>New England Patriots</td>\n      <td>983</td>\n      <td>541</td>\n      <td>433</td>\n      <td>9 (0)</td>\n      <td>0.555</td>\n      <td>1960</td>\n      <td>AFC East</td>\n      <td>Wankhede</td>\n    </tr>\n    <tr>\n      <th>5</th>\n      <td>6</td>\n      <td>Miami Dolphins</td>\n      <td>899</td>\n      <td>496</td>\n      <td>399</td>\n      <td>4 (1)</td>\n      <td>0.554</td>\n      <td>1966</td>\n      <td>AFC East</td>\n      <td>Wankhede</td>\n    </tr>\n    <tr>\n      <th>6</th>\n      <td>7</td>\n      <td>Kansas City Chiefs</td>\n      <td>983</td>\n      <td>532</td>\n      <td>439</td>\n      <td>12 (4)</td>\n      <td>0.548</td>\n      <td>1960</td>\n      <td>AFC West</td>\n      <td>Wankhede</td>\n    </tr>\n    <tr>\n      <th>7</th>\n      <td>8</td>\n      <td>Minnesota Vikings</td>\n      <td>969</td>\n      <td>523</td>\n      <td>435</td>\n      <td>11 (4)</td>\n      <td>0.546</td>\n      <td>1961</td>\n      <td>NFC North</td>\n      <td>Wankhede</td>\n    </tr>\n    <tr>\n      <th>8</th>\n      <td>9</td>\n      <td>San Francisco 49ers[b]</td>\n      <td>1,101</td>\n      <td>586</td>\n      <td>501</td>\n      <td>14 (3)</td>\n      <td>0.539</td>\n      <td>1950</td>\n      <td>NFC West</td>\n      <td>Wankhede</td>\n    </tr>\n    <tr>\n      <th>9</th>\n      <td>10</td>\n      <td>Pittsburgh Steelers</td>\n      <td>1,271</td>\n      <td>671</td>\n      <td>578</td>\n      <td>22 (4)</td>\n      <td>0.537</td>\n      <td>1933</td>\n      <td>AFC North</td>\n      <td>Wankhede</td>\n    </tr>\n    <tr>\n      <th>10</th>\n      <td>11</td>\n      <td>New York Giants</td>\n      <td>1,404</td>\n      <td>721</td>\n      <td>649</td>\n      <td>34 (4)</td>\n      <td>0.526</td>\n      <td>1925</td>\n      <td>NFC East</td>\n      <td>Wankhede</td>\n    </tr>\n    <tr>\n      <th>11</th>\n      <td>12</td>\n      <td>Indianapolis Colts[d]</td>\n      <td>1,065</td>\n      <td>556</td>\n      <td>501</td>\n      <td>8 (2)</td>\n      <td>0.526</td>\n      <td>1953</td>\n      <td>AFC South</td>\n      <td>Wankhede</td>\n    </tr>\n    <tr>\n      <th>12</th>\n      <td>13</td>\n      <td>Denver Broncos</td>\n      <td>983</td>\n      <td>508</td>\n      <td>465</td>\n      <td>10 (4)</td>\n      <td>0.522</td>\n      <td>1960</td>\n      <td>AFC West</td>\n      <td>Wankhede</td>\n    </tr>\n    <tr>\n      <th>13</th>\n      <td>14</td>\n      <td>Las Vegas Raiders</td>\n      <td>983</td>\n      <td>505</td>\n      <td>467</td>\n      <td>11 (2)</td>\n      <td>0.520</td>\n      <td>1960</td>\n      <td>AFC West</td>\n      <td>Wankhede</td>\n    </tr>\n    <tr>\n      <th>14</th>\n      <td>15</td>\n      <td>Seattle Seahawks</td>\n      <td>759</td>\n      <td>392</td>\n      <td>366</td>\n      <td>1</td>\n      <td>0.517</td>\n      <td>1976</td>\n      <td>NFC West</td>\n      <td>Wankhede</td>\n    </tr>\n    <tr>\n      <th>15</th>\n      <td>16</td>\n      <td>Los Angeles Rams</td>\n      <td>1,234</td>\n      <td>614</td>\n      <td>599</td>\n      <td>21 (3)</td>\n      <td>0.506</td>\n      <td>1937</td>\n      <td>NFC West</td>\n      <td>Wankhede</td>\n    </tr>\n    <tr>\n      <th>16</th>\n      <td>17</td>\n      <td>Los Angeles Chargers</td>\n      <td>983</td>\n      <td>483</td>\n      <td>489</td>\n      <td>11 (2)</td>\n      <td>0.497</td>\n      <td>1960</td>\n      <td>AFC West</td>\n      <td>Wankhede</td>\n    </tr>\n    <tr>\n      <th>17</th>\n      <td>18</td>\n      <td>Philadelphia Eagles</td>\n      <td>1,287</td>\n      <td>624</td>\n      <td>636</td>\n      <td>27 (7)</td>\n      <td>0.495</td>\n      <td>1933</td>\n      <td>NFC East</td>\n      <td>Wankhede</td>\n    </tr>\n    <tr>\n      <th>18</th>\n      <td>19</td>\n      <td>Washington Commanders</td>\n      <td>1,301</td>\n      <td>629</td>\n      <td>643</td>\n      <td>29 (3)</td>\n      <td>0.495</td>\n      <td>1932</td>\n      <td>NFC East</td>\n      <td>Wankhede</td>\n    </tr>\n    <tr>\n      <th>19</th>\n      <td>20</td>\n      <td>Cleveland Browns[b][e]</td>\n      <td>1,053</td>\n      <td>512</td>\n      <td>530</td>\n      <td>11 (4)</td>\n      <td>0.491</td>\n      <td>1950</td>\n      <td>AFC North</td>\n      <td>Wankhede</td>\n    </tr>\n    <tr>\n      <th>20</th>\n      <td>21</td>\n      <td>Tennessee Titans</td>\n      <td>983</td>\n      <td>476</td>\n      <td>501</td>\n      <td>6 (0)</td>\n      <td>0.487</td>\n      <td>1960</td>\n      <td>AFC South</td>\n      <td>Wankhede</td>\n    </tr>\n    <tr>\n      <th>21</th>\n      <td>22</td>\n      <td>Buffalo Bills</td>\n      <td>982</td>\n      <td>473</td>\n      <td>501</td>\n      <td>8 (1)</td>\n      <td>0.486</td>\n      <td>1960</td>\n      <td>AFC East</td>\n      <td>Wankhede</td>\n    </tr>\n    <tr>\n      <th>22</th>\n      <td>23</td>\n      <td>New Orleans Saints</td>\n      <td>870</td>\n      <td>412</td>\n      <td>468</td>\n      <td>5 (1)</td>\n      <td>0.468</td>\n      <td>1967</td>\n      <td>NFC South</td>\n      <td>Wankhede</td>\n    </tr>\n    <tr>\n      <th>23</th>\n      <td>24</td>\n      <td>Carolina Panthers</td>\n      <td>467</td>\n      <td>214</td>\n      <td>252</td>\n      <td>1</td>\n      <td>0.459</td>\n      <td>1995</td>\n      <td>NFC South</td>\n      <td>Wankhede</td>\n    </tr>\n    <tr>\n      <th>24</th>\n      <td>25</td>\n      <td>Cincinnati Bengals</td>\n      <td>869</td>\n      <td>394</td>\n      <td>471</td>\n      <td>5 (4)</td>\n      <td>0.456</td>\n      <td>1968</td>\n      <td>AFC North</td>\n      <td>Wankhede</td>\n    </tr>\n    <tr>\n      <th>25</th>\n      <td>26</td>\n      <td>Detroit Lions</td>\n      <td>1,332</td>\n      <td>591</td>\n      <td>707</td>\n      <td>34 (5)</td>\n      <td>0.455</td>\n      <td>1930</td>\n      <td>NFC North</td>\n      <td>Wankhede</td>\n    </tr>\n    <tr>\n      <th>26</th>\n      <td>27</td>\n      <td>New York Jets</td>\n      <td>983</td>\n      <td>428</td>\n      <td>547</td>\n      <td>8 (2)</td>\n      <td>0.439</td>\n      <td>1960</td>\n      <td>AFC East</td>\n      <td>Wankhede</td>\n    </tr>\n    <tr>\n      <th>27</th>\n      <td>28</td>\n      <td>Atlanta Falcons</td>\n      <td>899</td>\n      <td>390</td>\n      <td>503</td>\n      <td>6 (2)</td>\n      <td>0.437</td>\n      <td>1966</td>\n      <td>NFC South</td>\n      <td>Wankhede</td>\n    </tr>\n    <tr>\n      <th>28</th>\n      <td>29</td>\n      <td>Houston Texans</td>\n      <td>355</td>\n      <td>152</td>\n      <td>202</td>\n      <td>1</td>\n      <td>0.430</td>\n      <td>2002</td>\n      <td>AFC South</td>\n      <td>Wankhede</td>\n    </tr>\n    <tr>\n      <th>29</th>\n      <td>30</td>\n      <td>Jacksonville Jaguars</td>\n      <td>467</td>\n      <td>198</td>\n      <td>269</td>\n      <td>0</td>\n      <td>0.424</td>\n      <td>1995</td>\n      <td>AFC South</td>\n      <td>Wankhede</td>\n    </tr>\n    <tr>\n      <th>30</th>\n      <td>31</td>\n      <td>Arizona Cardinals</td>\n      <td>1,429</td>\n      <td>585</td>\n      <td>803</td>\n      <td>41 (6)</td>\n      <td>0.422</td>\n      <td>1920</td>\n      <td>NFC West</td>\n      <td>Wankhede</td>\n    </tr>\n    <tr>\n      <th>31</th>\n      <td>32</td>\n      <td>Tampa Bay Buccaneers</td>\n      <td>759</td>\n      <td>308</td>\n      <td>450</td>\n      <td>1</td>\n      <td>0.406</td>\n      <td>1976</td>\n      <td>NFC South</td>\n      <td>Wankhede</td>\n    </tr>\n  </tbody>\n</table>\n</div>"
          },
          "metadata": {}
        }
      ],
      "execution_count": 38
    },
    {
      "cell_type": "code",
      "source": "std = Series(['ASta','BSta'],index=[5,0])",
      "metadata": {
        "trusted": true
      },
      "outputs": [],
      "execution_count": 39
    },
    {
      "cell_type": "code",
      "source": "new_nfl['Stadium']=std",
      "metadata": {
        "trusted": true
      },
      "outputs": [],
      "execution_count": 40
    },
    {
      "cell_type": "code",
      "source": "new_nfl\n",
      "metadata": {
        "trusted": true
      },
      "outputs": [
        {
          "execution_count": 41,
          "output_type": "execute_result",
          "data": {
            "text/plain": "    Rank                    Team     GP  Won  Lost Tied[c]   Pct.  \\\n0      1          Dallas Cowboys    981  562   413   6 (0)  0.576   \n1      2       Green Bay Packers  1,435  800   598  38 (8)  0.572   \n2      3        Baltimore Ravens    451  256   194       1  0.569   \n3      4           Chicago Bears  1,469  793   634  42 (1)  0.556   \n4      5    New England Patriots    983  541   433   9 (0)  0.555   \n5      6          Miami Dolphins    899  496   399   4 (1)  0.554   \n6      7      Kansas City Chiefs    983  532   439  12 (4)  0.548   \n7      8       Minnesota Vikings    969  523   435  11 (4)  0.546   \n8      9  San Francisco 49ers[b]  1,101  586   501  14 (3)  0.539   \n9     10     Pittsburgh Steelers  1,271  671   578  22 (4)  0.537   \n10    11         New York Giants  1,404  721   649  34 (4)  0.526   \n11    12   Indianapolis Colts[d]  1,065  556   501   8 (2)  0.526   \n12    13          Denver Broncos    983  508   465  10 (4)  0.522   \n13    14       Las Vegas Raiders    983  505   467  11 (2)  0.520   \n14    15        Seattle Seahawks    759  392   366       1  0.517   \n15    16        Los Angeles Rams  1,234  614   599  21 (3)  0.506   \n16    17    Los Angeles Chargers    983  483   489  11 (2)  0.497   \n17    18     Philadelphia Eagles  1,287  624   636  27 (7)  0.495   \n18    19   Washington Commanders  1,301  629   643  29 (3)  0.495   \n19    20  Cleveland Browns[b][e]  1,053  512   530  11 (4)  0.491   \n20    21        Tennessee Titans    983  476   501   6 (0)  0.487   \n21    22           Buffalo Bills    982  473   501   8 (1)  0.486   \n22    23      New Orleans Saints    870  412   468   5 (1)  0.468   \n23    24       Carolina Panthers    467  214   252       1  0.459   \n24    25      Cincinnati Bengals    869  394   471   5 (4)  0.456   \n25    26           Detroit Lions  1,332  591   707  34 (5)  0.455   \n26    27           New York Jets    983  428   547   8 (2)  0.439   \n27    28         Atlanta Falcons    899  390   503   6 (2)  0.437   \n28    29          Houston Texans    355  152   202       1  0.430   \n29    30    Jacksonville Jaguars    467  198   269       0  0.424   \n30    31       Arizona Cardinals  1,429  585   803  41 (6)  0.422   \n31    32    Tampa Bay Buccaneers    759  308   450       1  0.406   \n\n    First NFL season   Division Stadium  \n0               1960   NFC East    BSta  \n1               1921  NFC North     NaN  \n2               1996  AFC North     NaN  \n3               1920  NFC North     NaN  \n4               1960   AFC East     NaN  \n5               1966   AFC East    ASta  \n6               1960   AFC West     NaN  \n7               1961  NFC North     NaN  \n8               1950   NFC West     NaN  \n9               1933  AFC North     NaN  \n10              1925   NFC East     NaN  \n11              1953  AFC South     NaN  \n12              1960   AFC West     NaN  \n13              1960   AFC West     NaN  \n14              1976   NFC West     NaN  \n15              1937   NFC West     NaN  \n16              1960   AFC West     NaN  \n17              1933   NFC East     NaN  \n18              1932   NFC East     NaN  \n19              1950  AFC North     NaN  \n20              1960  AFC South     NaN  \n21              1960   AFC East     NaN  \n22              1967  NFC South     NaN  \n23              1995  NFC South     NaN  \n24              1968  AFC North     NaN  \n25              1930  NFC North     NaN  \n26              1960   AFC East     NaN  \n27              1966  NFC South     NaN  \n28              2002  AFC South     NaN  \n29              1995  AFC South     NaN  \n30              1920   NFC West     NaN  \n31              1976  NFC South     NaN  ",
            "text/html": "<div>\n<style scoped>\n    .dataframe tbody tr th:only-of-type {\n        vertical-align: middle;\n    }\n\n    .dataframe tbody tr th {\n        vertical-align: top;\n    }\n\n    .dataframe thead th {\n        text-align: right;\n    }\n</style>\n<table border=\"1\" class=\"dataframe\">\n  <thead>\n    <tr style=\"text-align: right;\">\n      <th></th>\n      <th>Rank</th>\n      <th>Team</th>\n      <th>GP</th>\n      <th>Won</th>\n      <th>Lost</th>\n      <th>Tied[c]</th>\n      <th>Pct.</th>\n      <th>First NFL season</th>\n      <th>Division</th>\n      <th>Stadium</th>\n    </tr>\n  </thead>\n  <tbody>\n    <tr>\n      <th>0</th>\n      <td>1</td>\n      <td>Dallas Cowboys</td>\n      <td>981</td>\n      <td>562</td>\n      <td>413</td>\n      <td>6 (0)</td>\n      <td>0.576</td>\n      <td>1960</td>\n      <td>NFC East</td>\n      <td>BSta</td>\n    </tr>\n    <tr>\n      <th>1</th>\n      <td>2</td>\n      <td>Green Bay Packers</td>\n      <td>1,435</td>\n      <td>800</td>\n      <td>598</td>\n      <td>38 (8)</td>\n      <td>0.572</td>\n      <td>1921</td>\n      <td>NFC North</td>\n      <td>NaN</td>\n    </tr>\n    <tr>\n      <th>2</th>\n      <td>3</td>\n      <td>Baltimore Ravens</td>\n      <td>451</td>\n      <td>256</td>\n      <td>194</td>\n      <td>1</td>\n      <td>0.569</td>\n      <td>1996</td>\n      <td>AFC North</td>\n      <td>NaN</td>\n    </tr>\n    <tr>\n      <th>3</th>\n      <td>4</td>\n      <td>Chicago Bears</td>\n      <td>1,469</td>\n      <td>793</td>\n      <td>634</td>\n      <td>42 (1)</td>\n      <td>0.556</td>\n      <td>1920</td>\n      <td>NFC North</td>\n      <td>NaN</td>\n    </tr>\n    <tr>\n      <th>4</th>\n      <td>5</td>\n      <td>New England Patriots</td>\n      <td>983</td>\n      <td>541</td>\n      <td>433</td>\n      <td>9 (0)</td>\n      <td>0.555</td>\n      <td>1960</td>\n      <td>AFC East</td>\n      <td>NaN</td>\n    </tr>\n    <tr>\n      <th>5</th>\n      <td>6</td>\n      <td>Miami Dolphins</td>\n      <td>899</td>\n      <td>496</td>\n      <td>399</td>\n      <td>4 (1)</td>\n      <td>0.554</td>\n      <td>1966</td>\n      <td>AFC East</td>\n      <td>ASta</td>\n    </tr>\n    <tr>\n      <th>6</th>\n      <td>7</td>\n      <td>Kansas City Chiefs</td>\n      <td>983</td>\n      <td>532</td>\n      <td>439</td>\n      <td>12 (4)</td>\n      <td>0.548</td>\n      <td>1960</td>\n      <td>AFC West</td>\n      <td>NaN</td>\n    </tr>\n    <tr>\n      <th>7</th>\n      <td>8</td>\n      <td>Minnesota Vikings</td>\n      <td>969</td>\n      <td>523</td>\n      <td>435</td>\n      <td>11 (4)</td>\n      <td>0.546</td>\n      <td>1961</td>\n      <td>NFC North</td>\n      <td>NaN</td>\n    </tr>\n    <tr>\n      <th>8</th>\n      <td>9</td>\n      <td>San Francisco 49ers[b]</td>\n      <td>1,101</td>\n      <td>586</td>\n      <td>501</td>\n      <td>14 (3)</td>\n      <td>0.539</td>\n      <td>1950</td>\n      <td>NFC West</td>\n      <td>NaN</td>\n    </tr>\n    <tr>\n      <th>9</th>\n      <td>10</td>\n      <td>Pittsburgh Steelers</td>\n      <td>1,271</td>\n      <td>671</td>\n      <td>578</td>\n      <td>22 (4)</td>\n      <td>0.537</td>\n      <td>1933</td>\n      <td>AFC North</td>\n      <td>NaN</td>\n    </tr>\n    <tr>\n      <th>10</th>\n      <td>11</td>\n      <td>New York Giants</td>\n      <td>1,404</td>\n      <td>721</td>\n      <td>649</td>\n      <td>34 (4)</td>\n      <td>0.526</td>\n      <td>1925</td>\n      <td>NFC East</td>\n      <td>NaN</td>\n    </tr>\n    <tr>\n      <th>11</th>\n      <td>12</td>\n      <td>Indianapolis Colts[d]</td>\n      <td>1,065</td>\n      <td>556</td>\n      <td>501</td>\n      <td>8 (2)</td>\n      <td>0.526</td>\n      <td>1953</td>\n      <td>AFC South</td>\n      <td>NaN</td>\n    </tr>\n    <tr>\n      <th>12</th>\n      <td>13</td>\n      <td>Denver Broncos</td>\n      <td>983</td>\n      <td>508</td>\n      <td>465</td>\n      <td>10 (4)</td>\n      <td>0.522</td>\n      <td>1960</td>\n      <td>AFC West</td>\n      <td>NaN</td>\n    </tr>\n    <tr>\n      <th>13</th>\n      <td>14</td>\n      <td>Las Vegas Raiders</td>\n      <td>983</td>\n      <td>505</td>\n      <td>467</td>\n      <td>11 (2)</td>\n      <td>0.520</td>\n      <td>1960</td>\n      <td>AFC West</td>\n      <td>NaN</td>\n    </tr>\n    <tr>\n      <th>14</th>\n      <td>15</td>\n      <td>Seattle Seahawks</td>\n      <td>759</td>\n      <td>392</td>\n      <td>366</td>\n      <td>1</td>\n      <td>0.517</td>\n      <td>1976</td>\n      <td>NFC West</td>\n      <td>NaN</td>\n    </tr>\n    <tr>\n      <th>15</th>\n      <td>16</td>\n      <td>Los Angeles Rams</td>\n      <td>1,234</td>\n      <td>614</td>\n      <td>599</td>\n      <td>21 (3)</td>\n      <td>0.506</td>\n      <td>1937</td>\n      <td>NFC West</td>\n      <td>NaN</td>\n    </tr>\n    <tr>\n      <th>16</th>\n      <td>17</td>\n      <td>Los Angeles Chargers</td>\n      <td>983</td>\n      <td>483</td>\n      <td>489</td>\n      <td>11 (2)</td>\n      <td>0.497</td>\n      <td>1960</td>\n      <td>AFC West</td>\n      <td>NaN</td>\n    </tr>\n    <tr>\n      <th>17</th>\n      <td>18</td>\n      <td>Philadelphia Eagles</td>\n      <td>1,287</td>\n      <td>624</td>\n      <td>636</td>\n      <td>27 (7)</td>\n      <td>0.495</td>\n      <td>1933</td>\n      <td>NFC East</td>\n      <td>NaN</td>\n    </tr>\n    <tr>\n      <th>18</th>\n      <td>19</td>\n      <td>Washington Commanders</td>\n      <td>1,301</td>\n      <td>629</td>\n      <td>643</td>\n      <td>29 (3)</td>\n      <td>0.495</td>\n      <td>1932</td>\n      <td>NFC East</td>\n      <td>NaN</td>\n    </tr>\n    <tr>\n      <th>19</th>\n      <td>20</td>\n      <td>Cleveland Browns[b][e]</td>\n      <td>1,053</td>\n      <td>512</td>\n      <td>530</td>\n      <td>11 (4)</td>\n      <td>0.491</td>\n      <td>1950</td>\n      <td>AFC North</td>\n      <td>NaN</td>\n    </tr>\n    <tr>\n      <th>20</th>\n      <td>21</td>\n      <td>Tennessee Titans</td>\n      <td>983</td>\n      <td>476</td>\n      <td>501</td>\n      <td>6 (0)</td>\n      <td>0.487</td>\n      <td>1960</td>\n      <td>AFC South</td>\n      <td>NaN</td>\n    </tr>\n    <tr>\n      <th>21</th>\n      <td>22</td>\n      <td>Buffalo Bills</td>\n      <td>982</td>\n      <td>473</td>\n      <td>501</td>\n      <td>8 (1)</td>\n      <td>0.486</td>\n      <td>1960</td>\n      <td>AFC East</td>\n      <td>NaN</td>\n    </tr>\n    <tr>\n      <th>22</th>\n      <td>23</td>\n      <td>New Orleans Saints</td>\n      <td>870</td>\n      <td>412</td>\n      <td>468</td>\n      <td>5 (1)</td>\n      <td>0.468</td>\n      <td>1967</td>\n      <td>NFC South</td>\n      <td>NaN</td>\n    </tr>\n    <tr>\n      <th>23</th>\n      <td>24</td>\n      <td>Carolina Panthers</td>\n      <td>467</td>\n      <td>214</td>\n      <td>252</td>\n      <td>1</td>\n      <td>0.459</td>\n      <td>1995</td>\n      <td>NFC South</td>\n      <td>NaN</td>\n    </tr>\n    <tr>\n      <th>24</th>\n      <td>25</td>\n      <td>Cincinnati Bengals</td>\n      <td>869</td>\n      <td>394</td>\n      <td>471</td>\n      <td>5 (4)</td>\n      <td>0.456</td>\n      <td>1968</td>\n      <td>AFC North</td>\n      <td>NaN</td>\n    </tr>\n    <tr>\n      <th>25</th>\n      <td>26</td>\n      <td>Detroit Lions</td>\n      <td>1,332</td>\n      <td>591</td>\n      <td>707</td>\n      <td>34 (5)</td>\n      <td>0.455</td>\n      <td>1930</td>\n      <td>NFC North</td>\n      <td>NaN</td>\n    </tr>\n    <tr>\n      <th>26</th>\n      <td>27</td>\n      <td>New York Jets</td>\n      <td>983</td>\n      <td>428</td>\n      <td>547</td>\n      <td>8 (2)</td>\n      <td>0.439</td>\n      <td>1960</td>\n      <td>AFC East</td>\n      <td>NaN</td>\n    </tr>\n    <tr>\n      <th>27</th>\n      <td>28</td>\n      <td>Atlanta Falcons</td>\n      <td>899</td>\n      <td>390</td>\n      <td>503</td>\n      <td>6 (2)</td>\n      <td>0.437</td>\n      <td>1966</td>\n      <td>NFC South</td>\n      <td>NaN</td>\n    </tr>\n    <tr>\n      <th>28</th>\n      <td>29</td>\n      <td>Houston Texans</td>\n      <td>355</td>\n      <td>152</td>\n      <td>202</td>\n      <td>1</td>\n      <td>0.430</td>\n      <td>2002</td>\n      <td>AFC South</td>\n      <td>NaN</td>\n    </tr>\n    <tr>\n      <th>29</th>\n      <td>30</td>\n      <td>Jacksonville Jaguars</td>\n      <td>467</td>\n      <td>198</td>\n      <td>269</td>\n      <td>0</td>\n      <td>0.424</td>\n      <td>1995</td>\n      <td>AFC South</td>\n      <td>NaN</td>\n    </tr>\n    <tr>\n      <th>30</th>\n      <td>31</td>\n      <td>Arizona Cardinals</td>\n      <td>1,429</td>\n      <td>585</td>\n      <td>803</td>\n      <td>41 (6)</td>\n      <td>0.422</td>\n      <td>1920</td>\n      <td>NFC West</td>\n      <td>NaN</td>\n    </tr>\n    <tr>\n      <th>31</th>\n      <td>32</td>\n      <td>Tampa Bay Buccaneers</td>\n      <td>759</td>\n      <td>308</td>\n      <td>450</td>\n      <td>1</td>\n      <td>0.406</td>\n      <td>1976</td>\n      <td>NFC South</td>\n      <td>NaN</td>\n    </tr>\n  </tbody>\n</table>\n</div>"
          },
          "metadata": {}
        }
      ],
      "execution_count": 41
    },
    {
      "cell_type": "code",
      "source": "nfl[0:5]",
      "metadata": {
        "trusted": true
      },
      "outputs": [
        {
          "execution_count": 42,
          "output_type": "execute_result",
          "data": {
            "text/plain": "   Rank                  Team     GP  Won  Lost Tied[c]   Pct.  \\\n0     1        Dallas Cowboys    981  562   413   6 (0)  0.576   \n1     2     Green Bay Packers  1,435  800   598  38 (8)  0.572   \n2     3      Baltimore Ravens    451  256   194       1  0.569   \n3     4         Chicago Bears  1,469  793   634  42 (1)  0.556   \n4     5  New England Patriots    983  541   433   9 (0)  0.555   \n\n   First NFL season   Division  \n0              1960   NFC East  \n1              1921  NFC North  \n2              1996  AFC North  \n3              1920  NFC North  \n4              1960   AFC East  ",
            "text/html": "<div>\n<style scoped>\n    .dataframe tbody tr th:only-of-type {\n        vertical-align: middle;\n    }\n\n    .dataframe tbody tr th {\n        vertical-align: top;\n    }\n\n    .dataframe thead th {\n        text-align: right;\n    }\n</style>\n<table border=\"1\" class=\"dataframe\">\n  <thead>\n    <tr style=\"text-align: right;\">\n      <th></th>\n      <th>Rank</th>\n      <th>Team</th>\n      <th>GP</th>\n      <th>Won</th>\n      <th>Lost</th>\n      <th>Tied[c]</th>\n      <th>Pct.</th>\n      <th>First NFL season</th>\n      <th>Division</th>\n    </tr>\n  </thead>\n  <tbody>\n    <tr>\n      <th>0</th>\n      <td>1</td>\n      <td>Dallas Cowboys</td>\n      <td>981</td>\n      <td>562</td>\n      <td>413</td>\n      <td>6 (0)</td>\n      <td>0.576</td>\n      <td>1960</td>\n      <td>NFC East</td>\n    </tr>\n    <tr>\n      <th>1</th>\n      <td>2</td>\n      <td>Green Bay Packers</td>\n      <td>1,435</td>\n      <td>800</td>\n      <td>598</td>\n      <td>38 (8)</td>\n      <td>0.572</td>\n      <td>1921</td>\n      <td>NFC North</td>\n    </tr>\n    <tr>\n      <th>2</th>\n      <td>3</td>\n      <td>Baltimore Ravens</td>\n      <td>451</td>\n      <td>256</td>\n      <td>194</td>\n      <td>1</td>\n      <td>0.569</td>\n      <td>1996</td>\n      <td>AFC North</td>\n    </tr>\n    <tr>\n      <th>3</th>\n      <td>4</td>\n      <td>Chicago Bears</td>\n      <td>1,469</td>\n      <td>793</td>\n      <td>634</td>\n      <td>42 (1)</td>\n      <td>0.556</td>\n      <td>1920</td>\n      <td>NFC North</td>\n    </tr>\n    <tr>\n      <th>4</th>\n      <td>5</td>\n      <td>New England Patriots</td>\n      <td>983</td>\n      <td>541</td>\n      <td>433</td>\n      <td>9 (0)</td>\n      <td>0.555</td>\n      <td>1960</td>\n      <td>AFC East</td>\n    </tr>\n  </tbody>\n</table>\n</div>"
          },
          "metadata": {}
        }
      ],
      "execution_count": 42
    },
    {
      "cell_type": "code",
      "source": "nfl[10:15]",
      "metadata": {
        "trusted": true
      },
      "outputs": [
        {
          "execution_count": 43,
          "output_type": "execute_result",
          "data": {
            "text/plain": "    Rank                   Team     GP  Won  Lost Tied[c]   Pct.  \\\n10    11        New York Giants  1,404  721   649  34 (4)  0.526   \n11    12  Indianapolis Colts[d]  1,065  556   501   8 (2)  0.526   \n12    13         Denver Broncos    983  508   465  10 (4)  0.522   \n13    14      Las Vegas Raiders    983  505   467  11 (2)  0.520   \n14    15       Seattle Seahawks    759  392   366       1  0.517   \n\n    First NFL season   Division  \n10              1925   NFC East  \n11              1953  AFC South  \n12              1960   AFC West  \n13              1960   AFC West  \n14              1976   NFC West  ",
            "text/html": "<div>\n<style scoped>\n    .dataframe tbody tr th:only-of-type {\n        vertical-align: middle;\n    }\n\n    .dataframe tbody tr th {\n        vertical-align: top;\n    }\n\n    .dataframe thead th {\n        text-align: right;\n    }\n</style>\n<table border=\"1\" class=\"dataframe\">\n  <thead>\n    <tr style=\"text-align: right;\">\n      <th></th>\n      <th>Rank</th>\n      <th>Team</th>\n      <th>GP</th>\n      <th>Won</th>\n      <th>Lost</th>\n      <th>Tied[c]</th>\n      <th>Pct.</th>\n      <th>First NFL season</th>\n      <th>Division</th>\n    </tr>\n  </thead>\n  <tbody>\n    <tr>\n      <th>10</th>\n      <td>11</td>\n      <td>New York Giants</td>\n      <td>1,404</td>\n      <td>721</td>\n      <td>649</td>\n      <td>34 (4)</td>\n      <td>0.526</td>\n      <td>1925</td>\n      <td>NFC East</td>\n    </tr>\n    <tr>\n      <th>11</th>\n      <td>12</td>\n      <td>Indianapolis Colts[d]</td>\n      <td>1,065</td>\n      <td>556</td>\n      <td>501</td>\n      <td>8 (2)</td>\n      <td>0.526</td>\n      <td>1953</td>\n      <td>AFC South</td>\n    </tr>\n    <tr>\n      <th>12</th>\n      <td>13</td>\n      <td>Denver Broncos</td>\n      <td>983</td>\n      <td>508</td>\n      <td>465</td>\n      <td>10 (4)</td>\n      <td>0.522</td>\n      <td>1960</td>\n      <td>AFC West</td>\n    </tr>\n    <tr>\n      <th>13</th>\n      <td>14</td>\n      <td>Las Vegas Raiders</td>\n      <td>983</td>\n      <td>505</td>\n      <td>467</td>\n      <td>11 (2)</td>\n      <td>0.520</td>\n      <td>1960</td>\n      <td>AFC West</td>\n    </tr>\n    <tr>\n      <th>14</th>\n      <td>15</td>\n      <td>Seattle Seahawks</td>\n      <td>759</td>\n      <td>392</td>\n      <td>366</td>\n      <td>1</td>\n      <td>0.517</td>\n      <td>1976</td>\n      <td>NFC West</td>\n    </tr>\n  </tbody>\n</table>\n</div>"
          },
          "metadata": {}
        }
      ],
      "execution_count": 43
    },
    {
      "cell_type": "code",
      "source": "my_ser= Series([1,2,3,4],index=['A','B','C','D'])",
      "metadata": {
        "trusted": true
      },
      "outputs": [],
      "execution_count": 44
    },
    {
      "cell_type": "code",
      "source": "my_ser",
      "metadata": {
        "trusted": true
      },
      "outputs": [
        {
          "execution_count": 45,
          "output_type": "execute_result",
          "data": {
            "text/plain": "A    1\nB    2\nC    3\nD    4\ndtype: int64"
          },
          "metadata": {}
        }
      ],
      "execution_count": 45
    },
    {
      "cell_type": "code",
      "source": "my_index = my_ser.index",
      "metadata": {
        "trusted": true
      },
      "outputs": [],
      "execution_count": 46
    },
    {
      "cell_type": "code",
      "source": "my_index",
      "metadata": {
        "trusted": true
      },
      "outputs": [
        {
          "execution_count": 47,
          "output_type": "execute_result",
          "data": {
            "text/plain": "Index(['A', 'B', 'C', 'D'], dtype='object')"
          },
          "metadata": {}
        }
      ],
      "execution_count": 47
    },
    {
      "cell_type": "code",
      "source": "my_index[2]",
      "metadata": {
        "trusted": true
      },
      "outputs": [
        {
          "execution_count": 48,
          "output_type": "execute_result",
          "data": {
            "text/plain": "'C'"
          },
          "metadata": {}
        }
      ],
      "execution_count": 48
    },
    {
      "cell_type": "code",
      "source": "my_index[:2]",
      "metadata": {
        "trusted": true
      },
      "outputs": [
        {
          "execution_count": 49,
          "output_type": "execute_result",
          "data": {
            "text/plain": "Index(['A', 'B'], dtype='object')"
          },
          "metadata": {}
        }
      ],
      "execution_count": 49
    },
    {
      "cell_type": "code",
      "source": "my_index[2]='Z'",
      "metadata": {
        "trusted": true
      },
      "outputs": [
        {
          "ename": "<class 'TypeError'>",
          "evalue": "Index does not support mutable operations",
          "traceback": [
            "\u001b[0;31m---------------------------------------------------------------------------\u001b[0m",
            "\u001b[0;31mTypeError\u001b[0m                                 Traceback (most recent call last)",
            "Cell \u001b[0;32mIn[50], line 1\u001b[0m\n\u001b[0;32m----> 1\u001b[0m \u001b[43mmy_index\u001b[49m\u001b[43m[\u001b[49m\u001b[38;5;241;43m2\u001b[39;49m\u001b[43m]\u001b[49m\u001b[38;5;241m=\u001b[39m\u001b[38;5;124m'\u001b[39m\u001b[38;5;124mZ\u001b[39m\u001b[38;5;124m'\u001b[39m\n",
            "File \u001b[0;32m/lib/python3.12/site-packages/pandas/core/indexes/base.py:5367\u001b[0m, in \u001b[0;36mIndex.__setitem__\u001b[0;34m(self, key, value)\u001b[0m\n\u001b[1;32m   5365\u001b[0m \u001b[38;5;129m@final\u001b[39m\n\u001b[1;32m   5366\u001b[0m \u001b[38;5;28;01mdef\u001b[39;00m \u001b[38;5;21m__setitem__\u001b[39m(\u001b[38;5;28mself\u001b[39m, key, value) \u001b[38;5;241m-\u001b[39m\u001b[38;5;241m>\u001b[39m \u001b[38;5;28;01mNone\u001b[39;00m:\n\u001b[0;32m-> 5367\u001b[0m     \u001b[38;5;28;01mraise\u001b[39;00m \u001b[38;5;167;01mTypeError\u001b[39;00m(\u001b[38;5;124m\"\u001b[39m\u001b[38;5;124mIndex does not support mutable operations\u001b[39m\u001b[38;5;124m\"\u001b[39m)\n",
            "\u001b[0;31mTypeError\u001b[0m: Index does not support mutable operations"
          ],
          "output_type": "error"
        }
      ],
      "execution_count": 50
    },
    {
      "cell_type": "code",
      "source": "ser2 = my_ser.reindex(['A', 'B', 'Z', 'D'])",
      "metadata": {
        "trusted": true
      },
      "outputs": [],
      "execution_count": 51
    },
    {
      "cell_type": "code",
      "source": "my_ser",
      "metadata": {
        "trusted": true
      },
      "outputs": [
        {
          "execution_count": 52,
          "output_type": "execute_result",
          "data": {
            "text/plain": "A    1\nB    2\nC    3\nD    4\ndtype: int64"
          },
          "metadata": {}
        }
      ],
      "execution_count": 52
    },
    {
      "cell_type": "code",
      "source": "ser2",
      "metadata": {
        "trusted": true
      },
      "outputs": [
        {
          "execution_count": 53,
          "output_type": "execute_result",
          "data": {
            "text/plain": "A    1.0\nB    2.0\nZ    NaN\nD    4.0\ndtype: float64"
          },
          "metadata": {}
        }
      ],
      "execution_count": 53
    },
    {
      "cell_type": "code",
      "source": "ser3 = my_ser.reindex(['A', 'B', 'C', 'D','Z'])",
      "metadata": {
        "trusted": true
      },
      "outputs": [],
      "execution_count": 54
    },
    {
      "cell_type": "code",
      "source": "ser3",
      "metadata": {
        "trusted": true
      },
      "outputs": [
        {
          "execution_count": 55,
          "output_type": "execute_result",
          "data": {
            "text/plain": "A    1.0\nB    2.0\nC    3.0\nD    4.0\nZ    NaN\ndtype: float64"
          },
          "metadata": {}
        }
      ],
      "execution_count": 55
    },
    {
      "cell_type": "code",
      "source": "ser3 = my_ser.reindex(['A', 'B', 'C', 'D','Z'],fill_value=1)",
      "metadata": {
        "trusted": true
      },
      "outputs": [],
      "execution_count": 66
    },
    {
      "cell_type": "code",
      "source": "ser3",
      "metadata": {
        "trusted": true
      },
      "outputs": [
        {
          "execution_count": 67,
          "output_type": "execute_result",
          "data": {
            "text/plain": "A    1\nB    2\nC    3\nD    4\nZ    1\ndtype: int64"
          },
          "metadata": {}
        }
      ],
      "execution_count": 67
    },
    {
      "cell_type": "code",
      "source": "ser4 = Series(['india','usa','uk'],index=[0,5,10])",
      "metadata": {
        "trusted": true
      },
      "outputs": [],
      "execution_count": 68
    },
    {
      "cell_type": "raw",
      "source": "ser4",
      "metadata": {}
    },
    {
      "cell_type": "code",
      "source": "ser4",
      "metadata": {
        "trusted": true
      },
      "outputs": [
        {
          "execution_count": 69,
          "output_type": "execute_result",
          "data": {
            "text/plain": "0     india\n5       usa\n10       uk\ndtype: object"
          },
          "metadata": {}
        }
      ],
      "execution_count": 69
    },
    {
      "cell_type": "code",
      "source": "ranger= range(15)",
      "metadata": {
        "trusted": true
      },
      "outputs": [],
      "execution_count": 70
    },
    {
      "cell_type": "code",
      "source": "ser3.reindex(ranger,method=ser3.ffil())",
      "metadata": {
        "trusted": true
      },
      "outputs": [
        {
          "ename": "<class 'AttributeError'>",
          "evalue": "'Series' object has no attribute 'ffil'",
          "traceback": [
            "\u001b[0;31m---------------------------------------------------------------------------\u001b[0m",
            "\u001b[0;31mAttributeError\u001b[0m                            Traceback (most recent call last)",
            "\u001b[0;32m<ipython-input-76-02ba4bfeccb7>\u001b[0m in \u001b[0;36m?\u001b[0;34m()\u001b[0m\n\u001b[0;32m----> 1\u001b[0;31m \u001b[0mser3\u001b[0m\u001b[0;34m.\u001b[0m\u001b[0mreindex\u001b[0m\u001b[0;34m(\u001b[0m\u001b[0mranger\u001b[0m\u001b[0;34m,\u001b[0m\u001b[0mmethod\u001b[0m\u001b[0;34m=\u001b[0m\u001b[0mser3\u001b[0m\u001b[0;34m.\u001b[0m\u001b[0mffil\u001b[0m\u001b[0;34m(\u001b[0m\u001b[0;34m)\u001b[0m\u001b[0;34m)\u001b[0m\u001b[0;34m\u001b[0m\u001b[0;34m\u001b[0m\u001b[0m\n\u001b[0m",
            "\u001b[0;32m/lib/python3.12/site-packages/pandas/core/generic.py\u001b[0m in \u001b[0;36m?\u001b[0;34m(self, name)\u001b[0m\n\u001b[1;32m   6289\u001b[0m             \u001b[0;32mand\u001b[0m \u001b[0mname\u001b[0m \u001b[0;32mnot\u001b[0m \u001b[0;32min\u001b[0m \u001b[0mself\u001b[0m\u001b[0;34m.\u001b[0m\u001b[0m_accessors\u001b[0m\u001b[0;34m\u001b[0m\u001b[0;34m\u001b[0m\u001b[0m\n\u001b[1;32m   6290\u001b[0m             \u001b[0;32mand\u001b[0m \u001b[0mself\u001b[0m\u001b[0;34m.\u001b[0m\u001b[0m_info_axis\u001b[0m\u001b[0;34m.\u001b[0m\u001b[0m_can_hold_identifiers_and_holds_name\u001b[0m\u001b[0;34m(\u001b[0m\u001b[0mname\u001b[0m\u001b[0;34m)\u001b[0m\u001b[0;34m\u001b[0m\u001b[0;34m\u001b[0m\u001b[0m\n\u001b[1;32m   6291\u001b[0m         \u001b[0;34m)\u001b[0m\u001b[0;34m:\u001b[0m\u001b[0;34m\u001b[0m\u001b[0;34m\u001b[0m\u001b[0m\n\u001b[1;32m   6292\u001b[0m             \u001b[0;32mreturn\u001b[0m \u001b[0mself\u001b[0m\u001b[0;34m[\u001b[0m\u001b[0mname\u001b[0m\u001b[0;34m]\u001b[0m\u001b[0;34m\u001b[0m\u001b[0;34m\u001b[0m\u001b[0m\n\u001b[0;32m-> 6293\u001b[0;31m         \u001b[0;32mreturn\u001b[0m \u001b[0mobject\u001b[0m\u001b[0;34m.\u001b[0m\u001b[0m__getattribute__\u001b[0m\u001b[0;34m(\u001b[0m\u001b[0mself\u001b[0m\u001b[0;34m,\u001b[0m \u001b[0mname\u001b[0m\u001b[0;34m)\u001b[0m\u001b[0;34m\u001b[0m\u001b[0;34m\u001b[0m\u001b[0m\n\u001b[0m",
            "\u001b[0;31mAttributeError\u001b[0m: 'Series' object has no attribute 'ffil'"
          ],
          "output_type": "error"
        }
      ],
      "execution_count": 76
    },
    {
      "cell_type": "code",
      "source": "ser4",
      "metadata": {
        "trusted": true
      },
      "outputs": [
        {
          "execution_count": 72,
          "output_type": "execute_result",
          "data": {
            "text/plain": "0     india\n5       usa\n10       uk\ndtype: object"
          },
          "metadata": {}
        }
      ],
      "execution_count": 72
    },
    {
      "cell_type": "code",
      "source": "ser4.ffill()",
      "metadata": {
        "trusted": true
      },
      "outputs": [
        {
          "execution_count": 73,
          "output_type": "execute_result",
          "data": {
            "text/plain": "0     india\n5       usa\n10       uk\ndtype: object"
          },
          "metadata": {}
        }
      ],
      "execution_count": 73
    },
    {
      "cell_type": "code",
      "source": "dframe = DataFrame(randn(25).reshape((5,5)),index=['A','B','D','E','F'],columns=['col1','col2','col3','col4','col5'])",
      "metadata": {
        "trusted": true
      },
      "outputs": [],
      "execution_count": 78
    },
    {
      "cell_type": "code",
      "source": "dframe",
      "metadata": {
        "trusted": true
      },
      "outputs": [
        {
          "execution_count": 79,
          "output_type": "execute_result",
          "data": {
            "text/plain": "       col1      col2      col3      col4      col5\nA -1.879778  0.285921 -0.541037  1.387257  0.027960\nB -0.487228  0.439826  0.307982 -0.514733  2.000562\nD  1.920728 -0.934414  0.349273 -0.819170  1.255521\nE  0.098898  1.055751  0.795635  0.565235  0.787135\nF -0.258517 -0.349777 -1.176279 -0.651611 -0.600370",
            "text/html": "<div>\n<style scoped>\n    .dataframe tbody tr th:only-of-type {\n        vertical-align: middle;\n    }\n\n    .dataframe tbody tr th {\n        vertical-align: top;\n    }\n\n    .dataframe thead th {\n        text-align: right;\n    }\n</style>\n<table border=\"1\" class=\"dataframe\">\n  <thead>\n    <tr style=\"text-align: right;\">\n      <th></th>\n      <th>col1</th>\n      <th>col2</th>\n      <th>col3</th>\n      <th>col4</th>\n      <th>col5</th>\n    </tr>\n  </thead>\n  <tbody>\n    <tr>\n      <th>A</th>\n      <td>-1.879778</td>\n      <td>0.285921</td>\n      <td>-0.541037</td>\n      <td>1.387257</td>\n      <td>0.027960</td>\n    </tr>\n    <tr>\n      <th>B</th>\n      <td>-0.487228</td>\n      <td>0.439826</td>\n      <td>0.307982</td>\n      <td>-0.514733</td>\n      <td>2.000562</td>\n    </tr>\n    <tr>\n      <th>D</th>\n      <td>1.920728</td>\n      <td>-0.934414</td>\n      <td>0.349273</td>\n      <td>-0.819170</td>\n      <td>1.255521</td>\n    </tr>\n    <tr>\n      <th>E</th>\n      <td>0.098898</td>\n      <td>1.055751</td>\n      <td>0.795635</td>\n      <td>0.565235</td>\n      <td>0.787135</td>\n    </tr>\n    <tr>\n      <th>F</th>\n      <td>-0.258517</td>\n      <td>-0.349777</td>\n      <td>-1.176279</td>\n      <td>-0.651611</td>\n      <td>-0.600370</td>\n    </tr>\n  </tbody>\n</table>\n</div>"
          },
          "metadata": {}
        }
      ],
      "execution_count": 79
    },
    {
      "cell_type": "code",
      "source": "dframe2 = dframe.reindex(['A','B','C','D','E','F'])",
      "metadata": {
        "trusted": true
      },
      "outputs": [],
      "execution_count": 80
    },
    {
      "cell_type": "code",
      "source": "dframe",
      "metadata": {
        "trusted": true
      },
      "outputs": [
        {
          "execution_count": 81,
          "output_type": "execute_result",
          "data": {
            "text/plain": "       col1      col2      col3      col4      col5\nA -1.879778  0.285921 -0.541037  1.387257  0.027960\nB -0.487228  0.439826  0.307982 -0.514733  2.000562\nD  1.920728 -0.934414  0.349273 -0.819170  1.255521\nE  0.098898  1.055751  0.795635  0.565235  0.787135\nF -0.258517 -0.349777 -1.176279 -0.651611 -0.600370",
            "text/html": "<div>\n<style scoped>\n    .dataframe tbody tr th:only-of-type {\n        vertical-align: middle;\n    }\n\n    .dataframe tbody tr th {\n        vertical-align: top;\n    }\n\n    .dataframe thead th {\n        text-align: right;\n    }\n</style>\n<table border=\"1\" class=\"dataframe\">\n  <thead>\n    <tr style=\"text-align: right;\">\n      <th></th>\n      <th>col1</th>\n      <th>col2</th>\n      <th>col3</th>\n      <th>col4</th>\n      <th>col5</th>\n    </tr>\n  </thead>\n  <tbody>\n    <tr>\n      <th>A</th>\n      <td>-1.879778</td>\n      <td>0.285921</td>\n      <td>-0.541037</td>\n      <td>1.387257</td>\n      <td>0.027960</td>\n    </tr>\n    <tr>\n      <th>B</th>\n      <td>-0.487228</td>\n      <td>0.439826</td>\n      <td>0.307982</td>\n      <td>-0.514733</td>\n      <td>2.000562</td>\n    </tr>\n    <tr>\n      <th>D</th>\n      <td>1.920728</td>\n      <td>-0.934414</td>\n      <td>0.349273</td>\n      <td>-0.819170</td>\n      <td>1.255521</td>\n    </tr>\n    <tr>\n      <th>E</th>\n      <td>0.098898</td>\n      <td>1.055751</td>\n      <td>0.795635</td>\n      <td>0.565235</td>\n      <td>0.787135</td>\n    </tr>\n    <tr>\n      <th>F</th>\n      <td>-0.258517</td>\n      <td>-0.349777</td>\n      <td>-1.176279</td>\n      <td>-0.651611</td>\n      <td>-0.600370</td>\n    </tr>\n  </tbody>\n</table>\n</div>"
          },
          "metadata": {}
        }
      ],
      "execution_count": 81
    },
    {
      "cell_type": "code",
      "source": "dframe2",
      "metadata": {
        "trusted": true
      },
      "outputs": [
        {
          "execution_count": 82,
          "output_type": "execute_result",
          "data": {
            "text/plain": "       col1      col2      col3      col4      col5\nA -1.879778  0.285921 -0.541037  1.387257  0.027960\nB -0.487228  0.439826  0.307982 -0.514733  2.000562\nC       NaN       NaN       NaN       NaN       NaN\nD  1.920728 -0.934414  0.349273 -0.819170  1.255521\nE  0.098898  1.055751  0.795635  0.565235  0.787135\nF -0.258517 -0.349777 -1.176279 -0.651611 -0.600370",
            "text/html": "<div>\n<style scoped>\n    .dataframe tbody tr th:only-of-type {\n        vertical-align: middle;\n    }\n\n    .dataframe tbody tr th {\n        vertical-align: top;\n    }\n\n    .dataframe thead th {\n        text-align: right;\n    }\n</style>\n<table border=\"1\" class=\"dataframe\">\n  <thead>\n    <tr style=\"text-align: right;\">\n      <th></th>\n      <th>col1</th>\n      <th>col2</th>\n      <th>col3</th>\n      <th>col4</th>\n      <th>col5</th>\n    </tr>\n  </thead>\n  <tbody>\n    <tr>\n      <th>A</th>\n      <td>-1.879778</td>\n      <td>0.285921</td>\n      <td>-0.541037</td>\n      <td>1.387257</td>\n      <td>0.027960</td>\n    </tr>\n    <tr>\n      <th>B</th>\n      <td>-0.487228</td>\n      <td>0.439826</td>\n      <td>0.307982</td>\n      <td>-0.514733</td>\n      <td>2.000562</td>\n    </tr>\n    <tr>\n      <th>C</th>\n      <td>NaN</td>\n      <td>NaN</td>\n      <td>NaN</td>\n      <td>NaN</td>\n      <td>NaN</td>\n    </tr>\n    <tr>\n      <th>D</th>\n      <td>1.920728</td>\n      <td>-0.934414</td>\n      <td>0.349273</td>\n      <td>-0.819170</td>\n      <td>1.255521</td>\n    </tr>\n    <tr>\n      <th>E</th>\n      <td>0.098898</td>\n      <td>1.055751</td>\n      <td>0.795635</td>\n      <td>0.565235</td>\n      <td>0.787135</td>\n    </tr>\n    <tr>\n      <th>F</th>\n      <td>-0.258517</td>\n      <td>-0.349777</td>\n      <td>-1.176279</td>\n      <td>-0.651611</td>\n      <td>-0.600370</td>\n    </tr>\n  </tbody>\n</table>\n</div>"
          },
          "metadata": {}
        }
      ],
      "execution_count": 82
    },
    {
      "cell_type": "code",
      "source": "cols = ['col1','col2','col2.2','col3','col4','col5']",
      "metadata": {
        "trusted": true
      },
      "outputs": [],
      "execution_count": 83
    },
    {
      "cell_type": "code",
      "source": "dframe2 = dframe2.reindex(columns=cols)",
      "metadata": {
        "trusted": true
      },
      "outputs": [],
      "execution_count": 86
    },
    {
      "cell_type": "raw",
      "source": "",
      "metadata": {}
    },
    {
      "cell_type": "code",
      "source": "dframe2",
      "metadata": {
        "trusted": true
      },
      "outputs": [
        {
          "execution_count": 87,
          "output_type": "execute_result",
          "data": {
            "text/plain": "       col1      col2  col2.2      col3      col4      col5\nA -1.879778  0.285921     NaN -0.541037  1.387257  0.027960\nB -0.487228  0.439826     NaN  0.307982 -0.514733  2.000562\nC       NaN       NaN     NaN       NaN       NaN       NaN\nD  1.920728 -0.934414     NaN  0.349273 -0.819170  1.255521\nE  0.098898  1.055751     NaN  0.795635  0.565235  0.787135\nF -0.258517 -0.349777     NaN -1.176279 -0.651611 -0.600370",
            "text/html": "<div>\n<style scoped>\n    .dataframe tbody tr th:only-of-type {\n        vertical-align: middle;\n    }\n\n    .dataframe tbody tr th {\n        vertical-align: top;\n    }\n\n    .dataframe thead th {\n        text-align: right;\n    }\n</style>\n<table border=\"1\" class=\"dataframe\">\n  <thead>\n    <tr style=\"text-align: right;\">\n      <th></th>\n      <th>col1</th>\n      <th>col2</th>\n      <th>col2.2</th>\n      <th>col3</th>\n      <th>col4</th>\n      <th>col5</th>\n    </tr>\n  </thead>\n  <tbody>\n    <tr>\n      <th>A</th>\n      <td>-1.879778</td>\n      <td>0.285921</td>\n      <td>NaN</td>\n      <td>-0.541037</td>\n      <td>1.387257</td>\n      <td>0.027960</td>\n    </tr>\n    <tr>\n      <th>B</th>\n      <td>-0.487228</td>\n      <td>0.439826</td>\n      <td>NaN</td>\n      <td>0.307982</td>\n      <td>-0.514733</td>\n      <td>2.000562</td>\n    </tr>\n    <tr>\n      <th>C</th>\n      <td>NaN</td>\n      <td>NaN</td>\n      <td>NaN</td>\n      <td>NaN</td>\n      <td>NaN</td>\n      <td>NaN</td>\n    </tr>\n    <tr>\n      <th>D</th>\n      <td>1.920728</td>\n      <td>-0.934414</td>\n      <td>NaN</td>\n      <td>0.349273</td>\n      <td>-0.819170</td>\n      <td>1.255521</td>\n    </tr>\n    <tr>\n      <th>E</th>\n      <td>0.098898</td>\n      <td>1.055751</td>\n      <td>NaN</td>\n      <td>0.795635</td>\n      <td>0.565235</td>\n      <td>0.787135</td>\n    </tr>\n    <tr>\n      <th>F</th>\n      <td>-0.258517</td>\n      <td>-0.349777</td>\n      <td>NaN</td>\n      <td>-1.176279</td>\n      <td>-0.651611</td>\n      <td>-0.600370</td>\n    </tr>\n  </tbody>\n</table>\n</div>"
          },
          "metadata": {}
        }
      ],
      "execution_count": 87
    },
    {
      "cell_type": "code",
      "source": "ser1",
      "metadata": {
        "trusted": true
      },
      "outputs": [
        {
          "execution_count": 88,
          "output_type": "execute_result",
          "data": {
            "text/plain": "0    2300\n1    3450\n2     345\ndtype: int64"
          },
          "metadata": {}
        }
      ],
      "execution_count": 88
    },
    {
      "cell_type": "code",
      "source": "ser1.drop(0)",
      "metadata": {
        "trusted": true
      },
      "outputs": [
        {
          "execution_count": 89,
          "output_type": "execute_result",
          "data": {
            "text/plain": "1    3450\n2     345\ndtype: int64"
          },
          "metadata": {}
        }
      ],
      "execution_count": 89
    },
    {
      "cell_type": "code",
      "source": "ser1",
      "metadata": {
        "trusted": true
      },
      "outputs": [
        {
          "execution_count": 90,
          "output_type": "execute_result",
          "data": {
            "text/plain": "0    2300\n1    3450\n2     345\ndtype: int64"
          },
          "metadata": {}
        }
      ],
      "execution_count": 90
    },
    {
      "cell_type": "code",
      "source": "dframe1",
      "metadata": {
        "trusted": true
      },
      "outputs": [
        {
          "ename": "<class 'NameError'>",
          "evalue": "name 'dframe1' is not defined",
          "traceback": [
            "\u001b[0;31m---------------------------------------------------------------------------\u001b[0m",
            "\u001b[0;31mNameError\u001b[0m                                 Traceback (most recent call last)",
            "Cell \u001b[0;32mIn[91], line 1\u001b[0m\n\u001b[0;32m----> 1\u001b[0m \u001b[43mdframe1\u001b[49m\n",
            "\u001b[0;31mNameError\u001b[0m: name 'dframe1' is not defined"
          ],
          "output_type": "error"
        }
      ],
      "execution_count": 91
    },
    {
      "cell_type": "code",
      "source": "dframe",
      "metadata": {
        "trusted": true
      },
      "outputs": [
        {
          "execution_count": 92,
          "output_type": "execute_result",
          "data": {
            "text/plain": "       col1      col2      col3      col4      col5\nA -1.879778  0.285921 -0.541037  1.387257  0.027960\nB -0.487228  0.439826  0.307982 -0.514733  2.000562\nD  1.920728 -0.934414  0.349273 -0.819170  1.255521\nE  0.098898  1.055751  0.795635  0.565235  0.787135\nF -0.258517 -0.349777 -1.176279 -0.651611 -0.600370",
            "text/html": "<div>\n<style scoped>\n    .dataframe tbody tr th:only-of-type {\n        vertical-align: middle;\n    }\n\n    .dataframe tbody tr th {\n        vertical-align: top;\n    }\n\n    .dataframe thead th {\n        text-align: right;\n    }\n</style>\n<table border=\"1\" class=\"dataframe\">\n  <thead>\n    <tr style=\"text-align: right;\">\n      <th></th>\n      <th>col1</th>\n      <th>col2</th>\n      <th>col3</th>\n      <th>col4</th>\n      <th>col5</th>\n    </tr>\n  </thead>\n  <tbody>\n    <tr>\n      <th>A</th>\n      <td>-1.879778</td>\n      <td>0.285921</td>\n      <td>-0.541037</td>\n      <td>1.387257</td>\n      <td>0.027960</td>\n    </tr>\n    <tr>\n      <th>B</th>\n      <td>-0.487228</td>\n      <td>0.439826</td>\n      <td>0.307982</td>\n      <td>-0.514733</td>\n      <td>2.000562</td>\n    </tr>\n    <tr>\n      <th>D</th>\n      <td>1.920728</td>\n      <td>-0.934414</td>\n      <td>0.349273</td>\n      <td>-0.819170</td>\n      <td>1.255521</td>\n    </tr>\n    <tr>\n      <th>E</th>\n      <td>0.098898</td>\n      <td>1.055751</td>\n      <td>0.795635</td>\n      <td>0.565235</td>\n      <td>0.787135</td>\n    </tr>\n    <tr>\n      <th>F</th>\n      <td>-0.258517</td>\n      <td>-0.349777</td>\n      <td>-1.176279</td>\n      <td>-0.651611</td>\n      <td>-0.600370</td>\n    </tr>\n  </tbody>\n</table>\n</div>"
          },
          "metadata": {}
        }
      ],
      "execution_count": 92
    },
    {
      "cell_type": "code",
      "source": "dframe.drop('col1',axis=1)",
      "metadata": {
        "trusted": true
      },
      "outputs": [
        {
          "execution_count": 95,
          "output_type": "execute_result",
          "data": {
            "text/plain": "       col2      col3      col4      col5\nA  0.285921 -0.541037  1.387257  0.027960\nB  0.439826  0.307982 -0.514733  2.000562\nD -0.934414  0.349273 -0.819170  1.255521\nE  1.055751  0.795635  0.565235  0.787135\nF -0.349777 -1.176279 -0.651611 -0.600370",
            "text/html": "<div>\n<style scoped>\n    .dataframe tbody tr th:only-of-type {\n        vertical-align: middle;\n    }\n\n    .dataframe tbody tr th {\n        vertical-align: top;\n    }\n\n    .dataframe thead th {\n        text-align: right;\n    }\n</style>\n<table border=\"1\" class=\"dataframe\">\n  <thead>\n    <tr style=\"text-align: right;\">\n      <th></th>\n      <th>col2</th>\n      <th>col3</th>\n      <th>col4</th>\n      <th>col5</th>\n    </tr>\n  </thead>\n  <tbody>\n    <tr>\n      <th>A</th>\n      <td>0.285921</td>\n      <td>-0.541037</td>\n      <td>1.387257</td>\n      <td>0.027960</td>\n    </tr>\n    <tr>\n      <th>B</th>\n      <td>0.439826</td>\n      <td>0.307982</td>\n      <td>-0.514733</td>\n      <td>2.000562</td>\n    </tr>\n    <tr>\n      <th>D</th>\n      <td>-0.934414</td>\n      <td>0.349273</td>\n      <td>-0.819170</td>\n      <td>1.255521</td>\n    </tr>\n    <tr>\n      <th>E</th>\n      <td>1.055751</td>\n      <td>0.795635</td>\n      <td>0.565235</td>\n      <td>0.787135</td>\n    </tr>\n    <tr>\n      <th>F</th>\n      <td>-0.349777</td>\n      <td>-1.176279</td>\n      <td>-0.651611</td>\n      <td>-0.600370</td>\n    </tr>\n  </tbody>\n</table>\n</div>"
          },
          "metadata": {}
        }
      ],
      "execution_count": 95
    },
    {
      "cell_type": "code",
      "source": "dframe2",
      "metadata": {
        "trusted": true
      },
      "outputs": [
        {
          "execution_count": 96,
          "output_type": "execute_result",
          "data": {
            "text/plain": "       col1      col2  col2.2      col3      col4      col5\nA -1.879778  0.285921     NaN -0.541037  1.387257  0.027960\nB -0.487228  0.439826     NaN  0.307982 -0.514733  2.000562\nC       NaN       NaN     NaN       NaN       NaN       NaN\nD  1.920728 -0.934414     NaN  0.349273 -0.819170  1.255521\nE  0.098898  1.055751     NaN  0.795635  0.565235  0.787135\nF -0.258517 -0.349777     NaN -1.176279 -0.651611 -0.600370",
            "text/html": "<div>\n<style scoped>\n    .dataframe tbody tr th:only-of-type {\n        vertical-align: middle;\n    }\n\n    .dataframe tbody tr th {\n        vertical-align: top;\n    }\n\n    .dataframe thead th {\n        text-align: right;\n    }\n</style>\n<table border=\"1\" class=\"dataframe\">\n  <thead>\n    <tr style=\"text-align: right;\">\n      <th></th>\n      <th>col1</th>\n      <th>col2</th>\n      <th>col2.2</th>\n      <th>col3</th>\n      <th>col4</th>\n      <th>col5</th>\n    </tr>\n  </thead>\n  <tbody>\n    <tr>\n      <th>A</th>\n      <td>-1.879778</td>\n      <td>0.285921</td>\n      <td>NaN</td>\n      <td>-0.541037</td>\n      <td>1.387257</td>\n      <td>0.027960</td>\n    </tr>\n    <tr>\n      <th>B</th>\n      <td>-0.487228</td>\n      <td>0.439826</td>\n      <td>NaN</td>\n      <td>0.307982</td>\n      <td>-0.514733</td>\n      <td>2.000562</td>\n    </tr>\n    <tr>\n      <th>C</th>\n      <td>NaN</td>\n      <td>NaN</td>\n      <td>NaN</td>\n      <td>NaN</td>\n      <td>NaN</td>\n      <td>NaN</td>\n    </tr>\n    <tr>\n      <th>D</th>\n      <td>1.920728</td>\n      <td>-0.934414</td>\n      <td>NaN</td>\n      <td>0.349273</td>\n      <td>-0.819170</td>\n      <td>1.255521</td>\n    </tr>\n    <tr>\n      <th>E</th>\n      <td>0.098898</td>\n      <td>1.055751</td>\n      <td>NaN</td>\n      <td>0.795635</td>\n      <td>0.565235</td>\n      <td>0.787135</td>\n    </tr>\n    <tr>\n      <th>F</th>\n      <td>-0.258517</td>\n      <td>-0.349777</td>\n      <td>NaN</td>\n      <td>-1.176279</td>\n      <td>-0.651611</td>\n      <td>-0.600370</td>\n    </tr>\n  </tbody>\n</table>\n</div>"
          },
          "metadata": {}
        }
      ],
      "execution_count": 96
    },
    {
      "cell_type": "code",
      "source": "dframe2.dropna()                                    #how=any default",
      "metadata": {
        "trusted": true
      },
      "outputs": [
        {
          "execution_count": 97,
          "output_type": "execute_result",
          "data": {
            "text/plain": "Empty DataFrame\nColumns: [col1, col2, col2.2, col3, col4, col5]\nIndex: []",
            "text/html": "<div>\n<style scoped>\n    .dataframe tbody tr th:only-of-type {\n        vertical-align: middle;\n    }\n\n    .dataframe tbody tr th {\n        vertical-align: top;\n    }\n\n    .dataframe thead th {\n        text-align: right;\n    }\n</style>\n<table border=\"1\" class=\"dataframe\">\n  <thead>\n    <tr style=\"text-align: right;\">\n      <th></th>\n      <th>col1</th>\n      <th>col2</th>\n      <th>col2.2</th>\n      <th>col3</th>\n      <th>col4</th>\n      <th>col5</th>\n    </tr>\n  </thead>\n  <tbody>\n  </tbody>\n</table>\n</div>"
          },
          "metadata": {}
        }
      ],
      "execution_count": 97
    },
    {
      "cell_type": "code",
      "source": "dframe2.dropna(axis=1)",
      "metadata": {
        "trusted": true
      },
      "outputs": [
        {
          "execution_count": 102,
          "output_type": "execute_result",
          "data": {
            "text/plain": "Empty DataFrame\nColumns: []\nIndex: [A, B, C, D, E, F]",
            "text/html": "<div>\n<style scoped>\n    .dataframe tbody tr th:only-of-type {\n        vertical-align: middle;\n    }\n\n    .dataframe tbody tr th {\n        vertical-align: top;\n    }\n\n    .dataframe thead th {\n        text-align: right;\n    }\n</style>\n<table border=\"1\" class=\"dataframe\">\n  <thead>\n    <tr style=\"text-align: right;\">\n      <th></th>\n    </tr>\n  </thead>\n  <tbody>\n    <tr>\n      <th>A</th>\n    </tr>\n    <tr>\n      <th>B</th>\n    </tr>\n    <tr>\n      <th>C</th>\n    </tr>\n    <tr>\n      <th>D</th>\n    </tr>\n    <tr>\n      <th>E</th>\n    </tr>\n    <tr>\n      <th>F</th>\n    </tr>\n  </tbody>\n</table>\n</div>"
          },
          "metadata": {}
        }
      ],
      "execution_count": 102
    },
    {
      "cell_type": "code",
      "source": "dframe.dropna(how='all')",
      "metadata": {
        "trusted": true
      },
      "outputs": [
        {
          "execution_count": 101,
          "output_type": "execute_result",
          "data": {
            "text/plain": "       col1      col2      col3      col4      col5\nA -1.879778  0.285921 -0.541037  1.387257  0.027960\nB -0.487228  0.439826  0.307982 -0.514733  2.000562\nD  1.920728 -0.934414  0.349273 -0.819170  1.255521\nE  0.098898  1.055751  0.795635  0.565235  0.787135\nF -0.258517 -0.349777 -1.176279 -0.651611 -0.600370",
            "text/html": "<div>\n<style scoped>\n    .dataframe tbody tr th:only-of-type {\n        vertical-align: middle;\n    }\n\n    .dataframe tbody tr th {\n        vertical-align: top;\n    }\n\n    .dataframe thead th {\n        text-align: right;\n    }\n</style>\n<table border=\"1\" class=\"dataframe\">\n  <thead>\n    <tr style=\"text-align: right;\">\n      <th></th>\n      <th>col1</th>\n      <th>col2</th>\n      <th>col3</th>\n      <th>col4</th>\n      <th>col5</th>\n    </tr>\n  </thead>\n  <tbody>\n    <tr>\n      <th>A</th>\n      <td>-1.879778</td>\n      <td>0.285921</td>\n      <td>-0.541037</td>\n      <td>1.387257</td>\n      <td>0.027960</td>\n    </tr>\n    <tr>\n      <th>B</th>\n      <td>-0.487228</td>\n      <td>0.439826</td>\n      <td>0.307982</td>\n      <td>-0.514733</td>\n      <td>2.000562</td>\n    </tr>\n    <tr>\n      <th>D</th>\n      <td>1.920728</td>\n      <td>-0.934414</td>\n      <td>0.349273</td>\n      <td>-0.819170</td>\n      <td>1.255521</td>\n    </tr>\n    <tr>\n      <th>E</th>\n      <td>0.098898</td>\n      <td>1.055751</td>\n      <td>0.795635</td>\n      <td>0.565235</td>\n      <td>0.787135</td>\n    </tr>\n    <tr>\n      <th>F</th>\n      <td>-0.258517</td>\n      <td>-0.349777</td>\n      <td>-1.176279</td>\n      <td>-0.651611</td>\n      <td>-0.600370</td>\n    </tr>\n  </tbody>\n</table>\n</div>"
          },
          "metadata": {}
        }
      ],
      "execution_count": 101
    },
    {
      "cell_type": "code",
      "source": "dframe2",
      "metadata": {
        "trusted": true
      },
      "outputs": [
        {
          "execution_count": 103,
          "output_type": "execute_result",
          "data": {
            "text/plain": "       col1      col2  col2.2      col3      col4      col5\nA -1.879778  0.285921     NaN -0.541037  1.387257  0.027960\nB -0.487228  0.439826     NaN  0.307982 -0.514733  2.000562\nC       NaN       NaN     NaN       NaN       NaN       NaN\nD  1.920728 -0.934414     NaN  0.349273 -0.819170  1.255521\nE  0.098898  1.055751     NaN  0.795635  0.565235  0.787135\nF -0.258517 -0.349777     NaN -1.176279 -0.651611 -0.600370",
            "text/html": "<div>\n<style scoped>\n    .dataframe tbody tr th:only-of-type {\n        vertical-align: middle;\n    }\n\n    .dataframe tbody tr th {\n        vertical-align: top;\n    }\n\n    .dataframe thead th {\n        text-align: right;\n    }\n</style>\n<table border=\"1\" class=\"dataframe\">\n  <thead>\n    <tr style=\"text-align: right;\">\n      <th></th>\n      <th>col1</th>\n      <th>col2</th>\n      <th>col2.2</th>\n      <th>col3</th>\n      <th>col4</th>\n      <th>col5</th>\n    </tr>\n  </thead>\n  <tbody>\n    <tr>\n      <th>A</th>\n      <td>-1.879778</td>\n      <td>0.285921</td>\n      <td>NaN</td>\n      <td>-0.541037</td>\n      <td>1.387257</td>\n      <td>0.027960</td>\n    </tr>\n    <tr>\n      <th>B</th>\n      <td>-0.487228</td>\n      <td>0.439826</td>\n      <td>NaN</td>\n      <td>0.307982</td>\n      <td>-0.514733</td>\n      <td>2.000562</td>\n    </tr>\n    <tr>\n      <th>C</th>\n      <td>NaN</td>\n      <td>NaN</td>\n      <td>NaN</td>\n      <td>NaN</td>\n      <td>NaN</td>\n      <td>NaN</td>\n    </tr>\n    <tr>\n      <th>D</th>\n      <td>1.920728</td>\n      <td>-0.934414</td>\n      <td>NaN</td>\n      <td>0.349273</td>\n      <td>-0.819170</td>\n      <td>1.255521</td>\n    </tr>\n    <tr>\n      <th>E</th>\n      <td>0.098898</td>\n      <td>1.055751</td>\n      <td>NaN</td>\n      <td>0.795635</td>\n      <td>0.565235</td>\n      <td>0.787135</td>\n    </tr>\n    <tr>\n      <th>F</th>\n      <td>-0.258517</td>\n      <td>-0.349777</td>\n      <td>NaN</td>\n      <td>-1.176279</td>\n      <td>-0.651611</td>\n      <td>-0.600370</td>\n    </tr>\n  </tbody>\n</table>\n</div>"
          },
          "metadata": {}
        }
      ],
      "execution_count": 103
    },
    {
      "cell_type": "code",
      "source": "df1 = DataFrame([[1,2,3],[np.nan,5,6],[7,np.nan,9],[np.nan,np.nan,np.nan]])",
      "metadata": {
        "trusted": true
      },
      "outputs": [],
      "execution_count": 105
    },
    {
      "cell_type": "markdown",
      "source": "# ",
      "metadata": {}
    },
    {
      "cell_type": "code",
      "source": "df1",
      "metadata": {
        "trusted": true
      },
      "outputs": [
        {
          "execution_count": 106,
          "output_type": "execute_result",
          "data": {
            "text/plain": "     0    1    2\n0  1.0  2.0  3.0\n1  NaN  5.0  6.0\n2  7.0  NaN  9.0\n3  NaN  NaN  NaN",
            "text/html": "<div>\n<style scoped>\n    .dataframe tbody tr th:only-of-type {\n        vertical-align: middle;\n    }\n\n    .dataframe tbody tr th {\n        vertical-align: top;\n    }\n\n    .dataframe thead th {\n        text-align: right;\n    }\n</style>\n<table border=\"1\" class=\"dataframe\">\n  <thead>\n    <tr style=\"text-align: right;\">\n      <th></th>\n      <th>0</th>\n      <th>1</th>\n      <th>2</th>\n    </tr>\n  </thead>\n  <tbody>\n    <tr>\n      <th>0</th>\n      <td>1.0</td>\n      <td>2.0</td>\n      <td>3.0</td>\n    </tr>\n    <tr>\n      <th>1</th>\n      <td>NaN</td>\n      <td>5.0</td>\n      <td>6.0</td>\n    </tr>\n    <tr>\n      <th>2</th>\n      <td>7.0</td>\n      <td>NaN</td>\n      <td>9.0</td>\n    </tr>\n    <tr>\n      <th>3</th>\n      <td>NaN</td>\n      <td>NaN</td>\n      <td>NaN</td>\n    </tr>\n  </tbody>\n</table>\n</div>"
          },
          "metadata": {}
        }
      ],
      "execution_count": 106
    },
    {
      "cell_type": "code",
      "source": "df1.dropna()",
      "metadata": {
        "trusted": true
      },
      "outputs": [
        {
          "execution_count": 108,
          "output_type": "execute_result",
          "data": {
            "text/plain": "     0    1    2\n0  1.0  2.0  3.0",
            "text/html": "<div>\n<style scoped>\n    .dataframe tbody tr th:only-of-type {\n        vertical-align: middle;\n    }\n\n    .dataframe tbody tr th {\n        vertical-align: top;\n    }\n\n    .dataframe thead th {\n        text-align: right;\n    }\n</style>\n<table border=\"1\" class=\"dataframe\">\n  <thead>\n    <tr style=\"text-align: right;\">\n      <th></th>\n      <th>0</th>\n      <th>1</th>\n      <th>2</th>\n    </tr>\n  </thead>\n  <tbody>\n    <tr>\n      <th>0</th>\n      <td>1.0</td>\n      <td>2.0</td>\n      <td>3.0</td>\n    </tr>\n  </tbody>\n</table>\n</div>"
          },
          "metadata": {}
        }
      ],
      "execution_count": 108
    },
    {
      "cell_type": "code",
      "source": "df1.dropna(axis=1)",
      "metadata": {
        "trusted": true
      },
      "outputs": [
        {
          "execution_count": 109,
          "output_type": "execute_result",
          "data": {
            "text/plain": "Empty DataFrame\nColumns: []\nIndex: [0, 1, 2, 3]",
            "text/html": "<div>\n<style scoped>\n    .dataframe tbody tr th:only-of-type {\n        vertical-align: middle;\n    }\n\n    .dataframe tbody tr th {\n        vertical-align: top;\n    }\n\n    .dataframe thead th {\n        text-align: right;\n    }\n</style>\n<table border=\"1\" class=\"dataframe\">\n  <thead>\n    <tr style=\"text-align: right;\">\n      <th></th>\n    </tr>\n  </thead>\n  <tbody>\n    <tr>\n      <th>0</th>\n    </tr>\n    <tr>\n      <th>1</th>\n    </tr>\n    <tr>\n      <th>2</th>\n    </tr>\n    <tr>\n      <th>3</th>\n    </tr>\n  </tbody>\n</table>\n</div>"
          },
          "metadata": {}
        }
      ],
      "execution_count": 109
    },
    {
      "cell_type": "code",
      "source": "df1.dropna(thresh=2)      # not null value",
      "metadata": {
        "trusted": true
      },
      "outputs": [
        {
          "execution_count": 110,
          "output_type": "execute_result",
          "data": {
            "text/plain": "     0    1    2\n0  1.0  2.0  3.0\n1  NaN  5.0  6.0\n2  7.0  NaN  9.0",
            "text/html": "<div>\n<style scoped>\n    .dataframe tbody tr th:only-of-type {\n        vertical-align: middle;\n    }\n\n    .dataframe tbody tr th {\n        vertical-align: top;\n    }\n\n    .dataframe thead th {\n        text-align: right;\n    }\n</style>\n<table border=\"1\" class=\"dataframe\">\n  <thead>\n    <tr style=\"text-align: right;\">\n      <th></th>\n      <th>0</th>\n      <th>1</th>\n      <th>2</th>\n    </tr>\n  </thead>\n  <tbody>\n    <tr>\n      <th>0</th>\n      <td>1.0</td>\n      <td>2.0</td>\n      <td>3.0</td>\n    </tr>\n    <tr>\n      <th>1</th>\n      <td>NaN</td>\n      <td>5.0</td>\n      <td>6.0</td>\n    </tr>\n    <tr>\n      <th>2</th>\n      <td>7.0</td>\n      <td>NaN</td>\n      <td>9.0</td>\n    </tr>\n  </tbody>\n</table>\n</div>"
          },
          "metadata": {}
        }
      ],
      "execution_count": 110
    },
    {
      "cell_type": "code",
      "source": "df1.fillna(1)",
      "metadata": {
        "trusted": true
      },
      "outputs": [
        {
          "execution_count": 111,
          "output_type": "execute_result",
          "data": {
            "text/plain": "     0    1    2\n0  1.0  2.0  3.0\n1  1.0  5.0  6.0\n2  7.0  1.0  9.0\n3  1.0  1.0  1.0",
            "text/html": "<div>\n<style scoped>\n    .dataframe tbody tr th:only-of-type {\n        vertical-align: middle;\n    }\n\n    .dataframe tbody tr th {\n        vertical-align: top;\n    }\n\n    .dataframe thead th {\n        text-align: right;\n    }\n</style>\n<table border=\"1\" class=\"dataframe\">\n  <thead>\n    <tr style=\"text-align: right;\">\n      <th></th>\n      <th>0</th>\n      <th>1</th>\n      <th>2</th>\n    </tr>\n  </thead>\n  <tbody>\n    <tr>\n      <th>0</th>\n      <td>1.0</td>\n      <td>2.0</td>\n      <td>3.0</td>\n    </tr>\n    <tr>\n      <th>1</th>\n      <td>1.0</td>\n      <td>5.0</td>\n      <td>6.0</td>\n    </tr>\n    <tr>\n      <th>2</th>\n      <td>7.0</td>\n      <td>1.0</td>\n      <td>9.0</td>\n    </tr>\n    <tr>\n      <th>3</th>\n      <td>1.0</td>\n      <td>1.0</td>\n      <td>1.0</td>\n    </tr>\n  </tbody>\n</table>\n</div>"
          },
          "metadata": {}
        }
      ],
      "execution_count": 111
    },
    {
      "cell_type": "code",
      "source": "df1.ffill()",
      "metadata": {
        "trusted": true
      },
      "outputs": [
        {
          "execution_count": 112,
          "output_type": "execute_result",
          "data": {
            "text/plain": "     0    1    2\n0  1.0  2.0  3.0\n1  1.0  5.0  6.0\n2  7.0  5.0  9.0\n3  7.0  5.0  9.0",
            "text/html": "<div>\n<style scoped>\n    .dataframe tbody tr th:only-of-type {\n        vertical-align: middle;\n    }\n\n    .dataframe tbody tr th {\n        vertical-align: top;\n    }\n\n    .dataframe thead th {\n        text-align: right;\n    }\n</style>\n<table border=\"1\" class=\"dataframe\">\n  <thead>\n    <tr style=\"text-align: right;\">\n      <th></th>\n      <th>0</th>\n      <th>1</th>\n      <th>2</th>\n    </tr>\n  </thead>\n  <tbody>\n    <tr>\n      <th>0</th>\n      <td>1.0</td>\n      <td>2.0</td>\n      <td>3.0</td>\n    </tr>\n    <tr>\n      <th>1</th>\n      <td>1.0</td>\n      <td>5.0</td>\n      <td>6.0</td>\n    </tr>\n    <tr>\n      <th>2</th>\n      <td>7.0</td>\n      <td>5.0</td>\n      <td>9.0</td>\n    </tr>\n    <tr>\n      <th>3</th>\n      <td>7.0</td>\n      <td>5.0</td>\n      <td>9.0</td>\n    </tr>\n  </tbody>\n</table>\n</div>"
          },
          "metadata": {}
        }
      ],
      "execution_count": 112
    },
    {
      "cell_type": "code",
      "source": "df1",
      "metadata": {
        "trusted": true
      },
      "outputs": [
        {
          "execution_count": 113,
          "output_type": "execute_result",
          "data": {
            "text/plain": "     0    1    2\n0  1.0  2.0  3.0\n1  NaN  5.0  6.0\n2  7.0  NaN  9.0\n3  NaN  NaN  NaN",
            "text/html": "<div>\n<style scoped>\n    .dataframe tbody tr th:only-of-type {\n        vertical-align: middle;\n    }\n\n    .dataframe tbody tr th {\n        vertical-align: top;\n    }\n\n    .dataframe thead th {\n        text-align: right;\n    }\n</style>\n<table border=\"1\" class=\"dataframe\">\n  <thead>\n    <tr style=\"text-align: right;\">\n      <th></th>\n      <th>0</th>\n      <th>1</th>\n      <th>2</th>\n    </tr>\n  </thead>\n  <tbody>\n    <tr>\n      <th>0</th>\n      <td>1.0</td>\n      <td>2.0</td>\n      <td>3.0</td>\n    </tr>\n    <tr>\n      <th>1</th>\n      <td>NaN</td>\n      <td>5.0</td>\n      <td>6.0</td>\n    </tr>\n    <tr>\n      <th>2</th>\n      <td>7.0</td>\n      <td>NaN</td>\n      <td>9.0</td>\n    </tr>\n    <tr>\n      <th>3</th>\n      <td>NaN</td>\n      <td>NaN</td>\n      <td>NaN</td>\n    </tr>\n  </tbody>\n</table>\n</div>"
          },
          "metadata": {}
        }
      ],
      "execution_count": 113
    },
    {
      "cell_type": "code",
      "source": "df1.backfill()",
      "metadata": {
        "trusted": true
      },
      "outputs": [
        {
          "name": "stderr",
          "text": "<ipython-input-114-dc3d01468314>:1: FutureWarning: DataFrame.backfill/Series.backfill is deprecated. Use DataFrame.bfill/Series.bfill instead\n  df1.backfill()\n",
          "output_type": "stream"
        },
        {
          "execution_count": 114,
          "output_type": "execute_result",
          "data": {
            "text/plain": "     0    1    2\n0  1.0  2.0  3.0\n1  7.0  5.0  6.0\n2  7.0  NaN  9.0\n3  NaN  NaN  NaN",
            "text/html": "<div>\n<style scoped>\n    .dataframe tbody tr th:only-of-type {\n        vertical-align: middle;\n    }\n\n    .dataframe tbody tr th {\n        vertical-align: top;\n    }\n\n    .dataframe thead th {\n        text-align: right;\n    }\n</style>\n<table border=\"1\" class=\"dataframe\">\n  <thead>\n    <tr style=\"text-align: right;\">\n      <th></th>\n      <th>0</th>\n      <th>1</th>\n      <th>2</th>\n    </tr>\n  </thead>\n  <tbody>\n    <tr>\n      <th>0</th>\n      <td>1.0</td>\n      <td>2.0</td>\n      <td>3.0</td>\n    </tr>\n    <tr>\n      <th>1</th>\n      <td>7.0</td>\n      <td>5.0</td>\n      <td>6.0</td>\n    </tr>\n    <tr>\n      <th>2</th>\n      <td>7.0</td>\n      <td>NaN</td>\n      <td>9.0</td>\n    </tr>\n    <tr>\n      <th>3</th>\n      <td>NaN</td>\n      <td>NaN</td>\n      <td>NaN</td>\n    </tr>\n  </tbody>\n</table>\n</div>"
          },
          "metadata": {}
        }
      ],
      "execution_count": 114
    },
    {
      "cell_type": "code",
      "source": "df1.fillna({0:0,1:1,2:2})",
      "metadata": {
        "trusted": true
      },
      "outputs": [
        {
          "execution_count": 115,
          "output_type": "execute_result",
          "data": {
            "text/plain": "     0    1    2\n0  1.0  2.0  3.0\n1  0.0  5.0  6.0\n2  7.0  1.0  9.0\n3  0.0  1.0  2.0",
            "text/html": "<div>\n<style scoped>\n    .dataframe tbody tr th:only-of-type {\n        vertical-align: middle;\n    }\n\n    .dataframe tbody tr th {\n        vertical-align: top;\n    }\n\n    .dataframe thead th {\n        text-align: right;\n    }\n</style>\n<table border=\"1\" class=\"dataframe\">\n  <thead>\n    <tr style=\"text-align: right;\">\n      <th></th>\n      <th>0</th>\n      <th>1</th>\n      <th>2</th>\n    </tr>\n  </thead>\n  <tbody>\n    <tr>\n      <th>0</th>\n      <td>1.0</td>\n      <td>2.0</td>\n      <td>3.0</td>\n    </tr>\n    <tr>\n      <th>1</th>\n      <td>0.0</td>\n      <td>5.0</td>\n      <td>6.0</td>\n    </tr>\n    <tr>\n      <th>2</th>\n      <td>7.0</td>\n      <td>1.0</td>\n      <td>9.0</td>\n    </tr>\n    <tr>\n      <th>3</th>\n      <td>0.0</td>\n      <td>1.0</td>\n      <td>2.0</td>\n    </tr>\n  </tbody>\n</table>\n</div>"
          },
          "metadata": {}
        }
      ],
      "execution_count": 115
    },
    {
      "cell_type": "code",
      "source": "ser1",
      "metadata": {
        "trusted": true
      },
      "outputs": [
        {
          "execution_count": 116,
          "output_type": "execute_result",
          "data": {
            "text/plain": "0    2300\n1    3450\n2     345\ndtype: int64"
          },
          "metadata": {}
        }
      ],
      "execution_count": 116
    },
    {
      "cell_type": "code",
      "source": "ser1[ser1>1000]                     #condition",
      "metadata": {
        "trusted": true
      },
      "outputs": [
        {
          "execution_count": 117,
          "output_type": "execute_result",
          "data": {
            "text/plain": "0    2300\n1    3450\ndtype: int64"
          },
          "metadata": {}
        }
      ],
      "execution_count": 117
    },
    {
      "cell_type": "code",
      "source": "ser1[ser1<1000]=1000",
      "metadata": {
        "trusted": true
      },
      "outputs": [],
      "execution_count": 119
    },
    {
      "cell_type": "code",
      "source": "ser1",
      "metadata": {
        "trusted": true
      },
      "outputs": [
        {
          "execution_count": 121,
          "output_type": "execute_result",
          "data": {
            "text/plain": "0    2300\n1    3450\n2    1000\ndtype: int64"
          },
          "metadata": {}
        }
      ],
      "execution_count": 121
    },
    {
      "cell_type": "code",
      "source": "nfl",
      "metadata": {
        "trusted": true
      },
      "outputs": [
        {
          "execution_count": 122,
          "output_type": "execute_result",
          "data": {
            "text/plain": "    Rank                    Team     GP  Won  Lost Tied[c]   Pct.  \\\n0      1          Dallas Cowboys    981  562   413   6 (0)  0.576   \n1      2       Green Bay Packers  1,435  800   598  38 (8)  0.572   \n2      3        Baltimore Ravens    451  256   194       1  0.569   \n3      4           Chicago Bears  1,469  793   634  42 (1)  0.556   \n4      5    New England Patriots    983  541   433   9 (0)  0.555   \n5      6          Miami Dolphins    899  496   399   4 (1)  0.554   \n6      7      Kansas City Chiefs    983  532   439  12 (4)  0.548   \n7      8       Minnesota Vikings    969  523   435  11 (4)  0.546   \n8      9  San Francisco 49ers[b]  1,101  586   501  14 (3)  0.539   \n9     10     Pittsburgh Steelers  1,271  671   578  22 (4)  0.537   \n10    11         New York Giants  1,404  721   649  34 (4)  0.526   \n11    12   Indianapolis Colts[d]  1,065  556   501   8 (2)  0.526   \n12    13          Denver Broncos    983  508   465  10 (4)  0.522   \n13    14       Las Vegas Raiders    983  505   467  11 (2)  0.520   \n14    15        Seattle Seahawks    759  392   366       1  0.517   \n15    16        Los Angeles Rams  1,234  614   599  21 (3)  0.506   \n16    17    Los Angeles Chargers    983  483   489  11 (2)  0.497   \n17    18     Philadelphia Eagles  1,287  624   636  27 (7)  0.495   \n18    19   Washington Commanders  1,301  629   643  29 (3)  0.495   \n19    20  Cleveland Browns[b][e]  1,053  512   530  11 (4)  0.491   \n20    21        Tennessee Titans    983  476   501   6 (0)  0.487   \n21    22           Buffalo Bills    982  473   501   8 (1)  0.486   \n22    23      New Orleans Saints    870  412   468   5 (1)  0.468   \n23    24       Carolina Panthers    467  214   252       1  0.459   \n24    25      Cincinnati Bengals    869  394   471   5 (4)  0.456   \n25    26           Detroit Lions  1,332  591   707  34 (5)  0.455   \n26    27           New York Jets    983  428   547   8 (2)  0.439   \n27    28         Atlanta Falcons    899  390   503   6 (2)  0.437   \n28    29          Houston Texans    355  152   202       1  0.430   \n29    30    Jacksonville Jaguars    467  198   269       0  0.424   \n30    31       Arizona Cardinals  1,429  585   803  41 (6)  0.422   \n31    32    Tampa Bay Buccaneers    759  308   450       1  0.406   \n\n    First NFL season   Division  \n0               1960   NFC East  \n1               1921  NFC North  \n2               1996  AFC North  \n3               1920  NFC North  \n4               1960   AFC East  \n5               1966   AFC East  \n6               1960   AFC West  \n7               1961  NFC North  \n8               1950   NFC West  \n9               1933  AFC North  \n10              1925   NFC East  \n11              1953  AFC South  \n12              1960   AFC West  \n13              1960   AFC West  \n14              1976   NFC West  \n15              1937   NFC West  \n16              1960   AFC West  \n17              1933   NFC East  \n18              1932   NFC East  \n19              1950  AFC North  \n20              1960  AFC South  \n21              1960   AFC East  \n22              1967  NFC South  \n23              1995  NFC South  \n24              1968  AFC North  \n25              1930  NFC North  \n26              1960   AFC East  \n27              1966  NFC South  \n28              2002  AFC South  \n29              1995  AFC South  \n30              1920   NFC West  \n31              1976  NFC South  ",
            "text/html": "<div>\n<style scoped>\n    .dataframe tbody tr th:only-of-type {\n        vertical-align: middle;\n    }\n\n    .dataframe tbody tr th {\n        vertical-align: top;\n    }\n\n    .dataframe thead th {\n        text-align: right;\n    }\n</style>\n<table border=\"1\" class=\"dataframe\">\n  <thead>\n    <tr style=\"text-align: right;\">\n      <th></th>\n      <th>Rank</th>\n      <th>Team</th>\n      <th>GP</th>\n      <th>Won</th>\n      <th>Lost</th>\n      <th>Tied[c]</th>\n      <th>Pct.</th>\n      <th>First NFL season</th>\n      <th>Division</th>\n    </tr>\n  </thead>\n  <tbody>\n    <tr>\n      <th>0</th>\n      <td>1</td>\n      <td>Dallas Cowboys</td>\n      <td>981</td>\n      <td>562</td>\n      <td>413</td>\n      <td>6 (0)</td>\n      <td>0.576</td>\n      <td>1960</td>\n      <td>NFC East</td>\n    </tr>\n    <tr>\n      <th>1</th>\n      <td>2</td>\n      <td>Green Bay Packers</td>\n      <td>1,435</td>\n      <td>800</td>\n      <td>598</td>\n      <td>38 (8)</td>\n      <td>0.572</td>\n      <td>1921</td>\n      <td>NFC North</td>\n    </tr>\n    <tr>\n      <th>2</th>\n      <td>3</td>\n      <td>Baltimore Ravens</td>\n      <td>451</td>\n      <td>256</td>\n      <td>194</td>\n      <td>1</td>\n      <td>0.569</td>\n      <td>1996</td>\n      <td>AFC North</td>\n    </tr>\n    <tr>\n      <th>3</th>\n      <td>4</td>\n      <td>Chicago Bears</td>\n      <td>1,469</td>\n      <td>793</td>\n      <td>634</td>\n      <td>42 (1)</td>\n      <td>0.556</td>\n      <td>1920</td>\n      <td>NFC North</td>\n    </tr>\n    <tr>\n      <th>4</th>\n      <td>5</td>\n      <td>New England Patriots</td>\n      <td>983</td>\n      <td>541</td>\n      <td>433</td>\n      <td>9 (0)</td>\n      <td>0.555</td>\n      <td>1960</td>\n      <td>AFC East</td>\n    </tr>\n    <tr>\n      <th>5</th>\n      <td>6</td>\n      <td>Miami Dolphins</td>\n      <td>899</td>\n      <td>496</td>\n      <td>399</td>\n      <td>4 (1)</td>\n      <td>0.554</td>\n      <td>1966</td>\n      <td>AFC East</td>\n    </tr>\n    <tr>\n      <th>6</th>\n      <td>7</td>\n      <td>Kansas City Chiefs</td>\n      <td>983</td>\n      <td>532</td>\n      <td>439</td>\n      <td>12 (4)</td>\n      <td>0.548</td>\n      <td>1960</td>\n      <td>AFC West</td>\n    </tr>\n    <tr>\n      <th>7</th>\n      <td>8</td>\n      <td>Minnesota Vikings</td>\n      <td>969</td>\n      <td>523</td>\n      <td>435</td>\n      <td>11 (4)</td>\n      <td>0.546</td>\n      <td>1961</td>\n      <td>NFC North</td>\n    </tr>\n    <tr>\n      <th>8</th>\n      <td>9</td>\n      <td>San Francisco 49ers[b]</td>\n      <td>1,101</td>\n      <td>586</td>\n      <td>501</td>\n      <td>14 (3)</td>\n      <td>0.539</td>\n      <td>1950</td>\n      <td>NFC West</td>\n    </tr>\n    <tr>\n      <th>9</th>\n      <td>10</td>\n      <td>Pittsburgh Steelers</td>\n      <td>1,271</td>\n      <td>671</td>\n      <td>578</td>\n      <td>22 (4)</td>\n      <td>0.537</td>\n      <td>1933</td>\n      <td>AFC North</td>\n    </tr>\n    <tr>\n      <th>10</th>\n      <td>11</td>\n      <td>New York Giants</td>\n      <td>1,404</td>\n      <td>721</td>\n      <td>649</td>\n      <td>34 (4)</td>\n      <td>0.526</td>\n      <td>1925</td>\n      <td>NFC East</td>\n    </tr>\n    <tr>\n      <th>11</th>\n      <td>12</td>\n      <td>Indianapolis Colts[d]</td>\n      <td>1,065</td>\n      <td>556</td>\n      <td>501</td>\n      <td>8 (2)</td>\n      <td>0.526</td>\n      <td>1953</td>\n      <td>AFC South</td>\n    </tr>\n    <tr>\n      <th>12</th>\n      <td>13</td>\n      <td>Denver Broncos</td>\n      <td>983</td>\n      <td>508</td>\n      <td>465</td>\n      <td>10 (4)</td>\n      <td>0.522</td>\n      <td>1960</td>\n      <td>AFC West</td>\n    </tr>\n    <tr>\n      <th>13</th>\n      <td>14</td>\n      <td>Las Vegas Raiders</td>\n      <td>983</td>\n      <td>505</td>\n      <td>467</td>\n      <td>11 (2)</td>\n      <td>0.520</td>\n      <td>1960</td>\n      <td>AFC West</td>\n    </tr>\n    <tr>\n      <th>14</th>\n      <td>15</td>\n      <td>Seattle Seahawks</td>\n      <td>759</td>\n      <td>392</td>\n      <td>366</td>\n      <td>1</td>\n      <td>0.517</td>\n      <td>1976</td>\n      <td>NFC West</td>\n    </tr>\n    <tr>\n      <th>15</th>\n      <td>16</td>\n      <td>Los Angeles Rams</td>\n      <td>1,234</td>\n      <td>614</td>\n      <td>599</td>\n      <td>21 (3)</td>\n      <td>0.506</td>\n      <td>1937</td>\n      <td>NFC West</td>\n    </tr>\n    <tr>\n      <th>16</th>\n      <td>17</td>\n      <td>Los Angeles Chargers</td>\n      <td>983</td>\n      <td>483</td>\n      <td>489</td>\n      <td>11 (2)</td>\n      <td>0.497</td>\n      <td>1960</td>\n      <td>AFC West</td>\n    </tr>\n    <tr>\n      <th>17</th>\n      <td>18</td>\n      <td>Philadelphia Eagles</td>\n      <td>1,287</td>\n      <td>624</td>\n      <td>636</td>\n      <td>27 (7)</td>\n      <td>0.495</td>\n      <td>1933</td>\n      <td>NFC East</td>\n    </tr>\n    <tr>\n      <th>18</th>\n      <td>19</td>\n      <td>Washington Commanders</td>\n      <td>1,301</td>\n      <td>629</td>\n      <td>643</td>\n      <td>29 (3)</td>\n      <td>0.495</td>\n      <td>1932</td>\n      <td>NFC East</td>\n    </tr>\n    <tr>\n      <th>19</th>\n      <td>20</td>\n      <td>Cleveland Browns[b][e]</td>\n      <td>1,053</td>\n      <td>512</td>\n      <td>530</td>\n      <td>11 (4)</td>\n      <td>0.491</td>\n      <td>1950</td>\n      <td>AFC North</td>\n    </tr>\n    <tr>\n      <th>20</th>\n      <td>21</td>\n      <td>Tennessee Titans</td>\n      <td>983</td>\n      <td>476</td>\n      <td>501</td>\n      <td>6 (0)</td>\n      <td>0.487</td>\n      <td>1960</td>\n      <td>AFC South</td>\n    </tr>\n    <tr>\n      <th>21</th>\n      <td>22</td>\n      <td>Buffalo Bills</td>\n      <td>982</td>\n      <td>473</td>\n      <td>501</td>\n      <td>8 (1)</td>\n      <td>0.486</td>\n      <td>1960</td>\n      <td>AFC East</td>\n    </tr>\n    <tr>\n      <th>22</th>\n      <td>23</td>\n      <td>New Orleans Saints</td>\n      <td>870</td>\n      <td>412</td>\n      <td>468</td>\n      <td>5 (1)</td>\n      <td>0.468</td>\n      <td>1967</td>\n      <td>NFC South</td>\n    </tr>\n    <tr>\n      <th>23</th>\n      <td>24</td>\n      <td>Carolina Panthers</td>\n      <td>467</td>\n      <td>214</td>\n      <td>252</td>\n      <td>1</td>\n      <td>0.459</td>\n      <td>1995</td>\n      <td>NFC South</td>\n    </tr>\n    <tr>\n      <th>24</th>\n      <td>25</td>\n      <td>Cincinnati Bengals</td>\n      <td>869</td>\n      <td>394</td>\n      <td>471</td>\n      <td>5 (4)</td>\n      <td>0.456</td>\n      <td>1968</td>\n      <td>AFC North</td>\n    </tr>\n    <tr>\n      <th>25</th>\n      <td>26</td>\n      <td>Detroit Lions</td>\n      <td>1,332</td>\n      <td>591</td>\n      <td>707</td>\n      <td>34 (5)</td>\n      <td>0.455</td>\n      <td>1930</td>\n      <td>NFC North</td>\n    </tr>\n    <tr>\n      <th>26</th>\n      <td>27</td>\n      <td>New York Jets</td>\n      <td>983</td>\n      <td>428</td>\n      <td>547</td>\n      <td>8 (2)</td>\n      <td>0.439</td>\n      <td>1960</td>\n      <td>AFC East</td>\n    </tr>\n    <tr>\n      <th>27</th>\n      <td>28</td>\n      <td>Atlanta Falcons</td>\n      <td>899</td>\n      <td>390</td>\n      <td>503</td>\n      <td>6 (2)</td>\n      <td>0.437</td>\n      <td>1966</td>\n      <td>NFC South</td>\n    </tr>\n    <tr>\n      <th>28</th>\n      <td>29</td>\n      <td>Houston Texans</td>\n      <td>355</td>\n      <td>152</td>\n      <td>202</td>\n      <td>1</td>\n      <td>0.430</td>\n      <td>2002</td>\n      <td>AFC South</td>\n    </tr>\n    <tr>\n      <th>29</th>\n      <td>30</td>\n      <td>Jacksonville Jaguars</td>\n      <td>467</td>\n      <td>198</td>\n      <td>269</td>\n      <td>0</td>\n      <td>0.424</td>\n      <td>1995</td>\n      <td>AFC South</td>\n    </tr>\n    <tr>\n      <th>30</th>\n      <td>31</td>\n      <td>Arizona Cardinals</td>\n      <td>1,429</td>\n      <td>585</td>\n      <td>803</td>\n      <td>41 (6)</td>\n      <td>0.422</td>\n      <td>1920</td>\n      <td>NFC West</td>\n    </tr>\n    <tr>\n      <th>31</th>\n      <td>32</td>\n      <td>Tampa Bay Buccaneers</td>\n      <td>759</td>\n      <td>308</td>\n      <td>450</td>\n      <td>1</td>\n      <td>0.406</td>\n      <td>1976</td>\n      <td>NFC South</td>\n    </tr>\n  </tbody>\n</table>\n</div>"
          },
          "metadata": {}
        }
      ],
      "execution_count": 122
    },
    {
      "cell_type": "code",
      "source": "nfl[['Team','Won','Lost']]",
      "metadata": {
        "trusted": true
      },
      "outputs": [
        {
          "execution_count": 123,
          "output_type": "execute_result",
          "data": {
            "text/plain": "                      Team  Won  Lost\n0           Dallas Cowboys  562   413\n1        Green Bay Packers  800   598\n2         Baltimore Ravens  256   194\n3            Chicago Bears  793   634\n4     New England Patriots  541   433\n5           Miami Dolphins  496   399\n6       Kansas City Chiefs  532   439\n7        Minnesota Vikings  523   435\n8   San Francisco 49ers[b]  586   501\n9      Pittsburgh Steelers  671   578\n10         New York Giants  721   649\n11   Indianapolis Colts[d]  556   501\n12          Denver Broncos  508   465\n13       Las Vegas Raiders  505   467\n14        Seattle Seahawks  392   366\n15        Los Angeles Rams  614   599\n16    Los Angeles Chargers  483   489\n17     Philadelphia Eagles  624   636\n18   Washington Commanders  629   643\n19  Cleveland Browns[b][e]  512   530\n20        Tennessee Titans  476   501\n21           Buffalo Bills  473   501\n22      New Orleans Saints  412   468\n23       Carolina Panthers  214   252\n24      Cincinnati Bengals  394   471\n25           Detroit Lions  591   707\n26           New York Jets  428   547\n27         Atlanta Falcons  390   503\n28          Houston Texans  152   202\n29    Jacksonville Jaguars  198   269\n30       Arizona Cardinals  585   803\n31    Tampa Bay Buccaneers  308   450",
            "text/html": "<div>\n<style scoped>\n    .dataframe tbody tr th:only-of-type {\n        vertical-align: middle;\n    }\n\n    .dataframe tbody tr th {\n        vertical-align: top;\n    }\n\n    .dataframe thead th {\n        text-align: right;\n    }\n</style>\n<table border=\"1\" class=\"dataframe\">\n  <thead>\n    <tr style=\"text-align: right;\">\n      <th></th>\n      <th>Team</th>\n      <th>Won</th>\n      <th>Lost</th>\n    </tr>\n  </thead>\n  <tbody>\n    <tr>\n      <th>0</th>\n      <td>Dallas Cowboys</td>\n      <td>562</td>\n      <td>413</td>\n    </tr>\n    <tr>\n      <th>1</th>\n      <td>Green Bay Packers</td>\n      <td>800</td>\n      <td>598</td>\n    </tr>\n    <tr>\n      <th>2</th>\n      <td>Baltimore Ravens</td>\n      <td>256</td>\n      <td>194</td>\n    </tr>\n    <tr>\n      <th>3</th>\n      <td>Chicago Bears</td>\n      <td>793</td>\n      <td>634</td>\n    </tr>\n    <tr>\n      <th>4</th>\n      <td>New England Patriots</td>\n      <td>541</td>\n      <td>433</td>\n    </tr>\n    <tr>\n      <th>5</th>\n      <td>Miami Dolphins</td>\n      <td>496</td>\n      <td>399</td>\n    </tr>\n    <tr>\n      <th>6</th>\n      <td>Kansas City Chiefs</td>\n      <td>532</td>\n      <td>439</td>\n    </tr>\n    <tr>\n      <th>7</th>\n      <td>Minnesota Vikings</td>\n      <td>523</td>\n      <td>435</td>\n    </tr>\n    <tr>\n      <th>8</th>\n      <td>San Francisco 49ers[b]</td>\n      <td>586</td>\n      <td>501</td>\n    </tr>\n    <tr>\n      <th>9</th>\n      <td>Pittsburgh Steelers</td>\n      <td>671</td>\n      <td>578</td>\n    </tr>\n    <tr>\n      <th>10</th>\n      <td>New York Giants</td>\n      <td>721</td>\n      <td>649</td>\n    </tr>\n    <tr>\n      <th>11</th>\n      <td>Indianapolis Colts[d]</td>\n      <td>556</td>\n      <td>501</td>\n    </tr>\n    <tr>\n      <th>12</th>\n      <td>Denver Broncos</td>\n      <td>508</td>\n      <td>465</td>\n    </tr>\n    <tr>\n      <th>13</th>\n      <td>Las Vegas Raiders</td>\n      <td>505</td>\n      <td>467</td>\n    </tr>\n    <tr>\n      <th>14</th>\n      <td>Seattle Seahawks</td>\n      <td>392</td>\n      <td>366</td>\n    </tr>\n    <tr>\n      <th>15</th>\n      <td>Los Angeles Rams</td>\n      <td>614</td>\n      <td>599</td>\n    </tr>\n    <tr>\n      <th>16</th>\n      <td>Los Angeles Chargers</td>\n      <td>483</td>\n      <td>489</td>\n    </tr>\n    <tr>\n      <th>17</th>\n      <td>Philadelphia Eagles</td>\n      <td>624</td>\n      <td>636</td>\n    </tr>\n    <tr>\n      <th>18</th>\n      <td>Washington Commanders</td>\n      <td>629</td>\n      <td>643</td>\n    </tr>\n    <tr>\n      <th>19</th>\n      <td>Cleveland Browns[b][e]</td>\n      <td>512</td>\n      <td>530</td>\n    </tr>\n    <tr>\n      <th>20</th>\n      <td>Tennessee Titans</td>\n      <td>476</td>\n      <td>501</td>\n    </tr>\n    <tr>\n      <th>21</th>\n      <td>Buffalo Bills</td>\n      <td>473</td>\n      <td>501</td>\n    </tr>\n    <tr>\n      <th>22</th>\n      <td>New Orleans Saints</td>\n      <td>412</td>\n      <td>468</td>\n    </tr>\n    <tr>\n      <th>23</th>\n      <td>Carolina Panthers</td>\n      <td>214</td>\n      <td>252</td>\n    </tr>\n    <tr>\n      <th>24</th>\n      <td>Cincinnati Bengals</td>\n      <td>394</td>\n      <td>471</td>\n    </tr>\n    <tr>\n      <th>25</th>\n      <td>Detroit Lions</td>\n      <td>591</td>\n      <td>707</td>\n    </tr>\n    <tr>\n      <th>26</th>\n      <td>New York Jets</td>\n      <td>428</td>\n      <td>547</td>\n    </tr>\n    <tr>\n      <th>27</th>\n      <td>Atlanta Falcons</td>\n      <td>390</td>\n      <td>503</td>\n    </tr>\n    <tr>\n      <th>28</th>\n      <td>Houston Texans</td>\n      <td>152</td>\n      <td>202</td>\n    </tr>\n    <tr>\n      <th>29</th>\n      <td>Jacksonville Jaguars</td>\n      <td>198</td>\n      <td>269</td>\n    </tr>\n    <tr>\n      <th>30</th>\n      <td>Arizona Cardinals</td>\n      <td>585</td>\n      <td>803</td>\n    </tr>\n    <tr>\n      <th>31</th>\n      <td>Tampa Bay Buccaneers</td>\n      <td>308</td>\n      <td>450</td>\n    </tr>\n  </tbody>\n</table>\n</div>"
          },
          "metadata": {}
        }
      ],
      "execution_count": 123
    },
    {
      "cell_type": "code",
      "source": "nfl[nfl['Won']>500]",
      "metadata": {
        "trusted": true
      },
      "outputs": [
        {
          "execution_count": 124,
          "output_type": "execute_result",
          "data": {
            "text/plain": "    Rank                    Team     GP  Won  Lost Tied[c]   Pct.  \\\n0      1          Dallas Cowboys    981  562   413   6 (0)  0.576   \n1      2       Green Bay Packers  1,435  800   598  38 (8)  0.572   \n3      4           Chicago Bears  1,469  793   634  42 (1)  0.556   \n4      5    New England Patriots    983  541   433   9 (0)  0.555   \n6      7      Kansas City Chiefs    983  532   439  12 (4)  0.548   \n7      8       Minnesota Vikings    969  523   435  11 (4)  0.546   \n8      9  San Francisco 49ers[b]  1,101  586   501  14 (3)  0.539   \n9     10     Pittsburgh Steelers  1,271  671   578  22 (4)  0.537   \n10    11         New York Giants  1,404  721   649  34 (4)  0.526   \n11    12   Indianapolis Colts[d]  1,065  556   501   8 (2)  0.526   \n12    13          Denver Broncos    983  508   465  10 (4)  0.522   \n13    14       Las Vegas Raiders    983  505   467  11 (2)  0.520   \n15    16        Los Angeles Rams  1,234  614   599  21 (3)  0.506   \n17    18     Philadelphia Eagles  1,287  624   636  27 (7)  0.495   \n18    19   Washington Commanders  1,301  629   643  29 (3)  0.495   \n19    20  Cleveland Browns[b][e]  1,053  512   530  11 (4)  0.491   \n25    26           Detroit Lions  1,332  591   707  34 (5)  0.455   \n30    31       Arizona Cardinals  1,429  585   803  41 (6)  0.422   \n\n    First NFL season   Division  \n0               1960   NFC East  \n1               1921  NFC North  \n3               1920  NFC North  \n4               1960   AFC East  \n6               1960   AFC West  \n7               1961  NFC North  \n8               1950   NFC West  \n9               1933  AFC North  \n10              1925   NFC East  \n11              1953  AFC South  \n12              1960   AFC West  \n13              1960   AFC West  \n15              1937   NFC West  \n17              1933   NFC East  \n18              1932   NFC East  \n19              1950  AFC North  \n25              1930  NFC North  \n30              1920   NFC West  ",
            "text/html": "<div>\n<style scoped>\n    .dataframe tbody tr th:only-of-type {\n        vertical-align: middle;\n    }\n\n    .dataframe tbody tr th {\n        vertical-align: top;\n    }\n\n    .dataframe thead th {\n        text-align: right;\n    }\n</style>\n<table border=\"1\" class=\"dataframe\">\n  <thead>\n    <tr style=\"text-align: right;\">\n      <th></th>\n      <th>Rank</th>\n      <th>Team</th>\n      <th>GP</th>\n      <th>Won</th>\n      <th>Lost</th>\n      <th>Tied[c]</th>\n      <th>Pct.</th>\n      <th>First NFL season</th>\n      <th>Division</th>\n    </tr>\n  </thead>\n  <tbody>\n    <tr>\n      <th>0</th>\n      <td>1</td>\n      <td>Dallas Cowboys</td>\n      <td>981</td>\n      <td>562</td>\n      <td>413</td>\n      <td>6 (0)</td>\n      <td>0.576</td>\n      <td>1960</td>\n      <td>NFC East</td>\n    </tr>\n    <tr>\n      <th>1</th>\n      <td>2</td>\n      <td>Green Bay Packers</td>\n      <td>1,435</td>\n      <td>800</td>\n      <td>598</td>\n      <td>38 (8)</td>\n      <td>0.572</td>\n      <td>1921</td>\n      <td>NFC North</td>\n    </tr>\n    <tr>\n      <th>3</th>\n      <td>4</td>\n      <td>Chicago Bears</td>\n      <td>1,469</td>\n      <td>793</td>\n      <td>634</td>\n      <td>42 (1)</td>\n      <td>0.556</td>\n      <td>1920</td>\n      <td>NFC North</td>\n    </tr>\n    <tr>\n      <th>4</th>\n      <td>5</td>\n      <td>New England Patriots</td>\n      <td>983</td>\n      <td>541</td>\n      <td>433</td>\n      <td>9 (0)</td>\n      <td>0.555</td>\n      <td>1960</td>\n      <td>AFC East</td>\n    </tr>\n    <tr>\n      <th>6</th>\n      <td>7</td>\n      <td>Kansas City Chiefs</td>\n      <td>983</td>\n      <td>532</td>\n      <td>439</td>\n      <td>12 (4)</td>\n      <td>0.548</td>\n      <td>1960</td>\n      <td>AFC West</td>\n    </tr>\n    <tr>\n      <th>7</th>\n      <td>8</td>\n      <td>Minnesota Vikings</td>\n      <td>969</td>\n      <td>523</td>\n      <td>435</td>\n      <td>11 (4)</td>\n      <td>0.546</td>\n      <td>1961</td>\n      <td>NFC North</td>\n    </tr>\n    <tr>\n      <th>8</th>\n      <td>9</td>\n      <td>San Francisco 49ers[b]</td>\n      <td>1,101</td>\n      <td>586</td>\n      <td>501</td>\n      <td>14 (3)</td>\n      <td>0.539</td>\n      <td>1950</td>\n      <td>NFC West</td>\n    </tr>\n    <tr>\n      <th>9</th>\n      <td>10</td>\n      <td>Pittsburgh Steelers</td>\n      <td>1,271</td>\n      <td>671</td>\n      <td>578</td>\n      <td>22 (4)</td>\n      <td>0.537</td>\n      <td>1933</td>\n      <td>AFC North</td>\n    </tr>\n    <tr>\n      <th>10</th>\n      <td>11</td>\n      <td>New York Giants</td>\n      <td>1,404</td>\n      <td>721</td>\n      <td>649</td>\n      <td>34 (4)</td>\n      <td>0.526</td>\n      <td>1925</td>\n      <td>NFC East</td>\n    </tr>\n    <tr>\n      <th>11</th>\n      <td>12</td>\n      <td>Indianapolis Colts[d]</td>\n      <td>1,065</td>\n      <td>556</td>\n      <td>501</td>\n      <td>8 (2)</td>\n      <td>0.526</td>\n      <td>1953</td>\n      <td>AFC South</td>\n    </tr>\n    <tr>\n      <th>12</th>\n      <td>13</td>\n      <td>Denver Broncos</td>\n      <td>983</td>\n      <td>508</td>\n      <td>465</td>\n      <td>10 (4)</td>\n      <td>0.522</td>\n      <td>1960</td>\n      <td>AFC West</td>\n    </tr>\n    <tr>\n      <th>13</th>\n      <td>14</td>\n      <td>Las Vegas Raiders</td>\n      <td>983</td>\n      <td>505</td>\n      <td>467</td>\n      <td>11 (2)</td>\n      <td>0.520</td>\n      <td>1960</td>\n      <td>AFC West</td>\n    </tr>\n    <tr>\n      <th>15</th>\n      <td>16</td>\n      <td>Los Angeles Rams</td>\n      <td>1,234</td>\n      <td>614</td>\n      <td>599</td>\n      <td>21 (3)</td>\n      <td>0.506</td>\n      <td>1937</td>\n      <td>NFC West</td>\n    </tr>\n    <tr>\n      <th>17</th>\n      <td>18</td>\n      <td>Philadelphia Eagles</td>\n      <td>1,287</td>\n      <td>624</td>\n      <td>636</td>\n      <td>27 (7)</td>\n      <td>0.495</td>\n      <td>1933</td>\n      <td>NFC East</td>\n    </tr>\n    <tr>\n      <th>18</th>\n      <td>19</td>\n      <td>Washington Commanders</td>\n      <td>1,301</td>\n      <td>629</td>\n      <td>643</td>\n      <td>29 (3)</td>\n      <td>0.495</td>\n      <td>1932</td>\n      <td>NFC East</td>\n    </tr>\n    <tr>\n      <th>19</th>\n      <td>20</td>\n      <td>Cleveland Browns[b][e]</td>\n      <td>1,053</td>\n      <td>512</td>\n      <td>530</td>\n      <td>11 (4)</td>\n      <td>0.491</td>\n      <td>1950</td>\n      <td>AFC North</td>\n    </tr>\n    <tr>\n      <th>25</th>\n      <td>26</td>\n      <td>Detroit Lions</td>\n      <td>1,332</td>\n      <td>591</td>\n      <td>707</td>\n      <td>34 (5)</td>\n      <td>0.455</td>\n      <td>1930</td>\n      <td>NFC North</td>\n    </tr>\n    <tr>\n      <th>30</th>\n      <td>31</td>\n      <td>Arizona Cardinals</td>\n      <td>1,429</td>\n      <td>585</td>\n      <td>803</td>\n      <td>41 (6)</td>\n      <td>0.422</td>\n      <td>1920</td>\n      <td>NFC West</td>\n    </tr>\n  </tbody>\n</table>\n</div>"
          },
          "metadata": {}
        }
      ],
      "execution_count": 124
    },
    {
      "cell_type": "code",
      "source": "nfl[nfl['Won']>500 | nfl['Lost']<500]",
      "metadata": {
        "trusted": true
      },
      "outputs": [
        {
          "ename": "<class 'ValueError'>",
          "evalue": "The truth value of a Series is ambiguous. Use a.empty, a.bool(), a.item(), a.any() or a.all().",
          "traceback": [
            "\u001b[0;31m---------------------------------------------------------------------------\u001b[0m",
            "\u001b[0;31mValueError\u001b[0m                                Traceback (most recent call last)",
            "\u001b[0;32m<ipython-input-133-215930abc446>\u001b[0m in \u001b[0;36m?\u001b[0;34m()\u001b[0m\n\u001b[0;32m----> 1\u001b[0;31m \u001b[0mnfl\u001b[0m\u001b[0;34m[\u001b[0m\u001b[0mnfl\u001b[0m\u001b[0;34m[\u001b[0m\u001b[0;34m'Won'\u001b[0m\u001b[0;34m]\u001b[0m\u001b[0;34m>\u001b[0m\u001b[0;36m500\u001b[0m \u001b[0;34m|\u001b[0m \u001b[0mnfl\u001b[0m\u001b[0;34m[\u001b[0m\u001b[0;34m'Lost'\u001b[0m\u001b[0;34m]\u001b[0m\u001b[0;34m<\u001b[0m\u001b[0;36m500\u001b[0m\u001b[0;34m]\u001b[0m\u001b[0;34m\u001b[0m\u001b[0;34m\u001b[0m\u001b[0m\n\u001b[0m",
            "\u001b[0;32m/lib/python3.12/site-packages/pandas/core/generic.py\u001b[0m in \u001b[0;36m?\u001b[0;34m(self)\u001b[0m\n\u001b[1;32m   1574\u001b[0m     \u001b[0;34m@\u001b[0m\u001b[0mfinal\u001b[0m\u001b[0;34m\u001b[0m\u001b[0;34m\u001b[0m\u001b[0m\n\u001b[1;32m   1575\u001b[0m     \u001b[0;32mdef\u001b[0m \u001b[0m__nonzero__\u001b[0m\u001b[0;34m(\u001b[0m\u001b[0mself\u001b[0m\u001b[0;34m)\u001b[0m \u001b[0;34m->\u001b[0m \u001b[0mNoReturn\u001b[0m\u001b[0;34m:\u001b[0m\u001b[0;34m\u001b[0m\u001b[0;34m\u001b[0m\u001b[0m\n\u001b[0;32m-> 1576\u001b[0;31m         raise ValueError(\n\u001b[0m\u001b[1;32m   1577\u001b[0m             \u001b[0;34mf\"\u001b[0m\u001b[0;34mThe truth value of a \u001b[0m\u001b[0;34m{\u001b[0m\u001b[0mtype\u001b[0m\u001b[0;34m(\u001b[0m\u001b[0mself\u001b[0m\u001b[0;34m)\u001b[0m\u001b[0;34m.\u001b[0m\u001b[0m__name__\u001b[0m\u001b[0;34m}\u001b[0m\u001b[0;34m is ambiguous. \u001b[0m\u001b[0;34m\"\u001b[0m\u001b[0;34m\u001b[0m\u001b[0;34m\u001b[0m\u001b[0m\n\u001b[1;32m   1578\u001b[0m             \u001b[0;34m\"Use a.empty, a.bool(), a.item(), a.any() or a.all().\"\u001b[0m\u001b[0;34m\u001b[0m\u001b[0;34m\u001b[0m\u001b[0m\n\u001b[1;32m   1579\u001b[0m         \u001b[0;34m)\u001b[0m\u001b[0;34m\u001b[0m\u001b[0;34m\u001b[0m\u001b[0m\n",
            "\u001b[0;31mValueError\u001b[0m: The truth value of a Series is ambiguous. Use a.empty, a.bool(), a.item(), a.any() or a.all()."
          ],
          "output_type": "error"
        }
      ],
      "execution_count": 133
    },
    {
      "cell_type": "code",
      "source": "nfl.sum()",
      "metadata": {
        "trusted": true
      },
      "outputs": [
        {
          "execution_count": 135,
          "output_type": "execute_result",
          "data": {
            "text/plain": "Rank                                                              528\nTeam                Dallas CowboysGreen Bay PackersBaltimore Raven...\nGP                  9811,4354511,4699838999839691,1011,2711,4041,0...\nWon                                                             15925\nLost                                                            15643\nTied[c]             6 (0)38 (8)142 (1)9 (0)4 (1)12 (4)11 (4)14 (3)...\nPct.                                                           16.016\nFirst NFL season                                                62612\nDivision            NFC EastNFC NorthAFC NorthNFC NorthAFC EastAFC...\ndtype: object"
          },
          "metadata": {}
        }
      ],
      "execution_count": 135
    },
    {
      "cell_type": "code",
      "source": "nfl['Won'].sum()",
      "metadata": {
        "trusted": true
      },
      "outputs": [
        {
          "execution_count": 136,
          "output_type": "execute_result",
          "data": {
            "text/plain": "15925"
          },
          "metadata": {}
        }
      ],
      "execution_count": 136
    },
    {
      "cell_type": "code",
      "source": "nfl['Won'].min()",
      "metadata": {
        "trusted": true
      },
      "outputs": [
        {
          "execution_count": 137,
          "output_type": "execute_result",
          "data": {
            "text/plain": "152"
          },
          "metadata": {}
        }
      ],
      "execution_count": 137
    },
    {
      "cell_type": "code",
      "source": "nfl['Won'].idxmin()",
      "metadata": {
        "trusted": true
      },
      "outputs": [
        {
          "execution_count": 138,
          "output_type": "execute_result",
          "data": {
            "text/plain": "28"
          },
          "metadata": {}
        }
      ],
      "execution_count": 138
    },
    {
      "cell_type": "code",
      "source": "nfl['Won'].max()",
      "metadata": {
        "trusted": true
      },
      "outputs": [
        {
          "execution_count": 139,
          "output_type": "execute_result",
          "data": {
            "text/plain": "800"
          },
          "metadata": {}
        }
      ],
      "execution_count": 139
    },
    {
      "cell_type": "code",
      "source": "nfl['Won'].idxmax()",
      "metadata": {
        "trusted": true
      },
      "outputs": [
        {
          "execution_count": 140,
          "output_type": "execute_result",
          "data": {
            "text/plain": "1"
          },
          "metadata": {}
        }
      ],
      "execution_count": 140
    },
    {
      "cell_type": "code",
      "source": "nfl.iloc[1]",
      "metadata": {
        "trusted": true
      },
      "outputs": [
        {
          "execution_count": 141,
          "output_type": "execute_result",
          "data": {
            "text/plain": "Rank                                2\nTeam                Green Bay Packers\nGP                              1,435\nWon                               800\nLost                              598\nTied[c]                        38 (8)\nPct.                            0.572\nFirst NFL season                 1921\nDivision                    NFC North\nName: 1, dtype: object"
          },
          "metadata": {}
        }
      ],
      "execution_count": 141
    },
    {
      "cell_type": "code",
      "source": "nfl['Won'].cumsum()",
      "metadata": {
        "trusted": true
      },
      "outputs": [
        {
          "execution_count": 142,
          "output_type": "execute_result",
          "data": {
            "text/plain": "0       562\n1      1362\n2      1618\n3      2411\n4      2952\n5      3448\n6      3980\n7      4503\n8      5089\n9      5760\n10     6481\n11     7037\n12     7545\n13     8050\n14     8442\n15     9056\n16     9539\n17    10163\n18    10792\n19    11304\n20    11780\n21    12253\n22    12665\n23    12879\n24    13273\n25    13864\n26    14292\n27    14682\n28    14834\n29    15032\n30    15617\n31    15925\nName: Won, dtype: int64"
          },
          "metadata": {}
        }
      ],
      "execution_count": 142
    },
    {
      "cell_type": "code",
      "source": "nfl['Won'].corr\n",
      "metadata": {
        "trusted": true
      },
      "outputs": [
        {
          "execution_count": 144,
          "output_type": "execute_result",
          "data": {
            "text/plain": "<bound method Series.corr of 0     562\n1     800\n2     256\n3     793\n4     541\n5     496\n6     532\n7     523\n8     586\n9     671\n10    721\n11    556\n12    508\n13    505\n14    392\n15    614\n16    483\n17    624\n18    629\n19    512\n20    476\n21    473\n22    412\n23    214\n24    394\n25    591\n26    428\n27    390\n28    152\n29    198\n30    585\n31    308\nName: Won, dtype: int64>"
          },
          "metadata": {}
        }
      ],
      "execution_count": 144
    },
    {
      "cell_type": "code",
      "source": "nfl.aggregate({'Won':'min'})",
      "metadata": {
        "trusted": true
      },
      "outputs": [
        {
          "execution_count": 146,
          "output_type": "execute_result",
          "data": {
            "text/plain": "Won    152\ndtype: int64"
          },
          "metadata": {}
        }
      ],
      "execution_count": 146
    },
    {
      "cell_type": "code",
      "source": "nfl.aggregate({'Won':['min','max','mean']})",
      "metadata": {
        "trusted": true
      },
      "outputs": [
        {
          "execution_count": 148,
          "output_type": "execute_result",
          "data": {
            "text/plain": "            Won\nmin   152.00000\nmax   800.00000\nmean  497.65625",
            "text/html": "<div>\n<style scoped>\n    .dataframe tbody tr th:only-of-type {\n        vertical-align: middle;\n    }\n\n    .dataframe tbody tr th {\n        vertical-align: top;\n    }\n\n    .dataframe thead th {\n        text-align: right;\n    }\n</style>\n<table border=\"1\" class=\"dataframe\">\n  <thead>\n    <tr style=\"text-align: right;\">\n      <th></th>\n      <th>Won</th>\n    </tr>\n  </thead>\n  <tbody>\n    <tr>\n      <th>min</th>\n      <td>152.00000</td>\n    </tr>\n    <tr>\n      <th>max</th>\n      <td>800.00000</td>\n    </tr>\n    <tr>\n      <th>mean</th>\n      <td>497.65625</td>\n    </tr>\n  </tbody>\n</table>\n</div>"
          },
          "metadata": {}
        }
      ],
      "execution_count": 148
    },
    {
      "cell_type": "code",
      "source": "nfl.aggregate({'Won':['min','max','mean'],'Lost':['min','max','mean']})",
      "metadata": {
        "trusted": true
      },
      "outputs": [
        {
          "execution_count": 151,
          "output_type": "execute_result",
          "data": {
            "text/plain": "            Won       Lost\nmin   152.00000  194.00000\nmax   800.00000  803.00000\nmean  497.65625  488.84375",
            "text/html": "<div>\n<style scoped>\n    .dataframe tbody tr th:only-of-type {\n        vertical-align: middle;\n    }\n\n    .dataframe tbody tr th {\n        vertical-align: top;\n    }\n\n    .dataframe thead th {\n        text-align: right;\n    }\n</style>\n<table border=\"1\" class=\"dataframe\">\n  <thead>\n    <tr style=\"text-align: right;\">\n      <th></th>\n      <th>Won</th>\n      <th>Lost</th>\n    </tr>\n  </thead>\n  <tbody>\n    <tr>\n      <th>min</th>\n      <td>152.00000</td>\n      <td>194.00000</td>\n    </tr>\n    <tr>\n      <th>max</th>\n      <td>800.00000</td>\n      <td>803.00000</td>\n    </tr>\n    <tr>\n      <th>mean</th>\n      <td>497.65625</td>\n      <td>488.84375</td>\n    </tr>\n  </tbody>\n</table>\n</div>"
          },
          "metadata": {}
        }
      ],
      "execution_count": 151
    },
    {
      "cell_type": "code",
      "source": "nfl.sort_values('Team')",
      "metadata": {
        "trusted": true
      },
      "outputs": [
        {
          "execution_count": 153,
          "output_type": "execute_result",
          "data": {
            "text/plain": "    Rank                    Team     GP  Won  Lost Tied[c]   Pct.  \\\n30    31       Arizona Cardinals  1,429  585   803  41 (6)  0.422   \n27    28         Atlanta Falcons    899  390   503   6 (2)  0.437   \n2      3        Baltimore Ravens    451  256   194       1  0.569   \n21    22           Buffalo Bills    982  473   501   8 (1)  0.486   \n23    24       Carolina Panthers    467  214   252       1  0.459   \n3      4           Chicago Bears  1,469  793   634  42 (1)  0.556   \n24    25      Cincinnati Bengals    869  394   471   5 (4)  0.456   \n19    20  Cleveland Browns[b][e]  1,053  512   530  11 (4)  0.491   \n0      1          Dallas Cowboys    981  562   413   6 (0)  0.576   \n12    13          Denver Broncos    983  508   465  10 (4)  0.522   \n25    26           Detroit Lions  1,332  591   707  34 (5)  0.455   \n1      2       Green Bay Packers  1,435  800   598  38 (8)  0.572   \n28    29          Houston Texans    355  152   202       1  0.430   \n11    12   Indianapolis Colts[d]  1,065  556   501   8 (2)  0.526   \n29    30    Jacksonville Jaguars    467  198   269       0  0.424   \n6      7      Kansas City Chiefs    983  532   439  12 (4)  0.548   \n13    14       Las Vegas Raiders    983  505   467  11 (2)  0.520   \n16    17    Los Angeles Chargers    983  483   489  11 (2)  0.497   \n15    16        Los Angeles Rams  1,234  614   599  21 (3)  0.506   \n5      6          Miami Dolphins    899  496   399   4 (1)  0.554   \n7      8       Minnesota Vikings    969  523   435  11 (4)  0.546   \n4      5    New England Patriots    983  541   433   9 (0)  0.555   \n22    23      New Orleans Saints    870  412   468   5 (1)  0.468   \n10    11         New York Giants  1,404  721   649  34 (4)  0.526   \n26    27           New York Jets    983  428   547   8 (2)  0.439   \n17    18     Philadelphia Eagles  1,287  624   636  27 (7)  0.495   \n9     10     Pittsburgh Steelers  1,271  671   578  22 (4)  0.537   \n8      9  San Francisco 49ers[b]  1,101  586   501  14 (3)  0.539   \n14    15        Seattle Seahawks    759  392   366       1  0.517   \n31    32    Tampa Bay Buccaneers    759  308   450       1  0.406   \n20    21        Tennessee Titans    983  476   501   6 (0)  0.487   \n18    19   Washington Commanders  1,301  629   643  29 (3)  0.495   \n\n    First NFL season   Division  \n30              1920   NFC West  \n27              1966  NFC South  \n2               1996  AFC North  \n21              1960   AFC East  \n23              1995  NFC South  \n3               1920  NFC North  \n24              1968  AFC North  \n19              1950  AFC North  \n0               1960   NFC East  \n12              1960   AFC West  \n25              1930  NFC North  \n1               1921  NFC North  \n28              2002  AFC South  \n11              1953  AFC South  \n29              1995  AFC South  \n6               1960   AFC West  \n13              1960   AFC West  \n16              1960   AFC West  \n15              1937   NFC West  \n5               1966   AFC East  \n7               1961  NFC North  \n4               1960   AFC East  \n22              1967  NFC South  \n10              1925   NFC East  \n26              1960   AFC East  \n17              1933   NFC East  \n9               1933  AFC North  \n8               1950   NFC West  \n14              1976   NFC West  \n31              1976  NFC South  \n20              1960  AFC South  \n18              1932   NFC East  ",
            "text/html": "<div>\n<style scoped>\n    .dataframe tbody tr th:only-of-type {\n        vertical-align: middle;\n    }\n\n    .dataframe tbody tr th {\n        vertical-align: top;\n    }\n\n    .dataframe thead th {\n        text-align: right;\n    }\n</style>\n<table border=\"1\" class=\"dataframe\">\n  <thead>\n    <tr style=\"text-align: right;\">\n      <th></th>\n      <th>Rank</th>\n      <th>Team</th>\n      <th>GP</th>\n      <th>Won</th>\n      <th>Lost</th>\n      <th>Tied[c]</th>\n      <th>Pct.</th>\n      <th>First NFL season</th>\n      <th>Division</th>\n    </tr>\n  </thead>\n  <tbody>\n    <tr>\n      <th>30</th>\n      <td>31</td>\n      <td>Arizona Cardinals</td>\n      <td>1,429</td>\n      <td>585</td>\n      <td>803</td>\n      <td>41 (6)</td>\n      <td>0.422</td>\n      <td>1920</td>\n      <td>NFC West</td>\n    </tr>\n    <tr>\n      <th>27</th>\n      <td>28</td>\n      <td>Atlanta Falcons</td>\n      <td>899</td>\n      <td>390</td>\n      <td>503</td>\n      <td>6 (2)</td>\n      <td>0.437</td>\n      <td>1966</td>\n      <td>NFC South</td>\n    </tr>\n    <tr>\n      <th>2</th>\n      <td>3</td>\n      <td>Baltimore Ravens</td>\n      <td>451</td>\n      <td>256</td>\n      <td>194</td>\n      <td>1</td>\n      <td>0.569</td>\n      <td>1996</td>\n      <td>AFC North</td>\n    </tr>\n    <tr>\n      <th>21</th>\n      <td>22</td>\n      <td>Buffalo Bills</td>\n      <td>982</td>\n      <td>473</td>\n      <td>501</td>\n      <td>8 (1)</td>\n      <td>0.486</td>\n      <td>1960</td>\n      <td>AFC East</td>\n    </tr>\n    <tr>\n      <th>23</th>\n      <td>24</td>\n      <td>Carolina Panthers</td>\n      <td>467</td>\n      <td>214</td>\n      <td>252</td>\n      <td>1</td>\n      <td>0.459</td>\n      <td>1995</td>\n      <td>NFC South</td>\n    </tr>\n    <tr>\n      <th>3</th>\n      <td>4</td>\n      <td>Chicago Bears</td>\n      <td>1,469</td>\n      <td>793</td>\n      <td>634</td>\n      <td>42 (1)</td>\n      <td>0.556</td>\n      <td>1920</td>\n      <td>NFC North</td>\n    </tr>\n    <tr>\n      <th>24</th>\n      <td>25</td>\n      <td>Cincinnati Bengals</td>\n      <td>869</td>\n      <td>394</td>\n      <td>471</td>\n      <td>5 (4)</td>\n      <td>0.456</td>\n      <td>1968</td>\n      <td>AFC North</td>\n    </tr>\n    <tr>\n      <th>19</th>\n      <td>20</td>\n      <td>Cleveland Browns[b][e]</td>\n      <td>1,053</td>\n      <td>512</td>\n      <td>530</td>\n      <td>11 (4)</td>\n      <td>0.491</td>\n      <td>1950</td>\n      <td>AFC North</td>\n    </tr>\n    <tr>\n      <th>0</th>\n      <td>1</td>\n      <td>Dallas Cowboys</td>\n      <td>981</td>\n      <td>562</td>\n      <td>413</td>\n      <td>6 (0)</td>\n      <td>0.576</td>\n      <td>1960</td>\n      <td>NFC East</td>\n    </tr>\n    <tr>\n      <th>12</th>\n      <td>13</td>\n      <td>Denver Broncos</td>\n      <td>983</td>\n      <td>508</td>\n      <td>465</td>\n      <td>10 (4)</td>\n      <td>0.522</td>\n      <td>1960</td>\n      <td>AFC West</td>\n    </tr>\n    <tr>\n      <th>25</th>\n      <td>26</td>\n      <td>Detroit Lions</td>\n      <td>1,332</td>\n      <td>591</td>\n      <td>707</td>\n      <td>34 (5)</td>\n      <td>0.455</td>\n      <td>1930</td>\n      <td>NFC North</td>\n    </tr>\n    <tr>\n      <th>1</th>\n      <td>2</td>\n      <td>Green Bay Packers</td>\n      <td>1,435</td>\n      <td>800</td>\n      <td>598</td>\n      <td>38 (8)</td>\n      <td>0.572</td>\n      <td>1921</td>\n      <td>NFC North</td>\n    </tr>\n    <tr>\n      <th>28</th>\n      <td>29</td>\n      <td>Houston Texans</td>\n      <td>355</td>\n      <td>152</td>\n      <td>202</td>\n      <td>1</td>\n      <td>0.430</td>\n      <td>2002</td>\n      <td>AFC South</td>\n    </tr>\n    <tr>\n      <th>11</th>\n      <td>12</td>\n      <td>Indianapolis Colts[d]</td>\n      <td>1,065</td>\n      <td>556</td>\n      <td>501</td>\n      <td>8 (2)</td>\n      <td>0.526</td>\n      <td>1953</td>\n      <td>AFC South</td>\n    </tr>\n    <tr>\n      <th>29</th>\n      <td>30</td>\n      <td>Jacksonville Jaguars</td>\n      <td>467</td>\n      <td>198</td>\n      <td>269</td>\n      <td>0</td>\n      <td>0.424</td>\n      <td>1995</td>\n      <td>AFC South</td>\n    </tr>\n    <tr>\n      <th>6</th>\n      <td>7</td>\n      <td>Kansas City Chiefs</td>\n      <td>983</td>\n      <td>532</td>\n      <td>439</td>\n      <td>12 (4)</td>\n      <td>0.548</td>\n      <td>1960</td>\n      <td>AFC West</td>\n    </tr>\n    <tr>\n      <th>13</th>\n      <td>14</td>\n      <td>Las Vegas Raiders</td>\n      <td>983</td>\n      <td>505</td>\n      <td>467</td>\n      <td>11 (2)</td>\n      <td>0.520</td>\n      <td>1960</td>\n      <td>AFC West</td>\n    </tr>\n    <tr>\n      <th>16</th>\n      <td>17</td>\n      <td>Los Angeles Chargers</td>\n      <td>983</td>\n      <td>483</td>\n      <td>489</td>\n      <td>11 (2)</td>\n      <td>0.497</td>\n      <td>1960</td>\n      <td>AFC West</td>\n    </tr>\n    <tr>\n      <th>15</th>\n      <td>16</td>\n      <td>Los Angeles Rams</td>\n      <td>1,234</td>\n      <td>614</td>\n      <td>599</td>\n      <td>21 (3)</td>\n      <td>0.506</td>\n      <td>1937</td>\n      <td>NFC West</td>\n    </tr>\n    <tr>\n      <th>5</th>\n      <td>6</td>\n      <td>Miami Dolphins</td>\n      <td>899</td>\n      <td>496</td>\n      <td>399</td>\n      <td>4 (1)</td>\n      <td>0.554</td>\n      <td>1966</td>\n      <td>AFC East</td>\n    </tr>\n    <tr>\n      <th>7</th>\n      <td>8</td>\n      <td>Minnesota Vikings</td>\n      <td>969</td>\n      <td>523</td>\n      <td>435</td>\n      <td>11 (4)</td>\n      <td>0.546</td>\n      <td>1961</td>\n      <td>NFC North</td>\n    </tr>\n    <tr>\n      <th>4</th>\n      <td>5</td>\n      <td>New England Patriots</td>\n      <td>983</td>\n      <td>541</td>\n      <td>433</td>\n      <td>9 (0)</td>\n      <td>0.555</td>\n      <td>1960</td>\n      <td>AFC East</td>\n    </tr>\n    <tr>\n      <th>22</th>\n      <td>23</td>\n      <td>New Orleans Saints</td>\n      <td>870</td>\n      <td>412</td>\n      <td>468</td>\n      <td>5 (1)</td>\n      <td>0.468</td>\n      <td>1967</td>\n      <td>NFC South</td>\n    </tr>\n    <tr>\n      <th>10</th>\n      <td>11</td>\n      <td>New York Giants</td>\n      <td>1,404</td>\n      <td>721</td>\n      <td>649</td>\n      <td>34 (4)</td>\n      <td>0.526</td>\n      <td>1925</td>\n      <td>NFC East</td>\n    </tr>\n    <tr>\n      <th>26</th>\n      <td>27</td>\n      <td>New York Jets</td>\n      <td>983</td>\n      <td>428</td>\n      <td>547</td>\n      <td>8 (2)</td>\n      <td>0.439</td>\n      <td>1960</td>\n      <td>AFC East</td>\n    </tr>\n    <tr>\n      <th>17</th>\n      <td>18</td>\n      <td>Philadelphia Eagles</td>\n      <td>1,287</td>\n      <td>624</td>\n      <td>636</td>\n      <td>27 (7)</td>\n      <td>0.495</td>\n      <td>1933</td>\n      <td>NFC East</td>\n    </tr>\n    <tr>\n      <th>9</th>\n      <td>10</td>\n      <td>Pittsburgh Steelers</td>\n      <td>1,271</td>\n      <td>671</td>\n      <td>578</td>\n      <td>22 (4)</td>\n      <td>0.537</td>\n      <td>1933</td>\n      <td>AFC North</td>\n    </tr>\n    <tr>\n      <th>8</th>\n      <td>9</td>\n      <td>San Francisco 49ers[b]</td>\n      <td>1,101</td>\n      <td>586</td>\n      <td>501</td>\n      <td>14 (3)</td>\n      <td>0.539</td>\n      <td>1950</td>\n      <td>NFC West</td>\n    </tr>\n    <tr>\n      <th>14</th>\n      <td>15</td>\n      <td>Seattle Seahawks</td>\n      <td>759</td>\n      <td>392</td>\n      <td>366</td>\n      <td>1</td>\n      <td>0.517</td>\n      <td>1976</td>\n      <td>NFC West</td>\n    </tr>\n    <tr>\n      <th>31</th>\n      <td>32</td>\n      <td>Tampa Bay Buccaneers</td>\n      <td>759</td>\n      <td>308</td>\n      <td>450</td>\n      <td>1</td>\n      <td>0.406</td>\n      <td>1976</td>\n      <td>NFC South</td>\n    </tr>\n    <tr>\n      <th>20</th>\n      <td>21</td>\n      <td>Tennessee Titans</td>\n      <td>983</td>\n      <td>476</td>\n      <td>501</td>\n      <td>6 (0)</td>\n      <td>0.487</td>\n      <td>1960</td>\n      <td>AFC South</td>\n    </tr>\n    <tr>\n      <th>18</th>\n      <td>19</td>\n      <td>Washington Commanders</td>\n      <td>1,301</td>\n      <td>629</td>\n      <td>643</td>\n      <td>29 (3)</td>\n      <td>0.495</td>\n      <td>1932</td>\n      <td>NFC East</td>\n    </tr>\n  </tbody>\n</table>\n</div>"
          },
          "metadata": {}
        }
      ],
      "execution_count": 153
    },
    {
      "cell_type": "code",
      "source": "nfl.sort_values('Won')",
      "metadata": {
        "trusted": true
      },
      "outputs": [
        {
          "execution_count": 154,
          "output_type": "execute_result",
          "data": {
            "text/plain": "    Rank                    Team     GP  Won  Lost Tied[c]   Pct.  \\\n28    29          Houston Texans    355  152   202       1  0.430   \n29    30    Jacksonville Jaguars    467  198   269       0  0.424   \n23    24       Carolina Panthers    467  214   252       1  0.459   \n2      3        Baltimore Ravens    451  256   194       1  0.569   \n31    32    Tampa Bay Buccaneers    759  308   450       1  0.406   \n27    28         Atlanta Falcons    899  390   503   6 (2)  0.437   \n14    15        Seattle Seahawks    759  392   366       1  0.517   \n24    25      Cincinnati Bengals    869  394   471   5 (4)  0.456   \n22    23      New Orleans Saints    870  412   468   5 (1)  0.468   \n26    27           New York Jets    983  428   547   8 (2)  0.439   \n21    22           Buffalo Bills    982  473   501   8 (1)  0.486   \n20    21        Tennessee Titans    983  476   501   6 (0)  0.487   \n16    17    Los Angeles Chargers    983  483   489  11 (2)  0.497   \n5      6          Miami Dolphins    899  496   399   4 (1)  0.554   \n13    14       Las Vegas Raiders    983  505   467  11 (2)  0.520   \n12    13          Denver Broncos    983  508   465  10 (4)  0.522   \n19    20  Cleveland Browns[b][e]  1,053  512   530  11 (4)  0.491   \n7      8       Minnesota Vikings    969  523   435  11 (4)  0.546   \n6      7      Kansas City Chiefs    983  532   439  12 (4)  0.548   \n4      5    New England Patriots    983  541   433   9 (0)  0.555   \n11    12   Indianapolis Colts[d]  1,065  556   501   8 (2)  0.526   \n0      1          Dallas Cowboys    981  562   413   6 (0)  0.576   \n30    31       Arizona Cardinals  1,429  585   803  41 (6)  0.422   \n8      9  San Francisco 49ers[b]  1,101  586   501  14 (3)  0.539   \n25    26           Detroit Lions  1,332  591   707  34 (5)  0.455   \n15    16        Los Angeles Rams  1,234  614   599  21 (3)  0.506   \n17    18     Philadelphia Eagles  1,287  624   636  27 (7)  0.495   \n18    19   Washington Commanders  1,301  629   643  29 (3)  0.495   \n9     10     Pittsburgh Steelers  1,271  671   578  22 (4)  0.537   \n10    11         New York Giants  1,404  721   649  34 (4)  0.526   \n3      4           Chicago Bears  1,469  793   634  42 (1)  0.556   \n1      2       Green Bay Packers  1,435  800   598  38 (8)  0.572   \n\n    First NFL season   Division  \n28              2002  AFC South  \n29              1995  AFC South  \n23              1995  NFC South  \n2               1996  AFC North  \n31              1976  NFC South  \n27              1966  NFC South  \n14              1976   NFC West  \n24              1968  AFC North  \n22              1967  NFC South  \n26              1960   AFC East  \n21              1960   AFC East  \n20              1960  AFC South  \n16              1960   AFC West  \n5               1966   AFC East  \n13              1960   AFC West  \n12              1960   AFC West  \n19              1950  AFC North  \n7               1961  NFC North  \n6               1960   AFC West  \n4               1960   AFC East  \n11              1953  AFC South  \n0               1960   NFC East  \n30              1920   NFC West  \n8               1950   NFC West  \n25              1930  NFC North  \n15              1937   NFC West  \n17              1933   NFC East  \n18              1932   NFC East  \n9               1933  AFC North  \n10              1925   NFC East  \n3               1920  NFC North  \n1               1921  NFC North  ",
            "text/html": "<div>\n<style scoped>\n    .dataframe tbody tr th:only-of-type {\n        vertical-align: middle;\n    }\n\n    .dataframe tbody tr th {\n        vertical-align: top;\n    }\n\n    .dataframe thead th {\n        text-align: right;\n    }\n</style>\n<table border=\"1\" class=\"dataframe\">\n  <thead>\n    <tr style=\"text-align: right;\">\n      <th></th>\n      <th>Rank</th>\n      <th>Team</th>\n      <th>GP</th>\n      <th>Won</th>\n      <th>Lost</th>\n      <th>Tied[c]</th>\n      <th>Pct.</th>\n      <th>First NFL season</th>\n      <th>Division</th>\n    </tr>\n  </thead>\n  <tbody>\n    <tr>\n      <th>28</th>\n      <td>29</td>\n      <td>Houston Texans</td>\n      <td>355</td>\n      <td>152</td>\n      <td>202</td>\n      <td>1</td>\n      <td>0.430</td>\n      <td>2002</td>\n      <td>AFC South</td>\n    </tr>\n    <tr>\n      <th>29</th>\n      <td>30</td>\n      <td>Jacksonville Jaguars</td>\n      <td>467</td>\n      <td>198</td>\n      <td>269</td>\n      <td>0</td>\n      <td>0.424</td>\n      <td>1995</td>\n      <td>AFC South</td>\n    </tr>\n    <tr>\n      <th>23</th>\n      <td>24</td>\n      <td>Carolina Panthers</td>\n      <td>467</td>\n      <td>214</td>\n      <td>252</td>\n      <td>1</td>\n      <td>0.459</td>\n      <td>1995</td>\n      <td>NFC South</td>\n    </tr>\n    <tr>\n      <th>2</th>\n      <td>3</td>\n      <td>Baltimore Ravens</td>\n      <td>451</td>\n      <td>256</td>\n      <td>194</td>\n      <td>1</td>\n      <td>0.569</td>\n      <td>1996</td>\n      <td>AFC North</td>\n    </tr>\n    <tr>\n      <th>31</th>\n      <td>32</td>\n      <td>Tampa Bay Buccaneers</td>\n      <td>759</td>\n      <td>308</td>\n      <td>450</td>\n      <td>1</td>\n      <td>0.406</td>\n      <td>1976</td>\n      <td>NFC South</td>\n    </tr>\n    <tr>\n      <th>27</th>\n      <td>28</td>\n      <td>Atlanta Falcons</td>\n      <td>899</td>\n      <td>390</td>\n      <td>503</td>\n      <td>6 (2)</td>\n      <td>0.437</td>\n      <td>1966</td>\n      <td>NFC South</td>\n    </tr>\n    <tr>\n      <th>14</th>\n      <td>15</td>\n      <td>Seattle Seahawks</td>\n      <td>759</td>\n      <td>392</td>\n      <td>366</td>\n      <td>1</td>\n      <td>0.517</td>\n      <td>1976</td>\n      <td>NFC West</td>\n    </tr>\n    <tr>\n      <th>24</th>\n      <td>25</td>\n      <td>Cincinnati Bengals</td>\n      <td>869</td>\n      <td>394</td>\n      <td>471</td>\n      <td>5 (4)</td>\n      <td>0.456</td>\n      <td>1968</td>\n      <td>AFC North</td>\n    </tr>\n    <tr>\n      <th>22</th>\n      <td>23</td>\n      <td>New Orleans Saints</td>\n      <td>870</td>\n      <td>412</td>\n      <td>468</td>\n      <td>5 (1)</td>\n      <td>0.468</td>\n      <td>1967</td>\n      <td>NFC South</td>\n    </tr>\n    <tr>\n      <th>26</th>\n      <td>27</td>\n      <td>New York Jets</td>\n      <td>983</td>\n      <td>428</td>\n      <td>547</td>\n      <td>8 (2)</td>\n      <td>0.439</td>\n      <td>1960</td>\n      <td>AFC East</td>\n    </tr>\n    <tr>\n      <th>21</th>\n      <td>22</td>\n      <td>Buffalo Bills</td>\n      <td>982</td>\n      <td>473</td>\n      <td>501</td>\n      <td>8 (1)</td>\n      <td>0.486</td>\n      <td>1960</td>\n      <td>AFC East</td>\n    </tr>\n    <tr>\n      <th>20</th>\n      <td>21</td>\n      <td>Tennessee Titans</td>\n      <td>983</td>\n      <td>476</td>\n      <td>501</td>\n      <td>6 (0)</td>\n      <td>0.487</td>\n      <td>1960</td>\n      <td>AFC South</td>\n    </tr>\n    <tr>\n      <th>16</th>\n      <td>17</td>\n      <td>Los Angeles Chargers</td>\n      <td>983</td>\n      <td>483</td>\n      <td>489</td>\n      <td>11 (2)</td>\n      <td>0.497</td>\n      <td>1960</td>\n      <td>AFC West</td>\n    </tr>\n    <tr>\n      <th>5</th>\n      <td>6</td>\n      <td>Miami Dolphins</td>\n      <td>899</td>\n      <td>496</td>\n      <td>399</td>\n      <td>4 (1)</td>\n      <td>0.554</td>\n      <td>1966</td>\n      <td>AFC East</td>\n    </tr>\n    <tr>\n      <th>13</th>\n      <td>14</td>\n      <td>Las Vegas Raiders</td>\n      <td>983</td>\n      <td>505</td>\n      <td>467</td>\n      <td>11 (2)</td>\n      <td>0.520</td>\n      <td>1960</td>\n      <td>AFC West</td>\n    </tr>\n    <tr>\n      <th>12</th>\n      <td>13</td>\n      <td>Denver Broncos</td>\n      <td>983</td>\n      <td>508</td>\n      <td>465</td>\n      <td>10 (4)</td>\n      <td>0.522</td>\n      <td>1960</td>\n      <td>AFC West</td>\n    </tr>\n    <tr>\n      <th>19</th>\n      <td>20</td>\n      <td>Cleveland Browns[b][e]</td>\n      <td>1,053</td>\n      <td>512</td>\n      <td>530</td>\n      <td>11 (4)</td>\n      <td>0.491</td>\n      <td>1950</td>\n      <td>AFC North</td>\n    </tr>\n    <tr>\n      <th>7</th>\n      <td>8</td>\n      <td>Minnesota Vikings</td>\n      <td>969</td>\n      <td>523</td>\n      <td>435</td>\n      <td>11 (4)</td>\n      <td>0.546</td>\n      <td>1961</td>\n      <td>NFC North</td>\n    </tr>\n    <tr>\n      <th>6</th>\n      <td>7</td>\n      <td>Kansas City Chiefs</td>\n      <td>983</td>\n      <td>532</td>\n      <td>439</td>\n      <td>12 (4)</td>\n      <td>0.548</td>\n      <td>1960</td>\n      <td>AFC West</td>\n    </tr>\n    <tr>\n      <th>4</th>\n      <td>5</td>\n      <td>New England Patriots</td>\n      <td>983</td>\n      <td>541</td>\n      <td>433</td>\n      <td>9 (0)</td>\n      <td>0.555</td>\n      <td>1960</td>\n      <td>AFC East</td>\n    </tr>\n    <tr>\n      <th>11</th>\n      <td>12</td>\n      <td>Indianapolis Colts[d]</td>\n      <td>1,065</td>\n      <td>556</td>\n      <td>501</td>\n      <td>8 (2)</td>\n      <td>0.526</td>\n      <td>1953</td>\n      <td>AFC South</td>\n    </tr>\n    <tr>\n      <th>0</th>\n      <td>1</td>\n      <td>Dallas Cowboys</td>\n      <td>981</td>\n      <td>562</td>\n      <td>413</td>\n      <td>6 (0)</td>\n      <td>0.576</td>\n      <td>1960</td>\n      <td>NFC East</td>\n    </tr>\n    <tr>\n      <th>30</th>\n      <td>31</td>\n      <td>Arizona Cardinals</td>\n      <td>1,429</td>\n      <td>585</td>\n      <td>803</td>\n      <td>41 (6)</td>\n      <td>0.422</td>\n      <td>1920</td>\n      <td>NFC West</td>\n    </tr>\n    <tr>\n      <th>8</th>\n      <td>9</td>\n      <td>San Francisco 49ers[b]</td>\n      <td>1,101</td>\n      <td>586</td>\n      <td>501</td>\n      <td>14 (3)</td>\n      <td>0.539</td>\n      <td>1950</td>\n      <td>NFC West</td>\n    </tr>\n    <tr>\n      <th>25</th>\n      <td>26</td>\n      <td>Detroit Lions</td>\n      <td>1,332</td>\n      <td>591</td>\n      <td>707</td>\n      <td>34 (5)</td>\n      <td>0.455</td>\n      <td>1930</td>\n      <td>NFC North</td>\n    </tr>\n    <tr>\n      <th>15</th>\n      <td>16</td>\n      <td>Los Angeles Rams</td>\n      <td>1,234</td>\n      <td>614</td>\n      <td>599</td>\n      <td>21 (3)</td>\n      <td>0.506</td>\n      <td>1937</td>\n      <td>NFC West</td>\n    </tr>\n    <tr>\n      <th>17</th>\n      <td>18</td>\n      <td>Philadelphia Eagles</td>\n      <td>1,287</td>\n      <td>624</td>\n      <td>636</td>\n      <td>27 (7)</td>\n      <td>0.495</td>\n      <td>1933</td>\n      <td>NFC East</td>\n    </tr>\n    <tr>\n      <th>18</th>\n      <td>19</td>\n      <td>Washington Commanders</td>\n      <td>1,301</td>\n      <td>629</td>\n      <td>643</td>\n      <td>29 (3)</td>\n      <td>0.495</td>\n      <td>1932</td>\n      <td>NFC East</td>\n    </tr>\n    <tr>\n      <th>9</th>\n      <td>10</td>\n      <td>Pittsburgh Steelers</td>\n      <td>1,271</td>\n      <td>671</td>\n      <td>578</td>\n      <td>22 (4)</td>\n      <td>0.537</td>\n      <td>1933</td>\n      <td>AFC North</td>\n    </tr>\n    <tr>\n      <th>10</th>\n      <td>11</td>\n      <td>New York Giants</td>\n      <td>1,404</td>\n      <td>721</td>\n      <td>649</td>\n      <td>34 (4)</td>\n      <td>0.526</td>\n      <td>1925</td>\n      <td>NFC East</td>\n    </tr>\n    <tr>\n      <th>3</th>\n      <td>4</td>\n      <td>Chicago Bears</td>\n      <td>1,469</td>\n      <td>793</td>\n      <td>634</td>\n      <td>42 (1)</td>\n      <td>0.556</td>\n      <td>1920</td>\n      <td>NFC North</td>\n    </tr>\n    <tr>\n      <th>1</th>\n      <td>2</td>\n      <td>Green Bay Packers</td>\n      <td>1,435</td>\n      <td>800</td>\n      <td>598</td>\n      <td>38 (8)</td>\n      <td>0.572</td>\n      <td>1921</td>\n      <td>NFC North</td>\n    </tr>\n  </tbody>\n</table>\n</div>"
          },
          "metadata": {}
        }
      ],
      "execution_count": 154
    },
    {
      "cell_type": "code",
      "source": "nfl.sort_values(['GP','Lost'])",
      "metadata": {
        "trusted": true
      },
      "outputs": [
        {
          "execution_count": 156,
          "output_type": "execute_result",
          "data": {
            "text/plain": "    Rank                    Team     GP  Won  Lost Tied[c]   Pct.  \\\n19    20  Cleveland Browns[b][e]  1,053  512   530  11 (4)  0.491   \n11    12   Indianapolis Colts[d]  1,065  556   501   8 (2)  0.526   \n8      9  San Francisco 49ers[b]  1,101  586   501  14 (3)  0.539   \n15    16        Los Angeles Rams  1,234  614   599  21 (3)  0.506   \n9     10     Pittsburgh Steelers  1,271  671   578  22 (4)  0.537   \n17    18     Philadelphia Eagles  1,287  624   636  27 (7)  0.495   \n18    19   Washington Commanders  1,301  629   643  29 (3)  0.495   \n25    26           Detroit Lions  1,332  591   707  34 (5)  0.455   \n10    11         New York Giants  1,404  721   649  34 (4)  0.526   \n30    31       Arizona Cardinals  1,429  585   803  41 (6)  0.422   \n1      2       Green Bay Packers  1,435  800   598  38 (8)  0.572   \n3      4           Chicago Bears  1,469  793   634  42 (1)  0.556   \n28    29          Houston Texans    355  152   202       1  0.430   \n2      3        Baltimore Ravens    451  256   194       1  0.569   \n23    24       Carolina Panthers    467  214   252       1  0.459   \n29    30    Jacksonville Jaguars    467  198   269       0  0.424   \n14    15        Seattle Seahawks    759  392   366       1  0.517   \n31    32    Tampa Bay Buccaneers    759  308   450       1  0.406   \n24    25      Cincinnati Bengals    869  394   471   5 (4)  0.456   \n22    23      New Orleans Saints    870  412   468   5 (1)  0.468   \n5      6          Miami Dolphins    899  496   399   4 (1)  0.554   \n27    28         Atlanta Falcons    899  390   503   6 (2)  0.437   \n7      8       Minnesota Vikings    969  523   435  11 (4)  0.546   \n0      1          Dallas Cowboys    981  562   413   6 (0)  0.576   \n21    22           Buffalo Bills    982  473   501   8 (1)  0.486   \n4      5    New England Patriots    983  541   433   9 (0)  0.555   \n6      7      Kansas City Chiefs    983  532   439  12 (4)  0.548   \n12    13          Denver Broncos    983  508   465  10 (4)  0.522   \n13    14       Las Vegas Raiders    983  505   467  11 (2)  0.520   \n16    17    Los Angeles Chargers    983  483   489  11 (2)  0.497   \n20    21        Tennessee Titans    983  476   501   6 (0)  0.487   \n26    27           New York Jets    983  428   547   8 (2)  0.439   \n\n    First NFL season   Division  \n19              1950  AFC North  \n11              1953  AFC South  \n8               1950   NFC West  \n15              1937   NFC West  \n9               1933  AFC North  \n17              1933   NFC East  \n18              1932   NFC East  \n25              1930  NFC North  \n10              1925   NFC East  \n30              1920   NFC West  \n1               1921  NFC North  \n3               1920  NFC North  \n28              2002  AFC South  \n2               1996  AFC North  \n23              1995  NFC South  \n29              1995  AFC South  \n14              1976   NFC West  \n31              1976  NFC South  \n24              1968  AFC North  \n22              1967  NFC South  \n5               1966   AFC East  \n27              1966  NFC South  \n7               1961  NFC North  \n0               1960   NFC East  \n21              1960   AFC East  \n4               1960   AFC East  \n6               1960   AFC West  \n12              1960   AFC West  \n13              1960   AFC West  \n16              1960   AFC West  \n20              1960  AFC South  \n26              1960   AFC East  ",
            "text/html": "<div>\n<style scoped>\n    .dataframe tbody tr th:only-of-type {\n        vertical-align: middle;\n    }\n\n    .dataframe tbody tr th {\n        vertical-align: top;\n    }\n\n    .dataframe thead th {\n        text-align: right;\n    }\n</style>\n<table border=\"1\" class=\"dataframe\">\n  <thead>\n    <tr style=\"text-align: right;\">\n      <th></th>\n      <th>Rank</th>\n      <th>Team</th>\n      <th>GP</th>\n      <th>Won</th>\n      <th>Lost</th>\n      <th>Tied[c]</th>\n      <th>Pct.</th>\n      <th>First NFL season</th>\n      <th>Division</th>\n    </tr>\n  </thead>\n  <tbody>\n    <tr>\n      <th>19</th>\n      <td>20</td>\n      <td>Cleveland Browns[b][e]</td>\n      <td>1,053</td>\n      <td>512</td>\n      <td>530</td>\n      <td>11 (4)</td>\n      <td>0.491</td>\n      <td>1950</td>\n      <td>AFC North</td>\n    </tr>\n    <tr>\n      <th>11</th>\n      <td>12</td>\n      <td>Indianapolis Colts[d]</td>\n      <td>1,065</td>\n      <td>556</td>\n      <td>501</td>\n      <td>8 (2)</td>\n      <td>0.526</td>\n      <td>1953</td>\n      <td>AFC South</td>\n    </tr>\n    <tr>\n      <th>8</th>\n      <td>9</td>\n      <td>San Francisco 49ers[b]</td>\n      <td>1,101</td>\n      <td>586</td>\n      <td>501</td>\n      <td>14 (3)</td>\n      <td>0.539</td>\n      <td>1950</td>\n      <td>NFC West</td>\n    </tr>\n    <tr>\n      <th>15</th>\n      <td>16</td>\n      <td>Los Angeles Rams</td>\n      <td>1,234</td>\n      <td>614</td>\n      <td>599</td>\n      <td>21 (3)</td>\n      <td>0.506</td>\n      <td>1937</td>\n      <td>NFC West</td>\n    </tr>\n    <tr>\n      <th>9</th>\n      <td>10</td>\n      <td>Pittsburgh Steelers</td>\n      <td>1,271</td>\n      <td>671</td>\n      <td>578</td>\n      <td>22 (4)</td>\n      <td>0.537</td>\n      <td>1933</td>\n      <td>AFC North</td>\n    </tr>\n    <tr>\n      <th>17</th>\n      <td>18</td>\n      <td>Philadelphia Eagles</td>\n      <td>1,287</td>\n      <td>624</td>\n      <td>636</td>\n      <td>27 (7)</td>\n      <td>0.495</td>\n      <td>1933</td>\n      <td>NFC East</td>\n    </tr>\n    <tr>\n      <th>18</th>\n      <td>19</td>\n      <td>Washington Commanders</td>\n      <td>1,301</td>\n      <td>629</td>\n      <td>643</td>\n      <td>29 (3)</td>\n      <td>0.495</td>\n      <td>1932</td>\n      <td>NFC East</td>\n    </tr>\n    <tr>\n      <th>25</th>\n      <td>26</td>\n      <td>Detroit Lions</td>\n      <td>1,332</td>\n      <td>591</td>\n      <td>707</td>\n      <td>34 (5)</td>\n      <td>0.455</td>\n      <td>1930</td>\n      <td>NFC North</td>\n    </tr>\n    <tr>\n      <th>10</th>\n      <td>11</td>\n      <td>New York Giants</td>\n      <td>1,404</td>\n      <td>721</td>\n      <td>649</td>\n      <td>34 (4)</td>\n      <td>0.526</td>\n      <td>1925</td>\n      <td>NFC East</td>\n    </tr>\n    <tr>\n      <th>30</th>\n      <td>31</td>\n      <td>Arizona Cardinals</td>\n      <td>1,429</td>\n      <td>585</td>\n      <td>803</td>\n      <td>41 (6)</td>\n      <td>0.422</td>\n      <td>1920</td>\n      <td>NFC West</td>\n    </tr>\n    <tr>\n      <th>1</th>\n      <td>2</td>\n      <td>Green Bay Packers</td>\n      <td>1,435</td>\n      <td>800</td>\n      <td>598</td>\n      <td>38 (8)</td>\n      <td>0.572</td>\n      <td>1921</td>\n      <td>NFC North</td>\n    </tr>\n    <tr>\n      <th>3</th>\n      <td>4</td>\n      <td>Chicago Bears</td>\n      <td>1,469</td>\n      <td>793</td>\n      <td>634</td>\n      <td>42 (1)</td>\n      <td>0.556</td>\n      <td>1920</td>\n      <td>NFC North</td>\n    </tr>\n    <tr>\n      <th>28</th>\n      <td>29</td>\n      <td>Houston Texans</td>\n      <td>355</td>\n      <td>152</td>\n      <td>202</td>\n      <td>1</td>\n      <td>0.430</td>\n      <td>2002</td>\n      <td>AFC South</td>\n    </tr>\n    <tr>\n      <th>2</th>\n      <td>3</td>\n      <td>Baltimore Ravens</td>\n      <td>451</td>\n      <td>256</td>\n      <td>194</td>\n      <td>1</td>\n      <td>0.569</td>\n      <td>1996</td>\n      <td>AFC North</td>\n    </tr>\n    <tr>\n      <th>23</th>\n      <td>24</td>\n      <td>Carolina Panthers</td>\n      <td>467</td>\n      <td>214</td>\n      <td>252</td>\n      <td>1</td>\n      <td>0.459</td>\n      <td>1995</td>\n      <td>NFC South</td>\n    </tr>\n    <tr>\n      <th>29</th>\n      <td>30</td>\n      <td>Jacksonville Jaguars</td>\n      <td>467</td>\n      <td>198</td>\n      <td>269</td>\n      <td>0</td>\n      <td>0.424</td>\n      <td>1995</td>\n      <td>AFC South</td>\n    </tr>\n    <tr>\n      <th>14</th>\n      <td>15</td>\n      <td>Seattle Seahawks</td>\n      <td>759</td>\n      <td>392</td>\n      <td>366</td>\n      <td>1</td>\n      <td>0.517</td>\n      <td>1976</td>\n      <td>NFC West</td>\n    </tr>\n    <tr>\n      <th>31</th>\n      <td>32</td>\n      <td>Tampa Bay Buccaneers</td>\n      <td>759</td>\n      <td>308</td>\n      <td>450</td>\n      <td>1</td>\n      <td>0.406</td>\n      <td>1976</td>\n      <td>NFC South</td>\n    </tr>\n    <tr>\n      <th>24</th>\n      <td>25</td>\n      <td>Cincinnati Bengals</td>\n      <td>869</td>\n      <td>394</td>\n      <td>471</td>\n      <td>5 (4)</td>\n      <td>0.456</td>\n      <td>1968</td>\n      <td>AFC North</td>\n    </tr>\n    <tr>\n      <th>22</th>\n      <td>23</td>\n      <td>New Orleans Saints</td>\n      <td>870</td>\n      <td>412</td>\n      <td>468</td>\n      <td>5 (1)</td>\n      <td>0.468</td>\n      <td>1967</td>\n      <td>NFC South</td>\n    </tr>\n    <tr>\n      <th>5</th>\n      <td>6</td>\n      <td>Miami Dolphins</td>\n      <td>899</td>\n      <td>496</td>\n      <td>399</td>\n      <td>4 (1)</td>\n      <td>0.554</td>\n      <td>1966</td>\n      <td>AFC East</td>\n    </tr>\n    <tr>\n      <th>27</th>\n      <td>28</td>\n      <td>Atlanta Falcons</td>\n      <td>899</td>\n      <td>390</td>\n      <td>503</td>\n      <td>6 (2)</td>\n      <td>0.437</td>\n      <td>1966</td>\n      <td>NFC South</td>\n    </tr>\n    <tr>\n      <th>7</th>\n      <td>8</td>\n      <td>Minnesota Vikings</td>\n      <td>969</td>\n      <td>523</td>\n      <td>435</td>\n      <td>11 (4)</td>\n      <td>0.546</td>\n      <td>1961</td>\n      <td>NFC North</td>\n    </tr>\n    <tr>\n      <th>0</th>\n      <td>1</td>\n      <td>Dallas Cowboys</td>\n      <td>981</td>\n      <td>562</td>\n      <td>413</td>\n      <td>6 (0)</td>\n      <td>0.576</td>\n      <td>1960</td>\n      <td>NFC East</td>\n    </tr>\n    <tr>\n      <th>21</th>\n      <td>22</td>\n      <td>Buffalo Bills</td>\n      <td>982</td>\n      <td>473</td>\n      <td>501</td>\n      <td>8 (1)</td>\n      <td>0.486</td>\n      <td>1960</td>\n      <td>AFC East</td>\n    </tr>\n    <tr>\n      <th>4</th>\n      <td>5</td>\n      <td>New England Patriots</td>\n      <td>983</td>\n      <td>541</td>\n      <td>433</td>\n      <td>9 (0)</td>\n      <td>0.555</td>\n      <td>1960</td>\n      <td>AFC East</td>\n    </tr>\n    <tr>\n      <th>6</th>\n      <td>7</td>\n      <td>Kansas City Chiefs</td>\n      <td>983</td>\n      <td>532</td>\n      <td>439</td>\n      <td>12 (4)</td>\n      <td>0.548</td>\n      <td>1960</td>\n      <td>AFC West</td>\n    </tr>\n    <tr>\n      <th>12</th>\n      <td>13</td>\n      <td>Denver Broncos</td>\n      <td>983</td>\n      <td>508</td>\n      <td>465</td>\n      <td>10 (4)</td>\n      <td>0.522</td>\n      <td>1960</td>\n      <td>AFC West</td>\n    </tr>\n    <tr>\n      <th>13</th>\n      <td>14</td>\n      <td>Las Vegas Raiders</td>\n      <td>983</td>\n      <td>505</td>\n      <td>467</td>\n      <td>11 (2)</td>\n      <td>0.520</td>\n      <td>1960</td>\n      <td>AFC West</td>\n    </tr>\n    <tr>\n      <th>16</th>\n      <td>17</td>\n      <td>Los Angeles Chargers</td>\n      <td>983</td>\n      <td>483</td>\n      <td>489</td>\n      <td>11 (2)</td>\n      <td>0.497</td>\n      <td>1960</td>\n      <td>AFC West</td>\n    </tr>\n    <tr>\n      <th>20</th>\n      <td>21</td>\n      <td>Tennessee Titans</td>\n      <td>983</td>\n      <td>476</td>\n      <td>501</td>\n      <td>6 (0)</td>\n      <td>0.487</td>\n      <td>1960</td>\n      <td>AFC South</td>\n    </tr>\n    <tr>\n      <th>26</th>\n      <td>27</td>\n      <td>New York Jets</td>\n      <td>983</td>\n      <td>428</td>\n      <td>547</td>\n      <td>8 (2)</td>\n      <td>0.439</td>\n      <td>1960</td>\n      <td>AFC East</td>\n    </tr>\n  </tbody>\n</table>\n</div>"
          },
          "metadata": {}
        }
      ],
      "execution_count": 156
    },
    {
      "cell_type": "code",
      "source": "nfl.rank()",
      "metadata": {
        "trusted": true
      },
      "outputs": [
        {
          "execution_count": 157,
          "output_type": "execute_result",
          "data": {
            "text/plain": "    Rank  Team    GP   Won  Lost  Tied[c]  Pct.  First NFL season  Division\n0    1.0   9.0  24.0  22.0   7.0     26.5  32.0              17.0      18.5\n1    2.0  12.0  11.0  32.0  25.0     20.0  31.0               3.0      22.5\n2    3.0   3.0  14.0   4.0   1.0      4.0  30.0              31.0       6.5\n3    4.0   6.0  12.0  31.0  27.0     23.0  29.0               1.5      22.5\n4    5.0  22.0  29.0  20.0   8.0     32.0  28.0              17.0       2.5\n5    6.0  20.0  21.5  14.0   6.0     21.0  27.0              23.5       2.5\n6    7.0  16.0  29.0  19.0  10.0     12.0  26.0              17.0      14.5\n7    8.0  21.0  23.0  18.0   9.0     10.5  25.0              22.0      22.5\n8    9.0  28.0   3.0  24.0  18.5     13.0  24.0              10.5      30.5\n9   10.0  27.0   5.0  29.0  24.0     15.0  23.0               7.5       6.5\n10  11.0  24.0   9.0  30.0  30.0     18.0  21.5               4.0      18.5\n11  12.0  14.0   2.0  21.0  18.5     30.5  21.5              12.0      10.5\n12  13.0  10.0  29.0  16.0  12.0      7.0  20.0              17.0      14.5\n13  14.0  17.0  29.0  15.0  13.0      8.5  19.0              17.0      14.5\n14  15.0  29.0  17.5   7.0   5.0      4.0  18.0              27.5      30.5\n15  16.0  19.0   4.0  26.0  26.0     14.0  17.0               9.0      30.5\n16  17.0  18.0  29.0  13.0  16.0      8.5  16.0              17.0      14.5\n17  18.0  26.0   6.0  27.0  28.0     16.0  14.5               7.5      18.5\n18  19.0  32.0   7.0  28.0  29.0     17.0  14.5               6.0      18.5\n19  20.0   8.0   1.0  17.0  22.0     10.5  13.0              10.5       6.5\n20  21.0  31.0  29.0  12.0  18.5     26.5  12.0              17.0      10.5\n21  22.0   4.0  25.0  11.0  18.5     29.0  11.0              17.0       2.5\n22  23.0  23.0  20.0   9.0  14.0     24.0  10.0              25.0      26.5\n23  24.0   5.0  15.5   3.0   3.0      4.0   9.0              29.5      26.5\n24  25.0   7.0  19.0   8.0  15.0     25.0   8.0              26.0       6.5\n25  26.0  11.0   8.0  25.0  31.0     19.0   7.0               5.0      22.5\n26  27.0  25.0  29.0  10.0  23.0     30.5   6.0              17.0       2.5\n27  28.0   2.0  21.5   6.0  21.0     28.0   5.0              23.5      26.5\n28  29.0  13.0  13.0   1.0   2.0      4.0   4.0              32.0      10.5\n29  30.0  15.0  15.5   2.0   4.0      1.0   3.0              29.5      10.5\n30  31.0   1.0  10.0  23.0  32.0     22.0   2.0               1.5      30.5\n31  32.0  30.0  17.5   5.0  11.0      4.0   1.0              27.5      26.5",
            "text/html": "<div>\n<style scoped>\n    .dataframe tbody tr th:only-of-type {\n        vertical-align: middle;\n    }\n\n    .dataframe tbody tr th {\n        vertical-align: top;\n    }\n\n    .dataframe thead th {\n        text-align: right;\n    }\n</style>\n<table border=\"1\" class=\"dataframe\">\n  <thead>\n    <tr style=\"text-align: right;\">\n      <th></th>\n      <th>Rank</th>\n      <th>Team</th>\n      <th>GP</th>\n      <th>Won</th>\n      <th>Lost</th>\n      <th>Tied[c]</th>\n      <th>Pct.</th>\n      <th>First NFL season</th>\n      <th>Division</th>\n    </tr>\n  </thead>\n  <tbody>\n    <tr>\n      <th>0</th>\n      <td>1.0</td>\n      <td>9.0</td>\n      <td>24.0</td>\n      <td>22.0</td>\n      <td>7.0</td>\n      <td>26.5</td>\n      <td>32.0</td>\n      <td>17.0</td>\n      <td>18.5</td>\n    </tr>\n    <tr>\n      <th>1</th>\n      <td>2.0</td>\n      <td>12.0</td>\n      <td>11.0</td>\n      <td>32.0</td>\n      <td>25.0</td>\n      <td>20.0</td>\n      <td>31.0</td>\n      <td>3.0</td>\n      <td>22.5</td>\n    </tr>\n    <tr>\n      <th>2</th>\n      <td>3.0</td>\n      <td>3.0</td>\n      <td>14.0</td>\n      <td>4.0</td>\n      <td>1.0</td>\n      <td>4.0</td>\n      <td>30.0</td>\n      <td>31.0</td>\n      <td>6.5</td>\n    </tr>\n    <tr>\n      <th>3</th>\n      <td>4.0</td>\n      <td>6.0</td>\n      <td>12.0</td>\n      <td>31.0</td>\n      <td>27.0</td>\n      <td>23.0</td>\n      <td>29.0</td>\n      <td>1.5</td>\n      <td>22.5</td>\n    </tr>\n    <tr>\n      <th>4</th>\n      <td>5.0</td>\n      <td>22.0</td>\n      <td>29.0</td>\n      <td>20.0</td>\n      <td>8.0</td>\n      <td>32.0</td>\n      <td>28.0</td>\n      <td>17.0</td>\n      <td>2.5</td>\n    </tr>\n    <tr>\n      <th>5</th>\n      <td>6.0</td>\n      <td>20.0</td>\n      <td>21.5</td>\n      <td>14.0</td>\n      <td>6.0</td>\n      <td>21.0</td>\n      <td>27.0</td>\n      <td>23.5</td>\n      <td>2.5</td>\n    </tr>\n    <tr>\n      <th>6</th>\n      <td>7.0</td>\n      <td>16.0</td>\n      <td>29.0</td>\n      <td>19.0</td>\n      <td>10.0</td>\n      <td>12.0</td>\n      <td>26.0</td>\n      <td>17.0</td>\n      <td>14.5</td>\n    </tr>\n    <tr>\n      <th>7</th>\n      <td>8.0</td>\n      <td>21.0</td>\n      <td>23.0</td>\n      <td>18.0</td>\n      <td>9.0</td>\n      <td>10.5</td>\n      <td>25.0</td>\n      <td>22.0</td>\n      <td>22.5</td>\n    </tr>\n    <tr>\n      <th>8</th>\n      <td>9.0</td>\n      <td>28.0</td>\n      <td>3.0</td>\n      <td>24.0</td>\n      <td>18.5</td>\n      <td>13.0</td>\n      <td>24.0</td>\n      <td>10.5</td>\n      <td>30.5</td>\n    </tr>\n    <tr>\n      <th>9</th>\n      <td>10.0</td>\n      <td>27.0</td>\n      <td>5.0</td>\n      <td>29.0</td>\n      <td>24.0</td>\n      <td>15.0</td>\n      <td>23.0</td>\n      <td>7.5</td>\n      <td>6.5</td>\n    </tr>\n    <tr>\n      <th>10</th>\n      <td>11.0</td>\n      <td>24.0</td>\n      <td>9.0</td>\n      <td>30.0</td>\n      <td>30.0</td>\n      <td>18.0</td>\n      <td>21.5</td>\n      <td>4.0</td>\n      <td>18.5</td>\n    </tr>\n    <tr>\n      <th>11</th>\n      <td>12.0</td>\n      <td>14.0</td>\n      <td>2.0</td>\n      <td>21.0</td>\n      <td>18.5</td>\n      <td>30.5</td>\n      <td>21.5</td>\n      <td>12.0</td>\n      <td>10.5</td>\n    </tr>\n    <tr>\n      <th>12</th>\n      <td>13.0</td>\n      <td>10.0</td>\n      <td>29.0</td>\n      <td>16.0</td>\n      <td>12.0</td>\n      <td>7.0</td>\n      <td>20.0</td>\n      <td>17.0</td>\n      <td>14.5</td>\n    </tr>\n    <tr>\n      <th>13</th>\n      <td>14.0</td>\n      <td>17.0</td>\n      <td>29.0</td>\n      <td>15.0</td>\n      <td>13.0</td>\n      <td>8.5</td>\n      <td>19.0</td>\n      <td>17.0</td>\n      <td>14.5</td>\n    </tr>\n    <tr>\n      <th>14</th>\n      <td>15.0</td>\n      <td>29.0</td>\n      <td>17.5</td>\n      <td>7.0</td>\n      <td>5.0</td>\n      <td>4.0</td>\n      <td>18.0</td>\n      <td>27.5</td>\n      <td>30.5</td>\n    </tr>\n    <tr>\n      <th>15</th>\n      <td>16.0</td>\n      <td>19.0</td>\n      <td>4.0</td>\n      <td>26.0</td>\n      <td>26.0</td>\n      <td>14.0</td>\n      <td>17.0</td>\n      <td>9.0</td>\n      <td>30.5</td>\n    </tr>\n    <tr>\n      <th>16</th>\n      <td>17.0</td>\n      <td>18.0</td>\n      <td>29.0</td>\n      <td>13.0</td>\n      <td>16.0</td>\n      <td>8.5</td>\n      <td>16.0</td>\n      <td>17.0</td>\n      <td>14.5</td>\n    </tr>\n    <tr>\n      <th>17</th>\n      <td>18.0</td>\n      <td>26.0</td>\n      <td>6.0</td>\n      <td>27.0</td>\n      <td>28.0</td>\n      <td>16.0</td>\n      <td>14.5</td>\n      <td>7.5</td>\n      <td>18.5</td>\n    </tr>\n    <tr>\n      <th>18</th>\n      <td>19.0</td>\n      <td>32.0</td>\n      <td>7.0</td>\n      <td>28.0</td>\n      <td>29.0</td>\n      <td>17.0</td>\n      <td>14.5</td>\n      <td>6.0</td>\n      <td>18.5</td>\n    </tr>\n    <tr>\n      <th>19</th>\n      <td>20.0</td>\n      <td>8.0</td>\n      <td>1.0</td>\n      <td>17.0</td>\n      <td>22.0</td>\n      <td>10.5</td>\n      <td>13.0</td>\n      <td>10.5</td>\n      <td>6.5</td>\n    </tr>\n    <tr>\n      <th>20</th>\n      <td>21.0</td>\n      <td>31.0</td>\n      <td>29.0</td>\n      <td>12.0</td>\n      <td>18.5</td>\n      <td>26.5</td>\n      <td>12.0</td>\n      <td>17.0</td>\n      <td>10.5</td>\n    </tr>\n    <tr>\n      <th>21</th>\n      <td>22.0</td>\n      <td>4.0</td>\n      <td>25.0</td>\n      <td>11.0</td>\n      <td>18.5</td>\n      <td>29.0</td>\n      <td>11.0</td>\n      <td>17.0</td>\n      <td>2.5</td>\n    </tr>\n    <tr>\n      <th>22</th>\n      <td>23.0</td>\n      <td>23.0</td>\n      <td>20.0</td>\n      <td>9.0</td>\n      <td>14.0</td>\n      <td>24.0</td>\n      <td>10.0</td>\n      <td>25.0</td>\n      <td>26.5</td>\n    </tr>\n    <tr>\n      <th>23</th>\n      <td>24.0</td>\n      <td>5.0</td>\n      <td>15.5</td>\n      <td>3.0</td>\n      <td>3.0</td>\n      <td>4.0</td>\n      <td>9.0</td>\n      <td>29.5</td>\n      <td>26.5</td>\n    </tr>\n    <tr>\n      <th>24</th>\n      <td>25.0</td>\n      <td>7.0</td>\n      <td>19.0</td>\n      <td>8.0</td>\n      <td>15.0</td>\n      <td>25.0</td>\n      <td>8.0</td>\n      <td>26.0</td>\n      <td>6.5</td>\n    </tr>\n    <tr>\n      <th>25</th>\n      <td>26.0</td>\n      <td>11.0</td>\n      <td>8.0</td>\n      <td>25.0</td>\n      <td>31.0</td>\n      <td>19.0</td>\n      <td>7.0</td>\n      <td>5.0</td>\n      <td>22.5</td>\n    </tr>\n    <tr>\n      <th>26</th>\n      <td>27.0</td>\n      <td>25.0</td>\n      <td>29.0</td>\n      <td>10.0</td>\n      <td>23.0</td>\n      <td>30.5</td>\n      <td>6.0</td>\n      <td>17.0</td>\n      <td>2.5</td>\n    </tr>\n    <tr>\n      <th>27</th>\n      <td>28.0</td>\n      <td>2.0</td>\n      <td>21.5</td>\n      <td>6.0</td>\n      <td>21.0</td>\n      <td>28.0</td>\n      <td>5.0</td>\n      <td>23.5</td>\n      <td>26.5</td>\n    </tr>\n    <tr>\n      <th>28</th>\n      <td>29.0</td>\n      <td>13.0</td>\n      <td>13.0</td>\n      <td>1.0</td>\n      <td>2.0</td>\n      <td>4.0</td>\n      <td>4.0</td>\n      <td>32.0</td>\n      <td>10.5</td>\n    </tr>\n    <tr>\n      <th>29</th>\n      <td>30.0</td>\n      <td>15.0</td>\n      <td>15.5</td>\n      <td>2.0</td>\n      <td>4.0</td>\n      <td>1.0</td>\n      <td>3.0</td>\n      <td>29.5</td>\n      <td>10.5</td>\n    </tr>\n    <tr>\n      <th>30</th>\n      <td>31.0</td>\n      <td>1.0</td>\n      <td>10.0</td>\n      <td>23.0</td>\n      <td>32.0</td>\n      <td>22.0</td>\n      <td>2.0</td>\n      <td>1.5</td>\n      <td>30.5</td>\n    </tr>\n    <tr>\n      <th>31</th>\n      <td>32.0</td>\n      <td>30.0</td>\n      <td>17.5</td>\n      <td>5.0</td>\n      <td>11.0</td>\n      <td>4.0</td>\n      <td>1.0</td>\n      <td>27.5</td>\n      <td>26.5</td>\n    </tr>\n  </tbody>\n</table>\n</div>"
          },
          "metadata": {}
        }
      ],
      "execution_count": 157
    },
    {
      "cell_type": "code",
      "source": "",
      "metadata": {
        "trusted": true
      },
      "outputs": [],
      "execution_count": null
    }
  ]
}