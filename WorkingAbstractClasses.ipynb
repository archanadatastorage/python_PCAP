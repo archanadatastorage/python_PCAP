{
  "metadata": {
    "kernelspec": {
      "name": "python",
      "display_name": "Python (Pyodide)",
      "language": "python"
    },
    "language_info": {
      "codemirror_mode": {
        "name": "python",
        "version": 3
      },
      "file_extension": ".py",
      "mimetype": "text/x-python",
      "name": "python",
      "nbconvert_exporter": "python",
      "pygments_lexer": "ipython3",
      "version": "3.8"
    }
  },
  "nbformat_minor": 4,
  "nbformat": 4,
  "cells": [
    {
      "cell_type": "code",
      "source": "from abc import ABC, abstractmethod",
      "metadata": {
        "trusted": true
      },
      "outputs": [],
      "execution_count": 1
    },
    {
      "cell_type": "code",
      "source": "class Employee(ABC):\n    def __init__(self,first,last):\n        self.first=first\n        self.last=last\n    def fullname(self):\n        return self.first + \" \" + self.last\n    @abstractmethod\n    def get_salary(self):\n        pass\n    ",
      "metadata": {
        "trusted": true
      },
      "outputs": [],
      "execution_count": 6
    },
    {
      "cell_type": "code",
      "source": "class fulltimeEmp(Employee):\n    def __init__(self,first,last,sal):\n        super().__init__(first,last)\n        self.sal=sal\n    def get_salary(self):\n        return self.pay\n    ",
      "metadata": {
        "trusted": true
      },
      "outputs": [],
      "execution_count": 10
    },
    {
      "cell_type": "code",
      "source": "femp1 = fulltimeEmp('john','smith',2345)",
      "metadata": {
        "trusted": true
      },
      "outputs": [],
      "execution_count": 11
    },
    {
      "cell_type": "code",
      "source": "class parttimeEmp(Employee):\n    def __init__(self,first,last,hrs,rate):\n        super().__init__(first,last)\n        self.hrs=hrs\n        self.rate =rate\n    def get_salary(self):\n        return self.hrs*self.rate\n",
      "metadata": {
        "trusted": true
      },
      "outputs": [],
      "execution_count": 15
    },
    {
      "cell_type": "code",
      "source": "pemp1 = parttimeEmp('ram','Kumar',5,2000)",
      "metadata": {
        "trusted": true
      },
      "outputs": [],
      "execution_count": 16
    },
    {
      "cell_type": "code",
      "source": "pemp1.get_salary()",
      "metadata": {
        "trusted": true
      },
      "outputs": [
        {
          "execution_count": 17,
          "output_type": "execute_result",
          "data": {
            "text/plain": "10000"
          },
          "metadata": {}
        }
      ],
      "execution_count": 17
    },
    {
      "cell_type": "code",
      "source": "help(Employee)",
      "metadata": {
        "trusted": true
      },
      "outputs": [
        {
          "name": "stdout",
          "text": "Help on class Employee in module __main__:\n\nclass Employee(abc.ABC)\n |  Employee(first, last)\n |\n |  Method resolution order:\n |      Employee\n |      abc.ABC\n |      builtins.object\n |\n |  Methods defined here:\n |\n |  __init__(self, first, last)\n |      Initialize self.  See help(type(self)) for accurate signature.\n |\n |  fullname(self)\n |\n |  get_salary(self)\n |\n |  ----------------------------------------------------------------------\n |  Data descriptors defined here:\n |\n |  __dict__\n |      dictionary for instance variables\n |\n |  __weakref__\n |      list of weak references to the object\n |\n |  ----------------------------------------------------------------------\n |  Data and other attributes defined here:\n |\n |  __abstractmethods__ = frozenset({'get_salary'})\n\n",
          "output_type": "stream"
        }
      ],
      "execution_count": 18
    },
    {
      "cell_type": "code",
      "source": "help(fulltimeEmp)",
      "metadata": {
        "trusted": true
      },
      "outputs": [
        {
          "name": "stdout",
          "text": "Help on class fulltimeEmp in module __main__:\n\nclass fulltimeEmp(Employee)\n |  fulltimeEmp(first, last, sal)\n |\n |  Method resolution order:\n |      fulltimeEmp\n |      Employee\n |      abc.ABC\n |      builtins.object\n |\n |  Methods defined here:\n |\n |  __init__(self, first, last, sal)\n |      Initialize self.  See help(type(self)) for accurate signature.\n |\n |  get_salary(self)\n |\n |  ----------------------------------------------------------------------\n |  Data and other attributes defined here:\n |\n |  __abstractmethods__ = frozenset()\n |\n |  ----------------------------------------------------------------------\n |  Methods inherited from Employee:\n |\n |  fullname(self)\n |\n |  ----------------------------------------------------------------------\n |  Data descriptors inherited from Employee:\n |\n |  __dict__\n |      dictionary for instance variables\n |\n |  __weakref__\n |      list of weak references to the object\n\n",
          "output_type": "stream"
        }
      ],
      "execution_count": 19
    },
    {
      "cell_type": "code",
      "source": "",
      "metadata": {
        "trusted": true
      },
      "outputs": [],
      "execution_count": null
    }
  ]
}