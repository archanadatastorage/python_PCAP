{
  "metadata": {
    "kernelspec": {
      "name": "python",
      "display_name": "Python (Pyodide)",
      "language": "python"
    },
    "language_info": {
      "codemirror_mode": {
        "name": "python",
        "version": 3
      },
      "file_extension": ".py",
      "mimetype": "text/x-python",
      "name": "python",
      "nbconvert_exporter": "python",
      "pygments_lexer": "ipython3",
      "version": "3.8"
    }
  },
  "nbformat_minor": 4,
  "nbformat": 4,
  "cells": [
    {
      "cell_type": "code",
      "source": "import numpy as np",
      "metadata": {
        "trusted": true
      },
      "outputs": [],
      "execution_count": 2
    },
    {
      "cell_type": "code",
      "source": "dir(np)",
      "metadata": {
        "trusted": true
      },
      "outputs": [
        {
          "execution_count": 2,
          "output_type": "execute_result",
          "data": {
            "text/plain": "['ALLOW_THREADS',\n 'BUFSIZE',\n 'CLIP',\n 'DataSource',\n 'ERR_CALL',\n 'ERR_DEFAULT',\n 'ERR_IGNORE',\n 'ERR_LOG',\n 'ERR_PRINT',\n 'ERR_RAISE',\n 'ERR_WARN',\n 'FLOATING_POINT_SUPPORT',\n 'FPE_DIVIDEBYZERO',\n 'FPE_INVALID',\n 'FPE_OVERFLOW',\n 'FPE_UNDERFLOW',\n 'False_',\n 'Inf',\n 'Infinity',\n 'MAXDIMS',\n 'MAY_SHARE_BOUNDS',\n 'MAY_SHARE_EXACT',\n 'NAN',\n 'NINF',\n 'NZERO',\n 'NaN',\n 'PINF',\n 'PZERO',\n 'RAISE',\n 'RankWarning',\n 'SHIFT_DIVIDEBYZERO',\n 'SHIFT_INVALID',\n 'SHIFT_OVERFLOW',\n 'SHIFT_UNDERFLOW',\n 'ScalarType',\n 'True_',\n 'UFUNC_BUFSIZE_DEFAULT',\n 'UFUNC_PYVALS_NAME',\n 'WRAP',\n '_CopyMode',\n '_NoValue',\n '_UFUNC_API',\n '__NUMPY_SETUP__',\n '__all__',\n '__builtins__',\n '__cached__',\n '__config__',\n '__deprecated_attrs__',\n '__dir__',\n '__doc__',\n '__expired_functions__',\n '__file__',\n '__former_attrs__',\n '__future_scalars__',\n '__getattr__',\n '__loader__',\n '__name__',\n '__package__',\n '__path__',\n '__spec__',\n '__version__',\n '_add_newdoc_ufunc',\n '_builtins',\n '_distributor_init',\n '_financial_names',\n '_get_promotion_state',\n '_globals',\n '_int_extended_msg',\n '_mat',\n '_no_nep50_warning',\n '_pyinstaller_hooks_dir',\n '_pytesttester',\n '_set_promotion_state',\n '_specific_msg',\n '_typing',\n '_using_numpy2_behavior',\n '_utils',\n 'abs',\n 'absolute',\n 'add',\n 'add_docstring',\n 'add_newdoc',\n 'add_newdoc_ufunc',\n 'all',\n 'allclose',\n 'alltrue',\n 'amax',\n 'amin',\n 'angle',\n 'any',\n 'append',\n 'apply_along_axis',\n 'apply_over_axes',\n 'arange',\n 'arccos',\n 'arccosh',\n 'arcsin',\n 'arcsinh',\n 'arctan',\n 'arctan2',\n 'arctanh',\n 'argmax',\n 'argmin',\n 'argpartition',\n 'argsort',\n 'argwhere',\n 'around',\n 'array',\n 'array2string',\n 'array_equal',\n 'array_equiv',\n 'array_repr',\n 'array_split',\n 'array_str',\n 'asanyarray',\n 'asarray',\n 'asarray_chkfinite',\n 'ascontiguousarray',\n 'asfarray',\n 'asfortranarray',\n 'asmatrix',\n 'atleast_1d',\n 'atleast_2d',\n 'atleast_3d',\n 'average',\n 'bartlett',\n 'base_repr',\n 'binary_repr',\n 'bincount',\n 'bitwise_and',\n 'bitwise_not',\n 'bitwise_or',\n 'bitwise_xor',\n 'blackman',\n 'block',\n 'bmat',\n 'bool_',\n 'broadcast',\n 'broadcast_arrays',\n 'broadcast_shapes',\n 'broadcast_to',\n 'busday_count',\n 'busday_offset',\n 'busdaycalendar',\n 'byte',\n 'byte_bounds',\n 'bytes_',\n 'c_',\n 'can_cast',\n 'cast',\n 'cbrt',\n 'cdouble',\n 'ceil',\n 'cfloat',\n 'char',\n 'character',\n 'chararray',\n 'choose',\n 'clip',\n 'clongdouble',\n 'clongfloat',\n 'column_stack',\n 'common_type',\n 'compare_chararrays',\n 'compat',\n 'complex128',\n 'complex256',\n 'complex64',\n 'complex_',\n 'complexfloating',\n 'compress',\n 'concatenate',\n 'conj',\n 'conjugate',\n 'convolve',\n 'copy',\n 'copysign',\n 'copyto',\n 'corrcoef',\n 'correlate',\n 'cos',\n 'cosh',\n 'count_nonzero',\n 'cov',\n 'cross',\n 'csingle',\n 'ctypeslib',\n 'cumprod',\n 'cumproduct',\n 'cumsum',\n 'datetime64',\n 'datetime_as_string',\n 'datetime_data',\n 'deg2rad',\n 'degrees',\n 'delete',\n 'deprecate',\n 'deprecate_with_doc',\n 'diag',\n 'diag_indices',\n 'diag_indices_from',\n 'diagflat',\n 'diagonal',\n 'diff',\n 'digitize',\n 'disp',\n 'divide',\n 'divmod',\n 'dot',\n 'double',\n 'dsplit',\n 'dstack',\n 'dtype',\n 'dtypes',\n 'e',\n 'ediff1d',\n 'einsum',\n 'einsum_path',\n 'emath',\n 'empty',\n 'empty_like',\n 'equal',\n 'errstate',\n 'euler_gamma',\n 'exceptions',\n 'exp',\n 'exp2',\n 'expand_dims',\n 'expm1',\n 'extract',\n 'eye',\n 'fabs',\n 'fastCopyAndTranspose',\n 'fft',\n 'fill_diagonal',\n 'find_common_type',\n 'finfo',\n 'fix',\n 'flatiter',\n 'flatnonzero',\n 'flexible',\n 'flip',\n 'fliplr',\n 'flipud',\n 'float128',\n 'float16',\n 'float32',\n 'float64',\n 'float_',\n 'float_power',\n 'floating',\n 'floor',\n 'floor_divide',\n 'fmax',\n 'fmin',\n 'fmod',\n 'format_float_positional',\n 'format_float_scientific',\n 'format_parser',\n 'frexp',\n 'from_dlpack',\n 'frombuffer',\n 'fromfile',\n 'fromfunction',\n 'fromiter',\n 'frompyfunc',\n 'fromregex',\n 'fromstring',\n 'full',\n 'full_like',\n 'gcd',\n 'generic',\n 'genfromtxt',\n 'geomspace',\n 'get_array_wrap',\n 'get_include',\n 'get_printoptions',\n 'getbufsize',\n 'geterr',\n 'geterrcall',\n 'geterrobj',\n 'gradient',\n 'greater',\n 'greater_equal',\n 'half',\n 'hamming',\n 'hanning',\n 'heaviside',\n 'histogram',\n 'histogram2d',\n 'histogram_bin_edges',\n 'histogramdd',\n 'hsplit',\n 'hstack',\n 'hypot',\n 'i0',\n 'identity',\n 'iinfo',\n 'imag',\n 'in1d',\n 'index_exp',\n 'indices',\n 'inexact',\n 'inf',\n 'info',\n 'infty',\n 'inner',\n 'insert',\n 'int16',\n 'int32',\n 'int64',\n 'int8',\n 'int_',\n 'intc',\n 'integer',\n 'interp',\n 'intersect1d',\n 'intp',\n 'invert',\n 'is_busday',\n 'isclose',\n 'iscomplex',\n 'iscomplexobj',\n 'isfinite',\n 'isfortran',\n 'isin',\n 'isinf',\n 'isnan',\n 'isnat',\n 'isneginf',\n 'isposinf',\n 'isreal',\n 'isrealobj',\n 'isscalar',\n 'issctype',\n 'issubclass_',\n 'issubdtype',\n 'issubsctype',\n 'iterable',\n 'ix_',\n 'kaiser',\n 'kron',\n 'lcm',\n 'ldexp',\n 'left_shift',\n 'less',\n 'less_equal',\n 'lexsort',\n 'lib',\n 'linalg',\n 'linspace',\n 'little_endian',\n 'load',\n 'loadtxt',\n 'log',\n 'log10',\n 'log1p',\n 'log2',\n 'logaddexp',\n 'logaddexp2',\n 'logical_and',\n 'logical_not',\n 'logical_or',\n 'logical_xor',\n 'logspace',\n 'longcomplex',\n 'longdouble',\n 'longfloat',\n 'longlong',\n 'lookfor',\n 'ma',\n 'mask_indices',\n 'mat',\n 'matmul',\n 'matrix',\n 'max',\n 'maximum',\n 'maximum_sctype',\n 'may_share_memory',\n 'mean',\n 'median',\n 'memmap',\n 'meshgrid',\n 'mgrid',\n 'min',\n 'min_scalar_type',\n 'minimum',\n 'mintypecode',\n 'mod',\n 'modf',\n 'moveaxis',\n 'msort',\n 'multiply',\n 'nan',\n 'nan_to_num',\n 'nanargmax',\n 'nanargmin',\n 'nancumprod',\n 'nancumsum',\n 'nanmax',\n 'nanmean',\n 'nanmedian',\n 'nanmin',\n 'nanpercentile',\n 'nanprod',\n 'nanquantile',\n 'nanstd',\n 'nansum',\n 'nanvar',\n 'nbytes',\n 'ndarray',\n 'ndenumerate',\n 'ndim',\n 'ndindex',\n 'nditer',\n 'negative',\n 'nested_iters',\n 'newaxis',\n 'nextafter',\n 'nonzero',\n 'not_equal',\n 'numarray',\n 'number',\n 'obj2sctype',\n 'object_',\n 'ogrid',\n 'oldnumeric',\n 'ones',\n 'ones_like',\n 'outer',\n 'packbits',\n 'pad',\n 'partition',\n 'percentile',\n 'pi',\n 'piecewise',\n 'place',\n 'poly',\n 'poly1d',\n 'polyadd',\n 'polyder',\n 'polydiv',\n 'polyfit',\n 'polyint',\n 'polymul',\n 'polynomial',\n 'polysub',\n 'polyval',\n 'positive',\n 'power',\n 'printoptions',\n 'prod',\n 'product',\n 'promote_types',\n 'ptp',\n 'put',\n 'put_along_axis',\n 'putmask',\n 'quantile',\n 'r_',\n 'rad2deg',\n 'radians',\n 'random',\n 'ravel',\n 'ravel_multi_index',\n 'real',\n 'real_if_close',\n 'rec',\n 'recarray',\n 'recfromcsv',\n 'recfromtxt',\n 'reciprocal',\n 'record',\n 'remainder',\n 'repeat',\n 'require',\n 'reshape',\n 'resize',\n 'result_type',\n 'right_shift',\n 'rint',\n 'roll',\n 'rollaxis',\n 'roots',\n 'rot90',\n 'round',\n 'round_',\n 'row_stack',\n 's_',\n 'safe_eval',\n 'save',\n 'savetxt',\n 'savez',\n 'savez_compressed',\n 'sctype2char',\n 'sctypeDict',\n 'sctypes',\n 'searchsorted',\n 'select',\n 'set_numeric_ops',\n 'set_printoptions',\n 'set_string_function',\n 'setbufsize',\n 'setdiff1d',\n 'seterr',\n 'seterrcall',\n 'seterrobj',\n 'setxor1d',\n 'shape',\n 'shares_memory',\n 'short',\n 'show_config',\n 'show_runtime',\n 'sign',\n 'signbit',\n 'signedinteger',\n 'sin',\n 'sinc',\n 'single',\n 'singlecomplex',\n 'sinh',\n 'size',\n 'sometrue',\n 'sort',\n 'sort_complex',\n 'source',\n 'spacing',\n 'split',\n 'sqrt',\n 'square',\n 'squeeze',\n 'stack',\n 'std',\n 'str_',\n 'string_',\n 'subtract',\n 'sum',\n 'swapaxes',\n 'take',\n 'take_along_axis',\n 'tan',\n 'tanh',\n 'tensordot',\n 'test',\n 'testing',\n 'tile',\n 'timedelta64',\n 'trace',\n 'tracemalloc_domain',\n 'transpose',\n 'trapz',\n 'tri',\n 'tril',\n 'tril_indices',\n 'tril_indices_from',\n 'trim_zeros',\n 'triu',\n 'triu_indices',\n 'triu_indices_from',\n 'true_divide',\n 'trunc',\n 'typecodes',\n 'typename',\n 'ubyte',\n 'ufunc',\n 'uint',\n 'uint16',\n 'uint32',\n 'uint64',\n 'uint8',\n 'uintc',\n 'uintp',\n 'ulonglong',\n 'unicode_',\n 'union1d',\n 'unique',\n 'unpackbits',\n 'unravel_index',\n 'unsignedinteger',\n 'unwrap',\n 'ushort',\n 'vander',\n 'var',\n 'vdot',\n 'vectorize',\n 'version',\n 'void',\n 'vsplit',\n 'vstack',\n 'where',\n 'who',\n 'zeros',\n 'zeros_like']"
          },
          "metadata": {}
        }
      ],
      "execution_count": 2
    },
    {
      "cell_type": "code",
      "source": "my_list = [1,2,3,4]",
      "metadata": {
        "trusted": true
      },
      "outputs": [],
      "execution_count": 1
    },
    {
      "cell_type": "code",
      "source": "my_arr = np.array(my_list)",
      "metadata": {
        "trusted": true
      },
      "outputs": [],
      "execution_count": 3
    },
    {
      "cell_type": "code",
      "source": "type(my_arr)",
      "metadata": {
        "trusted": true
      },
      "outputs": [
        {
          "execution_count": 4,
          "output_type": "execute_result",
          "data": {
            "text/plain": "numpy.ndarray"
          },
          "metadata": {}
        }
      ],
      "execution_count": 4
    },
    {
      "cell_type": "code",
      "source": "l2 = [11,22,33,44]",
      "metadata": {
        "trusted": true
      },
      "outputs": [],
      "execution_count": 5
    },
    {
      "cell_type": "code",
      "source": "my_arr2 = np.array([my_list,l2])",
      "metadata": {
        "trusted": true
      },
      "outputs": [],
      "execution_count": 6
    },
    {
      "cell_type": "code",
      "source": "my_arr2",
      "metadata": {
        "trusted": true
      },
      "outputs": [
        {
          "execution_count": 9,
          "output_type": "execute_result",
          "data": {
            "text/plain": "array([[ 1,  2,  3,  4],\n       [11, 22, 33, 44]])"
          },
          "metadata": {}
        }
      ],
      "execution_count": 9
    },
    {
      "cell_type": "code",
      "source": "l3 = ['ram','shyam','sia']",
      "metadata": {
        "trusted": true
      },
      "outputs": [],
      "execution_count": 7
    },
    {
      "cell_type": "code",
      "source": "arr_names = np.array(l3)",
      "metadata": {
        "trusted": true
      },
      "outputs": [],
      "execution_count": 8
    },
    {
      "cell_type": "code",
      "source": "arr_names",
      "metadata": {
        "trusted": true
      },
      "outputs": [
        {
          "execution_count": 9,
          "output_type": "execute_result",
          "data": {
            "text/plain": "array(['ram', 'shyam', 'sia'], dtype='<U5')"
          },
          "metadata": {}
        }
      ],
      "execution_count": 9
    },
    {
      "cell_type": "code",
      "source": "l4 = ['100',23.45,'john']",
      "metadata": {
        "trusted": true
      },
      "outputs": [],
      "execution_count": 10
    },
    {
      "cell_type": "code",
      "source": "arr_l4 = np.array(l4)",
      "metadata": {
        "trusted": true
      },
      "outputs": [],
      "execution_count": 11
    },
    {
      "cell_type": "code",
      "source": "arr_l4",
      "metadata": {
        "trusted": true
      },
      "outputs": [
        {
          "execution_count": 12,
          "output_type": "execute_result",
          "data": {
            "text/plain": "array(['100', '23.45', 'john'], dtype='<U32')"
          },
          "metadata": {}
        }
      ],
      "execution_count": 12
    },
    {
      "cell_type": "code",
      "source": "l5 = [(100,23.45,'john'),(200,25.95,'Smith')]",
      "metadata": {
        "trusted": true
      },
      "outputs": [],
      "execution_count": 16
    },
    {
      "cell_type": "code",
      "source": "arr_l5 = np.array(l5)",
      "metadata": {
        "trusted": true
      },
      "outputs": [],
      "execution_count": 17
    },
    {
      "cell_type": "code",
      "source": "arr_l5",
      "metadata": {
        "trusted": true
      },
      "outputs": [
        {
          "execution_count": 18,
          "output_type": "execute_result",
          "data": {
            "text/plain": "array([['100', '23.45', 'john'],\n       ['200', '25.95', 'Smith']], dtype='<U32')"
          },
          "metadata": {}
        }
      ],
      "execution_count": 18
    },
    {
      "cell_type": "code",
      "source": "#shape\nmy_arr.shape",
      "metadata": {
        "trusted": true
      },
      "outputs": [
        {
          "execution_count": 13,
          "output_type": "execute_result",
          "data": {
            "text/plain": "(4,)"
          },
          "metadata": {}
        }
      ],
      "execution_count": 13
    },
    {
      "cell_type": "code",
      "source": "my_arr2.shape",
      "metadata": {
        "trusted": true
      },
      "outputs": [
        {
          "execution_count": 14,
          "output_type": "execute_result",
          "data": {
            "text/plain": "(2, 4)"
          },
          "metadata": {}
        }
      ],
      "execution_count": 14
    },
    {
      "cell_type": "code",
      "source": "arr_l5.shape",
      "metadata": {
        "trusted": true
      },
      "outputs": [
        {
          "execution_count": 21,
          "output_type": "execute_result",
          "data": {
            "text/plain": "(2, 3)"
          },
          "metadata": {}
        }
      ],
      "execution_count": 21
    },
    {
      "cell_type": "code",
      "source": "#dtype\nmy_arr.dtype",
      "metadata": {
        "trusted": true
      },
      "outputs": [
        {
          "execution_count": 15,
          "output_type": "execute_result",
          "data": {
            "text/plain": "dtype('int32')"
          },
          "metadata": {}
        }
      ],
      "execution_count": 15
    },
    {
      "cell_type": "code",
      "source": "arr_l5.dtype",
      "metadata": {
        "trusted": true
      },
      "outputs": [
        {
          "execution_count": 23,
          "output_type": "execute_result",
          "data": {
            "text/plain": "dtype('<U32')"
          },
          "metadata": {}
        }
      ],
      "execution_count": 23
    },
    {
      "cell_type": "code",
      "source": "newlist = [11,22,33,55]",
      "metadata": {
        "trusted": true
      },
      "outputs": [],
      "execution_count": 30
    },
    {
      "cell_type": "code",
      "source": "my_list",
      "metadata": {
        "trusted": true
      },
      "outputs": [
        {
          "execution_count": 31,
          "output_type": "execute_result",
          "data": {
            "text/plain": "[1, 2, 3, 4]"
          },
          "metadata": {}
        }
      ],
      "execution_count": 31
    },
    {
      "cell_type": "code",
      "source": "arr_newlist= np.array([newlist,my_list,l2])",
      "metadata": {
        "trusted": true
      },
      "outputs": [],
      "execution_count": 39
    },
    {
      "cell_type": "raw",
      "source": "",
      "metadata": {}
    },
    {
      "cell_type": "code",
      "source": "arr_newlist.dtype",
      "metadata": {
        "trusted": true
      },
      "outputs": [
        {
          "execution_count": 34,
          "output_type": "execute_result",
          "data": {
            "text/plain": "dtype('int32')"
          },
          "metadata": {}
        }
      ],
      "execution_count": 34
    },
    {
      "cell_type": "code",
      "source": "arr_newlist.shape",
      "metadata": {
        "trusted": true
      },
      "outputs": [
        {
          "execution_count": 37,
          "output_type": "execute_result",
          "data": {
            "text/plain": "(3, 4)"
          },
          "metadata": {}
        }
      ],
      "execution_count": 37
    },
    {
      "cell_type": "code",
      "source": "arr_newlist",
      "metadata": {
        "trusted": true
      },
      "outputs": [
        {
          "execution_count": 41,
          "output_type": "execute_result",
          "data": {
            "text/plain": "array([[11, 22, 33, 55],\n       [ 1,  2,  3,  4],\n       [11, 22, 33, 44]])"
          },
          "metadata": {}
        }
      ],
      "execution_count": 41
    },
    {
      "cell_type": "code",
      "source": "#array with zeros\narr_zeros= np.zeros(5)",
      "metadata": {
        "trusted": true
      },
      "outputs": [],
      "execution_count": 16
    },
    {
      "cell_type": "code",
      "source": "arr_zeros",
      "metadata": {
        "trusted": true
      },
      "outputs": [
        {
          "execution_count": 43,
          "output_type": "execute_result",
          "data": {
            "text/plain": "array([0., 0., 0., 0., 0.])"
          },
          "metadata": {}
        }
      ],
      "execution_count": 43
    },
    {
      "cell_type": "code",
      "source": "arr_zeros.dtype",
      "metadata": {
        "trusted": true
      },
      "outputs": [
        {
          "execution_count": 44,
          "output_type": "execute_result",
          "data": {
            "text/plain": "dtype('float64')"
          },
          "metadata": {}
        }
      ],
      "execution_count": 44
    },
    {
      "cell_type": "code",
      "source": "arr_2zeros = np.zeros([5,2])",
      "metadata": {
        "trusted": true
      },
      "outputs": [],
      "execution_count": 46
    },
    {
      "cell_type": "code",
      "source": "arr_2zeros",
      "metadata": {
        "trusted": true
      },
      "outputs": [
        {
          "execution_count": 47,
          "output_type": "execute_result",
          "data": {
            "text/plain": "array([[0., 0.],\n       [0., 0.],\n       [0., 0.],\n       [0., 0.],\n       [0., 0.]])"
          },
          "metadata": {}
        }
      ],
      "execution_count": 47
    },
    {
      "cell_type": "code",
      "source": "#ones\narr_ones = np.ones(5)",
      "metadata": {
        "trusted": true
      },
      "outputs": [],
      "execution_count": 17
    },
    {
      "cell_type": "code",
      "source": "arr_ones",
      "metadata": {
        "trusted": true
      },
      "outputs": [
        {
          "execution_count": 18,
          "output_type": "execute_result",
          "data": {
            "text/plain": "array([1., 1., 1., 1., 1.])"
          },
          "metadata": {}
        }
      ],
      "execution_count": 18
    },
    {
      "cell_type": "code",
      "source": "arr_ones.dtype",
      "metadata": {
        "trusted": true
      },
      "outputs": [
        {
          "execution_count": 50,
          "output_type": "execute_result",
          "data": {
            "text/plain": "dtype('float64')"
          },
          "metadata": {}
        }
      ],
      "execution_count": 50
    },
    {
      "cell_type": "code",
      "source": "arr_2ones = np.ones([2,9])",
      "metadata": {
        "trusted": true
      },
      "outputs": [],
      "execution_count": 19
    },
    {
      "cell_type": "code",
      "source": "arr_2ones",
      "metadata": {
        "trusted": true
      },
      "outputs": [
        {
          "execution_count": 53,
          "output_type": "execute_result",
          "data": {
            "text/plain": "array([[1., 1., 1., 1., 1., 1., 1., 1., 1.],\n       [1., 1., 1., 1., 1., 1., 1., 1., 1.]])"
          },
          "metadata": {}
        }
      ],
      "execution_count": 53
    },
    {
      "cell_type": "code",
      "source": "#empty array\narr_empty = np.empty(5)",
      "metadata": {
        "trusted": true
      },
      "outputs": [],
      "execution_count": 20
    },
    {
      "cell_type": "code",
      "source": "arr_empty.dtype",
      "metadata": {
        "trusted": true
      },
      "outputs": [
        {
          "execution_count": 55,
          "output_type": "execute_result",
          "data": {
            "text/plain": "dtype('float64')"
          },
          "metadata": {}
        }
      ],
      "execution_count": 55
    },
    {
      "cell_type": "code",
      "source": "arr_empty",
      "metadata": {
        "trusted": true
      },
      "outputs": [
        {
          "execution_count": 21,
          "output_type": "execute_result",
          "data": {
            "text/plain": "array([1., 1., 1., 1., 1.])"
          },
          "metadata": {}
        }
      ],
      "execution_count": 21
    },
    {
      "cell_type": "code",
      "source": "#generate the identity matrix\narr_id = np.eye(5)",
      "metadata": {
        "trusted": true
      },
      "outputs": [],
      "execution_count": 22
    },
    {
      "cell_type": "code",
      "source": "arr_id.dtype",
      "metadata": {
        "trusted": true
      },
      "outputs": [
        {
          "execution_count": 58,
          "output_type": "execute_result",
          "data": {
            "text/plain": "dtype('float64')"
          },
          "metadata": {}
        }
      ],
      "execution_count": 58
    },
    {
      "cell_type": "code",
      "source": "arr_id",
      "metadata": {
        "trusted": true
      },
      "outputs": [
        {
          "execution_count": 23,
          "output_type": "execute_result",
          "data": {
            "text/plain": "array([[1., 0., 0., 0., 0.],\n       [0., 1., 0., 0., 0.],\n       [0., 0., 1., 0., 0.],\n       [0., 0., 0., 1., 0.],\n       [0., 0., 0., 0., 1.]])"
          },
          "metadata": {}
        }
      ],
      "execution_count": 23
    },
    {
      "cell_type": "code",
      "source": "#arange to generate the arr\narr_rng = np.arange(5)",
      "metadata": {
        "trusted": true
      },
      "outputs": [],
      "execution_count": 24
    },
    {
      "cell_type": "code",
      "source": "arr_rng",
      "metadata": {
        "trusted": true
      },
      "outputs": [
        {
          "execution_count": 27,
          "output_type": "execute_result",
          "data": {
            "text/plain": "array([0, 1, 2, 3, 4])"
          },
          "metadata": {}
        }
      ],
      "execution_count": 27
    },
    {
      "cell_type": "code",
      "source": "arr2d = np.arange(50)",
      "metadata": {
        "trusted": true
      },
      "outputs": [],
      "execution_count": 31
    },
    {
      "cell_type": "markdown",
      "source": "## ",
      "metadata": {}
    },
    {
      "cell_type": "code",
      "source": "arr2d",
      "metadata": {
        "trusted": true
      },
      "outputs": [
        {
          "execution_count": 26,
          "output_type": "execute_result",
          "data": {
            "text/plain": "array([ 5,  7,  9, 11, 13, 15, 17, 19, 21, 23, 25, 27, 29, 31, 33, 35, 37,\n       39, 41, 43, 45, 47, 49])"
          },
          "metadata": {}
        }
      ],
      "execution_count": 26
    },
    {
      "cell_type": "code",
      "source": "new2d=arr2d.reshape(5,10)",
      "metadata": {
        "trusted": true
      },
      "outputs": [],
      "execution_count": 34
    },
    {
      "cell_type": "code",
      "source": "arr2d",
      "metadata": {
        "trusted": true
      },
      "outputs": [
        {
          "execution_count": 35,
          "output_type": "execute_result",
          "data": {
            "text/plain": "array([ 0,  1,  2,  3,  4,  5,  6,  7,  8,  9, 10, 11, 12, 13, 14, 15, 16,\n       17, 18, 19, 20, 21, 22, 23, 24, 25, 26, 27, 28, 29, 30, 31, 32, 33,\n       34, 35, 36, 37, 38, 39, 40, 41, 42, 43, 44, 45, 46, 47, 48, 49])"
          },
          "metadata": {}
        }
      ],
      "execution_count": 35
    },
    {
      "cell_type": "code",
      "source": "new2d",
      "metadata": {
        "trusted": true
      },
      "outputs": [
        {
          "execution_count": 36,
          "output_type": "execute_result",
          "data": {
            "text/plain": "array([[ 0,  1,  2,  3,  4,  5,  6,  7,  8,  9],\n       [10, 11, 12, 13, 14, 15, 16, 17, 18, 19],\n       [20, 21, 22, 23, 24, 25, 26, 27, 28, 29],\n       [30, 31, 32, 33, 34, 35, 36, 37, 38, 39],\n       [40, 41, 42, 43, 44, 45, 46, 47, 48, 49]])"
          },
          "metadata": {}
        }
      ],
      "execution_count": 36
    },
    {
      "cell_type": "code",
      "source": "arr2d[1]",
      "metadata": {
        "trusted": true
      },
      "outputs": [
        {
          "execution_count": 37,
          "output_type": "execute_result",
          "data": {
            "text/plain": "1"
          },
          "metadata": {}
        }
      ],
      "execution_count": 37
    },
    {
      "cell_type": "code",
      "source": "arr2d",
      "metadata": {
        "trusted": true
      },
      "outputs": [
        {
          "execution_count": 38,
          "output_type": "execute_result",
          "data": {
            "text/plain": "array([ 0,  1,  2,  3,  4,  5,  6,  7,  8,  9, 10, 11, 12, 13, 14, 15, 16,\n       17, 18, 19, 20, 21, 22, 23, 24, 25, 26, 27, 28, 29, 30, 31, 32, 33,\n       34, 35, 36, 37, 38, 39, 40, 41, 42, 43, 44, 45, 46, 47, 48, 49])"
          },
          "metadata": {}
        }
      ],
      "execution_count": 38
    },
    {
      "cell_type": "code",
      "source": "arr_l4",
      "metadata": {
        "trusted": true
      },
      "outputs": [
        {
          "execution_count": 39,
          "output_type": "execute_result",
          "data": {
            "text/plain": "array(['100', '23.45', 'john'], dtype='<U32')"
          },
          "metadata": {}
        }
      ],
      "execution_count": 39
    },
    {
      "cell_type": "code",
      "source": "arr_l4[0]",
      "metadata": {
        "trusted": true
      },
      "outputs": [
        {
          "execution_count": 41,
          "output_type": "execute_result",
          "data": {
            "text/plain": "'100'"
          },
          "metadata": {}
        }
      ],
      "execution_count": 41
    },
    {
      "cell_type": "code",
      "source": "arr_l4[2]",
      "metadata": {
        "trusted": true
      },
      "outputs": [
        {
          "execution_count": 42,
          "output_type": "execute_result",
          "data": {
            "text/plain": "'john'"
          },
          "metadata": {}
        }
      ],
      "execution_count": 42
    },
    {
      "cell_type": "code",
      "source": "arr_l4[3]",
      "metadata": {
        "trusted": true
      },
      "outputs": [
        {
          "ename": "<class 'IndexError'>",
          "evalue": "index 3 is out of bounds for axis 0 with size 3",
          "traceback": [
            "\u001b[0;31m---------------------------------------------------------------------------\u001b[0m",
            "\u001b[0;31mIndexError\u001b[0m                                Traceback (most recent call last)",
            "Cell \u001b[0;32mIn[43], line 1\u001b[0m\n\u001b[0;32m----> 1\u001b[0m \u001b[43marr_l4\u001b[49m\u001b[43m[\u001b[49m\u001b[38;5;241;43m3\u001b[39;49m\u001b[43m]\u001b[49m\n",
            "\u001b[0;31mIndexError\u001b[0m: index 3 is out of bounds for axis 0 with size 3"
          ],
          "output_type": "error"
        }
      ],
      "execution_count": 43
    },
    {
      "cell_type": "code",
      "source": "new2d",
      "metadata": {
        "trusted": true
      },
      "outputs": [
        {
          "execution_count": 44,
          "output_type": "execute_result",
          "data": {
            "text/plain": "array([[ 0,  1,  2,  3,  4,  5,  6,  7,  8,  9],\n       [10, 11, 12, 13, 14, 15, 16, 17, 18, 19],\n       [20, 21, 22, 23, 24, 25, 26, 27, 28, 29],\n       [30, 31, 32, 33, 34, 35, 36, 37, 38, 39],\n       [40, 41, 42, 43, 44, 45, 46, 47, 48, 49]])"
          },
          "metadata": {}
        }
      ],
      "execution_count": 44
    },
    {
      "cell_type": "code",
      "source": "new2d[0]",
      "metadata": {
        "trusted": true
      },
      "outputs": [
        {
          "execution_count": 45,
          "output_type": "execute_result",
          "data": {
            "text/plain": "array([0, 1, 2, 3, 4, 5, 6, 7, 8, 9])"
          },
          "metadata": {}
        }
      ],
      "execution_count": 45
    },
    {
      "cell_type": "code",
      "source": "new2d[0][1]",
      "metadata": {
        "trusted": true
      },
      "outputs": [
        {
          "execution_count": 46,
          "output_type": "execute_result",
          "data": {
            "text/plain": "1"
          },
          "metadata": {}
        }
      ],
      "execution_count": 46
    },
    {
      "cell_type": "code",
      "source": "new2d[1:]",
      "metadata": {
        "trusted": true
      },
      "outputs": [
        {
          "execution_count": 47,
          "output_type": "execute_result",
          "data": {
            "text/plain": "array([[10, 11, 12, 13, 14, 15, 16, 17, 18, 19],\n       [20, 21, 22, 23, 24, 25, 26, 27, 28, 29],\n       [30, 31, 32, 33, 34, 35, 36, 37, 38, 39],\n       [40, 41, 42, 43, 44, 45, 46, 47, 48, 49]])"
          },
          "metadata": {}
        }
      ],
      "execution_count": 47
    },
    {
      "cell_type": "code",
      "source": "new2d[:2]",
      "metadata": {
        "trusted": true
      },
      "outputs": [
        {
          "execution_count": 48,
          "output_type": "execute_result",
          "data": {
            "text/plain": "array([[ 0,  1,  2,  3,  4,  5,  6,  7,  8,  9],\n       [10, 11, 12, 13, 14, 15, 16, 17, 18, 19]])"
          },
          "metadata": {}
        }
      ],
      "execution_count": 48
    },
    {
      "cell_type": "code",
      "source": "new2d[1][:2]",
      "metadata": {
        "trusted": true
      },
      "outputs": [
        {
          "execution_count": 53,
          "output_type": "execute_result",
          "data": {
            "text/plain": "array([10, 11])"
          },
          "metadata": {}
        }
      ],
      "execution_count": 53
    },
    {
      "cell_type": "code",
      "source": "new2d",
      "metadata": {
        "trusted": true
      },
      "outputs": [
        {
          "execution_count": 54,
          "output_type": "execute_result",
          "data": {
            "text/plain": "array([[ 0,  1,  2,  3,  4,  5,  6,  7,  8,  9],\n       [10, 11, 12, 13, 14, 15, 16, 17, 18, 19],\n       [20, 21, 22, 23, 24, 25, 26, 27, 28, 29],\n       [30, 31, 32, 33, 34, 35, 36, 37, 38, 39],\n       [40, 41, 42, 43, 44, 45, 46, 47, 48, 49]])"
          },
          "metadata": {}
        }
      ],
      "execution_count": 54
    },
    {
      "cell_type": "code",
      "source": "new2d[3][1:3]",
      "metadata": {
        "trusted": true
      },
      "outputs": [
        {
          "execution_count": 59,
          "output_type": "execute_result",
          "data": {
            "text/plain": "array([31, 32])"
          },
          "metadata": {}
        }
      ],
      "execution_count": 59
    },
    {
      "cell_type": "code",
      "source": "new2d",
      "metadata": {
        "trusted": true
      },
      "outputs": [
        {
          "execution_count": 60,
          "output_type": "execute_result",
          "data": {
            "text/plain": "array([[ 0,  1,  2,  3,  4,  5,  6,  7,  8,  9],\n       [10, 11, 12, 13, 14, 15, 16, 17, 18, 19],\n       [20, 21, 22, 23, 24, 25, 26, 27, 28, 29],\n       [30, 31, 32, 33, 34, 35, 36, 37, 38, 39],\n       [40, 41, 42, 43, 44, 45, 46, 47, 48, 49]])"
          },
          "metadata": {}
        }
      ],
      "execution_count": 60
    },
    {
      "cell_type": "code",
      "source": "new2dT = new2d.T",
      "metadata": {
        "trusted": true
      },
      "outputs": [],
      "execution_count": 61
    },
    {
      "cell_type": "code",
      "source": "new2dT",
      "metadata": {
        "trusted": true
      },
      "outputs": [
        {
          "execution_count": 62,
          "output_type": "execute_result",
          "data": {
            "text/plain": "array([[ 0, 10, 20, 30, 40],\n       [ 1, 11, 21, 31, 41],\n       [ 2, 12, 22, 32, 42],\n       [ 3, 13, 23, 33, 43],\n       [ 4, 14, 24, 34, 44],\n       [ 5, 15, 25, 35, 45],\n       [ 6, 16, 26, 36, 46],\n       [ 7, 17, 27, 37, 47],\n       [ 8, 18, 28, 38, 48],\n       [ 9, 19, 29, 39, 49]])"
          },
          "metadata": {}
        }
      ],
      "execution_count": 62
    },
    {
      "cell_type": "code",
      "source": "new2d.shape",
      "metadata": {
        "trusted": true
      },
      "outputs": [
        {
          "execution_count": 63,
          "output_type": "execute_result",
          "data": {
            "text/plain": "(5, 10)"
          },
          "metadata": {}
        }
      ],
      "execution_count": 63
    },
    {
      "cell_type": "code",
      "source": "new2dT.shape",
      "metadata": {
        "trusted": true
      },
      "outputs": [
        {
          "execution_count": 65,
          "output_type": "execute_result",
          "data": {
            "text/plain": "(10, 5)"
          },
          "metadata": {}
        }
      ],
      "execution_count": 65
    },
    {
      "cell_type": "code",
      "source": "arr2d",
      "metadata": {
        "trusted": true
      },
      "outputs": [
        {
          "execution_count": 66,
          "output_type": "execute_result",
          "data": {
            "text/plain": "array([ 0,  1,  2,  3,  4,  5,  6,  7,  8,  9, 10, 11, 12, 13, 14, 15, 16,\n       17, 18, 19, 20, 21, 22, 23, 24, 25, 26, 27, 28, 29, 30, 31, 32, 33,\n       34, 35, 36, 37, 38, 39, 40, 41, 42, 43, 44, 45, 46, 47, 48, 49])"
          },
          "metadata": {}
        }
      ],
      "execution_count": 66
    },
    {
      "cell_type": "code",
      "source": "arr2d.sum()",
      "metadata": {
        "trusted": true
      },
      "outputs": [
        {
          "execution_count": 67,
          "output_type": "execute_result",
          "data": {
            "text/plain": "1225"
          },
          "metadata": {}
        }
      ],
      "execution_count": 67
    },
    {
      "cell_type": "code",
      "source": "new2d.sum()",
      "metadata": {
        "trusted": true
      },
      "outputs": [
        {
          "execution_count": 68,
          "output_type": "execute_result",
          "data": {
            "text/plain": "1225"
          },
          "metadata": {}
        }
      ],
      "execution_count": 68
    },
    {
      "cell_type": "code",
      "source": "new2d.sum(axis=0)",
      "metadata": {
        "trusted": true
      },
      "outputs": [
        {
          "execution_count": 69,
          "output_type": "execute_result",
          "data": {
            "text/plain": "array([100, 105, 110, 115, 120, 125, 130, 135, 140, 145])"
          },
          "metadata": {}
        }
      ],
      "execution_count": 69
    },
    {
      "cell_type": "code",
      "source": "new2d",
      "metadata": {
        "trusted": true
      },
      "outputs": [
        {
          "execution_count": 70,
          "output_type": "execute_result",
          "data": {
            "text/plain": "array([[ 0,  1,  2,  3,  4,  5,  6,  7,  8,  9],\n       [10, 11, 12, 13, 14, 15, 16, 17, 18, 19],\n       [20, 21, 22, 23, 24, 25, 26, 27, 28, 29],\n       [30, 31, 32, 33, 34, 35, 36, 37, 38, 39],\n       [40, 41, 42, 43, 44, 45, 46, 47, 48, 49]])"
          },
          "metadata": {}
        }
      ],
      "execution_count": 70
    },
    {
      "cell_type": "code",
      "source": "new2d.sum(axis=1)",
      "metadata": {
        "trusted": true
      },
      "outputs": [
        {
          "execution_count": 71,
          "output_type": "execute_result",
          "data": {
            "text/plain": "array([ 45, 145, 245, 345, 445])"
          },
          "metadata": {}
        }
      ],
      "execution_count": 71
    },
    {
      "cell_type": "code",
      "source": "x = [[1,2,3],[4,5,6],[7,1,0]]",
      "metadata": {
        "trusted": true
      },
      "outputs": [],
      "execution_count": 72
    },
    {
      "cell_type": "code",
      "source": "arOfX = np.array(x)",
      "metadata": {
        "trusted": true
      },
      "outputs": [],
      "execution_count": 109
    },
    {
      "cell_type": "code",
      "source": "arOfX.shape",
      "metadata": {
        "trusted": true
      },
      "outputs": [
        {
          "execution_count": 75,
          "output_type": "execute_result",
          "data": {
            "text/plain": "(3, 3)"
          },
          "metadata": {}
        }
      ],
      "execution_count": 75
    },
    {
      "cell_type": "code",
      "source": "arOfX",
      "metadata": {
        "trusted": true
      },
      "outputs": [
        {
          "execution_count": 76,
          "output_type": "execute_result",
          "data": {
            "text/plain": "array([[1, 2, 3],\n       [4, 5, 6],\n       [7, 1, 0]])"
          },
          "metadata": {}
        }
      ],
      "execution_count": 76
    },
    {
      "cell_type": "code",
      "source": "arOfX.sum()",
      "metadata": {
        "trusted": true
      },
      "outputs": [
        {
          "execution_count": 77,
          "output_type": "execute_result",
          "data": {
            "text/plain": "29"
          },
          "metadata": {}
        }
      ],
      "execution_count": 77
    },
    {
      "cell_type": "code",
      "source": "arOfX.sum(axis=0)     # columwise",
      "metadata": {
        "trusted": true
      },
      "outputs": [
        {
          "execution_count": 78,
          "output_type": "execute_result",
          "data": {
            "text/plain": "array([12,  8,  9])"
          },
          "metadata": {}
        }
      ],
      "execution_count": 78
    },
    {
      "cell_type": "code",
      "source": "arOfX.sum(axis=1)    # rowwise",
      "metadata": {
        "trusted": true
      },
      "outputs": [
        {
          "execution_count": 79,
          "output_type": "execute_result",
          "data": {
            "text/plain": "array([ 6, 15,  8])"
          },
          "metadata": {}
        }
      ],
      "execution_count": 79
    },
    {
      "cell_type": "code",
      "source": "arOfX.std()",
      "metadata": {
        "trusted": true
      },
      "outputs": [
        {
          "execution_count": 80,
          "output_type": "execute_result",
          "data": {
            "text/plain": "2.2986845406196887"
          },
          "metadata": {}
        }
      ],
      "execution_count": 80
    },
    {
      "cell_type": "code",
      "source": "arOfX.sort()",
      "metadata": {
        "trusted": true
      },
      "outputs": [],
      "execution_count": 81
    },
    {
      "cell_type": "code",
      "source": "arOfX",
      "metadata": {
        "trusted": true
      },
      "outputs": [
        {
          "execution_count": 82,
          "output_type": "execute_result",
          "data": {
            "text/plain": "array([[1, 2, 3],\n       [4, 5, 6],\n       [0, 1, 7]])"
          },
          "metadata": {}
        }
      ],
      "execution_count": 82
    },
    {
      "cell_type": "code",
      "source": "arOfX.sort(axis=0)",
      "metadata": {
        "trusted": true
      },
      "outputs": [],
      "execution_count": 83
    },
    {
      "cell_type": "code",
      "source": "arOfX",
      "metadata": {
        "trusted": true
      },
      "outputs": [
        {
          "execution_count": 84,
          "output_type": "execute_result",
          "data": {
            "text/plain": "array([[0, 1, 3],\n       [1, 2, 6],\n       [4, 5, 7]])"
          },
          "metadata": {}
        }
      ],
      "execution_count": 84
    },
    {
      "cell_type": "code",
      "source": "arOfX.sort(axis=0)",
      "metadata": {
        "trusted": true
      },
      "outputs": [],
      "execution_count": 85
    },
    {
      "cell_type": "code",
      "source": "arOfX",
      "metadata": {
        "trusted": true
      },
      "outputs": [
        {
          "execution_count": 86,
          "output_type": "execute_result",
          "data": {
            "text/plain": "array([[0, 1, 3],\n       [1, 2, 6],\n       [4, 5, 7]])"
          },
          "metadata": {}
        }
      ],
      "execution_count": 86
    },
    {
      "cell_type": "code",
      "source": "arr2d",
      "metadata": {
        "trusted": true
      },
      "outputs": [
        {
          "execution_count": 87,
          "output_type": "execute_result",
          "data": {
            "text/plain": "array([ 0,  1,  2,  3,  4,  5,  6,  7,  8,  9, 10, 11, 12, 13, 14, 15, 16,\n       17, 18, 19, 20, 21, 22, 23, 24, 25, 26, 27, 28, 29, 30, 31, 32, 33,\n       34, 35, 36, 37, 38, 39, 40, 41, 42, 43, 44, 45, 46, 47, 48, 49])"
          },
          "metadata": {}
        }
      ],
      "execution_count": 87
    },
    {
      "cell_type": "code",
      "source": "arr2d.size",
      "metadata": {
        "trusted": true
      },
      "outputs": [
        {
          "execution_count": 88,
          "output_type": "execute_result",
          "data": {
            "text/plain": "50"
          },
          "metadata": {}
        }
      ],
      "execution_count": 88
    },
    {
      "cell_type": "code",
      "source": "arOfX.size",
      "metadata": {
        "trusted": true
      },
      "outputs": [
        {
          "execution_count": 89,
          "output_type": "execute_result",
          "data": {
            "text/plain": "9"
          },
          "metadata": {}
        }
      ],
      "execution_count": 89
    },
    {
      "cell_type": "code",
      "source": "arr_ones",
      "metadata": {
        "trusted": true
      },
      "outputs": [
        {
          "execution_count": 90,
          "output_type": "execute_result",
          "data": {
            "text/plain": "array([1., 1., 1., 1., 1.])"
          },
          "metadata": {}
        }
      ],
      "execution_count": 90
    },
    {
      "cell_type": "code",
      "source": "arr_ones.dtype",
      "metadata": {
        "trusted": true
      },
      "outputs": [
        {
          "execution_count": 91,
          "output_type": "execute_result",
          "data": {
            "text/plain": "dtype('float64')"
          },
          "metadata": {}
        }
      ],
      "execution_count": 91
    },
    {
      "cell_type": "code",
      "source": "arr_ones_new = arr_ones.astype(int)",
      "metadata": {
        "trusted": true
      },
      "outputs": [],
      "execution_count": 92
    },
    {
      "cell_type": "code",
      "source": "arr_ones_new",
      "metadata": {
        "trusted": true
      },
      "outputs": [
        {
          "execution_count": 93,
          "output_type": "execute_result",
          "data": {
            "text/plain": "array([1, 1, 1, 1, 1])"
          },
          "metadata": {}
        }
      ],
      "execution_count": 93
    },
    {
      "cell_type": "code",
      "source": "# casting\narr_ones_new.dtype",
      "metadata": {
        "trusted": true
      },
      "outputs": [
        {
          "execution_count": 94,
          "output_type": "execute_result",
          "data": {
            "text/plain": "dtype('int32')"
          },
          "metadata": {}
        }
      ],
      "execution_count": 94
    },
    {
      "cell_type": "code",
      "source": "",
      "metadata": {
        "trusted": true
      },
      "outputs": [],
      "execution_count": null
    },
    {
      "cell_type": "code",
      "source": "new2d",
      "metadata": {
        "trusted": true
      },
      "outputs": [
        {
          "execution_count": 96,
          "output_type": "execute_result",
          "data": {
            "text/plain": "array([[ 0,  1,  2,  3,  4,  5,  6,  7,  8,  9],\n       [10, 11, 12, 13, 14, 15, 16, 17, 18, 19],\n       [20, 21, 22, 23, 24, 25, 26, 27, 28, 29],\n       [30, 31, 32, 33, 34, 35, 36, 37, 38, 39],\n       [40, 41, 42, 43, 44, 45, 46, 47, 48, 49]])"
          },
          "metadata": {}
        }
      ],
      "execution_count": 96
    },
    {
      "cell_type": "code",
      "source": "flatten_new2d = new2d.ravel()",
      "metadata": {
        "trusted": true
      },
      "outputs": [],
      "execution_count": 97
    },
    {
      "cell_type": "code",
      "source": "new2d.shape",
      "metadata": {
        "trusted": true
      },
      "outputs": [
        {
          "execution_count": 98,
          "output_type": "execute_result",
          "data": {
            "text/plain": "(5, 10)"
          },
          "metadata": {}
        }
      ],
      "execution_count": 98
    },
    {
      "cell_type": "code",
      "source": "flatten_new2d.shape",
      "metadata": {
        "trusted": true
      },
      "outputs": [
        {
          "execution_count": 99,
          "output_type": "execute_result",
          "data": {
            "text/plain": "(50,)"
          },
          "metadata": {}
        }
      ],
      "execution_count": 99
    },
    {
      "cell_type": "code",
      "source": "flatten_new2d",
      "metadata": {
        "trusted": true
      },
      "outputs": [
        {
          "execution_count": 100,
          "output_type": "execute_result",
          "data": {
            "text/plain": "array([ 0,  1,  2,  3,  4,  5,  6,  7,  8,  9, 10, 11, 12, 13, 14, 15, 16,\n       17, 18, 19, 20, 21, 22, 23, 24, 25, 26, 27, 28, 29, 30, 31, 32, 33,\n       34, 35, 36, 37, 38, 39, 40, 41, 42, 43, 44, 45, 46, 47, 48, 49])"
          },
          "metadata": {}
        }
      ],
      "execution_count": 100
    },
    {
      "cell_type": "code",
      "source": "flat_new2d = new2d.flat",
      "metadata": {
        "trusted": true
      },
      "outputs": [],
      "execution_count": 102
    },
    {
      "cell_type": "code",
      "source": "flat_new2d",
      "metadata": {
        "trusted": true
      },
      "outputs": [
        {
          "execution_count": 104,
          "output_type": "execute_result",
          "data": {
            "text/plain": "<numpy.flatiter at 0x38474f8>"
          },
          "metadata": {}
        }
      ],
      "execution_count": 104
    },
    {
      "cell_type": "code",
      "source": "for i in flat_new2d:\n    print(i)",
      "metadata": {
        "trusted": true
      },
      "outputs": [
        {
          "name": "stdout",
          "text": "0\n1\n2\n3\n4\n5\n6\n7\n8\n9\n10\n11\n12\n13\n14\n15\n16\n17\n18\n19\n20\n21\n22\n23\n24\n25\n26\n27\n28\n29\n30\n31\n32\n33\n34\n35\n36\n37\n38\n39\n40\n41\n42\n43\n44\n45\n46\n47\n48\n49\n",
          "output_type": "stream"
        }
      ],
      "execution_count": 105
    },
    {
      "cell_type": "code",
      "source": "flatten_new2d.ndim",
      "metadata": {
        "trusted": true
      },
      "outputs": [
        {
          "execution_count": 106,
          "output_type": "execute_result",
          "data": {
            "text/plain": "1"
          },
          "metadata": {}
        }
      ],
      "execution_count": 106
    },
    {
      "cell_type": "code",
      "source": "new2d.ndim",
      "metadata": {
        "trusted": true
      },
      "outputs": [
        {
          "execution_count": 107,
          "output_type": "execute_result",
          "data": {
            "text/plain": "2"
          },
          "metadata": {}
        }
      ],
      "execution_count": 107
    },
    {
      "cell_type": "code",
      "source": "new2d.shape",
      "metadata": {
        "trusted": true
      },
      "outputs": [
        {
          "execution_count": 108,
          "output_type": "execute_result",
          "data": {
            "text/plain": "(5, 10)"
          },
          "metadata": {}
        }
      ],
      "execution_count": 108
    },
    {
      "cell_type": "code",
      "source": "arOfX",
      "metadata": {
        "trusted": true
      },
      "outputs": [
        {
          "execution_count": 110,
          "output_type": "execute_result",
          "data": {
            "text/plain": "array([[1, 2, 3],\n       [4, 5, 6],\n       [7, 1, 0]])"
          },
          "metadata": {}
        }
      ],
      "execution_count": 110
    },
    {
      "cell_type": "code",
      "source": "my_arr",
      "metadata": {
        "trusted": true
      },
      "outputs": [
        {
          "execution_count": 111,
          "output_type": "execute_result",
          "data": {
            "text/plain": "array([1, 2, 3, 4])"
          },
          "metadata": {}
        }
      ],
      "execution_count": 111
    },
    {
      "cell_type": "code",
      "source": "my_arr.argmin()                   # index ",
      "metadata": {
        "trusted": true
      },
      "outputs": [
        {
          "execution_count": 112,
          "output_type": "execute_result",
          "data": {
            "text/plain": "0"
          },
          "metadata": {}
        }
      ],
      "execution_count": 112
    },
    {
      "cell_type": "code",
      "source": "my_arr.min()                     # value",
      "metadata": {
        "trusted": true
      },
      "outputs": [
        {
          "execution_count": 113,
          "output_type": "execute_result",
          "data": {
            "text/plain": "1"
          },
          "metadata": {}
        }
      ],
      "execution_count": 113
    },
    {
      "cell_type": "code",
      "source": "my_arr.argmax()",
      "metadata": {
        "trusted": true
      },
      "outputs": [
        {
          "execution_count": 114,
          "output_type": "execute_result",
          "data": {
            "text/plain": "3"
          },
          "metadata": {}
        }
      ],
      "execution_count": 114
    },
    {
      "cell_type": "code",
      "source": "my_arr.max()",
      "metadata": {
        "trusted": true
      },
      "outputs": [
        {
          "execution_count": 115,
          "output_type": "execute_result",
          "data": {
            "text/plain": "4"
          },
          "metadata": {}
        }
      ],
      "execution_count": 115
    },
    {
      "cell_type": "code",
      "source": "arOfX.min()",
      "metadata": {
        "trusted": true
      },
      "outputs": [
        {
          "execution_count": 116,
          "output_type": "execute_result",
          "data": {
            "text/plain": "0"
          },
          "metadata": {}
        }
      ],
      "execution_count": 116
    },
    {
      "cell_type": "code",
      "source": "arOfX",
      "metadata": {
        "trusted": true
      },
      "outputs": [
        {
          "execution_count": 117,
          "output_type": "execute_result",
          "data": {
            "text/plain": "array([[1, 2, 3],\n       [4, 5, 6],\n       [7, 1, 0]])"
          },
          "metadata": {}
        }
      ],
      "execution_count": 117
    },
    {
      "cell_type": "code",
      "source": "arOfX.argmin()",
      "metadata": {
        "trusted": true
      },
      "outputs": [
        {
          "execution_count": 118,
          "output_type": "execute_result",
          "data": {
            "text/plain": "8"
          },
          "metadata": {}
        }
      ],
      "execution_count": 118
    },
    {
      "cell_type": "code",
      "source": "arOfX.argmin(axis=0)",
      "metadata": {
        "trusted": true
      },
      "outputs": [
        {
          "execution_count": 119,
          "output_type": "execute_result",
          "data": {
            "text/plain": "array([0, 2, 2], dtype=int32)"
          },
          "metadata": {}
        }
      ],
      "execution_count": 119
    },
    {
      "cell_type": "code",
      "source": "new2d",
      "metadata": {
        "trusted": true
      },
      "outputs": [
        {
          "execution_count": 120,
          "output_type": "execute_result",
          "data": {
            "text/plain": "array([[ 0,  1,  2,  3,  4,  5,  6,  7,  8,  9],\n       [10, 11, 12, 13, 14, 15, 16, 17, 18, 19],\n       [20, 21, 22, 23, 24, 25, 26, 27, 28, 29],\n       [30, 31, 32, 33, 34, 35, 36, 37, 38, 39],\n       [40, 41, 42, 43, 44, 45, 46, 47, 48, 49]])"
          },
          "metadata": {}
        }
      ],
      "execution_count": 120
    },
    {
      "cell_type": "code",
      "source": "new2d.argmin()",
      "metadata": {
        "trusted": true
      },
      "outputs": [
        {
          "execution_count": 121,
          "output_type": "execute_result",
          "data": {
            "text/plain": "0"
          },
          "metadata": {}
        }
      ],
      "execution_count": 121
    },
    {
      "cell_type": "code",
      "source": "new2d.argmin(axis=0)",
      "metadata": {
        "trusted": true
      },
      "outputs": [
        {
          "execution_count": 122,
          "output_type": "execute_result",
          "data": {
            "text/plain": "array([0, 0, 0, 0, 0, 0, 0, 0, 0, 0], dtype=int32)"
          },
          "metadata": {}
        }
      ],
      "execution_count": 122
    },
    {
      "cell_type": "code",
      "source": "arOfX",
      "metadata": {
        "trusted": true
      },
      "outputs": [
        {
          "execution_count": 123,
          "output_type": "execute_result",
          "data": {
            "text/plain": "array([[1, 2, 3],\n       [4, 5, 6],\n       [7, 1, 0]])"
          },
          "metadata": {}
        }
      ],
      "execution_count": 123
    },
    {
      "cell_type": "code",
      "source": "arOfX.argmin(axis=1)",
      "metadata": {
        "trusted": true
      },
      "outputs": [
        {
          "execution_count": 124,
          "output_type": "execute_result",
          "data": {
            "text/plain": "array([0, 0, 2], dtype=int32)"
          },
          "metadata": {}
        }
      ],
      "execution_count": 124
    },
    {
      "cell_type": "code",
      "source": "arOfX.min(axis=1)",
      "metadata": {
        "trusted": true
      },
      "outputs": [
        {
          "execution_count": 125,
          "output_type": "execute_result",
          "data": {
            "text/plain": "array([1, 4, 0])"
          },
          "metadata": {}
        }
      ],
      "execution_count": 125
    },
    {
      "cell_type": "code",
      "source": "arOfX.min()",
      "metadata": {
        "trusted": true
      },
      "outputs": [
        {
          "execution_count": 126,
          "output_type": "execute_result",
          "data": {
            "text/plain": "0"
          },
          "metadata": {}
        }
      ],
      "execution_count": 126
    },
    {
      "cell_type": "code",
      "source": "arOfX.min(axis=0)",
      "metadata": {
        "trusted": true
      },
      "outputs": [
        {
          "execution_count": 127,
          "output_type": "execute_result",
          "data": {
            "text/plain": "array([1, 1, 0])"
          },
          "metadata": {}
        }
      ],
      "execution_count": 127
    },
    {
      "cell_type": "code",
      "source": "arOfX.argmin(axis=0)",
      "metadata": {
        "trusted": true
      },
      "outputs": [
        {
          "execution_count": 128,
          "output_type": "execute_result",
          "data": {
            "text/plain": "array([0, 2, 2], dtype=int32)"
          },
          "metadata": {}
        }
      ],
      "execution_count": 128
    },
    {
      "cell_type": "code",
      "source": "my_arr.var()",
      "metadata": {
        "trusted": true
      },
      "outputs": [
        {
          "execution_count": 129,
          "output_type": "execute_result",
          "data": {
            "text/plain": "1.25"
          },
          "metadata": {}
        }
      ],
      "execution_count": 129
    },
    {
      "cell_type": "code",
      "source": "arOfX.var()",
      "metadata": {
        "trusted": true
      },
      "outputs": [
        {
          "execution_count": 130,
          "output_type": "execute_result",
          "data": {
            "text/plain": "5.28395061728395"
          },
          "metadata": {}
        }
      ],
      "execution_count": 130
    },
    {
      "cell_type": "code",
      "source": "arOfX.var(axis=1)",
      "metadata": {
        "trusted": true
      },
      "outputs": [
        {
          "execution_count": 131,
          "output_type": "execute_result",
          "data": {
            "text/plain": "array([0.66666667, 0.66666667, 9.55555556])"
          },
          "metadata": {}
        }
      ],
      "execution_count": 131
    },
    {
      "cell_type": "code",
      "source": "my_arr",
      "metadata": {
        "trusted": true
      },
      "outputs": [
        {
          "execution_count": 132,
          "output_type": "execute_result",
          "data": {
            "text/plain": "array([1, 2, 3, 4])"
          },
          "metadata": {}
        }
      ],
      "execution_count": 132
    },
    {
      "cell_type": "code",
      "source": "np.sqrt(my_arr)",
      "metadata": {
        "trusted": true
      },
      "outputs": [
        {
          "execution_count": 133,
          "output_type": "execute_result",
          "data": {
            "text/plain": "array([1.        , 1.41421356, 1.73205081, 2.        ])"
          },
          "metadata": {}
        }
      ],
      "execution_count": 133
    },
    {
      "cell_type": "code",
      "source": "np.sort(arOfX)",
      "metadata": {
        "trusted": true
      },
      "outputs": [
        {
          "execution_count": 134,
          "output_type": "execute_result",
          "data": {
            "text/plain": "array([[1, 2, 3],\n       [4, 5, 6],\n       [0, 1, 7]])"
          },
          "metadata": {}
        }
      ],
      "execution_count": 134
    },
    {
      "cell_type": "code",
      "source": "import random",
      "metadata": {
        "trusted": true
      },
      "outputs": [],
      "execution_count": 135
    },
    {
      "cell_type": "code",
      "source": "A= np.random.rand(10)",
      "metadata": {
        "trusted": true
      },
      "outputs": [],
      "execution_count": 136
    },
    {
      "cell_type": "code",
      "source": "A",
      "metadata": {
        "trusted": true
      },
      "outputs": [
        {
          "execution_count": 137,
          "output_type": "execute_result",
          "data": {
            "text/plain": "array([0.6667369 , 0.13806132, 0.06023156, 0.64629878, 0.15592128,\n       0.78353179, 0.73893201, 0.46051159, 0.77498659, 0.50416893])"
          },
          "metadata": {}
        }
      ],
      "execution_count": 137
    },
    {
      "cell_type": "code",
      "source": "B= np.random.rand(10)",
      "metadata": {
        "trusted": true
      },
      "outputs": [],
      "execution_count": 138
    },
    {
      "cell_type": "code",
      "source": "B",
      "metadata": {
        "trusted": true
      },
      "outputs": [
        {
          "execution_count": 139,
          "output_type": "execute_result",
          "data": {
            "text/plain": "array([0.7546086 , 0.42394168, 0.49801666, 0.41973904, 0.31669083,\n       0.88924899, 0.90034041, 0.4048026 , 0.4396504 , 0.0510894 ])"
          },
          "metadata": {}
        }
      ],
      "execution_count": 139
    },
    {
      "cell_type": "code",
      "source": "A+B",
      "metadata": {
        "trusted": true
      },
      "outputs": [
        {
          "execution_count": 140,
          "output_type": "execute_result",
          "data": {
            "text/plain": "array([1.42134551, 0.562003  , 0.55824822, 1.06603782, 0.47261212,\n       1.67278079, 1.63927242, 0.86531419, 1.21463699, 0.55525834])"
          },
          "metadata": {}
        }
      ],
      "execution_count": 140
    },
    {
      "cell_type": "code",
      "source": "A-B",
      "metadata": {
        "trusted": true
      },
      "outputs": [
        {
          "execution_count": 141,
          "output_type": "execute_result",
          "data": {
            "text/plain": "array([-0.0878717 , -0.28588035, -0.4377851 ,  0.22655974, -0.16076955,\n       -0.1057172 , -0.1614084 ,  0.05570898,  0.33533619,  0.45307953])"
          },
          "metadata": {}
        }
      ],
      "execution_count": 141
    },
    {
      "cell_type": "code",
      "source": "my_arr",
      "metadata": {
        "trusted": true
      },
      "outputs": [
        {
          "execution_count": 142,
          "output_type": "execute_result",
          "data": {
            "text/plain": "array([1, 2, 3, 4])"
          },
          "metadata": {}
        }
      ],
      "execution_count": 142
    },
    {
      "cell_type": "code",
      "source": "1/my_arr",
      "metadata": {
        "trusted": true
      },
      "outputs": [
        {
          "execution_count": 143,
          "output_type": "execute_result",
          "data": {
            "text/plain": "array([1.        , 0.5       , 0.33333333, 0.25      ])"
          },
          "metadata": {}
        }
      ],
      "execution_count": 143
    },
    {
      "cell_type": "code",
      "source": "C = np.random.randint(10)",
      "metadata": {
        "trusted": true
      },
      "outputs": [],
      "execution_count": 149
    },
    {
      "cell_type": "code",
      "source": "C",
      "metadata": {
        "trusted": true
      },
      "outputs": [
        {
          "execution_count": 150,
          "output_type": "execute_result",
          "data": {
            "text/plain": "0"
          },
          "metadata": {}
        }
      ],
      "execution_count": 150
    },
    {
      "cell_type": "code",
      "source": "A_Int = A.astype(int)",
      "metadata": {
        "trusted": true
      },
      "outputs": [],
      "execution_count": 151
    },
    {
      "cell_type": "code",
      "source": "A_Int",
      "metadata": {
        "trusted": true
      },
      "outputs": [
        {
          "execution_count": 152,
          "output_type": "execute_result",
          "data": {
            "text/plain": "array([0, 0, 0, 0, 0, 0, 0, 0, 0, 0])"
          },
          "metadata": {}
        }
      ],
      "execution_count": 152
    },
    {
      "cell_type": "code",
      "source": "my_arr * my_arr",
      "metadata": {
        "trusted": true
      },
      "outputs": [
        {
          "execution_count": 156,
          "output_type": "execute_result",
          "data": {
            "text/plain": "array([ 1,  4,  9, 16])"
          },
          "metadata": {}
        }
      ],
      "execution_count": 156
    },
    {
      "cell_type": "code",
      "source": "my_arr **3",
      "metadata": {
        "trusted": true
      },
      "outputs": [
        {
          "execution_count": 157,
          "output_type": "execute_result",
          "data": {
            "text/plain": "array([ 1,  8, 27, 64], dtype=int32)"
          },
          "metadata": {}
        }
      ],
      "execution_count": 157
    },
    {
      "cell_type": "code",
      "source": "np.add(A,B)",
      "metadata": {
        "trusted": true
      },
      "outputs": [
        {
          "execution_count": 158,
          "output_type": "execute_result",
          "data": {
            "text/plain": "array([1.42134551, 0.562003  , 0.55824822, 1.06603782, 0.47261212,\n       1.67278079, 1.63927242, 0.86531419, 1.21463699, 0.55525834])"
          },
          "metadata": {}
        }
      ],
      "execution_count": 158
    },
    {
      "cell_type": "code",
      "source": "A+B",
      "metadata": {
        "trusted": true
      },
      "outputs": [
        {
          "execution_count": 159,
          "output_type": "execute_result",
          "data": {
            "text/plain": "array([1.42134551, 0.562003  , 0.55824822, 1.06603782, 0.47261212,\n       1.67278079, 1.63927242, 0.86531419, 1.21463699, 0.55525834])"
          },
          "metadata": {}
        }
      ],
      "execution_count": 159
    },
    {
      "cell_type": "code",
      "source": "A",
      "metadata": {
        "trusted": true
      },
      "outputs": [
        {
          "execution_count": 160,
          "output_type": "execute_result",
          "data": {
            "text/plain": "array([0.6667369 , 0.13806132, 0.06023156, 0.64629878, 0.15592128,\n       0.78353179, 0.73893201, 0.46051159, 0.77498659, 0.50416893])"
          },
          "metadata": {}
        }
      ],
      "execution_count": 160
    },
    {
      "cell_type": "code",
      "source": "A[:5]",
      "metadata": {
        "trusted": true
      },
      "outputs": [
        {
          "execution_count": 161,
          "output_type": "execute_result",
          "data": {
            "text/plain": "array([0.6667369 , 0.13806132, 0.06023156, 0.64629878, 0.15592128])"
          },
          "metadata": {}
        }
      ],
      "execution_count": 161
    },
    {
      "cell_type": "code",
      "source": "A",
      "metadata": {
        "trusted": true
      },
      "outputs": [
        {
          "execution_count": 162,
          "output_type": "execute_result",
          "data": {
            "text/plain": "array([0.6667369 , 0.13806132, 0.06023156, 0.64629878, 0.15592128,\n       0.78353179, 0.73893201, 0.46051159, 0.77498659, 0.50416893])"
          },
          "metadata": {}
        }
      ],
      "execution_count": 162
    },
    {
      "cell_type": "code",
      "source": "copy_A= A[:5]",
      "metadata": {
        "trusted": true
      },
      "outputs": [],
      "execution_count": 163
    },
    {
      "cell_type": "code",
      "source": "A[:5] =99",
      "metadata": {
        "trusted": true
      },
      "outputs": [],
      "execution_count": 164
    },
    {
      "cell_type": "code",
      "source": "A",
      "metadata": {
        "trusted": true
      },
      "outputs": [
        {
          "execution_count": 165,
          "output_type": "execute_result",
          "data": {
            "text/plain": "array([99.        , 99.        , 99.        , 99.        , 99.        ,\n        0.78353179,  0.73893201,  0.46051159,  0.77498659,  0.50416893])"
          },
          "metadata": {}
        }
      ],
      "execution_count": 165
    },
    {
      "cell_type": "code",
      "source": "new2d[:2,:1]",
      "metadata": {
        "trusted": true
      },
      "outputs": [
        {
          "execution_count": 166,
          "output_type": "execute_result",
          "data": {
            "text/plain": "array([[ 0],\n       [10]])"
          },
          "metadata": {}
        }
      ],
      "execution_count": 166
    },
    {
      "cell_type": "code",
      "source": "new2d",
      "metadata": {
        "trusted": true
      },
      "outputs": [
        {
          "execution_count": 167,
          "output_type": "execute_result",
          "data": {
            "text/plain": "array([[ 0,  1,  2,  3,  4,  5,  6,  7,  8,  9],\n       [10, 11, 12, 13, 14, 15, 16, 17, 18, 19],\n       [20, 21, 22, 23, 24, 25, 26, 27, 28, 29],\n       [30, 31, 32, 33, 34, 35, 36, 37, 38, 39],\n       [40, 41, 42, 43, 44, 45, 46, 47, 48, 49]])"
          },
          "metadata": {}
        }
      ],
      "execution_count": 167
    },
    {
      "cell_type": "code",
      "source": "new2d[:2,:1] = 99",
      "metadata": {
        "trusted": true
      },
      "outputs": [],
      "execution_count": 168
    },
    {
      "cell_type": "code",
      "source": "new2d",
      "metadata": {
        "trusted": true
      },
      "outputs": [
        {
          "execution_count": 169,
          "output_type": "execute_result",
          "data": {
            "text/plain": "array([[99,  1,  2,  3,  4,  5,  6,  7,  8,  9],\n       [99, 11, 12, 13, 14, 15, 16, 17, 18, 19],\n       [20, 21, 22, 23, 24, 25, 26, 27, 28, 29],\n       [30, 31, 32, 33, 34, 35, 36, 37, 38, 39],\n       [40, 41, 42, 43, 44, 45, 46, 47, 48, 49]])"
          },
          "metadata": {}
        }
      ],
      "execution_count": 169
    },
    {
      "cell_type": "code",
      "source": "new2d[:2,:2]",
      "metadata": {
        "trusted": true
      },
      "outputs": [
        {
          "execution_count": 172,
          "output_type": "execute_result",
          "data": {
            "text/plain": "array([[99,  1],\n       [99, 11]])"
          },
          "metadata": {}
        }
      ],
      "execution_count": 172
    },
    {
      "cell_type": "code",
      "source": "new2d[:3,:3]",
      "metadata": {
        "trusted": true
      },
      "outputs": [
        {
          "execution_count": 173,
          "output_type": "execute_result",
          "data": {
            "text/plain": "array([[99,  1,  2],\n       [99, 11, 12],\n       [20, 21, 22]])"
          },
          "metadata": {}
        }
      ],
      "execution_count": 173
    },
    {
      "cell_type": "code",
      "source": "arOfX",
      "metadata": {
        "trusted": true
      },
      "outputs": [
        {
          "execution_count": 174,
          "output_type": "execute_result",
          "data": {
            "text/plain": "array([[1, 2, 3],\n       [4, 5, 6],\n       [7, 1, 0]])"
          },
          "metadata": {}
        }
      ],
      "execution_count": 174
    },
    {
      "cell_type": "code",
      "source": "my_arr",
      "metadata": {
        "trusted": true
      },
      "outputs": [
        {
          "execution_count": 175,
          "output_type": "execute_result",
          "data": {
            "text/plain": "array([1, 2, 3, 4])"
          },
          "metadata": {}
        }
      ],
      "execution_count": 175
    },
    {
      "cell_type": "code",
      "source": "np.where(my_arr<3)",
      "metadata": {
        "trusted": true
      },
      "outputs": [
        {
          "execution_count": 176,
          "output_type": "execute_result",
          "data": {
            "text/plain": "(array([0, 1], dtype=int32),)"
          },
          "metadata": {}
        }
      ],
      "execution_count": 176
    },
    {
      "cell_type": "code",
      "source": "np.where(arOfX <3)",
      "metadata": {
        "trusted": true
      },
      "outputs": [
        {
          "execution_count": 177,
          "output_type": "execute_result",
          "data": {
            "text/plain": "(array([0, 0, 2, 2], dtype=int32), array([0, 1, 1, 2], dtype=int32))"
          },
          "metadata": {}
        }
      ],
      "execution_count": 177
    },
    {
      "cell_type": "code",
      "source": "np.where(arOfX>5)",
      "metadata": {
        "trusted": true
      },
      "outputs": [
        {
          "execution_count": 178,
          "output_type": "execute_result",
          "data": {
            "text/plain": "(array([1, 2], dtype=int32), array([2, 0], dtype=int32))"
          },
          "metadata": {}
        }
      ],
      "execution_count": 178
    },
    {
      "cell_type": "code",
      "source": "np.where(arOfX >3)",
      "metadata": {
        "trusted": true
      },
      "outputs": [
        {
          "execution_count": 180,
          "output_type": "execute_result",
          "data": {
            "text/plain": "(array([1, 1, 1, 2], dtype=int32), array([0, 1, 2, 0], dtype=int32))"
          },
          "metadata": {}
        }
      ],
      "execution_count": 180
    },
    {
      "cell_type": "code",
      "source": "my_arr",
      "metadata": {
        "trusted": true
      },
      "outputs": [
        {
          "execution_count": 181,
          "output_type": "execute_result",
          "data": {
            "text/plain": "array([1, 2, 3, 4])"
          },
          "metadata": {}
        }
      ],
      "execution_count": 181
    },
    {
      "cell_type": "code",
      "source": "np.save('my_arr',my_arr)",
      "metadata": {
        "trusted": true
      },
      "outputs": [],
      "execution_count": 183
    },
    {
      "cell_type": "code",
      "source": "read_arr = np.load('my_arr.npy')",
      "metadata": {
        "trusted": true
      },
      "outputs": [],
      "execution_count": 184
    },
    {
      "cell_type": "code",
      "source": "read_arr",
      "metadata": {
        "trusted": true
      },
      "outputs": [
        {
          "execution_count": 185,
          "output_type": "execute_result",
          "data": {
            "text/plain": "array([1, 2, 3, 4])"
          },
          "metadata": {}
        }
      ],
      "execution_count": 185
    },
    {
      "cell_type": "code",
      "source": "np.savetxt('my_arr2.txt',my_arr)",
      "metadata": {
        "trusted": true
      },
      "outputs": [],
      "execution_count": 187
    },
    {
      "cell_type": "code",
      "source": "read_arr2 = np.loadtxt('my_arr2.txt')",
      "metadata": {
        "trusted": true
      },
      "outputs": [],
      "execution_count": 188
    },
    {
      "cell_type": "code",
      "source": "read_arr2",
      "metadata": {
        "trusted": true
      },
      "outputs": [
        {
          "execution_count": 189,
          "output_type": "execute_result",
          "data": {
            "text/plain": "array([1., 2., 3., 4.])"
          },
          "metadata": {}
        }
      ],
      "execution_count": 189
    },
    {
      "cell_type": "code",
      "source": "ppl = np.loadtxt('purplecow.txt',dtype='str')",
      "metadata": {
        "trusted": true
      },
      "outputs": [],
      "execution_count": 195
    },
    {
      "cell_type": "code",
      "source": "ppl",
      "metadata": {
        "trusted": true
      },
      "outputs": [
        {
          "execution_count": 196,
          "output_type": "execute_result",
          "data": {
            "text/plain": "array([[\"I've\", 'never', 'seen', 'a', 'purple', 'cow.'],\n       ['I', 'never', 'hope', 'to', 'see', 'one;'],\n       ['But', 'I', 'can', 'tell', 'you,', 'anyhow,'],\n       [\"I'd\", 'rather', 'see', 'than', 'be', 'one.']], dtype='<U7')"
          },
          "metadata": {}
        }
      ],
      "execution_count": 196
    },
    {
      "cell_type": "code",
      "source": "A",
      "metadata": {
        "trusted": true
      },
      "outputs": [
        {
          "execution_count": 197,
          "output_type": "execute_result",
          "data": {
            "text/plain": "array([99.        , 99.        , 99.        , 99.        , 99.        ,\n        0.78353179,  0.73893201,  0.46051159,  0.77498659,  0.50416893])"
          },
          "metadata": {}
        }
      ],
      "execution_count": 197
    },
    {
      "cell_type": "code",
      "source": "B",
      "metadata": {
        "trusted": true
      },
      "outputs": [
        {
          "execution_count": 198,
          "output_type": "execute_result",
          "data": {
            "text/plain": "array([0.7546086 , 0.42394168, 0.49801666, 0.41973904, 0.31669083,\n       0.88924899, 0.90034041, 0.4048026 , 0.4396504 , 0.0510894 ])"
          },
          "metadata": {}
        }
      ],
      "execution_count": 198
    },
    {
      "cell_type": "code",
      "source": "np.savez('multi',x=A,y=B)",
      "metadata": {
        "trusted": true
      },
      "outputs": [],
      "execution_count": 199
    },
    {
      "cell_type": "code",
      "source": "data_multi = np.load('multi.npz')",
      "metadata": {
        "trusted": true
      },
      "outputs": [],
      "execution_count": 201
    },
    {
      "cell_type": "code",
      "source": "data_multi",
      "metadata": {
        "trusted": true
      },
      "outputs": [
        {
          "execution_count": 202,
          "output_type": "execute_result",
          "data": {
            "text/plain": "NpzFile 'multi.npz' with keys: x, y"
          },
          "metadata": {}
        }
      ],
      "execution_count": 202
    },
    {
      "cell_type": "code",
      "source": "data_multi['x']",
      "metadata": {
        "trusted": true
      },
      "outputs": [
        {
          "execution_count": 204,
          "output_type": "execute_result",
          "data": {
            "text/plain": "array([99.        , 99.        , 99.        , 99.        , 99.        ,\n        0.78353179,  0.73893201,  0.46051159,  0.77498659,  0.50416893])"
          },
          "metadata": {}
        }
      ],
      "execution_count": 204
    },
    {
      "cell_type": "code",
      "source": "data_multi['y']",
      "metadata": {
        "trusted": true
      },
      "outputs": [
        {
          "execution_count": 205,
          "output_type": "execute_result",
          "data": {
            "text/plain": "array([0.7546086 , 0.42394168, 0.49801666, 0.41973904, 0.31669083,\n       0.88924899, 0.90034041, 0.4048026 , 0.4396504 , 0.0510894 ])"
          },
          "metadata": {}
        }
      ],
      "execution_count": 205
    },
    {
      "cell_type": "code",
      "source": "",
      "metadata": {
        "trusted": true
      },
      "outputs": [],
      "execution_count": null
    },
    {
      "cell_type": "code",
      "source": "",
      "metadata": {
        "trusted": true
      },
      "outputs": [],
      "execution_count": null
    }
  ]
}