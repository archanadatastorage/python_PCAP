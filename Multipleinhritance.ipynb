{
  "metadata": {
    "kernelspec": {
      "name": "python",
      "display_name": "Python (Pyodide)",
      "language": "python"
    },
    "language_info": {
      "codemirror_mode": {
        "name": "python",
        "version": 3
      },
      "file_extension": ".py",
      "mimetype": "text/x-python",
      "name": "python",
      "nbconvert_exporter": "python",
      "pygments_lexer": "ipython3",
      "version": "3.8"
    }
  },
  "nbformat_minor": 4,
  "nbformat": 4,
  "cells": [
    {
      "cell_type": "code",
      "source": "class Employee:\n    raise_amt=1.04\n    counter=0\n    print(\"Employee\")\n    def __init__(self,first,lastname,pay):\n        self.first= first\n        self.last=lastname\n        self.email = self.first +\".\"+self.last +\"@gmail.com\"\n        self.pay=pay\n        Employee.counter +=1\n\n    def fullname(self):\n        return '{} {}'.format(self.first,self.last)\n    def apply_raise(self):\n        self.pay = self.pay * Employee.raise_amt\n    def change_raise_amt(cls,amount):\n        cls.raise_amt= amount",
      "metadata": {
        "trusted": true
      },
      "outputs": [
        {
          "name": "stdout",
          "text": "Employee\n",
          "output_type": "stream"
        }
      ],
      "execution_count": 65
    },
    {
      "cell_type": "code",
      "source": "class Project:\n    print(\"Project\")\n    def __init__(self,pname,duration):\n        self.pname = pname\n        self.duration = duration\n        \n    def display_details(self):\n        return '{},{}'.format(self.pname,self.duration)",
      "metadata": {
        "trusted": true
      },
      "outputs": [
        {
          "name": "stdout",
          "text": "Project\n",
          "output_type": "stream"
        }
      ],
      "execution_count": 66
    },
    {
      "cell_type": "code",
      "source": "p1 = Project('metro',5)",
      "metadata": {
        "trusted": true
      },
      "outputs": [],
      "execution_count": 6
    },
    {
      "cell_type": "code",
      "source": "p1.display_details()",
      "metadata": {
        "trusted": true
      },
      "outputs": [
        {
          "execution_count": 7,
          "output_type": "execute_result",
          "data": {
            "text/plain": "'metro,5'"
          },
          "metadata": {}
        }
      ],
      "execution_count": 7
    },
    {
      "cell_type": "code",
      "source": "from abc import ABC,abstractmethod\nclass vendor(ABC):\n    print(\"vendor\")\n    def __init__(self,product):\n        self.product=product\n        \n    @abstractmethod\n    def quantity_supply(self,qu):\n        pass",
      "metadata": {
        "trusted": true
      },
      "outputs": [
        {
          "name": "stdout",
          "text": "vendor\n",
          "output_type": "stream"
        }
      ],
      "execution_count": 67
    },
    {
      "cell_type": "code",
      "source": "class ProjectHead(Project,Employee,vendor):\n    print(\"ProjectHead\")\n    def __init__(self,first,lastname,pay,pname,duration,location,product):\n        Employee.__init__(self,first,lastname,pay)\n        Project.__init__(self,pname,duration)\n        vendor.__init__(self,product)\n        self.location= location\n       \n    def show(self):\n        print(self.fullname())\n        print(\"HOD is at \",self.location)\n    def quantity_supply(self,qu):\n        print(\"we supply :\",self.product)\n",
      "metadata": {
        "trusted": true
      },
      "outputs": [
        {
          "name": "stdout",
          "text": "ProjectHead\n",
          "output_type": "stream"
        }
      ],
      "execution_count": 71
    },
    {
      "cell_type": "code",
      "source": "help(ProjectHead)",
      "metadata": {
        "trusted": true
      },
      "outputs": [
        {
          "name": "stdout",
          "text": "Help on class ProjectHead in module __main__:\n\nclass ProjectHead(Project, Employee, vendor)\n |  ProjectHead(pname, duration)\n |\n |  Method resolution order:\n |      ProjectHead\n |      Project\n |      Employee\n |      vendor\n |      builtins.object\n |\n |  Methods inherited from Project:\n |\n |  __init__(self, pname, duration)\n |      Initialize self.  See help(type(self)) for accurate signature.\n |\n |  display_details(self)\n |\n |  ----------------------------------------------------------------------\n |  Data descriptors inherited from Project:\n |\n |  __dict__\n |      dictionary for instance variables\n |\n |  __weakref__\n |      list of weak references to the object\n |\n |  ----------------------------------------------------------------------\n |  Methods inherited from Employee:\n |\n |  apply_raise(self)\n |\n |  change_raise_amt(cls, amount)\n |\n |  fullname(self)\n |\n |  ----------------------------------------------------------------------\n |  Data and other attributes inherited from Employee:\n |\n |  counter = 3\n |\n |  raise_amt = 1.04\n |\n |  ----------------------------------------------------------------------\n |  Methods inherited from vendor:\n |\n |  quantity_supply(self, qu)\n\n",
          "output_type": "stream"
        }
      ],
      "execution_count": 28
    },
    {
      "cell_type": "code",
      "source": "phod = ProjectHead('Ram','Kumar',5690,'Metro-rail',5,'Mumbai','cement')",
      "metadata": {
        "trusted": true
      },
      "outputs": [],
      "execution_count": 70
    },
    {
      "cell_type": "code",
      "source": "phod.email",
      "metadata": {
        "trusted": true
      },
      "outputs": [
        {
          "execution_count": 18,
          "output_type": "execute_result",
          "data": {
            "text/plain": "'Ram.Kumar@gmail.com'"
          },
          "metadata": {}
        }
      ],
      "execution_count": 18
    },
    {
      "cell_type": "code",
      "source": "phod.display_details()",
      "metadata": {
        "trusted": true
      },
      "outputs": [
        {
          "execution_count": 46,
          "output_type": "execute_result",
          "data": {
            "text/plain": "'Metro-rail,5'"
          },
          "metadata": {}
        }
      ],
      "execution_count": 49
    },
    {
      "cell_type": "code",
      "source": "phod.show()",
      "metadata": {
        "trusted": true
      },
      "outputs": [
        {
          "name": "stdout",
          "text": "Ram Kumar\nHOD is at  Mumbai\n",
          "output_type": "stream"
        }
      ],
      "execution_count": 50
    },
    {
      "cell_type": "code",
      "source": "phod.quantity_supply(23)",
      "metadata": {
        "trusted": true
      },
      "outputs": [
        {
          "name": "stdout",
          "text": "we supply : cement\n",
          "output_type": "stream"
        }
      ],
      "execution_count": 48
    },
    {
      "cell_type": "code",
      "source": "#parent's class level varibles/methods and parent constrcutor explicit call\nclass Parent1:\n    print(\"hello Parent1\")\n    def __init__(self):\n        self.name = 'Ram'\n    def show(self):\n        print(\"I am show\")\nclass Child1(Parent1):\n    print(\"hello Child1\")\n    def __init__(self):\n        #super().__init__()            #invoke the parent constructor\n        print(\"Child1\")\n",
      "metadata": {
        "trusted": true
      },
      "outputs": [
        {
          "name": "stdout",
          "text": "hello Parent1\nhello Child1\n",
          "output_type": "stream"
        }
      ],
      "execution_count": 77
    },
    {
      "cell_type": "code",
      "source": "ch = Child1()",
      "metadata": {
        "trusted": true
      },
      "outputs": [
        {
          "name": "stdout",
          "text": "Child1\n",
          "output_type": "stream"
        }
      ],
      "execution_count": 78
    },
    {
      "cell_type": "code",
      "source": "ch.show()",
      "metadata": {
        "trusted": true
      },
      "outputs": [
        {
          "name": "stdout",
          "text": "I am show\n",
          "output_type": "stream"
        }
      ],
      "execution_count": 79
    },
    {
      "cell_type": "code",
      "source": "#Diamond problem\nclass GrandParent:\n    def show(self):\n        print(\"GrandParent\")\nclass Parent1(GrandParent):\n    def show(self):\n        print(\"Parent1\")\nclass Parent2(GrandParent):\n    def show(self):\n        print(\"Parent2\")\nclass Child(Parent1,Parent2):\n    pass",
      "metadata": {
        "trusted": true
      },
      "outputs": [],
      "execution_count": 80
    },
    {
      "cell_type": "code",
      "source": "ch = Child()\nch.show()",
      "metadata": {
        "trusted": true
      },
      "outputs": [
        {
          "name": "stdout",
          "text": "Parent1\n",
          "output_type": "stream"
        }
      ],
      "execution_count": 82
    },
    {
      "cell_type": "code",
      "source": "help(Child)",
      "metadata": {
        "trusted": true
      },
      "outputs": [
        {
          "name": "stdout",
          "text": "Help on class Child in module __main__:\n\nclass Child(Parent1, Parent2)\n |  Method resolution order:\n |      Child\n |      Parent1\n |      Parent2\n |      GrandParent\n |      builtins.object\n |\n |  Methods inherited from Parent1:\n |\n |  show(self)\n |\n |  ----------------------------------------------------------------------\n |  Data descriptors inherited from GrandParent:\n |\n |  __dict__\n |      dictionary for instance variables\n |\n |  __weakref__\n |      list of weak references to the object\n\n",
          "output_type": "stream"
        }
      ],
      "execution_count": 81
    },
    {
      "cell_type": "code",
      "source": "#Diamond problem\nclass GrandParent:\n    def show(self):\n        print(\"GrandParent\")\nclass Parent1(GrandParent):\n    def show(self):\n        print(\"Parent1\")\nclass Parent2(GrandParent):\n    def show(self):\n        print(\"Parent2\")\nclass Child(Parent2,Parent1):\n    pass",
      "metadata": {
        "trusted": true
      },
      "outputs": [],
      "execution_count": 83
    },
    {
      "cell_type": "code",
      "source": "ch = Child()\nch.show()",
      "metadata": {
        "trusted": true
      },
      "outputs": [
        {
          "name": "stdout",
          "text": "Parent2\n",
          "output_type": "stream"
        }
      ],
      "execution_count": 84
    },
    {
      "cell_type": "code",
      "source": "#Diamond problem\nclass GrandParent:\n    def show(self):\n        print(\"GrandParent\")\nclass Parent1(GrandParent):\n    def show1(self):\n        print(\"Parent1\")\nclass Parent2(GrandParent):\n    def show1(self):\n        print(\"Parent2\")\nclass Child(Parent1,Parent2):\n    pass",
      "metadata": {
        "trusted": true
      },
      "outputs": [],
      "execution_count": 85
    },
    {
      "cell_type": "code",
      "source": "ch = Child()\nch.show()",
      "metadata": {
        "trusted": true
      },
      "outputs": [
        {
          "name": "stdout",
          "text": "GrandParent\n",
          "output_type": "stream"
        }
      ],
      "execution_count": 86
    },
    {
      "cell_type": "code",
      "source": "#Diamond problem\nclass GrandParent:\n    def show(self):\n        print(\"GrandParent\")\nclass Parent1(GrandParent):\n    def show(self):\n        print(\"Parent1\")\nclass Parent2(GrandParent):\n    def show(self):\n        print(\"Parent2\")\nclass Child(Parent1,Parent2):\n    def show(self):\n        print(\"Child\")",
      "metadata": {
        "trusted": true
      },
      "outputs": [],
      "execution_count": 2
    },
    {
      "cell_type": "code",
      "source": "ch = Child()\nch.show()",
      "metadata": {
        "trusted": true
      },
      "outputs": [
        {
          "name": "stdout",
          "text": "Child\n",
          "output_type": "stream"
        }
      ],
      "execution_count": 3
    },
    {
      "cell_type": "code",
      "source": "#Diamond problem\nclass GrandParent:\n    def show(self):\n        print(\"GrandParent\")\nclass Parent1(GrandParent):\n    def show(self):\n        print(\"Parent1\")\nclass Parent2(GrandParent):\n    def show(self):\n        print(\"Parent2\")\nclass Child(Parent1,Parent2):\n    def show(self):\n        print(\"Child\")\n        Parent2.show(self)\n        ",
      "metadata": {
        "trusted": true
      },
      "outputs": [],
      "execution_count": 6
    },
    {
      "cell_type": "code",
      "source": "ch = Child()\nch.show()",
      "metadata": {
        "trusted": true
      },
      "outputs": [
        {
          "name": "stdout",
          "text": "Child\nParent2\n",
          "output_type": "stream"
        }
      ],
      "execution_count": 7
    },
    {
      "cell_type": "code",
      "source": "#Diamond problem\nclass GrandParent:\n    def show(self):\n        print(\"GrandParent\")\nclass Parent1(GrandParent):\n    def show(self):\n        print(\"Parent1\")\nclass Parent2(GrandParent):\n    def show(self):\n        print(\"Parent2\")\nclass Child(Parent1,Parent2):\n    def show(self):\n        print(\"Child\")\n        Parent2.show(self)\n        Parent1.show(self)\n        GrandParent.show(self)",
      "metadata": {
        "trusted": true
      },
      "outputs": [],
      "execution_count": 10
    },
    {
      "cell_type": "code",
      "source": "ch = Child()\nch.show()",
      "metadata": {
        "trusted": true
      },
      "outputs": [
        {
          "name": "stdout",
          "text": "Child\nParent2\nParent1\nGrandParent\n",
          "output_type": "stream"
        }
      ],
      "execution_count": 11
    },
    {
      "cell_type": "code",
      "source": "class GrandParent:\n    def show(self):\n        print(\"GrandParent\")\nclass Parent1(GrandParent):\n    def show(self):\n        print(\"Parent1\")\nclass Parent2(GrandParent):\n    def show(self):\n        print(\"Parent2\")\nclass Child(Parent1,Parent2):\n    def show(self):\n        print(\"Child\")\n        super().show()",
      "metadata": {
        "trusted": true
      },
      "outputs": [],
      "execution_count": 12
    },
    {
      "cell_type": "code",
      "source": "ch = Child()\nch.show()",
      "metadata": {
        "trusted": true
      },
      "outputs": [
        {
          "name": "stdout",
          "text": "Child\nParent1\n",
          "output_type": "stream"
        }
      ],
      "execution_count": 13
    },
    {
      "cell_type": "code",
      "source": "class GrandParent:\n    def show(self):\n        print(\"GrandParent\")\nclass Parent1(GrandParent):\n    def show(self):\n        print(\"Parent1\")\n        super().show()\nclass Parent2(GrandParent):\n    def show(self):\n        print(\"Parent2\")\n        super().show()\nclass Child(Parent1,Parent2):\n    def show(self):\n        print(\"Child\")\n        super().show()",
      "metadata": {
        "trusted": true
      },
      "outputs": [],
      "execution_count": 21
    },
    {
      "cell_type": "code",
      "source": "ch = Child()\nch.show()",
      "metadata": {
        "trusted": true
      },
      "outputs": [
        {
          "name": "stdout",
          "text": "Child\nParent1\nParent2\nGrandParent\n",
          "output_type": "stream"
        }
      ],
      "execution_count": 22
    },
    {
      "cell_type": "code",
      "source": "class GrandParent:\n    def show(self):\n        print(\"GrandParent\")\nclass Parent1(GrandParent):\n    def show(self):\n        print(\"Parent1\")\n        super().show()\nclass Parent2(GrandParent):\n    def show(self):\n        print(\"Parent2\")\n        super().show()\nclass Parent3(GrandParent):\n    def show(self):\n        print(\"Parent3\")\n        #super().show()\nclass Child(Parent1,Parent2,Parent3):\n    def show(self):\n        print(\"Child\")\n        super().show()",
      "metadata": {
        "trusted": true
      },
      "outputs": [],
      "execution_count": 23
    },
    {
      "cell_type": "code",
      "source": "ch = Child()\nch.show()",
      "metadata": {
        "trusted": true
      },
      "outputs": [
        {
          "name": "stdout",
          "text": "Child\nParent1\nParent2\nParent3\n",
          "output_type": "stream"
        }
      ],
      "execution_count": 24
    },
    {
      "cell_type": "code",
      "source": "class GrandParent:\n    def show(self):\n        print(\"GrandParent\")\nclass Parent1(GrandParent):\n    def show(self):\n        print(\"Parent1\")\n        super().show()\nclass Parent2(GrandParent):\n    def show(self):\n        print(\"Parent2\")\n        super().show()\nclass Parent3(GrandParent):\n    def show(self):\n        print(\"Parent3\")\n        super().show()\nclass Child(Parent1,Parent2,Parent3):\n    def show(self):\n        print(\"Child\")\n        super().show()",
      "metadata": {
        "trusted": true
      },
      "outputs": [],
      "execution_count": 25
    },
    {
      "cell_type": "code",
      "source": "ch = Child()\nch.show()",
      "metadata": {
        "trusted": true
      },
      "outputs": [
        {
          "name": "stdout",
          "text": "Child\nParent1\nParent2\nParent3\nGrandParent\n",
          "output_type": "stream"
        }
      ],
      "execution_count": 26
    },
    {
      "cell_type": "code",
      "source": "help(Child)",
      "metadata": {
        "trusted": true
      },
      "outputs": [
        {
          "name": "stdout",
          "text": "Help on class Child in module __main__:\n\nclass Child(Parent1, Parent2, Parent3)\n |  Method resolution order:\n |      Child\n |      Parent1\n |      Parent2\n |      Parent3\n |      GrandParent\n |      builtins.object\n |\n |  Methods defined here:\n |\n |  show(self)\n |\n |  ----------------------------------------------------------------------\n |  Data descriptors inherited from GrandParent:\n |\n |  __dict__\n |      dictionary for instance variables\n |\n |  __weakref__\n |      list of weak references to the object\n\n",
          "output_type": "stream"
        }
      ],
      "execution_count": 28
    },
    {
      "cell_type": "code",
      "source": "from abc import ABC, abstractclassmethod\nimport sys\nclass GrandParent:\n    print(\"gp\")\n    def show(self):\n        print(\"GrandParent\")\nclass Parent1(GrandParent):\n    print(\"P1\")\n    def show(self):\n        print(\"Parent1\")\n        super().show()\nclass Parent2(GrandParent):\n    print(\"P2\")\n    def show(self):\n        print(\"Parent2\")\n        super().show()\nclass Parent3(GrandParent):\n    print(\"P3\")\n    def show(self):\n        print(\"Parent3\")\n        super().show()\nclass Abclass(ABC):\n    print(\"ab class\")\n    def show(self):\n        pass\nclass Child(Parent1,Parent2,Parent3):\n    print(\"ch\")\n    def __init__(self):\n        print(\"child const\")\n    def show(self):\n        print(\"Child\")\n        super().show()",
      "metadata": {
        "trusted": true
      },
      "outputs": [
        {
          "name": "stdout",
          "text": "gp\nP1\nP2\nP3\nab class\nch\n",
          "output_type": "stream"
        }
      ],
      "execution_count": 31
    },
    {
      "cell_type": "code",
      "source": "",
      "metadata": {
        "trusted": true
      },
      "outputs": [],
      "execution_count": null
    }
  ]
}