{
 "cells": [
  {
   "cell_type": "code",
   "execution_count": null,
   "id": "f3a06d15",
   "metadata": {},
   "outputs": [],
   "source": [
    "import logging\n",
    "logging.basicConfig(filename='sept20.log',level=logging.DEBUG)"
   ]
  },
  {
   "cell_type": "code",
   "execution_count": null,
   "id": "0184a81d",
   "metadata": {},
   "outputs": [],
   "source": [
    "logging.debug(\"hello\")"
   ]
  },
  {
   "cell_type": "code",
   "execution_count": null,
   "id": "228f6fd2",
   "metadata": {},
   "outputs": [],
   "source": [
    "l1 = [1,2,3,45]"
   ]
  },
  {
   "cell_type": "code",
   "execution_count": null,
   "id": "1da87fa8",
   "metadata": {},
   "outputs": [],
   "source": [
    "next(l1.__iter__())"
   ]
  },
  {
   "cell_type": "code",
   "execution_count": null,
   "id": "eddef0a4",
   "metadata": {},
   "outputs": [],
   "source": [
    "itr1=iter(l1)"
   ]
  },
  {
   "cell_type": "code",
   "execution_count": null,
   "id": "404b1f0a",
   "metadata": {},
   "outputs": [],
   "source": [
    "type(itr1)"
   ]
  },
  {
   "cell_type": "code",
   "execution_count": null,
   "id": "5df268f1",
   "metadata": {},
   "outputs": [],
   "source": [
    "next(itr1)"
   ]
  },
  {
   "cell_type": "code",
   "execution_count": null,
   "id": "6860697f",
   "metadata": {},
   "outputs": [],
   "source": [
    "dir(itr1)"
   ]
  },
  {
   "cell_type": "code",
   "execution_count": null,
   "id": "9f66dd4c",
   "metadata": {},
   "outputs": [],
   "source": [
    "itr1.__next__()"
   ]
  },
  {
   "cell_type": "code",
   "execution_count": 8,
   "id": "9897d216",
   "metadata": {},
   "outputs": [],
   "source": [
    "import memory_profiler as mem_profile\n"
   ]
  },
  {
   "cell_type": "code",
   "execution_count": 13,
   "id": "20e757e2",
   "metadata": {},
   "outputs": [
    {
     "data": {
      "text/plain": [
       "[22.9453125]"
      ]
     },
     "execution_count": 13,
     "metadata": {},
     "output_type": "execute_result"
    }
   ],
   "source": [
    "memory_usage()"
   ]
  },
  {
   "cell_type": "code",
   "execution_count": 10,
   "id": "1d819d7f",
   "metadata": {},
   "outputs": [
    {
     "name": "stdout",
     "output_type": "stream",
     "text": [
      "Memory (Before): [91.75390625]MB\n"
     ]
    }
   ],
   "source": [
    "print('Memory (Before): ' + str(mem_profile.memory_usage()) + 'MB' )\n",
    "\n"
   ]
  },
  {
   "cell_type": "code",
   "execution_count": 11,
   "id": "a0583233",
   "metadata": {},
   "outputs": [],
   "source": [
    "l1 = [12,3,4]"
   ]
  },
  {
   "cell_type": "code",
   "execution_count": 12,
   "id": "180688f1",
   "metadata": {},
   "outputs": [
    {
     "name": "stdout",
     "output_type": "stream",
     "text": [
      "Memory (Before): [91.76171875]MB\n"
     ]
    }
   ],
   "source": [
    "print('Memory (Before): ' + str(mem_profile.memory_usage()) + 'MB' )"
   ]
  },
  {
   "cell_type": "code",
   "execution_count": 19,
   "id": "9df8a903",
   "metadata": {},
   "outputs": [
    {
     "data": {
      "text/plain": [
       "'is'"
      ]
     },
     "execution_count": 19,
     "metadata": {},
     "output_type": "execute_result"
    }
   ],
   "source": [
    "'this is india'.split()[1]"
   ]
  },
  {
   "cell_type": "code",
   "execution_count": 22,
   "id": "edac80a5",
   "metadata": {},
   "outputs": [],
   "source": [
    "x = [[1,2,3],[4,5,6],[7,1,0]]"
   ]
  },
  {
   "cell_type": "code",
   "execution_count": 23,
   "id": "f3acadd5",
   "metadata": {},
   "outputs": [],
   "source": [
    "import numpy as np"
   ]
  },
  {
   "cell_type": "code",
   "execution_count": 24,
   "id": "85446546",
   "metadata": {},
   "outputs": [],
   "source": [
    "arr = np.array(x)"
   ]
  },
  {
   "cell_type": "code",
   "execution_count": 25,
   "id": "92a70b73",
   "metadata": {},
   "outputs": [
    {
     "data": {
      "text/plain": [
       "array([[1, 2, 3],\n",
       "       [4, 5, 6],\n",
       "       [7, 1, 0]])"
      ]
     },
     "execution_count": 25,
     "metadata": {},
     "output_type": "execute_result"
    }
   ],
   "source": [
    "arr"
   ]
  },
  {
   "cell_type": "code",
   "execution_count": 26,
   "id": "66ca554e",
   "metadata": {},
   "outputs": [
    {
     "data": {
      "text/plain": [
       "array([1, 2, 3, 4, 5, 6, 7, 1, 0])"
      ]
     },
     "execution_count": 26,
     "metadata": {},
     "output_type": "execute_result"
    }
   ],
   "source": [
    "arr.ravel()"
   ]
  },
  {
   "cell_type": "code",
   "execution_count": 29,
   "id": "5c673b74",
   "metadata": {},
   "outputs": [
    {
     "data": {
      "text/plain": [
       "array([ 6, 15,  8])"
      ]
     },
     "execution_count": 29,
     "metadata": {},
     "output_type": "execute_result"
    }
   ],
   "source": [
    "arr.sum(axis=1)"
   ]
  },
  {
   "cell_type": "code",
   "execution_count": 44,
   "id": "771b7799",
   "metadata": {},
   "outputs": [
    {
     "data": {
      "text/plain": [
       "array([[0, 0, 0],\n",
       "       [4, 5, 6],\n",
       "       [7, 0, 0]])"
      ]
     },
     "execution_count": 44,
     "metadata": {},
     "output_type": "execute_result"
    }
   ],
   "source": [
    "np.where(arr>3,arr,0)"
   ]
  },
  {
   "cell_type": "code",
   "execution_count": 37,
   "id": "0311e312",
   "metadata": {},
   "outputs": [
    {
     "data": {
      "text/plain": [
       "array([[1, 2, 3],\n",
       "       [4, 5, 6],\n",
       "       [7, 1, 0]])"
      ]
     },
     "execution_count": 37,
     "metadata": {},
     "output_type": "execute_result"
    }
   ],
   "source": [
    "arr"
   ]
  },
  {
   "cell_type": "code",
   "execution_count": 51,
   "id": "f53157ac",
   "metadata": {},
   "outputs": [
    {
     "data": {
      "text/plain": [
       "(array([2], dtype=int64), array([0], dtype=int64))"
      ]
     },
     "execution_count": 51,
     "metadata": {},
     "output_type": "execute_result"
    }
   ],
   "source": [
    "np.where(arr>6)"
   ]
  },
  {
   "cell_type": "code",
   "execution_count": 55,
   "id": "04c02898",
   "metadata": {},
   "outputs": [
    {
     "data": {
      "text/plain": [
       "8"
      ]
     },
     "execution_count": 55,
     "metadata": {},
     "output_type": "execute_result"
    }
   ],
   "source": [
    "np.count_nonzero(arr)"
   ]
  },
  {
   "cell_type": "code",
   "execution_count": 68,
   "id": "0aa79ed1",
   "metadata": {},
   "outputs": [],
   "source": [
    "a1 = np.ones(5)"
   ]
  },
  {
   "cell_type": "code",
   "execution_count": 61,
   "id": "2c2c47b4",
   "metadata": {},
   "outputs": [
    {
     "data": {
      "text/plain": [
       "array([1., 1., 1., 1., 1.])"
      ]
     },
     "execution_count": 61,
     "metadata": {},
     "output_type": "execute_result"
    }
   ],
   "source": [
    "a1"
   ]
  },
  {
   "cell_type": "code",
   "execution_count": 70,
   "id": "12a220dd",
   "metadata": {},
   "outputs": [
    {
     "data": {
      "text/plain": [
       "array([1, 1, 1, 1, 1])"
      ]
     },
     "execution_count": 70,
     "metadata": {},
     "output_type": "execute_result"
    }
   ],
   "source": [
    "a1.astype(int)"
   ]
  },
  {
   "cell_type": "code",
   "execution_count": 71,
   "id": "d7bc8db7",
   "metadata": {},
   "outputs": [],
   "source": [
    "import sys"
   ]
  },
  {
   "cell_type": "code",
   "execution_count": 72,
   "id": "77397c11",
   "metadata": {},
   "outputs": [],
   "source": [
    "l1 =[1,2,3,4,5,6,7]"
   ]
  },
  {
   "cell_type": "code",
   "execution_count": 73,
   "id": "73ebcc0c",
   "metadata": {},
   "outputs": [],
   "source": [
    "arrl1 = np.array(l1)"
   ]
  },
  {
   "cell_type": "code",
   "execution_count": 75,
   "id": "e5bde0f0",
   "metadata": {},
   "outputs": [
    {
     "data": {
      "text/plain": [
       "196"
      ]
     },
     "execution_count": 75,
     "metadata": {},
     "output_type": "execute_result"
    }
   ],
   "source": [
    "sys.getsizeof(1)*len(arrl1)"
   ]
  },
  {
   "cell_type": "code",
   "execution_count": 79,
   "id": "d3d19f02",
   "metadata": {},
   "outputs": [
    {
     "data": {
      "text/plain": [
       "28"
      ]
     },
     "execution_count": 79,
     "metadata": {},
     "output_type": "execute_result"
    }
   ],
   "source": [
    "arrl1.itemsize * arrl1.size"
   ]
  },
  {
   "cell_type": "code",
   "execution_count": 78,
   "id": "2e314641",
   "metadata": {},
   "outputs": [
    {
     "data": {
      "text/plain": [
       "7"
      ]
     },
     "execution_count": 78,
     "metadata": {},
     "output_type": "execute_result"
    }
   ],
   "source": []
  },
  {
   "cell_type": "code",
   "execution_count": 80,
   "id": "c0881049",
   "metadata": {},
   "outputs": [
    {
     "data": {
      "text/plain": [
       "array([1, 2, 3])"
      ]
     },
     "execution_count": 80,
     "metadata": {},
     "output_type": "execute_result"
    }
   ],
   "source": [
    "arr[0]"
   ]
  },
  {
   "cell_type": "code",
   "execution_count": 81,
   "id": "0d59e0ed",
   "metadata": {},
   "outputs": [
    {
     "data": {
      "text/plain": [
       "array([[1, 2, 3],\n",
       "       [4, 5, 6],\n",
       "       [7, 1, 0]])"
      ]
     },
     "execution_count": 81,
     "metadata": {},
     "output_type": "execute_result"
    }
   ],
   "source": [
    "arr"
   ]
  },
  {
   "cell_type": "code",
   "execution_count": 82,
   "id": "202f073a",
   "metadata": {},
   "outputs": [
    {
     "data": {
      "text/plain": [
       "array([4, 5, 6])"
      ]
     },
     "execution_count": 82,
     "metadata": {},
     "output_type": "execute_result"
    }
   ],
   "source": [
    "arr[1]"
   ]
  },
  {
   "cell_type": "code",
   "execution_count": 83,
   "id": "2850af27",
   "metadata": {},
   "outputs": [
    {
     "data": {
      "text/plain": [
       "array([7, 1, 0])"
      ]
     },
     "execution_count": 83,
     "metadata": {},
     "output_type": "execute_result"
    }
   ],
   "source": [
    "arr[2]"
   ]
  },
  {
   "cell_type": "code",
   "execution_count": 84,
   "id": "2ca813bb",
   "metadata": {},
   "outputs": [
    {
     "data": {
      "text/plain": [
       "5"
      ]
     },
     "execution_count": 84,
     "metadata": {},
     "output_type": "execute_result"
    }
   ],
   "source": [
    "arr[1][1]"
   ]
  },
  {
   "cell_type": "code",
   "execution_count": 85,
   "id": "9f0fbc26",
   "metadata": {},
   "outputs": [
    {
     "data": {
      "text/plain": [
       "array([[1, 2, 3]])"
      ]
     },
     "execution_count": 85,
     "metadata": {},
     "output_type": "execute_result"
    }
   ],
   "source": [
    "arr[:1]"
   ]
  },
  {
   "cell_type": "code",
   "execution_count": 86,
   "id": "d4935b0c",
   "metadata": {},
   "outputs": [
    {
     "data": {
      "text/plain": [
       "array([[4, 5, 6],\n",
       "       [7, 1, 0]])"
      ]
     },
     "execution_count": 86,
     "metadata": {},
     "output_type": "execute_result"
    }
   ],
   "source": [
    "arr[1:]"
   ]
  },
  {
   "cell_type": "code",
   "execution_count": 87,
   "id": "fd231569",
   "metadata": {},
   "outputs": [
    {
     "data": {
      "text/plain": [
       "array([4, 5])"
      ]
     },
     "execution_count": 87,
     "metadata": {},
     "output_type": "execute_result"
    }
   ],
   "source": [
    "arr[1][:2]"
   ]
  },
  {
   "cell_type": "code",
   "execution_count": 91,
   "id": "d532df8e",
   "metadata": {},
   "outputs": [],
   "source": [
    "import webbrowser\n",
    "import pandas as pd"
   ]
  },
  {
   "cell_type": "code",
   "execution_count": 89,
   "id": "7dcb29be",
   "metadata": {},
   "outputs": [],
   "source": [
    "web= 'https://en.wikipedia.org/wiki/List_of_all-time_NFL_win%E2%80%93loss_records'"
   ]
  },
  {
   "cell_type": "code",
   "execution_count": 90,
   "id": "58c3f847",
   "metadata": {},
   "outputs": [
    {
     "data": {
      "text/plain": [
       "True"
      ]
     },
     "execution_count": 90,
     "metadata": {},
     "output_type": "execute_result"
    }
   ],
   "source": [
    "webbrowser.open(web)"
   ]
  },
  {
   "cell_type": "code",
   "execution_count": 92,
   "id": "8ea2241a",
   "metadata": {},
   "outputs": [],
   "source": [
    "nfl= pd.read_clipboard()"
   ]
  },
  {
   "cell_type": "code",
   "execution_count": 93,
   "id": "0ab4a4de",
   "metadata": {},
   "outputs": [
    {
     "data": {
      "text/html": [
       "<div>\n",
       "<style scoped>\n",
       "    .dataframe tbody tr th:only-of-type {\n",
       "        vertical-align: middle;\n",
       "    }\n",
       "\n",
       "    .dataframe tbody tr th {\n",
       "        vertical-align: top;\n",
       "    }\n",
       "\n",
       "    .dataframe thead th {\n",
       "        text-align: right;\n",
       "    }\n",
       "</style>\n",
       "<table border=\"1\" class=\"dataframe\">\n",
       "  <thead>\n",
       "    <tr style=\"text-align: right;\">\n",
       "      <th></th>\n",
       "      <th>Rank</th>\n",
       "      <th>Team</th>\n",
       "      <th>GP</th>\n",
       "      <th>Won</th>\n",
       "      <th>Lost</th>\n",
       "      <th>Tied[c]</th>\n",
       "      <th>Pct.</th>\n",
       "      <th>First NFL season</th>\n",
       "      <th>Division</th>\n",
       "    </tr>\n",
       "  </thead>\n",
       "  <tbody>\n",
       "    <tr>\n",
       "      <th>0</th>\n",
       "      <td>1</td>\n",
       "      <td>Dallas Cowboys</td>\n",
       "      <td>981</td>\n",
       "      <td>562</td>\n",
       "      <td>413</td>\n",
       "      <td>6 (0)</td>\n",
       "      <td>0.576</td>\n",
       "      <td>1960</td>\n",
       "      <td>NFC East</td>\n",
       "    </tr>\n",
       "    <tr>\n",
       "      <th>1</th>\n",
       "      <td>2</td>\n",
       "      <td>Green Bay Packers</td>\n",
       "      <td>1,435</td>\n",
       "      <td>800</td>\n",
       "      <td>598</td>\n",
       "      <td>38 (8)</td>\n",
       "      <td>0.572</td>\n",
       "      <td>1921</td>\n",
       "      <td>NFC North</td>\n",
       "    </tr>\n",
       "    <tr>\n",
       "      <th>2</th>\n",
       "      <td>3</td>\n",
       "      <td>Baltimore Ravens</td>\n",
       "      <td>451</td>\n",
       "      <td>256</td>\n",
       "      <td>194</td>\n",
       "      <td>1</td>\n",
       "      <td>0.569</td>\n",
       "      <td>1996</td>\n",
       "      <td>AFC North</td>\n",
       "    </tr>\n",
       "    <tr>\n",
       "      <th>3</th>\n",
       "      <td>4</td>\n",
       "      <td>Chicago Bears</td>\n",
       "      <td>1,469</td>\n",
       "      <td>793</td>\n",
       "      <td>634</td>\n",
       "      <td>42 (1)</td>\n",
       "      <td>0.556</td>\n",
       "      <td>1920</td>\n",
       "      <td>NFC North</td>\n",
       "    </tr>\n",
       "    <tr>\n",
       "      <th>4</th>\n",
       "      <td>5</td>\n",
       "      <td>New England Patriots</td>\n",
       "      <td>983</td>\n",
       "      <td>541</td>\n",
       "      <td>433</td>\n",
       "      <td>9 (0)</td>\n",
       "      <td>0.555</td>\n",
       "      <td>1960</td>\n",
       "      <td>AFC East</td>\n",
       "    </tr>\n",
       "    <tr>\n",
       "      <th>5</th>\n",
       "      <td>6</td>\n",
       "      <td>Miami Dolphins</td>\n",
       "      <td>899</td>\n",
       "      <td>496</td>\n",
       "      <td>399</td>\n",
       "      <td>4 (1)</td>\n",
       "      <td>0.554</td>\n",
       "      <td>1966</td>\n",
       "      <td>AFC East</td>\n",
       "    </tr>\n",
       "    <tr>\n",
       "      <th>6</th>\n",
       "      <td>7</td>\n",
       "      <td>Kansas City Chiefs</td>\n",
       "      <td>983</td>\n",
       "      <td>532</td>\n",
       "      <td>439</td>\n",
       "      <td>12 (4)</td>\n",
       "      <td>0.548</td>\n",
       "      <td>1960</td>\n",
       "      <td>AFC West</td>\n",
       "    </tr>\n",
       "  </tbody>\n",
       "</table>\n",
       "</div>"
      ],
      "text/plain": [
       "   Rank                  Team     GP  Won  Lost Tied[c]   Pct.  \\\n",
       "0     1        Dallas Cowboys    981  562   413   6 (0)  0.576   \n",
       "1     2     Green Bay Packers  1,435  800   598  38 (8)  0.572   \n",
       "2     3      Baltimore Ravens    451  256   194       1  0.569   \n",
       "3     4         Chicago Bears  1,469  793   634  42 (1)  0.556   \n",
       "4     5  New England Patriots    983  541   433   9 (0)  0.555   \n",
       "5     6        Miami Dolphins    899  496   399   4 (1)  0.554   \n",
       "6     7    Kansas City Chiefs    983  532   439  12 (4)  0.548   \n",
       "\n",
       "   First NFL season   Division  \n",
       "0              1960   NFC East  \n",
       "1              1921  NFC North  \n",
       "2              1996  AFC North  \n",
       "3              1920  NFC North  \n",
       "4              1960   AFC East  \n",
       "5              1966   AFC East  \n",
       "6              1960   AFC West  "
      ]
     },
     "execution_count": 93,
     "metadata": {},
     "output_type": "execute_result"
    }
   ],
   "source": [
    "nfl"
   ]
  },
  {
   "cell_type": "code",
   "execution_count": 99,
   "id": "46827ebc",
   "metadata": {},
   "outputs": [
    {
     "data": {
      "text/html": [
       "<div>\n",
       "<style scoped>\n",
       "    .dataframe tbody tr th:only-of-type {\n",
       "        vertical-align: middle;\n",
       "    }\n",
       "\n",
       "    .dataframe tbody tr th {\n",
       "        vertical-align: top;\n",
       "    }\n",
       "\n",
       "    .dataframe thead th {\n",
       "        text-align: right;\n",
       "    }\n",
       "</style>\n",
       "<table border=\"1\" class=\"dataframe\">\n",
       "  <thead>\n",
       "    <tr style=\"text-align: right;\">\n",
       "      <th></th>\n",
       "      <th>Rank</th>\n",
       "      <th>Team</th>\n",
       "      <th>GP</th>\n",
       "      <th>Won</th>\n",
       "      <th>Lost</th>\n",
       "      <th>Tied[c]</th>\n",
       "      <th>Pct.</th>\n",
       "      <th>First NFL season</th>\n",
       "      <th>Division</th>\n",
       "    </tr>\n",
       "  </thead>\n",
       "  <tbody>\n",
       "    <tr>\n",
       "      <th>0</th>\n",
       "      <td>1</td>\n",
       "      <td>Dallas Cowboys</td>\n",
       "      <td>981</td>\n",
       "      <td>562</td>\n",
       "      <td>413</td>\n",
       "      <td>6 (0)</td>\n",
       "      <td>0.576</td>\n",
       "      <td>1960</td>\n",
       "      <td>NFC East</td>\n",
       "    </tr>\n",
       "    <tr>\n",
       "      <th>1</th>\n",
       "      <td>2</td>\n",
       "      <td>Green Bay Packers</td>\n",
       "      <td>1,435</td>\n",
       "      <td>800</td>\n",
       "      <td>598</td>\n",
       "      <td>38 (8)</td>\n",
       "      <td>0.572</td>\n",
       "      <td>1921</td>\n",
       "      <td>NFC North</td>\n",
       "    </tr>\n",
       "  </tbody>\n",
       "</table>\n",
       "</div>"
      ],
      "text/plain": [
       "   Rank               Team     GP  Won  Lost Tied[c]   Pct.  First NFL season  \\\n",
       "0     1     Dallas Cowboys    981  562   413   6 (0)  0.576              1960   \n",
       "1     2  Green Bay Packers  1,435  800   598  38 (8)  0.572              1921   \n",
       "\n",
       "    Division  \n",
       "0   NFC East  \n",
       "1  NFC North  "
      ]
     },
     "execution_count": 99,
     "metadata": {},
     "output_type": "execute_result"
    }
   ],
   "source": [
    "nfl.iloc[:2]"
   ]
  },
  {
   "cell_type": "code",
   "execution_count": 102,
   "id": "73cce2e5",
   "metadata": {},
   "outputs": [],
   "source": [
    "dataframe2 = pd.read_excel(r'C:\\Users\\Krishna\\data\\python\\nfl.xlsx', sheet_name = \"Sheet1\")"
   ]
  },
  {
   "cell_type": "code",
   "execution_count": 103,
   "id": "2308bba3",
   "metadata": {},
   "outputs": [
    {
     "data": {
      "text/html": [
       "<div>\n",
       "<style scoped>\n",
       "    .dataframe tbody tr th:only-of-type {\n",
       "        vertical-align: middle;\n",
       "    }\n",
       "\n",
       "    .dataframe tbody tr th {\n",
       "        vertical-align: top;\n",
       "    }\n",
       "\n",
       "    .dataframe thead th {\n",
       "        text-align: right;\n",
       "    }\n",
       "</style>\n",
       "<table border=\"1\" class=\"dataframe\">\n",
       "  <thead>\n",
       "    <tr style=\"text-align: right;\">\n",
       "      <th></th>\n",
       "      <th>Rank</th>\n",
       "      <th>Team</th>\n",
       "      <th>GP</th>\n",
       "      <th>Won</th>\n",
       "      <th>Lost</th>\n",
       "      <th>Tied[c]</th>\n",
       "      <th>Pct.</th>\n",
       "      <th>First NFL season</th>\n",
       "      <th>Division</th>\n",
       "    </tr>\n",
       "  </thead>\n",
       "  <tbody>\n",
       "    <tr>\n",
       "      <th>0</th>\n",
       "      <td>1</td>\n",
       "      <td>Dallas Cowboys</td>\n",
       "      <td>981</td>\n",
       "      <td>562</td>\n",
       "      <td>413</td>\n",
       "      <td>6 (0)</td>\n",
       "      <td>0.576</td>\n",
       "      <td>1960</td>\n",
       "      <td>NFC East</td>\n",
       "    </tr>\n",
       "    <tr>\n",
       "      <th>1</th>\n",
       "      <td>2</td>\n",
       "      <td>Green Bay Packers</td>\n",
       "      <td>1435</td>\n",
       "      <td>800</td>\n",
       "      <td>598</td>\n",
       "      <td>38 (8)</td>\n",
       "      <td>0.572</td>\n",
       "      <td>1921</td>\n",
       "      <td>NFC North</td>\n",
       "    </tr>\n",
       "    <tr>\n",
       "      <th>2</th>\n",
       "      <td>3</td>\n",
       "      <td>Baltimore Ravens</td>\n",
       "      <td>451</td>\n",
       "      <td>256</td>\n",
       "      <td>194</td>\n",
       "      <td>1</td>\n",
       "      <td>0.569</td>\n",
       "      <td>1996</td>\n",
       "      <td>AFC North</td>\n",
       "    </tr>\n",
       "    <tr>\n",
       "      <th>3</th>\n",
       "      <td>4</td>\n",
       "      <td>Chicago Bears</td>\n",
       "      <td>1469</td>\n",
       "      <td>793</td>\n",
       "      <td>634</td>\n",
       "      <td>42 (1)</td>\n",
       "      <td>0.556</td>\n",
       "      <td>1920</td>\n",
       "      <td>NFC North</td>\n",
       "    </tr>\n",
       "    <tr>\n",
       "      <th>4</th>\n",
       "      <td>5</td>\n",
       "      <td>New England Patriots</td>\n",
       "      <td>983</td>\n",
       "      <td>541</td>\n",
       "      <td>433</td>\n",
       "      <td>9 (0)</td>\n",
       "      <td>0.555</td>\n",
       "      <td>1960</td>\n",
       "      <td>AFC East</td>\n",
       "    </tr>\n",
       "    <tr>\n",
       "      <th>5</th>\n",
       "      <td>6</td>\n",
       "      <td>Miami Dolphins</td>\n",
       "      <td>899</td>\n",
       "      <td>496</td>\n",
       "      <td>399</td>\n",
       "      <td>4 (1)</td>\n",
       "      <td>0.554</td>\n",
       "      <td>1966</td>\n",
       "      <td>AFC East</td>\n",
       "    </tr>\n",
       "    <tr>\n",
       "      <th>6</th>\n",
       "      <td>7</td>\n",
       "      <td>Kansas City Chiefs</td>\n",
       "      <td>983</td>\n",
       "      <td>532</td>\n",
       "      <td>439</td>\n",
       "      <td>12 (4)</td>\n",
       "      <td>0.548</td>\n",
       "      <td>1960</td>\n",
       "      <td>AFC West</td>\n",
       "    </tr>\n",
       "    <tr>\n",
       "      <th>7</th>\n",
       "      <td>8</td>\n",
       "      <td>Minnesota Vikings</td>\n",
       "      <td>969</td>\n",
       "      <td>523</td>\n",
       "      <td>435</td>\n",
       "      <td>11 (4)</td>\n",
       "      <td>0.546</td>\n",
       "      <td>1961</td>\n",
       "      <td>NFC North</td>\n",
       "    </tr>\n",
       "    <tr>\n",
       "      <th>8</th>\n",
       "      <td>9</td>\n",
       "      <td>San Francisco 49ers[b]</td>\n",
       "      <td>1101</td>\n",
       "      <td>586</td>\n",
       "      <td>501</td>\n",
       "      <td>14 (3)</td>\n",
       "      <td>0.539</td>\n",
       "      <td>1950</td>\n",
       "      <td>NFC West</td>\n",
       "    </tr>\n",
       "    <tr>\n",
       "      <th>9</th>\n",
       "      <td>10</td>\n",
       "      <td>Pittsburgh Steelers</td>\n",
       "      <td>1271</td>\n",
       "      <td>671</td>\n",
       "      <td>578</td>\n",
       "      <td>22 (4)</td>\n",
       "      <td>0.537</td>\n",
       "      <td>1933</td>\n",
       "      <td>AFC North</td>\n",
       "    </tr>\n",
       "    <tr>\n",
       "      <th>10</th>\n",
       "      <td>11</td>\n",
       "      <td>New York Giants</td>\n",
       "      <td>1404</td>\n",
       "      <td>721</td>\n",
       "      <td>649</td>\n",
       "      <td>34 (4)</td>\n",
       "      <td>0.526</td>\n",
       "      <td>1925</td>\n",
       "      <td>NFC East</td>\n",
       "    </tr>\n",
       "    <tr>\n",
       "      <th>11</th>\n",
       "      <td>12</td>\n",
       "      <td>Indianapolis Colts[d]</td>\n",
       "      <td>1065</td>\n",
       "      <td>556</td>\n",
       "      <td>501</td>\n",
       "      <td>8 (2)</td>\n",
       "      <td>0.526</td>\n",
       "      <td>1953</td>\n",
       "      <td>AFC South</td>\n",
       "    </tr>\n",
       "    <tr>\n",
       "      <th>12</th>\n",
       "      <td>13</td>\n",
       "      <td>Denver Broncos</td>\n",
       "      <td>983</td>\n",
       "      <td>508</td>\n",
       "      <td>465</td>\n",
       "      <td>10 (4)</td>\n",
       "      <td>0.522</td>\n",
       "      <td>1960</td>\n",
       "      <td>AFC West</td>\n",
       "    </tr>\n",
       "    <tr>\n",
       "      <th>13</th>\n",
       "      <td>14</td>\n",
       "      <td>Las Vegas Raiders</td>\n",
       "      <td>983</td>\n",
       "      <td>505</td>\n",
       "      <td>467</td>\n",
       "      <td>11 (2)</td>\n",
       "      <td>0.520</td>\n",
       "      <td>1960</td>\n",
       "      <td>AFC West</td>\n",
       "    </tr>\n",
       "    <tr>\n",
       "      <th>14</th>\n",
       "      <td>15</td>\n",
       "      <td>Seattle Seahawks</td>\n",
       "      <td>759</td>\n",
       "      <td>392</td>\n",
       "      <td>366</td>\n",
       "      <td>1</td>\n",
       "      <td>0.517</td>\n",
       "      <td>1976</td>\n",
       "      <td>NFC West</td>\n",
       "    </tr>\n",
       "    <tr>\n",
       "      <th>15</th>\n",
       "      <td>16</td>\n",
       "      <td>Los Angeles Rams</td>\n",
       "      <td>1234</td>\n",
       "      <td>614</td>\n",
       "      <td>599</td>\n",
       "      <td>21 (3)</td>\n",
       "      <td>0.506</td>\n",
       "      <td>1937</td>\n",
       "      <td>NFC West</td>\n",
       "    </tr>\n",
       "    <tr>\n",
       "      <th>16</th>\n",
       "      <td>17</td>\n",
       "      <td>Los Angeles Chargers</td>\n",
       "      <td>983</td>\n",
       "      <td>483</td>\n",
       "      <td>489</td>\n",
       "      <td>11 (2)</td>\n",
       "      <td>0.497</td>\n",
       "      <td>1960</td>\n",
       "      <td>AFC West</td>\n",
       "    </tr>\n",
       "    <tr>\n",
       "      <th>17</th>\n",
       "      <td>18</td>\n",
       "      <td>Philadelphia Eagles</td>\n",
       "      <td>1287</td>\n",
       "      <td>624</td>\n",
       "      <td>636</td>\n",
       "      <td>27 (7)</td>\n",
       "      <td>0.495</td>\n",
       "      <td>1933</td>\n",
       "      <td>NFC East</td>\n",
       "    </tr>\n",
       "    <tr>\n",
       "      <th>18</th>\n",
       "      <td>19</td>\n",
       "      <td>Washington Commanders</td>\n",
       "      <td>1301</td>\n",
       "      <td>629</td>\n",
       "      <td>643</td>\n",
       "      <td>29 (3)</td>\n",
       "      <td>0.495</td>\n",
       "      <td>1932</td>\n",
       "      <td>NFC East</td>\n",
       "    </tr>\n",
       "    <tr>\n",
       "      <th>19</th>\n",
       "      <td>20</td>\n",
       "      <td>Cleveland Browns[b][e]</td>\n",
       "      <td>1053</td>\n",
       "      <td>512</td>\n",
       "      <td>530</td>\n",
       "      <td>11 (4)</td>\n",
       "      <td>0.491</td>\n",
       "      <td>1950</td>\n",
       "      <td>AFC North</td>\n",
       "    </tr>\n",
       "    <tr>\n",
       "      <th>20</th>\n",
       "      <td>21</td>\n",
       "      <td>Tennessee Titans</td>\n",
       "      <td>983</td>\n",
       "      <td>476</td>\n",
       "      <td>501</td>\n",
       "      <td>6 (0)</td>\n",
       "      <td>0.487</td>\n",
       "      <td>1960</td>\n",
       "      <td>AFC South</td>\n",
       "    </tr>\n",
       "    <tr>\n",
       "      <th>21</th>\n",
       "      <td>22</td>\n",
       "      <td>Buffalo Bills</td>\n",
       "      <td>982</td>\n",
       "      <td>473</td>\n",
       "      <td>501</td>\n",
       "      <td>8 (1)</td>\n",
       "      <td>0.486</td>\n",
       "      <td>1960</td>\n",
       "      <td>AFC East</td>\n",
       "    </tr>\n",
       "    <tr>\n",
       "      <th>22</th>\n",
       "      <td>23</td>\n",
       "      <td>New Orleans Saints</td>\n",
       "      <td>870</td>\n",
       "      <td>412</td>\n",
       "      <td>468</td>\n",
       "      <td>5 (1)</td>\n",
       "      <td>0.468</td>\n",
       "      <td>1967</td>\n",
       "      <td>NFC South</td>\n",
       "    </tr>\n",
       "    <tr>\n",
       "      <th>23</th>\n",
       "      <td>24</td>\n",
       "      <td>Carolina Panthers</td>\n",
       "      <td>467</td>\n",
       "      <td>214</td>\n",
       "      <td>252</td>\n",
       "      <td>1</td>\n",
       "      <td>0.459</td>\n",
       "      <td>1995</td>\n",
       "      <td>NFC South</td>\n",
       "    </tr>\n",
       "    <tr>\n",
       "      <th>24</th>\n",
       "      <td>25</td>\n",
       "      <td>Cincinnati Bengals</td>\n",
       "      <td>869</td>\n",
       "      <td>394</td>\n",
       "      <td>471</td>\n",
       "      <td>5 (4)</td>\n",
       "      <td>0.456</td>\n",
       "      <td>1968</td>\n",
       "      <td>AFC North</td>\n",
       "    </tr>\n",
       "    <tr>\n",
       "      <th>25</th>\n",
       "      <td>26</td>\n",
       "      <td>Detroit Lions</td>\n",
       "      <td>1332</td>\n",
       "      <td>591</td>\n",
       "      <td>707</td>\n",
       "      <td>34 (5)</td>\n",
       "      <td>0.455</td>\n",
       "      <td>1930</td>\n",
       "      <td>NFC North</td>\n",
       "    </tr>\n",
       "    <tr>\n",
       "      <th>26</th>\n",
       "      <td>27</td>\n",
       "      <td>New York Jets</td>\n",
       "      <td>983</td>\n",
       "      <td>428</td>\n",
       "      <td>547</td>\n",
       "      <td>8 (2)</td>\n",
       "      <td>0.439</td>\n",
       "      <td>1960</td>\n",
       "      <td>AFC East</td>\n",
       "    </tr>\n",
       "    <tr>\n",
       "      <th>27</th>\n",
       "      <td>28</td>\n",
       "      <td>Atlanta Falcons</td>\n",
       "      <td>899</td>\n",
       "      <td>390</td>\n",
       "      <td>503</td>\n",
       "      <td>6 (2)</td>\n",
       "      <td>0.437</td>\n",
       "      <td>1966</td>\n",
       "      <td>NFC South</td>\n",
       "    </tr>\n",
       "    <tr>\n",
       "      <th>28</th>\n",
       "      <td>29</td>\n",
       "      <td>Houston Texans</td>\n",
       "      <td>355</td>\n",
       "      <td>152</td>\n",
       "      <td>202</td>\n",
       "      <td>1</td>\n",
       "      <td>0.430</td>\n",
       "      <td>2002</td>\n",
       "      <td>AFC South</td>\n",
       "    </tr>\n",
       "    <tr>\n",
       "      <th>29</th>\n",
       "      <td>30</td>\n",
       "      <td>Jacksonville Jaguars</td>\n",
       "      <td>467</td>\n",
       "      <td>198</td>\n",
       "      <td>269</td>\n",
       "      <td>0</td>\n",
       "      <td>0.424</td>\n",
       "      <td>1995</td>\n",
       "      <td>AFC South</td>\n",
       "    </tr>\n",
       "    <tr>\n",
       "      <th>30</th>\n",
       "      <td>31</td>\n",
       "      <td>Arizona Cardinals</td>\n",
       "      <td>1429</td>\n",
       "      <td>585</td>\n",
       "      <td>803</td>\n",
       "      <td>41 (6)</td>\n",
       "      <td>0.422</td>\n",
       "      <td>1920</td>\n",
       "      <td>NFC West</td>\n",
       "    </tr>\n",
       "    <tr>\n",
       "      <th>31</th>\n",
       "      <td>32</td>\n",
       "      <td>Tampa Bay Buccaneers</td>\n",
       "      <td>759</td>\n",
       "      <td>308</td>\n",
       "      <td>450</td>\n",
       "      <td>1</td>\n",
       "      <td>0.406</td>\n",
       "      <td>1976</td>\n",
       "      <td>NFC South</td>\n",
       "    </tr>\n",
       "  </tbody>\n",
       "</table>\n",
       "</div>"
      ],
      "text/plain": [
       "    Rank                    Team    GP  Won  Lost Tied[c]   Pct.  \\\n",
       "0      1          Dallas Cowboys   981  562   413   6 (0)  0.576   \n",
       "1      2       Green Bay Packers  1435  800   598  38 (8)  0.572   \n",
       "2      3        Baltimore Ravens   451  256   194       1  0.569   \n",
       "3      4           Chicago Bears  1469  793   634  42 (1)  0.556   \n",
       "4      5    New England Patriots   983  541   433   9 (0)  0.555   \n",
       "5      6          Miami Dolphins   899  496   399   4 (1)  0.554   \n",
       "6      7      Kansas City Chiefs   983  532   439  12 (4)  0.548   \n",
       "7      8       Minnesota Vikings   969  523   435  11 (4)  0.546   \n",
       "8      9  San Francisco 49ers[b]  1101  586   501  14 (3)  0.539   \n",
       "9     10     Pittsburgh Steelers  1271  671   578  22 (4)  0.537   \n",
       "10    11         New York Giants  1404  721   649  34 (4)  0.526   \n",
       "11    12   Indianapolis Colts[d]  1065  556   501   8 (2)  0.526   \n",
       "12    13          Denver Broncos   983  508   465  10 (4)  0.522   \n",
       "13    14       Las Vegas Raiders   983  505   467  11 (2)  0.520   \n",
       "14    15        Seattle Seahawks   759  392   366       1  0.517   \n",
       "15    16        Los Angeles Rams  1234  614   599  21 (3)  0.506   \n",
       "16    17    Los Angeles Chargers   983  483   489  11 (2)  0.497   \n",
       "17    18     Philadelphia Eagles  1287  624   636  27 (7)  0.495   \n",
       "18    19   Washington Commanders  1301  629   643  29 (3)  0.495   \n",
       "19    20  Cleveland Browns[b][e]  1053  512   530  11 (4)  0.491   \n",
       "20    21        Tennessee Titans   983  476   501   6 (0)  0.487   \n",
       "21    22           Buffalo Bills   982  473   501   8 (1)  0.486   \n",
       "22    23      New Orleans Saints   870  412   468   5 (1)  0.468   \n",
       "23    24       Carolina Panthers   467  214   252       1  0.459   \n",
       "24    25      Cincinnati Bengals   869  394   471   5 (4)  0.456   \n",
       "25    26           Detroit Lions  1332  591   707  34 (5)  0.455   \n",
       "26    27           New York Jets   983  428   547   8 (2)  0.439   \n",
       "27    28         Atlanta Falcons   899  390   503   6 (2)  0.437   \n",
       "28    29          Houston Texans   355  152   202       1  0.430   \n",
       "29    30    Jacksonville Jaguars   467  198   269       0  0.424   \n",
       "30    31       Arizona Cardinals  1429  585   803  41 (6)  0.422   \n",
       "31    32    Tampa Bay Buccaneers   759  308   450       1  0.406   \n",
       "\n",
       "    First NFL season   Division  \n",
       "0               1960   NFC East  \n",
       "1               1921  NFC North  \n",
       "2               1996  AFC North  \n",
       "3               1920  NFC North  \n",
       "4               1960   AFC East  \n",
       "5               1966   AFC East  \n",
       "6               1960   AFC West  \n",
       "7               1961  NFC North  \n",
       "8               1950   NFC West  \n",
       "9               1933  AFC North  \n",
       "10              1925   NFC East  \n",
       "11              1953  AFC South  \n",
       "12              1960   AFC West  \n",
       "13              1960   AFC West  \n",
       "14              1976   NFC West  \n",
       "15              1937   NFC West  \n",
       "16              1960   AFC West  \n",
       "17              1933   NFC East  \n",
       "18              1932   NFC East  \n",
       "19              1950  AFC North  \n",
       "20              1960  AFC South  \n",
       "21              1960   AFC East  \n",
       "22              1967  NFC South  \n",
       "23              1995  NFC South  \n",
       "24              1968  AFC North  \n",
       "25              1930  NFC North  \n",
       "26              1960   AFC East  \n",
       "27              1966  NFC South  \n",
       "28              2002  AFC South  \n",
       "29              1995  AFC South  \n",
       "30              1920   NFC West  \n",
       "31              1976  NFC South  "
      ]
     },
     "execution_count": 103,
     "metadata": {},
     "output_type": "execute_result"
    }
   ],
   "source": [
    "dataframe2"
   ]
  },
  {
   "cell_type": "code",
   "execution_count": null,
   "id": "904a285d",
   "metadata": {},
   "outputs": [],
   "source": []
  }
 ],
 "metadata": {
  "kernelspec": {
   "display_name": "Python 3 (ipykernel)",
   "language": "python",
   "name": "python3"
  },
  "language_info": {
   "codemirror_mode": {
    "name": "ipython",
    "version": 3
   },
   "file_extension": ".py",
   "mimetype": "text/x-python",
   "name": "python",
   "nbconvert_exporter": "python",
   "pygments_lexer": "ipython3",
   "version": "3.9.13"
  }
 },
 "nbformat": 4,
 "nbformat_minor": 5
}
